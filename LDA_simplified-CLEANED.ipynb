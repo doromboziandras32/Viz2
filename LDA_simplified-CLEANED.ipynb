{
 "cells": [
  {
   "cell_type": "code",
   "execution_count": 55,
   "metadata": {},
   "outputs": [],
   "source": [
    "from LDA_simplified import LDA"
   ]
  },
  {
   "cell_type": "code",
   "execution_count": 56,
   "metadata": {},
   "outputs": [
    {
     "name": "stdout",
     "output_type": "stream",
     "text": [
      "lda_bag_of_words\n",
      "<gensim.interfaces.TransformedCorpus object at 0x0000020D1683B4F0>\n",
      "row\n",
      "[(3, 0.9896529)]\n",
      "row\n",
      "[(0, 0.51651514), (1, 0.4784017)]\n",
      "row\n",
      "[(2, 0.98570365)]\n",
      "row\n",
      "[(0, 0.97711384)]\n",
      "row\n",
      "[(4, 0.9312583), (3, 0.06277074)]\n",
      "row\n",
      "[(1, 0.9863688)]\n",
      "row\n",
      "[(1, 0.98936754)]\n",
      "row\n",
      "[(0, 0.93598413), (1, 0.056147892)]\n",
      "row\n",
      "[(1, 0.3478347), (4, 0.32466355), (0, 0.32341823)]\n",
      "row\n",
      "[(0, 0.8404078), (4, 0.09006949), (2, 0.0652877)]\n",
      "row\n",
      "[(3, 0.99434966)]\n",
      "row\n",
      "[(1, 0.796528), (0, 0.16002238), (2, 0.037147313)]\n",
      "row\n",
      "[(1, 0.9913849)]\n",
      "row\n",
      "[(0, 0.56794715), (1, 0.4184567)]\n",
      "row\n",
      "[(4, 0.98939514)]\n",
      "row\n",
      "[(4, 0.9912924)]\n",
      "row\n",
      "[(0, 0.98662525)]\n",
      "row\n",
      "[(0, 0.5683401), (2, 0.42357257)]\n",
      "row\n",
      "[(4, 0.9881166)]\n",
      "row\n",
      "[(1, 0.9906229)]\n",
      "row\n",
      "[(0, 0.989601)]\n",
      "row\n",
      "[(3, 0.9939953)]\n",
      "row\n",
      "[(3, 0.71250236), (1, 0.27908063)]\n",
      "row\n",
      "[(0, 0.95036685), (2, 0.043416023)]\n",
      "row\n",
      "[(3, 0.92531365), (2, 0.06519976)]\n",
      "row\n",
      "[(4, 0.9796844)]\n",
      "row\n",
      "[(0, 0.98426855)]\n",
      "row\n",
      "[(2, 0.98922116)]\n",
      "row\n",
      "[(0, 0.98796755)]\n",
      "row\n",
      "[(0, 0.98921186)]\n",
      "row\n",
      "[(0, 0.9758784)]\n",
      "row\n",
      "[(2, 0.98880726)]\n",
      "row\n",
      "[(0, 0.606118), (3, 0.3799213)]\n",
      "row\n",
      "[(0, 0.9894733)]\n",
      "row\n",
      "[(2, 0.68331325), (4, 0.30387548)]\n",
      "row\n",
      "[(0, 0.99104786)]\n",
      "row\n",
      "[(0, 0.9911865)]\n",
      "row\n",
      "[(2, 0.9897528)]\n",
      "row\n",
      "[(1, 0.9861637)]\n",
      "row\n",
      "[(0, 0.7056744), (1, 0.27867863), (2, 0.011189166)]\n",
      "row\n",
      "[(0, 0.99173194)]\n",
      "row\n",
      "[(1, 0.9859178)]\n",
      "row\n",
      "[(3, 0.79202), (0, 0.19736718)]\n",
      "row\n",
      "[(0, 0.9931884)]\n",
      "row\n",
      "[(1, 0.9133536), (0, 0.08095629)]\n",
      "row\n",
      "[(1, 0.54751503), (3, 0.4471068)]\n",
      "row\n",
      "[(1, 0.98845637)]\n",
      "row\n",
      "[(0, 0.98397964)]\n",
      "row\n",
      "[(0, 0.9795982), (4, 0.015598313)]\n",
      "row\n",
      "[(1, 0.9822854)]\n",
      "row\n",
      "[(1, 0.7056709), (4, 0.28962266)]\n",
      "row\n",
      "[(1, 0.54861736), (2, 0.44114065)]\n",
      "row\n",
      "[(1, 0.9836948)]\n",
      "row\n",
      "[(3, 0.9931177)]\n",
      "row\n",
      "[(0, 0.9896597)]\n",
      "row\n",
      "[(2, 0.52563614), (1, 0.4634213)]\n",
      "row\n",
      "[(0, 0.98847204)]\n",
      "row\n",
      "[(1, 0.9911898)]\n",
      "row\n",
      "[(1, 0.985823)]\n",
      "row\n",
      "[(1, 0.7480348), (0, 0.23941766)]\n",
      "row\n",
      "[(1, 0.82818896), (0, 0.1630405)]\n",
      "row\n",
      "[(3, 0.96240664), (1, 0.033280864)]\n",
      "row\n",
      "[(1, 0.9922846)]\n",
      "row\n",
      "[(1, 0.98896235)]\n",
      "row\n",
      "[(1, 0.98536015)]\n",
      "row\n",
      "[(2, 0.99295115)]\n",
      "row\n",
      "[(2, 0.63383454), (0, 0.35594362)]\n",
      "row\n",
      "[(1, 0.8159675), (0, 0.17065635)]\n",
      "row\n",
      "[(1, 0.9874401)]\n",
      "row\n",
      "[(0, 0.86683184), (2, 0.124967955)]\n",
      "row\n",
      "[(0, 0.9795763)]\n",
      "row\n",
      "[(1, 0.9851006)]\n",
      "row\n",
      "[(0, 0.98460037)]\n",
      "row\n",
      "[(1, 0.9859638)]\n",
      "row\n",
      "[(1, 0.98899525)]\n",
      "row\n",
      "[(4, 0.9890955)]\n",
      "row\n",
      "[(4, 0.74366295), (1, 0.24352343)]\n",
      "row\n",
      "[(3, 0.9759445)]\n",
      "row\n",
      "[(1, 0.9929044)]\n",
      "row\n",
      "[(2, 0.9899268)]\n",
      "row\n",
      "[(1, 0.9910995)]\n",
      "row\n",
      "[(0, 0.98291045)]\n",
      "row\n",
      "[(1, 0.53425), (3, 0.45700705)]\n",
      "row\n",
      "[(0, 0.9923044)]\n",
      "row\n",
      "[(0, 0.98968685)]\n",
      "row\n",
      "[(2, 0.98987395)]\n",
      "row\n",
      "[(1, 0.9905943)]\n",
      "row\n",
      "[(4, 0.98587894)]\n",
      "row\n",
      "[(1, 0.9916212)]\n",
      "row\n",
      "[(3, 0.9927331)]\n",
      "row\n",
      "[(1, 0.9730388), (3, 0.019079184)]\n",
      "row\n",
      "[(1, 0.9928055)]\n",
      "row\n",
      "[(2, 0.54946166), (1, 0.44161943)]\n",
      "row\n",
      "[(1, 0.7094221), (0, 0.27995306)]\n",
      "row\n",
      "[(1, 0.9896382)]\n",
      "row\n",
      "[(0, 0.9929657)]\n",
      "row\n",
      "[(1, 0.9863408)]\n",
      "row\n",
      "[(1, 0.99056643)]\n",
      "row\n",
      "[(1, 0.9765629)]\n",
      "row\n",
      "[(0, 0.8507571), (2, 0.14250226)]\n",
      "row\n",
      "[(2, 0.9845376)]\n",
      "row\n",
      "[(2, 0.9818341)]\n",
      "row\n",
      "[(0, 0.9826007)]\n",
      "row\n",
      "[(0, 0.9869883)]\n",
      "row\n",
      "[(2, 0.98537344)]\n",
      "row\n",
      "[(4, 0.92379105), (0, 0.056164116), (1, 0.015648171)]\n",
      "row\n",
      "[(1, 0.88333637), (2, 0.1076162)]\n",
      "row\n",
      "[(1, 0.8734326), (0, 0.10738189)]\n",
      "row\n",
      "[(4, 0.9863358)]\n",
      "row\n",
      "[(4, 0.9130539), (1, 0.070805475)]\n",
      "row\n",
      "[(4, 0.6266988), (0, 0.35899967)]\n",
      "row\n",
      "[(2, 0.6853384), (1, 0.30534092)]\n",
      "row\n",
      "[(1, 0.9908147)]\n",
      "row\n",
      "[(3, 0.8849777), (1, 0.106738076)]\n",
      "row\n",
      "[(0, 0.98990107)]\n",
      "row\n",
      "[(1, 0.9489574), (3, 0.042034455)]\n",
      "row\n",
      "[(1, 0.93159), (4, 0.05612823)]\n",
      "row\n",
      "[(1, 0.9916126)]\n",
      "row\n",
      "[(0, 0.9839758)]\n",
      "row\n",
      "[(0, 0.97844)]\n",
      "row\n",
      "[(4, 0.99077815)]\n",
      "row\n",
      "[(0, 0.9848457)]\n",
      "row\n",
      "[(0, 0.8824313), (2, 0.10783251)]\n",
      "row\n",
      "[(3, 0.9881246)]\n",
      "row\n",
      "[(2, 0.9809975)]\n",
      "row\n",
      "[(0, 0.5887999), (2, 0.4045896)]\n",
      "row\n",
      "[(0, 0.9907441)]\n",
      "row\n",
      "[(2, 0.98925596)]\n",
      "row\n",
      "[(3, 0.8321729), (1, 0.15851562)]\n",
      "row\n",
      "[(4, 0.9910117)]\n",
      "row\n",
      "[(0, 0.5156813), (4, 0.29933712), (2, 0.17825997)]\n",
      "row\n",
      "[(1, 0.5398194), (0, 0.45351145)]\n",
      "row\n",
      "[(4, 0.58671916), (1, 0.40267733)]\n",
      "row\n",
      "[(0, 0.56343925), (3, 0.42858154)]\n",
      "row\n",
      "[(0, 0.98614985)]\n",
      "row\n",
      "[(0, 0.9898881)]\n",
      "row\n",
      "[(0, 0.5280547), (4, 0.30278444), (1, 0.16445102)]\n",
      "row\n",
      "[(1, 0.9805722)]\n",
      "row\n",
      "[(3, 0.55899394), (0, 0.43090564)]\n",
      "row\n",
      "[(0, 0.7101058), (4, 0.27654383)]\n",
      "row\n",
      "[(1, 0.9861287)]\n",
      "row\n",
      "[(1, 0.98183364)]\n",
      "row\n",
      "[(3, 0.98862267)]\n",
      "row\n",
      "[(4, 0.9606811), (1, 0.030218886)]\n",
      "row\n",
      "[(3, 0.98139364)]\n",
      "row\n",
      "[(1, 0.9893785)]\n",
      "row\n",
      "[(4, 0.7896), (1, 0.19925681)]\n",
      "row\n",
      "[(0, 0.98331165)]\n",
      "row\n",
      "[(0, 0.98455626)]\n",
      "row\n",
      "[(0, 0.9892823)]\n",
      "row\n",
      "[(0, 0.99248916)]\n",
      "row\n",
      "[(0, 0.9888691)]\n",
      "row\n",
      "[(0, 0.99057585)]\n",
      "row\n",
      "[(1, 0.6042863), (0, 0.38848594)]\n",
      "row\n",
      "[(0, 0.99048734)]\n",
      "row\n",
      "[(3, 0.99333847)]\n",
      "row\n",
      "[(2, 0.82364285), (4, 0.17243244)]\n",
      "row\n",
      "[(4, 0.98992616)]\n",
      "row\n",
      "[(1, 0.9921111)]\n",
      "row\n",
      "[(2, 0.66995883), (1, 0.32369655)]\n",
      "row\n",
      "[(0, 0.89465547), (4, 0.08903966), (3, 0.013754314)]\n",
      "row\n",
      "[(1, 0.99357367)]\n",
      "row\n",
      "[(1, 0.9691535), (3, 0.024879424)]\n",
      "row\n",
      "[(4, 0.9671892), (1, 0.022367833)]\n",
      "row\n",
      "[(4, 0.8917003), (1, 0.098836794)]\n",
      "row\n",
      "[(1, 0.9926039)]\n",
      "row\n",
      "[(0, 0.6800777), (3, 0.28737295), (2, 0.027641)]\n",
      "row\n",
      "[(0, 0.99461174)]\n",
      "row\n",
      "[(2, 0.72325844), (0, 0.15771638), (1, 0.1144211)]\n",
      "row\n",
      "[(1, 0.9890665)]\n",
      "row\n",
      "[(1, 0.8419416), (0, 0.15038307)]\n",
      "row\n",
      "[(1, 0.9835903)]\n",
      "row\n",
      "[(3, 0.9844895)]\n",
      "row\n",
      "[(1, 0.98977387)]\n",
      "row\n",
      "[(0, 0.54824203), (1, 0.44410077)]\n",
      "row\n",
      "[(1, 0.9325657), (4, 0.059762444)]\n",
      "row\n",
      "[(3, 0.9176946), (1, 0.07500153)]\n",
      "row\n",
      "[(4, 0.98931646)]\n",
      "row\n",
      "[(1, 0.98774093)]\n",
      "row\n",
      "[(0, 0.9896719)]\n",
      "row\n",
      "[(0, 0.98978585)]\n",
      "row\n",
      "[(0, 0.987637)]\n",
      "row\n",
      "[(0, 0.9703314), (1, 0.024626452)]\n",
      "row\n",
      "[(1, 0.9874032)]\n",
      "row\n",
      "[(1, 0.6861164), (0, 0.22330256), (4, 0.08709757)]\n",
      "row\n",
      "[(1, 0.98782307)]\n",
      "row\n",
      "[(1, 0.66609603), (0, 0.31554314), (4, 0.013236249)]\n",
      "row\n",
      "[(1, 0.981118)]\n",
      "row\n",
      "[(0, 0.8569745), (4, 0.13626087)]\n",
      "row\n",
      "[(0, 0.9883292)]\n",
      "row\n",
      "[(1, 0.98612916)]\n",
      "row\n",
      "[(1, 0.8065749), (0, 0.18408073)]\n",
      "row\n",
      "[(2, 0.61341816), (1, 0.38166258)]\n",
      "row\n",
      "[(1, 0.5583246), (0, 0.43330145)]\n",
      "row\n",
      "[(0, 0.98642576)]\n",
      "row\n",
      "[(3, 0.9934522)]\n",
      "row\n",
      "[(1, 0.9914796)]\n",
      "row\n",
      "[(1, 0.632827), (3, 0.3628192)]\n",
      "row\n",
      "[(1, 0.9864181)]\n",
      "row\n",
      "[(0, 0.9688204), (4, 0.024597209)]\n",
      "row\n",
      "[(0, 0.6430851), (4, 0.3073259), (3, 0.046857294)]\n",
      "row\n",
      "[(0, 0.987454)]\n",
      "row\n",
      "[(2, 0.98456323)]\n",
      "row\n",
      "[(1, 0.99281895)]\n",
      "row\n",
      "[(0, 0.9857003)]\n",
      "row\n",
      "[(2, 0.6174523), (0, 0.37567064)]\n",
      "row\n",
      "[(3, 0.9883833)]\n",
      "row\n",
      "[(1, 0.96939325), (0, 0.02519488)]\n",
      "row\n",
      "[(1, 0.9894645)]\n",
      "row\n",
      "[(4, 0.9943943)]\n",
      "row\n",
      "[(1, 0.985444)]\n",
      "row\n",
      "[(4, 0.9889816)]\n",
      "row\n",
      "[(1, 0.9893382)]\n",
      "row\n",
      "[(1, 0.9885018)]\n",
      "row\n",
      "[(1, 0.99175483)]\n",
      "row\n",
      "[(0, 0.9848319)]\n",
      "row\n",
      "[(0, 0.99166566)]\n",
      "row\n",
      "[(1, 0.9861233)]\n",
      "row\n",
      "[(0, 0.99072933)]\n",
      "row\n",
      "[(4, 0.99164397)]\n",
      "row\n",
      "[(0, 0.74949896), (1, 0.2442237)]\n",
      "row\n",
      "[(3, 0.7122206), (0, 0.28219724)]\n",
      "row\n",
      "[(2, 0.8278189), (0, 0.161563)]\n",
      "row\n",
      "[(1, 0.5667777), (4, 0.4265979)]\n",
      "row\n",
      "[(1, 0.9376384), (4, 0.015613618), (3, 0.015612221), (0, 0.015591455), (2, 0.015544312)]\n",
      "row\n",
      "[(3, 0.7577389), (0, 0.23326382)]\n",
      "row\n",
      "[(2, 0.9598215), (1, 0.03425985)]\n",
      "row\n",
      "[(0, 0.98567414)]\n",
      "row\n",
      "[(2, 0.7742857), (0, 0.2203888)]\n",
      "row\n",
      "[(1, 0.9923742)]\n",
      "row\n",
      "[(1, 0.5035549), (2, 0.26878548), (0, 0.22461769)]\n",
      "row\n",
      "[(3, 0.45253327), (1, 0.33321583), (0, 0.21086213)]\n",
      "row\n",
      "[(1, 0.67489564), (3, 0.31725827)]\n",
      "row\n",
      "[(0, 0.5505383), (1, 0.445125)]\n",
      "row\n",
      "[(0, 0.98950654)]\n",
      "row\n",
      "[(0, 0.89441824), (1, 0.09585821)]\n",
      "row\n",
      "[(0, 0.5038697), (1, 0.4899966)]\n",
      "row\n",
      "[(0, 0.5481517), (4, 0.2304557), (1, 0.21662994)]\n",
      "row\n",
      "[(3, 0.6124034), (0, 0.3829695)]\n",
      "row\n",
      "[(2, 0.9910938)]\n",
      "row\n",
      "[(3, 0.99288964)]\n",
      "row\n",
      "[(3, 0.44696784), (2, 0.29559568), (1, 0.25091928)]\n",
      "row\n",
      "[(1, 0.9845915)]\n",
      "row\n",
      "[(4, 0.9888263)]\n",
      "row\n",
      "[(1, 0.78000367), (4, 0.21403533)]\n",
      "row\n",
      "[(2, 0.9818985), (0, 0.01332719)]\n",
      "row\n",
      "[(2, 0.9880021)]\n",
      "row\n",
      "[(3, 0.9854235)]\n",
      "row\n",
      "[(4, 0.6803994), (1, 0.31563908)]\n",
      "row\n",
      "[(4, 0.9916719)]\n",
      "row\n",
      "[(4, 0.98719716)]\n",
      "row\n",
      "[(1, 0.9784366), (0, 0.012904283)]\n",
      "row\n",
      "[(1, 0.9755507), (4, 0.012478995)]\n",
      "row\n",
      "[(1, 0.9910291)]\n",
      "row\n",
      "[(4, 0.52717805), (1, 0.46687412)]\n",
      "row\n",
      "[(0, 0.99343455)]\n",
      "row\n",
      "[(0, 0.99433297)]\n",
      "row\n",
      "[(1, 0.9898564)]\n",
      "row\n",
      "[(2, 0.91649824), (0, 0.07618742)]\n",
      "row\n",
      "[(0, 0.9894041)]\n",
      "row\n",
      "[(2, 0.9936039)]\n",
      "row\n",
      "[(0, 0.98723817)]\n",
      "row\n",
      "[(2, 0.9889408)]\n",
      "row\n",
      "[(0, 0.99112815)]\n",
      "row\n",
      "[(2, 0.8968666), (0, 0.09892759)]\n",
      "row\n",
      "[(2, 0.9935976)]\n",
      "row\n",
      "[(1, 0.73552066), (2, 0.26016304)]\n",
      "row\n",
      "[(0, 0.99335635)]\n",
      "row\n",
      "[(1, 0.7623003), (2, 0.23302782)]\n",
      "row\n",
      "[(2, 0.90148425), (1, 0.09105656)]\n",
      "row\n",
      "[(4, 0.98775333)]\n",
      "row\n",
      "[(0, 0.65509105), (3, 0.33600354)]\n",
      "row\n",
      "[(0, 0.98977417)]\n",
      "row\n",
      "[(1, 0.73909086), (3, 0.16135664), (0, 0.09489513)]\n",
      "row\n",
      "[(2, 0.9906013)]\n",
      "row\n",
      "[(0, 0.99243134)]\n",
      "row\n",
      "[(4, 0.9860921)]\n",
      "row\n",
      "[(1, 0.9895278)]\n",
      "row\n",
      "[(1, 0.9931828)]\n",
      "row\n",
      "[(4, 0.99236166)]\n",
      "row\n",
      "[(2, 0.99632454)]\n",
      "row\n",
      "[(4, 0.9938405)]\n",
      "row\n",
      "[(1, 0.89957833), (4, 0.09421142)]\n",
      "row\n",
      "[(4, 0.9902719)]\n",
      "row\n",
      "[(1, 0.99274004)]\n",
      "row\n",
      "[(1, 0.9914928)]\n",
      "row\n",
      "[(1, 0.99181056)]\n",
      "row\n",
      "[(2, 0.35139173), (1, 0.3429258), (0, 0.3010834)]\n",
      "row\n",
      "[(1, 0.8565246), (0, 0.13926677)]\n",
      "row\n",
      "[(0, 0.9931137)]\n",
      "row\n",
      "[(2, 0.7294289), (4, 0.18483368), (0, 0.08139399)]\n",
      "row\n",
      "[(3, 0.7341062), (0, 0.26064363)]\n",
      "row\n",
      "[(0, 0.64015186), (1, 0.352732)]\n",
      "row\n",
      "[(0, 0.83637214), (4, 0.1564545)]\n",
      "row\n",
      "[(3, 0.9912741)]\n",
      "row\n",
      "[(0, 0.5628508), (1, 0.28605884), (2, 0.084070124), (3, 0.065207265)]\n",
      "row\n",
      "[(0, 0.9848627)]\n",
      "row\n",
      "[(1, 0.991294)]\n",
      "row\n",
      "[(4, 0.99425447)]\n",
      "row\n",
      "[(2, 0.53170717), (1, 0.30597514), (0, 0.15700766)]\n",
      "row\n",
      "[(1, 0.994201)]\n",
      "row\n",
      "[(0, 0.9918543)]\n",
      "row\n",
      "[(1, 0.7835033), (2, 0.109634034), (0, 0.10297245)]\n",
      "row\n",
      "[(1, 0.9910174)]\n",
      "row\n",
      "[(1, 0.98955756)]\n",
      "row\n",
      "[(4, 0.68730164), (1, 0.30853522)]\n",
      "row\n",
      "[(4, 0.6231723), (1, 0.36693394)]\n",
      "row\n",
      "[(2, 0.8362301), (0, 0.12362487), (3, 0.036694344)]\n",
      "row\n",
      "[(1, 0.9911094)]\n",
      "row\n",
      "[(1, 0.9922194)]\n",
      "row\n",
      "[(1, 0.99317044)]\n",
      "row\n",
      "[(0, 0.9912066)]\n",
      "row\n",
      "[(3, 0.9917003)]\n",
      "row\n",
      "[(1, 0.9870783)]\n",
      "row\n",
      "[(2, 0.6900277), (1, 0.29879153)]\n",
      "row\n",
      "[(2, 0.53103846), (0, 0.4639457)]\n",
      "row\n",
      "[(1, 0.99351853)]\n",
      "row\n",
      "[(4, 0.80740416), (2, 0.18610992)]\n",
      "row\n",
      "[(0, 0.7986851), (3, 0.19109003)]\n",
      "row\n",
      "[(2, 0.55144703), (1, 0.36899546), (3, 0.07575486)]\n",
      "row\n",
      "[(0, 0.92275536), (2, 0.071224146)]\n",
      "row\n",
      "[(2, 0.9912246)]\n",
      "row\n",
      "[(2, 0.8826702), (0, 0.110985704)]\n",
      "row\n",
      "[(1, 0.9902312)]\n",
      "row\n",
      "[(4, 0.7371182), (3, 0.15364528), (0, 0.10536688)]\n",
      "row\n",
      "[(0, 0.99017036)]\n",
      "row\n",
      "[(0, 0.9955767)]\n",
      "row\n",
      "[(0, 0.9913989)]\n",
      "row\n",
      "[(0, 0.98761654)]\n",
      "row\n",
      "[(3, 0.9923373)]\n",
      "row\n",
      "[(3, 0.99386925)]\n",
      "row\n",
      "[(4, 0.99121284)]\n",
      "row\n",
      "[(3, 0.8368368), (0, 0.15593836)]\n",
      "row\n",
      "[(4, 0.9916399)]\n",
      "row\n",
      "[(0, 0.9906158)]\n",
      "row\n",
      "[(1, 0.99203444)]\n",
      "row\n",
      "[(0, 0.99286526)]\n",
      "row\n",
      "[(0, 0.9449716), (3, 0.050336983)]\n",
      "row\n",
      "[(0, 0.7206534), (3, 0.27473345)]\n",
      "row\n",
      "[(4, 0.8282309), (3, 0.16743933)]\n",
      "row\n",
      "[(4, 0.68422383), (0, 0.31020615)]\n",
      "row\n",
      "[(1, 0.9918835)]\n",
      "row\n",
      "[(2, 0.55593985), (1, 0.43851992)]\n",
      "row\n",
      "[(1, 0.9920345)]\n",
      "row\n",
      "[(4, 0.9571269), (0, 0.03716881)]\n",
      "row\n",
      "[(1, 0.99001074)]\n",
      "row\n",
      "[(3, 0.5742439), (1, 0.421966)]\n",
      "row\n",
      "[(1, 0.9932595)]\n",
      "row\n",
      "[(2, 0.60787773), (0, 0.38727528)]\n",
      "row\n",
      "[(4, 0.7407685), (0, 0.1591683), (3, 0.097206816)]\n",
      "row\n",
      "[(4, 0.5327662), (1, 0.37626192), (0, 0.08722091)]\n",
      "row\n",
      "[(0, 0.9916571)]\n",
      "row\n",
      "[(1, 0.9906024)]\n",
      "row\n",
      "[(3, 0.95620203), (0, 0.036650565)]\n",
      "row\n",
      "[(0, 0.9904884)]\n",
      "row\n",
      "[(2, 0.99180186)]\n",
      "row\n",
      "[(1, 0.99434835)]\n",
      "row\n",
      "[(0, 0.866303), (2, 0.12703966)]\n",
      "row\n",
      "[(0, 0.982315), (1, 0.012776837)]\n",
      "row\n",
      "[(1, 0.98998684)]\n",
      "row\n",
      "[(1, 0.98925203)]\n",
      "row\n",
      "[(1, 0.6509283), (3, 0.26436323), (2, 0.081785455)]\n",
      "row\n",
      "[(4, 0.7308819), (1, 0.26197597)]\n",
      "row\n",
      "[(2, 0.53530943), (0, 0.31931442), (4, 0.14194989)]\n",
      "row\n",
      "[(1, 0.9861169)]\n",
      "row\n",
      "[(0, 0.79106313), (4, 0.20414612)]\n",
      "row\n",
      "[(4, 0.55616623), (1, 0.43870535)]\n",
      "row\n",
      "[(3, 0.99348897)]\n",
      "row\n",
      "[(0, 0.98951817)]\n",
      "row\n",
      "[(0, 0.9823154), (2, 0.01182136)]\n",
      "row\n",
      "[(0, 0.9859005)]\n",
      "row\n",
      "[(0, 0.9929654)]\n",
      "row\n",
      "[(3, 0.9916275)]\n",
      "row\n",
      "[(1, 0.9932554)]\n",
      "row\n",
      "[(0, 0.99483556)]\n",
      "row\n",
      "[(1, 0.9937051)]\n",
      "row\n",
      "[(3, 0.58569163), (1, 0.34498852), (0, 0.06627894)]\n",
      "row\n",
      "[(3, 0.9905602)]\n",
      "row\n",
      "[(2, 0.9942814)]\n",
      "row\n",
      "[(2, 0.9903489)]\n",
      "row\n",
      "[(0, 0.99546945)]\n",
      "row\n",
      "[(3, 0.9900225)]\n",
      "row\n",
      "[(0, 0.46908543), (4, 0.37328038), (2, 0.15364198)]\n",
      "row\n",
      "[(0, 0.9845541)]\n",
      "row\n",
      "[(1, 0.9896349)]\n",
      "row\n",
      "[(0, 0.9931559)]\n",
      "row\n",
      "[(1, 0.73473096), (0, 0.26086968)]\n",
      "row\n",
      "[(0, 0.9264678), (1, 0.070088394)]\n",
      "row\n",
      "[(2, 0.9936293)]\n",
      "row\n",
      "[(0, 0.9876057)]\n",
      "row\n",
      "[(2, 0.9739449), (1, 0.019868556)]\n",
      "row\n",
      "[(1, 0.5460724), (3, 0.42281577), (2, 0.024134345)]\n",
      "row\n",
      "[(2, 0.7052705), (1, 0.28837454)]\n",
      "row\n",
      "[(2, 0.9773648), (0, 0.013933707)]\n",
      "row\n",
      "[(0, 0.99155426)]\n",
      "row\n",
      "[(1, 0.9912903)]\n",
      "row\n",
      "[(1, 0.9906192)]\n",
      "row\n",
      "[(1, 0.99166214)]\n",
      "row\n",
      "[(0, 0.9898834)]\n",
      "row\n",
      "[(1, 0.9864672)]\n",
      "row\n",
      "[(1, 0.5270733), (4, 0.41728035), (2, 0.05187563)]\n",
      "row\n",
      "[(1, 0.43200716), (0, 0.4230763), (3, 0.10604906), (2, 0.037297558)]\n",
      "row\n",
      "[(0, 0.8648197), (1, 0.13067557)]\n",
      "row\n",
      "[(1, 0.9929716)]\n",
      "row\n",
      "[(2, 0.9936006)]\n",
      "row\n",
      "[(0, 0.9919899)]\n",
      "row\n",
      "[(3, 0.99373406)]\n",
      "row\n",
      "[(1, 0.9869893)]\n",
      "row\n",
      "[(0, 0.9347027), (1, 0.057806563)]\n",
      "row\n",
      "[(4, 0.9867363)]\n",
      "row\n",
      "[(2, 0.661573), (0, 0.3205708), (3, 0.013592893)]\n",
      "row\n",
      "[(1, 0.9795845)]\n",
      "row\n",
      "[(1, 0.9842567)]\n",
      "row\n",
      "[(2, 0.9896015)]\n",
      "row\n",
      "[(0, 0.9906897)]\n",
      "row\n",
      "[(2, 0.5691006), (0, 0.42468384)]\n",
      "row\n",
      "[(0, 0.8052409), (1, 0.12726898), (2, 0.06330914)]\n",
      "row\n",
      "[(2, 0.99302125)]\n",
      "row\n",
      "[(2, 0.99243087)]\n",
      "row\n",
      "[(4, 0.9886407)]\n",
      "row\n",
      "[(0, 0.55723935), (3, 0.4348799)]\n",
      "row\n",
      "[(0, 0.8091447), (3, 0.09248334), (1, 0.0870302), (2, 0.010343336)]\n",
      "row\n",
      "[(2, 0.4099393), (4, 0.39957428), (0, 0.18698418)]\n",
      "row\n",
      "[(0, 0.9939075)]\n",
      "row\n",
      "[(0, 0.9432806), (1, 0.052145205)]\n",
      "row\n",
      "[(0, 0.5972843), (1, 0.3921159)]\n",
      "row\n",
      "[(1, 0.99226505)]\n",
      "row\n",
      "[(0, 0.99342674)]\n",
      "row\n",
      "[(0, 0.8064126), (1, 0.18825649)]\n",
      "row\n",
      "[(1, 0.9895953)]\n",
      "row\n",
      "[(0, 0.9520622), (2, 0.042819012)]\n",
      "row\n",
      "[(1, 0.99450165)]\n",
      "row\n",
      "[(0, 0.9922955)]\n",
      "row\n",
      "[(3, 0.971866), (2, 0.021179384)]\n",
      "row\n",
      "[(3, 0.7587377), (0, 0.23182385)]\n",
      "row\n",
      "[(1, 0.6635771), (3, 0.33012658)]\n",
      "row\n",
      "[(2, 0.7025461), (1, 0.29111868)]\n",
      "row\n",
      "[(1, 0.9918031)]\n",
      "row\n",
      "[(3, 0.861593), (1, 0.13238242)]\n",
      "row\n",
      "[(3, 0.9911)]\n",
      "row\n",
      "[(1, 0.8910659), (0, 0.085797586), (2, 0.018732885)]\n",
      "row\n",
      "[(3, 0.7021277), (4, 0.291241)]\n",
      "row\n",
      "[(1, 0.97784376), (4, 0.017428804)]\n",
      "row\n",
      "[(2, 0.9905341)]\n",
      "row\n",
      "[(2, 0.7978551), (0, 0.1967772)]\n",
      "row\n",
      "[(1, 0.799575), (0, 0.1956424)]\n",
      "row\n",
      "[(1, 0.99351984)]\n",
      "row\n",
      "[(3, 0.49958378), (1, 0.42854837), (0, 0.06624286)]\n"
     ]
    }
   ],
   "source": [
    "#lda = LDA(5,'/Users/timi/Documents/TU/Python/Viz2/Project/aktuell/InfovisVAST-papers.jig.txt')\n",
    "#lda = LDA(5,'C:/Users/Andras/TU/Visualization 2/Viz2_Project/data/InfovisVAST-papers.jig.txt')\n",
    "lda = LDA(5,'InfovisVAST-papers.jig.txt')"
   ]
  },
  {
   "cell_type": "markdown",
   "metadata": {},
   "source": [
    "Build up the nodes and edges for the cytoscape network graph"
   ]
  },
  {
   "cell_type": "code",
   "execution_count": 57,
   "metadata": {},
   "outputs": [],
   "source": [
    "# extract the color from class settings: will be defined in stylesheet\n",
    "# the label is the top 4 words\n",
    "# position defined by lda\n",
    "def get_graph_topic_nodes():\n",
    "    return [{'data': {'id': id_, 'label': vals[0]},\n",
    "             'classes': f'topic_{vals[1]}'                                                                                        #,\"opacity\": 0.1\n",
    "            ,'position':{'x' : vals[2][0] , 'y' : vals[2][1]}\n",
    "            } for id_,vals in lda.get_topic_nodes_().items()                        \n",
    "        ]"
   ]
  },
  {
   "cell_type": "code",
   "execution_count": 58,
   "metadata": {},
   "outputs": [],
   "source": [
    "# document nodes: id by document id, class defined in stylesheet,\n",
    "# define the color and belonging\n",
    "def get_graph_document_nodes():\n",
    "    return [                       \n",
    "            {'data': {'id': id_,'size': 1000}, \n",
    "             'style': {'shape': 'circle'},\n",
    "             'classes': vals[1]\n",
    "             #vals[1]\n",
    "            } for id_,vals in lda.get_doc_nodes_().items()                        \n",
    "        ]\n"
   ]
  },
  {
   "cell_type": "code",
   "execution_count": 59,
   "metadata": {},
   "outputs": [],
   "source": [
    "# document edges based on cosine similarity\n",
    "def get_graph_cos_sim_edges():\n",
    "        return [\n",
    "            {'data': {'source': f[0], 'target': f[1],'label': f'{f[0]} -> {f[1]}'}} for f in lda.get_edges_()\n",
    "        ]"
   ]
  },
  {
   "cell_type": "code",
   "execution_count": 60,
   "metadata": {},
   "outputs": [],
   "source": [
    "# edges between the  topics and the related documents: they are invisible\n",
    "def get_doc_topic_edges():\n",
    "    return  [\n",
    "            {'data': {'source': id_, 'target': vals[2],'label': f'{id_} -> {vals[2]}',\"edgeLength\":200, 'size': 5},\n",
    "            'style': {'line-color': 'white', \"opacity\": 0}}  for id_,vals in lda.get_doc_nodes_().items() \n",
    "        ]"
   ]
  },
  {
   "cell_type": "code",
   "execution_count": 61,
   "metadata": {},
   "outputs": [],
   "source": [
    "# Update stylessheet:  define all the new clusters class settings\n",
    "# after the update_lda step e.g.\n",
    "def update_stylesheet():\n",
    "    colors = sorted(set([vals[1] for id_,vals in lda.get_doc_nodes_().items()]))\n",
    "    #get the new colors for the topics and the nodes\n",
    "    node_classes = [{\n",
    "                    'selector': f'.{c}',\n",
    "                    'style': {\n",
    "                        'background-color': c\n",
    "                    }\n",
    "                } for c in colors]\n",
    "    \n",
    "    topic_classes = [{\n",
    "                    'selector': f'.topic_{c}',\n",
    "                    'style': { 'border-color': c,\n",
    "               'border-width': 2,        \n",
    "               'background-color': 'white',\n",
    "                'shape': 'rectangle','content': 'data(label)','text-halign':'center',\n",
    "                'text-valign':'center','text-wrap': 'wrap','width':'label','height':'label'}\n",
    "                }for c in colors     ]\n",
    "\n",
    "    \n",
    "    return node_classes + topic_classes   # Class selectors\n",
    "                 \n",
    "                           \n",
    "            "
   ]
  },
  {
   "cell_type": "code",
   "execution_count": 62,
   "metadata": {
    "pycharm": {
     "name": "#%%\n"
    }
   },
   "outputs": [
    {
     "data": {
      "text/plain": "{'labels': ['Clusters',\n  'Cluster 0',\n  'Cluster 1',\n  'Cluster 2',\n  'Cluster 3',\n  'Cluster 4'],\n 'parents': ['', 'Clusters', 'Clusters', 'Clusters', 'Clusters', 'Clusters'],\n 'marker_colors': ['white', 'blue', 'orange', 'green', 'red', 'purple'],\n 'text_info': ['',\n  'visualization<br>data<br>user<br>system',\n  'data<br>visualization<br>user<br>technique',\n  'data<br>visualization<br>visual<br>system',\n  'data<br>visualization<br>information<br>technique',\n  'data<br>visualization<br>information<br>visual']}"
     },
     "execution_count": 62,
     "metadata": {},
     "output_type": "execute_result"
    }
   ],
   "source": [
    "import plotly.express as px\n",
    "def build_cluster_summary_view():\n",
    "    clust = 'Clusters'\n",
    "    labels = [clust]\n",
    "    parents = ['']\n",
    "    marker_colors = [\"white\"]\n",
    "    text_info = ['']\n",
    "    for id_,vals in lda.get_topic_nodes_().items():\n",
    "        labels.append(id_)\n",
    "        #text_info.append('+'.join([v for v in vals[0].replace('\\n', ' ').split(' ')]))\n",
    "        #text_info.append('\\n'.join([v for v in vals[0].replace('\\n', ' ').split(' ')]))\n",
    "        text_info.append(vals[0].replace('\\n','<br>'))\n",
    "        parents.append(clust)\n",
    "        marker_colors.append(vals[1])\n",
    "        #print([v for v in vals[1].replace('\\\\n', ' ').split(' ')])\n",
    "    clust_sum_view = dict()\n",
    "    clust_sum_view['labels'] =  labels\n",
    "    clust_sum_view['parents'] =  parents\n",
    "    clust_sum_view['marker_colors'] =  marker_colors\n",
    "    clust_sum_view['text_info'] =  text_info\n",
    "    return  clust_sum_view\n",
    "\n",
    "initial_sum_view = build_cluster_summary_view()\n",
    "initial_sum_view"
   ]
  },
  {
   "cell_type": "code",
   "execution_count": 72,
   "metadata": {},
   "outputs": [
    {
     "name": "stdout",
     "output_type": "stream",
     "text": [
      "Dash app running on http://127.0.0.1:8051/\n"
     ]
    }
   ],
   "source": [
    "from jupyter_dash import JupyterDash  #  pip install jupyter-dash\n",
    "import dash_cytoscape as cyto  # pip install dash-cytoscape==0.2.0 or higher\n",
    "import dash_html_components as html\n",
    "import dash_core_components as dcc\n",
    "\n",
    "from dash.dependencies import Output, Input,State\n",
    "import pandas as pd  # pip install pandas\n",
    "\n",
    "\n",
    "import dash_bootstrap_components as dbc #pip install dash-bootstrap-components\n",
    "import dash_table\n",
    "import dash\n",
    "import plotly.graph_objects as go\n",
    "import json\n",
    "import plotly.graph_objs as go\n",
    "\n",
    "\n",
    "import dash_dangerously_set_inner_html\n",
    "\n",
    "\n",
    "\n",
    "external_stylesheets = ['https://codepen.io/chriddyp/pen/bWLwgP.css']\n",
    "# SKETCHY\n",
    "app = JupyterDash(__name__, external_stylesheets=[dbc.themes.MATERIA], suppress_callback_exceptions=True)\n",
    "\n",
    "\n",
    "app.layout = html.Div([html.Div(html.H1('iVisClustering: An Interactive Visual Document Clustering via Topic Modeling', style={'backgroundColor':'lightgray'})),\n",
    "    ############## FIRST ROW ########################\n",
    "    dbc.Row([\n",
    "        dbc.Col([\n",
    "            html.Div(id='empty-div', children=''),\n",
    "            dcc.Location(id='url', refresh=True),\n",
    "            html.H3('Cluster Relation View'),   \n",
    "            html.Br(),\n",
    "            html.A(html.Button('Reset settings'),href='/'),\n",
    "            html.Br(),\n",
    "            html.I(\"Number of clusters:\"),\n",
    "            dcc.Input(id=\"input1\", type=\"number\", min = 2, value = 5),\n",
    "            html.Button(\"Update\", id=\"update_button\", n_clicks = 0),\n",
    "            html.Br(),\n",
    "            html.I(\"Cosine similarity:\"),\n",
    "        html.Div(id=\"output\"),\n",
    "            dcc.Slider(\n",
    "                id='my-daq-slider-ex',\n",
    "                min=0, max=1, value=0.4, step = 0.05\n",
    "            ),\n",
    "            html.Br(),\n",
    "            dcc.Interval(id='refresh', interval=1),\n",
    "            html.I(\"Delete marked node/document:\"),\n",
    "           html.Button(\"Delete\", id=\"delete_button\",  n_clicks = 0)],width = 2),\n",
    "        dbc.Col([\n",
    "           cyto.Cytoscape(\n",
    "                id='cytoscape',\n",
    "                minZoom=0.2,\n",
    "                maxZoom=2,\n",
    "                autoRefreshLayout = True,                \n",
    "                layout={'name': 'cose', 'animate': True},        \n",
    "                style={'width': '100%', 'height': '400px'},\n",
    "                elements=  get_graph_topic_nodes() + get_graph_document_nodes() + get_graph_cos_sim_edges() + get_doc_topic_edges(),\n",
    "                stylesheet = update_stylesheet()\n",
    "        \n",
    "        \n",
    "    )\n",
    "\n",
    "\n",
    "\n",
    "    ], width = 3),\n",
    "        ###### intitialise the place for the cluster summary view,\n",
    "        ###### update it with a callback\n",
    "        dbc.Col([html.Div([\n",
    "            html.H3('Cluster Summary View'),\n",
    "            html.Div([dcc.Graph(id = 'clust_sum_graph',\n",
    "                                style={'width': '40vh', 'height': '40vh',},\n",
    "                                figure= go.Figure(data = go.Treemap(labels  = initial_sum_view['labels'],\n",
    "                                                                    parents = initial_sum_view['parents'],\n",
    "                                                                    marker_colors =  initial_sum_view['marker_colors'],\n",
    "                                                                    text = initial_sum_view['text_info']),\n",
    "                                                  layout = go.Layout(margin={'t': 0, 'l': 0, 'r': 5, 'b' : 2})))])\n",
    "            ,html.Div([ html.Button(\"Delete Cluster\", id=\"delete_cluster_button\",  n_clicks = 0),  dbc.Modal(\n",
    "            [\n",
    "                dbc.ModalHeader(\"Warning!\"),\n",
    "                dbc.ModalBody(\"You have to select a cluster first from the Cluster summary view\"),\n",
    "                dbc.ModalFooter(\n",
    "                    dbc.Button(\n",
    "                        \"Close\", id=\"close-warning\", className=\"ml-auto\"\n",
    "                    )\n",
    "                ),\n",
    "            ],\n",
    "            id=\"cluster_delete_failed_warning\",\n",
    "            centered=True,\n",
    "        )])])\n",
    "        ], width = 2),\n",
    "        ### initialize the views, update by callback\n",
    "       dbc.Col([html.Div([\n",
    "            html.H3('Term Weight View'),\n",
    "            dcc.Input(id=\"input_barchart\", type=\"number\", min = 2, value = 10),\n",
    "            html.Div([\n",
    "                dash_table.DataTable(\n",
    "                                id='table',\n",
    "                                #data=[{'Words': '', 'Probabilities': ''}],\n",
    "                                #columns= ['Words','Probabilities'],\n",
    "                                editable = True,\n",
    "                                style_cell={'width': '50px',\n",
    "                                            'height': '30px',\n",
    "                                            'textAlign': 'left'}\n",
    "                                      )\n",
    "                           ]\n",
    "            ,id='term-weighttable')\n",
    "\n",
    "        ], style= {'display': 'none'}, id = 'term-weight-input')], width = 2),\n",
    "        dbc.Col([html.Div([\n",
    "            html.Button('Change Prob.', id='change-probs', n_clicks=0),\n",
    "            html.Div([],id='bar_chart')\n",
    "        ], style= {'display': 'none'}, id = 'change-prob-btn-div')], width = 2)\n",
    "    ],\n",
    "    style = {'padding': 10}\n",
    "    ),\n",
    "\n",
    "     ## paralell coordinates plot\n",
    "    dbc.Row([\n",
    "        dbc.Col([\n",
    "            html.H3('Parallel Coordinates View'),\n",
    "            dcc.Graph(id='parallel_coord', \n",
    "                      style={'width': '130vh', 'height': '50vh'},\n",
    "                      figure = go.Figure(data= \n",
    "            go.Parcoords(\n",
    "                line = dict(color = lda.get_parall_coord_df()['Dominant_Topic'],\n",
    "                           colorscale = list(lda.get_colors().values())[:lda.get_k()]),\n",
    "                dimensions = [                       \n",
    "                    dict(range = [0,1],\n",
    "                        label = f'Cluster {i}', \n",
    "                        values = lda.get_parall_coord_df()[i])\n",
    "                     for i in range(lda.get_k())                      \n",
    "                ]\n",
    "\n",
    "            )\n",
    "            ))                                  \n",
    "        ], width = 5),\n",
    "        dbc.Col([ html.I(\"Set threshold for the probability, that a document belongs to the cluster :\"),\n",
    "                 html.I(\"Filter out noisy documents\"),\n",
    "                    dcc.Slider(\n",
    "                id='pc_slider',\n",
    "                min=0, max=1, value=0.4, step = 0.05\n",
    "            ),\n",
    "        ], width = 2),\n",
    "        dbc.Col([html.Div([\n",
    "            html.H3('Word Cloud'),\n",
    "            html.Div([],id='word_cloud')\n",
    "        ], style= {'display': 'none'}, id = 'word_cloud_style')], width = 5)\n",
    "         \n",
    "    ]),\n",
    "    ########### THIRD ROW #####################    \n",
    "                     \n",
    "    dbc.Row([\n",
    "        dbc.Col([\n",
    "                html.Div([\n",
    "            html.Div([],id='dt')\n",
    "\n",
    "        ], style= {'display': 'none'}, id = 'dt_input')], width = 8)\n",
    "        ])])\n",
    "    \n",
    "    \n",
    "   \n",
    "    \n",
    "        \n",
    "#])    \n",
    "\n",
    "  \n",
    "\n",
    "######### Number of clusters ################    \n",
    "\n",
    "\n",
    "@app.callback(    \n",
    "    Output('cytoscape', 'stylesheet'),        \n",
    "    Output('cytoscape','elements'),\n",
    "    Output('cytoscape','layout'),\n",
    "    Output('parallel_coord','figure'),\n",
    "    Output('clust_sum_graph','figure'),\n",
    "    Output('cluster_delete_failed_warning','is_open'),\n",
    "    Input('my-daq-slider-ex', 'value'),\n",
    "    Input(\"update_button\", \"n_clicks\"),\n",
    "    Input('delete_button', \"n_clicks\"),\n",
    "    Input('cytoscape','tapNodeData'),\n",
    "    Input('cytoscape', 'selectedNodeData'),\n",
    "    Input('pc_slider','value'),\n",
    "    Input('change-probs', \"n_clicks\"),\n",
    "    Input('clust_sum_graph','clickData'),\n",
    "    Input('delete_cluster_button', \"n_clicks\"),\n",
    "    Input(\"close-warning\", \"n_clicks\"),\n",
    "    State('parallel_coord','figure'),\n",
    "    State(\"input1\", \"value\"),\n",
    "    State('cytoscape','stylesheet'),\n",
    "    State('cytoscape', 'elements'),\n",
    "    State('cytoscape', 'layout'),\n",
    "    State('clust_sum_graph','figure'),\n",
    "    State('clust_sum_graph','clickData'),\n",
    "    State('cluster_delete_failed_warning','is_open'),\n",
    "    \n",
    "    \n",
    "    prevent_initial_call = True\n",
    "    \n",
    ")\n",
    "def update_graph(value_slider, update_n_button,delete_button, tapNodeData,selectedNodeData,\n",
    "                 pc_slider,change_prob_button,clust_sum_data,delete_cluster_button,clust_delete_warn_button,\n",
    "                 pc_figure,cluster_number_value, stylesheet, elements,layout,clust_sum_graph, clust_sum_latest,\n",
    "                 cluster_delete_failed_warning):\n",
    "    ctx = dash.callback_context\n",
    "    figure = pc_figure\n",
    "    clust_sum_figure = clust_sum_graph\n",
    "    cluster_delete_warn_dialog = cluster_delete_failed_warning\n",
    "    clicked_element = ctx.triggered[0]['prop_id'].split('.')[0]\n",
    "\n",
    "        \n",
    "    values = []\n",
    "\n",
    "    \n",
    "\n",
    "    #################### cosine similarity ############################\n",
    "    if  clicked_element == 'my-daq-slider-ex':\n",
    "        slider_value =  ctx.triggered[0]['value']\n",
    "        lda.set_cosine_sim_treshold(slider_value)\n",
    "        ## need to update the elements of the graph\n",
    "        elements = get_graph_topic_nodes() + get_graph_document_nodes() + get_graph_cos_sim_edges() + get_doc_topic_edges()\n",
    "\n",
    "    #################  number of clusters ##############################    \n",
    "    elif clicked_element == 'update_button':\n",
    "        ### elements need to be updated\n",
    "        lda.set_number_of_clusters(cluster_number_value)\n",
    "        lda.update_lda()\n",
    "        elements = get_graph_topic_nodes() + get_graph_document_nodes() + get_graph_cos_sim_edges() + get_doc_topic_edges()\n",
    "        ### layout of the graph needs to be updated\n",
    "        layout = {'name': 'cose'}\n",
    "        \n",
    "        ### parallel coordinates plot needs to be updated\n",
    "        ### according to the number of clusters\n",
    "        figure=figure = go.Figure(data= \n",
    "            go.Parcoords(\n",
    "                line = dict(color = lda.get_parall_coord_df()['Dominant_Topic'],\n",
    "                           colorscale = list(lda.get_colors().values())[:lda.get_k()]),\n",
    "                dimensions = [                       \n",
    "                    dict(range = [0,1],\n",
    "                        label = f'Cluster {i}', \n",
    "                        values = lda.get_parall_coord_df()[i])\n",
    "                     for i in range(lda.get_k())                      \n",
    "                ]))\n",
    "        \n",
    "        ### update stylesheet\n",
    "        stylesheet = update_stylesheet()\n",
    "        \n",
    "        #update cluster summary view\n",
    "        update_clust_summary = build_cluster_summary_view()\n",
    "        clust_sum_figure =  go.Figure(go.Treemap(labels  = update_clust_summary['labels'],\n",
    "                                                     parents = update_clust_summary['parents'],\n",
    "                                                     marker_colors =  update_clust_summary['marker_colors'],\n",
    "                                                     text = update_clust_summary['text_info']),\n",
    "                                          layout = go.Layout(margin={'t': 0, 'l': 0, 'r': 15, 'b' : 2}))\n",
    "\n",
    "    ################### highlight rows #################################    \n",
    "    # the choosen document will be highlighted on the parallel coordinates plot\n",
    "    elif clicked_element == 'cytoscape' and tapNodeData is not None: \n",
    "        ## recolor the choosen line\n",
    "        color_list = list(lda.get_colors().values())[:lda.get_k()]\n",
    "        color_list.append('black')\n",
    "        df = lda.get_parall_coord_df()\n",
    "        df = df.reset_index()\n",
    "        df['index'] = range(1, len(df) + 1)\n",
    "        df.set_index('index')\n",
    "        df.loc[tapNodeData['id'],'Dominant_Topic'] = lda.get_k()\n",
    "        \n",
    "        figure= go.Figure(data= \n",
    "            go.Parcoords(\n",
    "                line = dict(color = df['Dominant_Topic'],\n",
    "                           colorscale = color_list),\n",
    "                dimensions = [                       \n",
    "                    dict(range = [0,1],\n",
    "                        label = f'Cluster {i}', \n",
    "                        values = df[i])\n",
    "                     for i in range(lda.get_k())                      \n",
    "                ]))\n",
    "        \n",
    "    ################## delete documents #################################\n",
    "    elif clicked_element == 'delete_button':\n",
    "        #If no node selected before, the input variable should be None, we have to handle it\n",
    "        if tapNodeData is not None and 'Cluster' not in tapNodeData['id']:\n",
    "            lda.remove_document(int(tapNodeData['id']))\n",
    "            elements = get_graph_topic_nodes() + get_graph_document_nodes() + get_graph_cos_sim_edges() + get_doc_topic_edges()\n",
    "            \n",
    "\n",
    "    ######### Filter the paralell coordinates by the given threshold #####\n",
    "    elif clicked_element == 'pc_slider':\n",
    "            #print('pc_slider triggered')\n",
    "            lda.filter_parall_coords_topic_contribution(ctx.triggered[0]['value'])\n",
    "            #parall_coord_input = lda.get_filtered_topics_df()\n",
    "            #filtered_parall_coords = lda.get_parall_coord_df().loc[lda.get_filtered_topics_df()['Title']]\n",
    "            filtered_parall_coords = lda.get_filtered_parall_coords_df()\n",
    "            figure = go.Figure(data= go.Parcoords(\n",
    "                line = dict(color = filtered_parall_coords['Dominant_Topic'],\n",
    "                           colorscale = list(lda.get_colors().values())[:lda.get_k()]),\n",
    "                dimensions = [                       \n",
    "                    dict(range = [0,1],\n",
    "                        label = f'Cluster {i}', \n",
    "                        values = filtered_parall_coords[i])\n",
    "                     for i in range(lda.get_k())                      \n",
    "                ]))\n",
    "    elif clicked_element == 'clust_sum_graph':\n",
    "        #print('clust_sum_graph')\n",
    "        #print(clust_sum_data['points'][0]['label'])\n",
    "        lda.set_last_selected_cluster_from_clust_sum_view(clust_sum_data['points'][0]['label'])\n",
    "        #set currently selected cluster from summary view in class aas actual in order to delete\n",
    "        \n",
    "    elif clicked_element == 'delete_cluster_button':\n",
    "        print('clust_sum_graph_delete_button')\n",
    "        if clust_sum_latest is None:\n",
    "            #show the warning that no cluster selected before in the cluster summary view\n",
    "            cluster_delete_warn_dialog = True\n",
    "        else:            \n",
    "            #print(clust_sum_latest['points'][0]['label'])\n",
    "            lda.delete_cluster()\n",
    "            elements = get_graph_topic_nodes() + get_graph_document_nodes() + get_graph_cos_sim_edges() + get_doc_topic_edges()\n",
    "            ### layout of the graph needs to be updated\n",
    "            layout = {'name': 'cose'}\n",
    "\n",
    "            ### parallel coordinates plot needs to be updated\n",
    "            ### according to the number of clusters\n",
    "            figure=figure = go.Figure(data=\n",
    "                go.Parcoords(\n",
    "                    line = dict(color = lda.get_parall_coord_df()['Dominant_Topic'],\n",
    "                               colorscale = list(lda.get_colors().values())[:lda.get_k()]),\n",
    "                    dimensions = [\n",
    "                        dict(range = [0,1],\n",
    "                            label = f'Cluster {i}',\n",
    "                            values = lda.get_parall_coord_df()[i])\n",
    "                         for i in range(lda.get_k())\n",
    "                    ]))\n",
    "\n",
    "            ### update stylesheet\n",
    "            stylesheet = update_stylesheet()\n",
    "\n",
    "            #update cluster summary view\n",
    "            update_clust_summary = build_cluster_summary_view()\n",
    "            clust_sum_figure =  go.Figure(go.Treemap(labels  = update_clust_summary['labels'],\n",
    "                                                     parents = update_clust_summary['parents'],\n",
    "                                                     marker_colors =  update_clust_summary['marker_colors'],\n",
    "                                                     text = update_clust_summary['text_info']),\n",
    "                                          layout = go.Layout(margin={'t': 0, 'l': 0, 'r': 5, 'b' : 2}))\n",
    "\n",
    "\n",
    "            \n",
    "    elif clicked_element == 'close-warning':\n",
    "            cluster_delete_warn_dialog = False\n",
    "    #elif ctx.triggered[0]['prop_id'].split('.')[0] == 'change-probs':\n",
    "\n",
    "            \n",
    "    return [stylesheet, elements,layout, figure,clust_sum_figure,cluster_delete_warn_dialog]\n",
    "\n",
    "@app.callback(\n",
    "    Output('empty-div', 'children'),\n",
    "    Input('cytoscape', 'mouseoverNodeData'),\n",
    "    Input('cytoscape','mouseoverEdgeData'),\n",
    "    Input('cytoscape','tapEdgeData'),\n",
    "    Input('cytoscape','tapNodeData'),\n",
    "    Input('cytoscape','selectedNodeData')\n",
    ")\n",
    "def update_layout(mouse_on_node, mouse_on_edge, tap_edge, tap_node, snd):\n",
    "    print(\"Mouse on Node: {}\".format(mouse_on_node))\n",
    "    print(\"Mouse on Edge: {}\".format(mouse_on_edge))\n",
    "    print(\"Tapped Edge: {}\".format(tap_edge))\n",
    "    print(\"Tapped Node: {}\".format(tap_node))\n",
    "    print(\"------------------------------------------------------------\")\n",
    "    print(\"All selected Nodes: {}\".format(snd))\n",
    "    print(\"------------------------------------------------------------\")\n",
    "\n",
    "    return 'see print statement for nodes and edges selected.'\n",
    "\n",
    "\n",
    "# Highlight document words:\n",
    "# https://www.machinelearningplus.com/nlp/topic-modeling-visualization-how-to-present-results-lda-models/#6.-What-is-the-Dominant-topic-and-its-percentage-contribution-in-each-document\n",
    "\n",
    "############################  Term-weight view   #######################\n",
    "@app.callback(\n",
    "    Output('table', 'data'),\n",
    "    Output('table', 'columns'),\n",
    "    Output('bar_chart', 'children'),\n",
    "    Output('change-prob-btn-div', 'style'),\n",
    "    Output('term-weight-input', 'style'),  \n",
    "    Output('word_cloud_style', \"style\"),\n",
    "    Output('word_cloud', \"children\"),\n",
    "    Input('cytoscape', 'tapNodeData'),\n",
    "    Input('input_barchart', 'value'),\n",
    "    Input('change-probs', \"n_clicks\"),\n",
    "    State('table', 'columns'),  \n",
    "    State('table', 'data'),\n",
    "    prevent_initial_call = True\n",
    ")\n",
    "def update_barplot(tapNodeData,value, btn_change_prob,table_column,table_data):\n",
    "    ctx = dash.callback_context\n",
    "    style = {'display': 'block'}\n",
    "    columns = [{'name':i,'id':i} for i in ['Words','Probabilities']]    \n",
    "    \n",
    "    ### if you klick on the button change probs\n",
    "    if ctx.triggered[0]['prop_id'].split('.')[0] == 'change-probs':    \n",
    "        json_data = json.dumps(table_data)\n",
    "        changed_data = pd.read_json(json_data, orient = 'records').sort_values(by = \"Probabilities\",\n",
    "                                                                            ascending = False)\n",
    "\n",
    "\n",
    "        #print(lda.get_word_probabilities())\n",
    "        #print(\"********************************\")\n",
    "        for i,d in changed_data.iterrows():\n",
    "            lda.update_term_topic_weight(lda.get_last_selected_cluster(), d['Words'],d[\"Probabilities\"])\n",
    "\n",
    "        lda.term_prob_update_lda()\n",
    "        #print(\"********************************\")\n",
    "        #print(lda.get_word_probabilities())\n",
    "\n",
    "        lda.set_word_probabilities(changed_data)\n",
    "        \n",
    "        data = lda.get_top_n_word_probs_for_topic_i(lda.get_last_selected_cluster(), value).sort_values(by = \"Probabilities\",\n",
    "                                                                            ascending = False)\n",
    "        table_data = data.to_dict('records')\n",
    "\n",
    "        ### the values in the data table need to be changed\n",
    "        \n",
    "        \n",
    "\n",
    "\n",
    "        child = html.Div([\n",
    "                dash_table.DataTable(\n",
    "                                id='table',\n",
    "                                data=table_data,\n",
    "                                columns=columns,\n",
    "                                editable = True,\n",
    "                                style_cell={'width': '50px',\n",
    "                                            'height': '30px',\n",
    "                                            'textAlign': 'left'}\n",
    "                                      )\n",
    "                           ])\n",
    "        \n",
    "\n",
    "        ### the barplot needs to be changed\n",
    "        bar_color = lda.get_colors()[lda.get_last_selected_cluster()]\n",
    "        figure=html.Div([dcc.Graph(id='horizontal_bar_plot', \n",
    "                      style={'width': '150%', 'height': '400px'},\n",
    "                      figure = px.bar(data.sort_values(by = \"Probabilities\",\n",
    "                                                                            ascending = True), \n",
    "                        x = \"Probabilities\",\n",
    "                        y = \"Words\",\n",
    "                        color_discrete_sequence = [bar_color] * len(data),## color by cluster color\n",
    "                        orientation='h'\n",
    "                        ))])\n",
    "\n",
    "\n",
    "\n",
    "        ''' IMPLEMENT WORD CLOUD'''\n",
    "        data = go.Scatter(\n",
    "                             x=[random.random() for i in random.choices(range(30), k=30)],\n",
    "                             y=[random.random() for i in random.choices(range(30), k=30)],\n",
    "                             mode='text',\n",
    "                             text=lda.get_top_n_word_probs_for_topic_i(lda.get_last_selected_cluster(), 20).Words,\n",
    "                             marker={'opacity': 0.3},\n",
    "                             textfont={'size': lda.get_top_n_word_probs_for_topic_i(lda.get_last_selected_cluster(), 20).Probabilities * 2000,\n",
    "                                   'color': lda.get_colors()[lda.get_last_selected_cluster()]})\n",
    "\n",
    "        layout = go.Layout({\"plot_bgcolor\": \"rgba(0, 0, 0,0)\",'xaxis': {'showgrid': False, 'showticklabels': False, 'zeroline': False},\n",
    "                                                'yaxis': {'showgrid': False, 'showticklabels': False, 'zeroline': False}})\n",
    "\n",
    "        word_cloud = html.Div([dcc.Graph(id='word_cloud',\n",
    "                      figure = go.Figure(data=[data], layout=layout)\n",
    "                        )])\n",
    "        \n",
    "        \n",
    "    #### if you click on a cluster node on the graph    \n",
    "    elif 'Cluster' in tapNodeData['id']:\n",
    "        cluster_id = int(tapNodeData['id'].replace('Cluster ',''))\n",
    "        lda.set_last_selected_cluster(cluster_id)\n",
    "        \n",
    "        data = lda.get_top_n_word_probs_for_topic_i(cluster_id, value).sort_values(by = \"Probabilities\",\n",
    "                                                                            ascending = False)\n",
    "        table_data = data.to_dict('records')\n",
    "        ## change table, according to the cluster choosen\n",
    "        '''\n",
    "        child = html.Div([\n",
    "                dash_table.DataTable(\n",
    "                                id='table',\n",
    "                                data=table_data, \n",
    "                                columns=columns,\n",
    "                                editable = True,\n",
    "                                style_cell={'width': '50px',\n",
    "                                            'height': '30px',\n",
    "                                            'textAlign': 'left'}\n",
    "                                      )\n",
    "                           ])\n",
    "        '''\n",
    "        ## change the barplot, accoring to the cluster choosen\n",
    "        bar_color = lda.get_colors()[lda.get_last_selected_cluster()]\n",
    "        figure=html.Div([dcc.Graph(id='horizontal_bar_plot', \n",
    "                      style={'width': '150%', 'height': '400px'},\n",
    "                      figure = px.bar(lda.get_top_n_word_probs_for_topic_i(cluster_id, value), \n",
    "                        x = \"Probabilities\",\n",
    "                        y = \"Words\",\n",
    "                        color_discrete_sequence = [bar_color] * len(data),\n",
    "                        orientation='h'\n",
    "                        ))\n",
    "                    ])\n",
    "        data = go.Scatter(\n",
    "                             x=[random.random() for i in random.choices(range(30), k=30)],\n",
    "                             y=[random.random() for i in random.choices(range(30), k=30)],\n",
    "                             mode='text',\n",
    "                             text=lda.get_top_n_word_probs_for_topic_i(lda.get_last_selected_cluster(), 20).Words,\n",
    "                             marker={'opacity': 0.3},\n",
    "                             textfont={'size': lda.get_top_n_word_probs_for_topic_i(lda.get_last_selected_cluster(), 20).Probabilities * 2000,\n",
    "                                   'color': lda.get_colors()[lda.get_last_selected_cluster()]})\n",
    "\n",
    "        layout = go.Layout({\"plot_bgcolor\": \"rgba(0, 0, 0,0)\",'xaxis': {'showgrid': False, 'showticklabels': False, 'zeroline': False},\n",
    "                                            'yaxis': {'showgrid': False, 'showticklabels': False, 'zeroline': False}})\n",
    "\n",
    "        word_cloud = html.Div([dcc.Graph(id='word_cloud_plot',\n",
    "                      figure = go.Figure(data=[data], layout=layout)\n",
    "                        )])\n",
    "\n",
    "        \n",
    "    else:\n",
    "        return dash.no_update\n",
    "\n",
    "\n",
    "\n",
    "    return [table_data,columns,figure, style, style, style, word_cloud]\n",
    "\n",
    "\n",
    "    \n",
    "    \n",
    "######## Show the documents from a choosen cluster in the document view #########\n",
    "\n",
    "@app.callback(\n",
    "    Output('dt', 'children'),\n",
    "    Output('dt_input', 'style'),\n",
    "    Input('cytoscape', 'tapNodeData'),\n",
    "    prevent_initial_call = True    \n",
    ")\n",
    "def update_result(tapNodeData):\n",
    "    if tapNodeData is not None and 'Cluster' not in tapNodeData['id']:\n",
    "        node_title = lda.get_document_title_by_id(int(tapNodeData['id']))\n",
    "        data=lda.get_data()[lda.get_data()['title'] == node_title]\n",
    "        doc_with_higlighted_terms = lda.build_term_higlights(data)\n",
    "        child = html.Div(children = [dash_dangerously_set_inner_html.DangerouslySetInnerHTML(f'''<h2>{node_title}</h2>'''),\n",
    "                        html.Div([dash_dangerously_set_inner_html.DangerouslySetInnerHTML(doc_with_higlighted_terms)])])\n",
    "        style = {'display': 'block'}\n",
    "    else: \n",
    "        return dash.no_update\n",
    "    \n",
    "    return [child,style] \n",
    "    \n",
    "  \n",
    "#figure.layout.update(showlegend=False)\n",
    "app.run_server( port=8051, dev_tools_hot_reload=True)\n"
   ]
  },
  {
   "cell_type": "code",
   "execution_count": 64,
   "metadata": {},
   "outputs": [
    {
     "data": {
      "application/vnd.plotly.v1+json": {
       "config": {
        "plotlyServerURL": "https://plot.ly"
       },
       "data": [
        {
         "marker": {
          "opacity": 0.3
         },
         "mode": "text",
         "text": [
          "tool",
          "set",
          "analysis",
          "technique",
          "information",
          "user",
          "system",
          "visual",
          "visualization",
          "data"
         ],
         "textfont": {
          "color": "green",
          "size": [
           19.22541856765747,
           20.66417597234249,
           23.656494915485382,
           27.16856449842453,
           30.562356114387512,
           34.16771814227104,
           40.54418206214905,
           44.62680593132973,
           58.86683985590935,
           69.79485601186752
          ]
         },
         "type": "scatter",
         "x": [
          0.5738284654765105,
          0.9125932318332685,
          0.27677747034309985,
          0.09091151948242471,
          0.7981196148421981,
          0.29967350135366566,
          0.5213990287621263,
          0.42376302667260723,
          0.22277421522433505,
          0.4678800828951192,
          0.6762943923115207,
          0.15715230723310802,
          0.5138626238510878,
          0.5960260536997928,
          0.5542002936637456,
          0.2880687624352003,
          0.7050509358018638,
          0.358896435354799,
          0.052016980385659606,
          0.1076880675294476,
          0.15595390205745907,
          0.6903090311558835,
          0.12996450965269024,
          0.13902878644744876,
          0.3869789272714568,
          0.23914727371946276,
          0.04116164671585332,
          0.34411908743328945,
          0.5354532451990885,
          0.7660727449615803
         ],
         "y": [
          0.2879739378477818,
          0.8019897392213357,
          0.5253174591286909,
          0.09071252683981956,
          0.5302590627725342,
          0.7228479438235498,
          0.3497211788745883,
          0.03139252069638632,
          0.8218367559701143,
          0.5157372020083947,
          0.7583623451945161,
          0.1410287035965937,
          0.20454407085257786,
          0.7369555206199259,
          0.16204957941803422,
          0.9069502395438835,
          0.742037039652055,
          0.4883532838346386,
          0.3682537374758704,
          0.8967901299876354,
          0.5673530342185582,
          0.626595695447153,
          0.414577033465107,
          0.1288901311489039,
          0.34812665979533375,
          0.7899778191809486,
          0.2030729212364134,
          0.6869832741670487,
          0.915954978498477,
          0.05020562409662155
         ]
        }
       ],
       "layout": {
        "template": {
         "data": {
          "bar": [
           {
            "error_x": {
             "color": "#2a3f5f"
            },
            "error_y": {
             "color": "#2a3f5f"
            },
            "marker": {
             "line": {
              "color": "#E5ECF6",
              "width": 0.5
             }
            },
            "type": "bar"
           }
          ],
          "barpolar": [
           {
            "marker": {
             "line": {
              "color": "#E5ECF6",
              "width": 0.5
             }
            },
            "type": "barpolar"
           }
          ],
          "carpet": [
           {
            "aaxis": {
             "endlinecolor": "#2a3f5f",
             "gridcolor": "white",
             "linecolor": "white",
             "minorgridcolor": "white",
             "startlinecolor": "#2a3f5f"
            },
            "baxis": {
             "endlinecolor": "#2a3f5f",
             "gridcolor": "white",
             "linecolor": "white",
             "minorgridcolor": "white",
             "startlinecolor": "#2a3f5f"
            },
            "type": "carpet"
           }
          ],
          "choropleth": [
           {
            "colorbar": {
             "outlinewidth": 0,
             "ticks": ""
            },
            "type": "choropleth"
           }
          ],
          "contour": [
           {
            "colorbar": {
             "outlinewidth": 0,
             "ticks": ""
            },
            "colorscale": [
             [
              0.0,
              "#0d0887"
             ],
             [
              0.1111111111111111,
              "#46039f"
             ],
             [
              0.2222222222222222,
              "#7201a8"
             ],
             [
              0.3333333333333333,
              "#9c179e"
             ],
             [
              0.4444444444444444,
              "#bd3786"
             ],
             [
              0.5555555555555556,
              "#d8576b"
             ],
             [
              0.6666666666666666,
              "#ed7953"
             ],
             [
              0.7777777777777778,
              "#fb9f3a"
             ],
             [
              0.8888888888888888,
              "#fdca26"
             ],
             [
              1.0,
              "#f0f921"
             ]
            ],
            "type": "contour"
           }
          ],
          "contourcarpet": [
           {
            "colorbar": {
             "outlinewidth": 0,
             "ticks": ""
            },
            "type": "contourcarpet"
           }
          ],
          "heatmap": [
           {
            "colorbar": {
             "outlinewidth": 0,
             "ticks": ""
            },
            "colorscale": [
             [
              0.0,
              "#0d0887"
             ],
             [
              0.1111111111111111,
              "#46039f"
             ],
             [
              0.2222222222222222,
              "#7201a8"
             ],
             [
              0.3333333333333333,
              "#9c179e"
             ],
             [
              0.4444444444444444,
              "#bd3786"
             ],
             [
              0.5555555555555556,
              "#d8576b"
             ],
             [
              0.6666666666666666,
              "#ed7953"
             ],
             [
              0.7777777777777778,
              "#fb9f3a"
             ],
             [
              0.8888888888888888,
              "#fdca26"
             ],
             [
              1.0,
              "#f0f921"
             ]
            ],
            "type": "heatmap"
           }
          ],
          "heatmapgl": [
           {
            "colorbar": {
             "outlinewidth": 0,
             "ticks": ""
            },
            "colorscale": [
             [
              0.0,
              "#0d0887"
             ],
             [
              0.1111111111111111,
              "#46039f"
             ],
             [
              0.2222222222222222,
              "#7201a8"
             ],
             [
              0.3333333333333333,
              "#9c179e"
             ],
             [
              0.4444444444444444,
              "#bd3786"
             ],
             [
              0.5555555555555556,
              "#d8576b"
             ],
             [
              0.6666666666666666,
              "#ed7953"
             ],
             [
              0.7777777777777778,
              "#fb9f3a"
             ],
             [
              0.8888888888888888,
              "#fdca26"
             ],
             [
              1.0,
              "#f0f921"
             ]
            ],
            "type": "heatmapgl"
           }
          ],
          "histogram": [
           {
            "marker": {
             "colorbar": {
              "outlinewidth": 0,
              "ticks": ""
             }
            },
            "type": "histogram"
           }
          ],
          "histogram2d": [
           {
            "colorbar": {
             "outlinewidth": 0,
             "ticks": ""
            },
            "colorscale": [
             [
              0.0,
              "#0d0887"
             ],
             [
              0.1111111111111111,
              "#46039f"
             ],
             [
              0.2222222222222222,
              "#7201a8"
             ],
             [
              0.3333333333333333,
              "#9c179e"
             ],
             [
              0.4444444444444444,
              "#bd3786"
             ],
             [
              0.5555555555555556,
              "#d8576b"
             ],
             [
              0.6666666666666666,
              "#ed7953"
             ],
             [
              0.7777777777777778,
              "#fb9f3a"
             ],
             [
              0.8888888888888888,
              "#fdca26"
             ],
             [
              1.0,
              "#f0f921"
             ]
            ],
            "type": "histogram2d"
           }
          ],
          "histogram2dcontour": [
           {
            "colorbar": {
             "outlinewidth": 0,
             "ticks": ""
            },
            "colorscale": [
             [
              0.0,
              "#0d0887"
             ],
             [
              0.1111111111111111,
              "#46039f"
             ],
             [
              0.2222222222222222,
              "#7201a8"
             ],
             [
              0.3333333333333333,
              "#9c179e"
             ],
             [
              0.4444444444444444,
              "#bd3786"
             ],
             [
              0.5555555555555556,
              "#d8576b"
             ],
             [
              0.6666666666666666,
              "#ed7953"
             ],
             [
              0.7777777777777778,
              "#fb9f3a"
             ],
             [
              0.8888888888888888,
              "#fdca26"
             ],
             [
              1.0,
              "#f0f921"
             ]
            ],
            "type": "histogram2dcontour"
           }
          ],
          "mesh3d": [
           {
            "colorbar": {
             "outlinewidth": 0,
             "ticks": ""
            },
            "type": "mesh3d"
           }
          ],
          "parcoords": [
           {
            "line": {
             "colorbar": {
              "outlinewidth": 0,
              "ticks": ""
             }
            },
            "type": "parcoords"
           }
          ],
          "pie": [
           {
            "automargin": true,
            "type": "pie"
           }
          ],
          "scatter": [
           {
            "marker": {
             "colorbar": {
              "outlinewidth": 0,
              "ticks": ""
             }
            },
            "type": "scatter"
           }
          ],
          "scatter3d": [
           {
            "line": {
             "colorbar": {
              "outlinewidth": 0,
              "ticks": ""
             }
            },
            "marker": {
             "colorbar": {
              "outlinewidth": 0,
              "ticks": ""
             }
            },
            "type": "scatter3d"
           }
          ],
          "scattercarpet": [
           {
            "marker": {
             "colorbar": {
              "outlinewidth": 0,
              "ticks": ""
             }
            },
            "type": "scattercarpet"
           }
          ],
          "scattergeo": [
           {
            "marker": {
             "colorbar": {
              "outlinewidth": 0,
              "ticks": ""
             }
            },
            "type": "scattergeo"
           }
          ],
          "scattergl": [
           {
            "marker": {
             "colorbar": {
              "outlinewidth": 0,
              "ticks": ""
             }
            },
            "type": "scattergl"
           }
          ],
          "scattermapbox": [
           {
            "marker": {
             "colorbar": {
              "outlinewidth": 0,
              "ticks": ""
             }
            },
            "type": "scattermapbox"
           }
          ],
          "scatterpolar": [
           {
            "marker": {
             "colorbar": {
              "outlinewidth": 0,
              "ticks": ""
             }
            },
            "type": "scatterpolar"
           }
          ],
          "scatterpolargl": [
           {
            "marker": {
             "colorbar": {
              "outlinewidth": 0,
              "ticks": ""
             }
            },
            "type": "scatterpolargl"
           }
          ],
          "scatterternary": [
           {
            "marker": {
             "colorbar": {
              "outlinewidth": 0,
              "ticks": ""
             }
            },
            "type": "scatterternary"
           }
          ],
          "surface": [
           {
            "colorbar": {
             "outlinewidth": 0,
             "ticks": ""
            },
            "colorscale": [
             [
              0.0,
              "#0d0887"
             ],
             [
              0.1111111111111111,
              "#46039f"
             ],
             [
              0.2222222222222222,
              "#7201a8"
             ],
             [
              0.3333333333333333,
              "#9c179e"
             ],
             [
              0.4444444444444444,
              "#bd3786"
             ],
             [
              0.5555555555555556,
              "#d8576b"
             ],
             [
              0.6666666666666666,
              "#ed7953"
             ],
             [
              0.7777777777777778,
              "#fb9f3a"
             ],
             [
              0.8888888888888888,
              "#fdca26"
             ],
             [
              1.0,
              "#f0f921"
             ]
            ],
            "type": "surface"
           }
          ],
          "table": [
           {
            "cells": {
             "fill": {
              "color": "#EBF0F8"
             },
             "line": {
              "color": "white"
             }
            },
            "header": {
             "fill": {
              "color": "#C8D4E3"
             },
             "line": {
              "color": "white"
             }
            },
            "type": "table"
           }
          ]
         },
         "layout": {
          "annotationdefaults": {
           "arrowcolor": "#2a3f5f",
           "arrowhead": 0,
           "arrowwidth": 1
          },
          "autotypenumbers": "strict",
          "coloraxis": {
           "colorbar": {
            "outlinewidth": 0,
            "ticks": ""
           }
          },
          "colorscale": {
           "diverging": [
            [
             0,
             "#8e0152"
            ],
            [
             0.1,
             "#c51b7d"
            ],
            [
             0.2,
             "#de77ae"
            ],
            [
             0.3,
             "#f1b6da"
            ],
            [
             0.4,
             "#fde0ef"
            ],
            [
             0.5,
             "#f7f7f7"
            ],
            [
             0.6,
             "#e6f5d0"
            ],
            [
             0.7,
             "#b8e186"
            ],
            [
             0.8,
             "#7fbc41"
            ],
            [
             0.9,
             "#4d9221"
            ],
            [
             1,
             "#276419"
            ]
           ],
           "sequential": [
            [
             0.0,
             "#0d0887"
            ],
            [
             0.1111111111111111,
             "#46039f"
            ],
            [
             0.2222222222222222,
             "#7201a8"
            ],
            [
             0.3333333333333333,
             "#9c179e"
            ],
            [
             0.4444444444444444,
             "#bd3786"
            ],
            [
             0.5555555555555556,
             "#d8576b"
            ],
            [
             0.6666666666666666,
             "#ed7953"
            ],
            [
             0.7777777777777778,
             "#fb9f3a"
            ],
            [
             0.8888888888888888,
             "#fdca26"
            ],
            [
             1.0,
             "#f0f921"
            ]
           ],
           "sequentialminus": [
            [
             0.0,
             "#0d0887"
            ],
            [
             0.1111111111111111,
             "#46039f"
            ],
            [
             0.2222222222222222,
             "#7201a8"
            ],
            [
             0.3333333333333333,
             "#9c179e"
            ],
            [
             0.4444444444444444,
             "#bd3786"
            ],
            [
             0.5555555555555556,
             "#d8576b"
            ],
            [
             0.6666666666666666,
             "#ed7953"
            ],
            [
             0.7777777777777778,
             "#fb9f3a"
            ],
            [
             0.8888888888888888,
             "#fdca26"
            ],
            [
             1.0,
             "#f0f921"
            ]
           ]
          },
          "colorway": [
           "#636efa",
           "#EF553B",
           "#00cc96",
           "#ab63fa",
           "#FFA15A",
           "#19d3f3",
           "#FF6692",
           "#B6E880",
           "#FF97FF",
           "#FECB52"
          ],
          "font": {
           "color": "#2a3f5f"
          },
          "geo": {
           "bgcolor": "white",
           "lakecolor": "white",
           "landcolor": "#E5ECF6",
           "showlakes": true,
           "showland": true,
           "subunitcolor": "white"
          },
          "hoverlabel": {
           "align": "left"
          },
          "hovermode": "closest",
          "mapbox": {
           "style": "light"
          },
          "paper_bgcolor": "white",
          "plot_bgcolor": "#E5ECF6",
          "polar": {
           "angularaxis": {
            "gridcolor": "white",
            "linecolor": "white",
            "ticks": ""
           },
           "bgcolor": "#E5ECF6",
           "radialaxis": {
            "gridcolor": "white",
            "linecolor": "white",
            "ticks": ""
           }
          },
          "scene": {
           "xaxis": {
            "backgroundcolor": "#E5ECF6",
            "gridcolor": "white",
            "gridwidth": 2,
            "linecolor": "white",
            "showbackground": true,
            "ticks": "",
            "zerolinecolor": "white"
           },
           "yaxis": {
            "backgroundcolor": "#E5ECF6",
            "gridcolor": "white",
            "gridwidth": 2,
            "linecolor": "white",
            "showbackground": true,
            "ticks": "",
            "zerolinecolor": "white"
           },
           "zaxis": {
            "backgroundcolor": "#E5ECF6",
            "gridcolor": "white",
            "gridwidth": 2,
            "linecolor": "white",
            "showbackground": true,
            "ticks": "",
            "zerolinecolor": "white"
           }
          },
          "shapedefaults": {
           "line": {
            "color": "#2a3f5f"
           }
          },
          "ternary": {
           "aaxis": {
            "gridcolor": "white",
            "linecolor": "white",
            "ticks": ""
           },
           "baxis": {
            "gridcolor": "white",
            "linecolor": "white",
            "ticks": ""
           },
           "bgcolor": "#E5ECF6",
           "caxis": {
            "gridcolor": "white",
            "linecolor": "white",
            "ticks": ""
           }
          },
          "title": {
           "x": 0.05
          },
          "xaxis": {
           "automargin": true,
           "gridcolor": "white",
           "linecolor": "white",
           "ticks": "",
           "title": {
            "standoff": 15
           },
           "zerolinecolor": "white",
           "zerolinewidth": 2
          },
          "yaxis": {
           "automargin": true,
           "gridcolor": "white",
           "linecolor": "white",
           "ticks": "",
           "title": {
            "standoff": 15
           },
           "zerolinecolor": "white",
           "zerolinewidth": 2
          }
         }
        },
        "xaxis": {
         "showgrid": false,
         "showticklabels": false,
         "zeroline": false
        },
        "yaxis": {
         "showgrid": false,
         "showticklabels": false,
         "zeroline": false
        }
       }
      },
      "text/html": "<div>                            <div id=\"fe07a442-0310-4e10-a31b-1f642b209949\" class=\"plotly-graph-div\" style=\"height:525px; width:100%;\"></div>            <script type=\"text/javascript\">                require([\"plotly\"], function(Plotly) {                    window.PLOTLYENV=window.PLOTLYENV || {};                                    if (document.getElementById(\"fe07a442-0310-4e10-a31b-1f642b209949\")) {                    Plotly.newPlot(                        \"fe07a442-0310-4e10-a31b-1f642b209949\",                        [{\"marker\": {\"opacity\": 0.3}, \"mode\": \"text\", \"text\": [\"tool\", \"set\", \"analysis\", \"technique\", \"information\", \"user\", \"system\", \"visual\", \"visualization\", \"data\"], \"textfont\": {\"color\": \"green\", \"size\": [19.22541856765747, 20.66417597234249, 23.656494915485382, 27.16856449842453, 30.562356114387512, 34.16771814227104, 40.54418206214905, 44.62680593132973, 58.86683985590935, 69.79485601186752]}, \"type\": \"scatter\", \"x\": [0.5738284654765105, 0.9125932318332685, 0.27677747034309985, 0.09091151948242471, 0.7981196148421981, 0.29967350135366566, 0.5213990287621263, 0.42376302667260723, 0.22277421522433505, 0.4678800828951192, 0.6762943923115207, 0.15715230723310802, 0.5138626238510878, 0.5960260536997928, 0.5542002936637456, 0.2880687624352003, 0.7050509358018638, 0.358896435354799, 0.052016980385659606, 0.1076880675294476, 0.15595390205745907, 0.6903090311558835, 0.12996450965269024, 0.13902878644744876, 0.3869789272714568, 0.23914727371946276, 0.04116164671585332, 0.34411908743328945, 0.5354532451990885, 0.7660727449615803], \"y\": [0.2879739378477818, 0.8019897392213357, 0.5253174591286909, 0.09071252683981956, 0.5302590627725342, 0.7228479438235498, 0.3497211788745883, 0.03139252069638632, 0.8218367559701143, 0.5157372020083947, 0.7583623451945161, 0.1410287035965937, 0.20454407085257786, 0.7369555206199259, 0.16204957941803422, 0.9069502395438835, 0.742037039652055, 0.4883532838346386, 0.3682537374758704, 0.8967901299876354, 0.5673530342185582, 0.626595695447153, 0.414577033465107, 0.1288901311489039, 0.34812665979533375, 0.7899778191809486, 0.2030729212364134, 0.6869832741670487, 0.915954978498477, 0.05020562409662155]}],                        {\"template\": {\"data\": {\"bar\": [{\"error_x\": {\"color\": \"#2a3f5f\"}, \"error_y\": {\"color\": \"#2a3f5f\"}, \"marker\": {\"line\": {\"color\": \"#E5ECF6\", \"width\": 0.5}}, \"type\": \"bar\"}], \"barpolar\": [{\"marker\": {\"line\": {\"color\": \"#E5ECF6\", \"width\": 0.5}}, \"type\": \"barpolar\"}], \"carpet\": [{\"aaxis\": {\"endlinecolor\": \"#2a3f5f\", \"gridcolor\": \"white\", \"linecolor\": \"white\", \"minorgridcolor\": \"white\", \"startlinecolor\": \"#2a3f5f\"}, \"baxis\": {\"endlinecolor\": \"#2a3f5f\", \"gridcolor\": \"white\", \"linecolor\": \"white\", \"minorgridcolor\": \"white\", \"startlinecolor\": \"#2a3f5f\"}, \"type\": \"carpet\"}], \"choropleth\": [{\"colorbar\": {\"outlinewidth\": 0, \"ticks\": \"\"}, \"type\": \"choropleth\"}], \"contour\": [{\"colorbar\": {\"outlinewidth\": 0, \"ticks\": \"\"}, \"colorscale\": [[0.0, \"#0d0887\"], [0.1111111111111111, \"#46039f\"], [0.2222222222222222, \"#7201a8\"], [0.3333333333333333, \"#9c179e\"], [0.4444444444444444, \"#bd3786\"], [0.5555555555555556, \"#d8576b\"], [0.6666666666666666, \"#ed7953\"], [0.7777777777777778, \"#fb9f3a\"], [0.8888888888888888, \"#fdca26\"], [1.0, \"#f0f921\"]], \"type\": \"contour\"}], \"contourcarpet\": [{\"colorbar\": {\"outlinewidth\": 0, \"ticks\": \"\"}, \"type\": \"contourcarpet\"}], \"heatmap\": [{\"colorbar\": {\"outlinewidth\": 0, \"ticks\": \"\"}, \"colorscale\": [[0.0, \"#0d0887\"], [0.1111111111111111, \"#46039f\"], [0.2222222222222222, \"#7201a8\"], [0.3333333333333333, \"#9c179e\"], [0.4444444444444444, \"#bd3786\"], [0.5555555555555556, \"#d8576b\"], [0.6666666666666666, \"#ed7953\"], [0.7777777777777778, \"#fb9f3a\"], [0.8888888888888888, \"#fdca26\"], [1.0, \"#f0f921\"]], \"type\": \"heatmap\"}], \"heatmapgl\": [{\"colorbar\": {\"outlinewidth\": 0, \"ticks\": \"\"}, \"colorscale\": [[0.0, \"#0d0887\"], [0.1111111111111111, \"#46039f\"], [0.2222222222222222, \"#7201a8\"], [0.3333333333333333, \"#9c179e\"], [0.4444444444444444, \"#bd3786\"], [0.5555555555555556, \"#d8576b\"], [0.6666666666666666, \"#ed7953\"], [0.7777777777777778, \"#fb9f3a\"], [0.8888888888888888, \"#fdca26\"], [1.0, \"#f0f921\"]], \"type\": \"heatmapgl\"}], \"histogram\": [{\"marker\": {\"colorbar\": {\"outlinewidth\": 0, \"ticks\": \"\"}}, \"type\": \"histogram\"}], \"histogram2d\": [{\"colorbar\": {\"outlinewidth\": 0, \"ticks\": \"\"}, \"colorscale\": [[0.0, \"#0d0887\"], [0.1111111111111111, \"#46039f\"], [0.2222222222222222, \"#7201a8\"], [0.3333333333333333, \"#9c179e\"], [0.4444444444444444, \"#bd3786\"], [0.5555555555555556, \"#d8576b\"], [0.6666666666666666, \"#ed7953\"], [0.7777777777777778, \"#fb9f3a\"], [0.8888888888888888, \"#fdca26\"], [1.0, \"#f0f921\"]], \"type\": \"histogram2d\"}], \"histogram2dcontour\": [{\"colorbar\": {\"outlinewidth\": 0, \"ticks\": \"\"}, \"colorscale\": [[0.0, \"#0d0887\"], [0.1111111111111111, \"#46039f\"], [0.2222222222222222, \"#7201a8\"], [0.3333333333333333, \"#9c179e\"], [0.4444444444444444, \"#bd3786\"], [0.5555555555555556, \"#d8576b\"], [0.6666666666666666, \"#ed7953\"], [0.7777777777777778, \"#fb9f3a\"], [0.8888888888888888, \"#fdca26\"], [1.0, \"#f0f921\"]], \"type\": \"histogram2dcontour\"}], \"mesh3d\": [{\"colorbar\": {\"outlinewidth\": 0, \"ticks\": \"\"}, \"type\": \"mesh3d\"}], \"parcoords\": [{\"line\": {\"colorbar\": {\"outlinewidth\": 0, \"ticks\": \"\"}}, \"type\": \"parcoords\"}], \"pie\": [{\"automargin\": true, \"type\": \"pie\"}], \"scatter\": [{\"marker\": {\"colorbar\": {\"outlinewidth\": 0, \"ticks\": \"\"}}, \"type\": \"scatter\"}], \"scatter3d\": [{\"line\": {\"colorbar\": {\"outlinewidth\": 0, \"ticks\": \"\"}}, \"marker\": {\"colorbar\": {\"outlinewidth\": 0, \"ticks\": \"\"}}, \"type\": \"scatter3d\"}], \"scattercarpet\": [{\"marker\": {\"colorbar\": {\"outlinewidth\": 0, \"ticks\": \"\"}}, \"type\": \"scattercarpet\"}], \"scattergeo\": [{\"marker\": {\"colorbar\": {\"outlinewidth\": 0, \"ticks\": \"\"}}, \"type\": \"scattergeo\"}], \"scattergl\": [{\"marker\": {\"colorbar\": {\"outlinewidth\": 0, \"ticks\": \"\"}}, \"type\": \"scattergl\"}], \"scattermapbox\": [{\"marker\": {\"colorbar\": {\"outlinewidth\": 0, \"ticks\": \"\"}}, \"type\": \"scattermapbox\"}], \"scatterpolar\": [{\"marker\": {\"colorbar\": {\"outlinewidth\": 0, \"ticks\": \"\"}}, \"type\": \"scatterpolar\"}], \"scatterpolargl\": [{\"marker\": {\"colorbar\": {\"outlinewidth\": 0, \"ticks\": \"\"}}, \"type\": \"scatterpolargl\"}], \"scatterternary\": [{\"marker\": {\"colorbar\": {\"outlinewidth\": 0, \"ticks\": \"\"}}, \"type\": \"scatterternary\"}], \"surface\": [{\"colorbar\": {\"outlinewidth\": 0, \"ticks\": \"\"}, \"colorscale\": [[0.0, \"#0d0887\"], [0.1111111111111111, \"#46039f\"], [0.2222222222222222, \"#7201a8\"], [0.3333333333333333, \"#9c179e\"], [0.4444444444444444, \"#bd3786\"], [0.5555555555555556, \"#d8576b\"], [0.6666666666666666, \"#ed7953\"], [0.7777777777777778, \"#fb9f3a\"], [0.8888888888888888, \"#fdca26\"], [1.0, \"#f0f921\"]], \"type\": \"surface\"}], \"table\": [{\"cells\": {\"fill\": {\"color\": \"#EBF0F8\"}, \"line\": {\"color\": \"white\"}}, \"header\": {\"fill\": {\"color\": \"#C8D4E3\"}, \"line\": {\"color\": \"white\"}}, \"type\": \"table\"}]}, \"layout\": {\"annotationdefaults\": {\"arrowcolor\": \"#2a3f5f\", \"arrowhead\": 0, \"arrowwidth\": 1}, \"autotypenumbers\": \"strict\", \"coloraxis\": {\"colorbar\": {\"outlinewidth\": 0, \"ticks\": \"\"}}, \"colorscale\": {\"diverging\": [[0, \"#8e0152\"], [0.1, \"#c51b7d\"], [0.2, \"#de77ae\"], [0.3, \"#f1b6da\"], [0.4, \"#fde0ef\"], [0.5, \"#f7f7f7\"], [0.6, \"#e6f5d0\"], [0.7, \"#b8e186\"], [0.8, \"#7fbc41\"], [0.9, \"#4d9221\"], [1, \"#276419\"]], \"sequential\": [[0.0, \"#0d0887\"], [0.1111111111111111, \"#46039f\"], [0.2222222222222222, \"#7201a8\"], [0.3333333333333333, \"#9c179e\"], [0.4444444444444444, \"#bd3786\"], [0.5555555555555556, \"#d8576b\"], [0.6666666666666666, \"#ed7953\"], [0.7777777777777778, \"#fb9f3a\"], [0.8888888888888888, \"#fdca26\"], [1.0, \"#f0f921\"]], \"sequentialminus\": [[0.0, \"#0d0887\"], [0.1111111111111111, \"#46039f\"], [0.2222222222222222, \"#7201a8\"], [0.3333333333333333, \"#9c179e\"], [0.4444444444444444, \"#bd3786\"], [0.5555555555555556, \"#d8576b\"], [0.6666666666666666, \"#ed7953\"], [0.7777777777777778, \"#fb9f3a\"], [0.8888888888888888, \"#fdca26\"], [1.0, \"#f0f921\"]]}, \"colorway\": [\"#636efa\", \"#EF553B\", \"#00cc96\", \"#ab63fa\", \"#FFA15A\", \"#19d3f3\", \"#FF6692\", \"#B6E880\", \"#FF97FF\", \"#FECB52\"], \"font\": {\"color\": \"#2a3f5f\"}, \"geo\": {\"bgcolor\": \"white\", \"lakecolor\": \"white\", \"landcolor\": \"#E5ECF6\", \"showlakes\": true, \"showland\": true, \"subunitcolor\": \"white\"}, \"hoverlabel\": {\"align\": \"left\"}, \"hovermode\": \"closest\", \"mapbox\": {\"style\": \"light\"}, \"paper_bgcolor\": \"white\", \"plot_bgcolor\": \"#E5ECF6\", \"polar\": {\"angularaxis\": {\"gridcolor\": \"white\", \"linecolor\": \"white\", \"ticks\": \"\"}, \"bgcolor\": \"#E5ECF6\", \"radialaxis\": {\"gridcolor\": \"white\", \"linecolor\": \"white\", \"ticks\": \"\"}}, \"scene\": {\"xaxis\": {\"backgroundcolor\": \"#E5ECF6\", \"gridcolor\": \"white\", \"gridwidth\": 2, \"linecolor\": \"white\", \"showbackground\": true, \"ticks\": \"\", \"zerolinecolor\": \"white\"}, \"yaxis\": {\"backgroundcolor\": \"#E5ECF6\", \"gridcolor\": \"white\", \"gridwidth\": 2, \"linecolor\": \"white\", \"showbackground\": true, \"ticks\": \"\", \"zerolinecolor\": \"white\"}, \"zaxis\": {\"backgroundcolor\": \"#E5ECF6\", \"gridcolor\": \"white\", \"gridwidth\": 2, \"linecolor\": \"white\", \"showbackground\": true, \"ticks\": \"\", \"zerolinecolor\": \"white\"}}, \"shapedefaults\": {\"line\": {\"color\": \"#2a3f5f\"}}, \"ternary\": {\"aaxis\": {\"gridcolor\": \"white\", \"linecolor\": \"white\", \"ticks\": \"\"}, \"baxis\": {\"gridcolor\": \"white\", \"linecolor\": \"white\", \"ticks\": \"\"}, \"bgcolor\": \"#E5ECF6\", \"caxis\": {\"gridcolor\": \"white\", \"linecolor\": \"white\", \"ticks\": \"\"}}, \"title\": {\"x\": 0.05}, \"xaxis\": {\"automargin\": true, \"gridcolor\": \"white\", \"linecolor\": \"white\", \"ticks\": \"\", \"title\": {\"standoff\": 15}, \"zerolinecolor\": \"white\", \"zerolinewidth\": 2}, \"yaxis\": {\"automargin\": true, \"gridcolor\": \"white\", \"linecolor\": \"white\", \"ticks\": \"\", \"title\": {\"standoff\": 15}, \"zerolinecolor\": \"white\", \"zerolinewidth\": 2}}}, \"xaxis\": {\"showgrid\": false, \"showticklabels\": false, \"zeroline\": false}, \"yaxis\": {\"showgrid\": false, \"showticklabels\": false, \"zeroline\": false}},                        {\"responsive\": true}                    ).then(function(){\n                            \nvar gd = document.getElementById('fe07a442-0310-4e10-a31b-1f642b209949');\nvar x = new MutationObserver(function (mutations, observer) {{\n        var display = window.getComputedStyle(gd).display;\n        if (!display || display === 'none') {{\n            console.log([gd, 'removed!']);\n            Plotly.purge(gd);\n            observer.disconnect();\n        }}\n}});\n\n// Listen for the removal of the full notebook cells\nvar notebookContainer = gd.closest('#notebook-container');\nif (notebookContainer) {{\n    x.observe(notebookContainer, {childList: true});\n}}\n\n// Listen for the clearing of the current output cell\nvar outputEl = gd.closest('.output');\nif (outputEl) {{\n    x.observe(outputEl, {childList: true});\n}}\n\n                        })                };                });            </script>        </div>"
     },
     "metadata": {},
     "output_type": "display_data"
    }
   ],
   "source": [
    "import plotly\n",
    "import plotly.graph_objs as go\n",
    "from plotly.offline import plot\n",
    "import random\n",
    "data = go.Scatter(x=[random.random() for i in range(30)],\n",
    "                 y=[random.random() for i in range(30)],\n",
    "                 mode='text',\n",
    "                 text=lda.get_top_n_word_probs_for_topic_i(2, 10).Words,\n",
    "                 marker={'opacity': 0.3},\n",
    "                 textfont={'size': lda.get_top_n_word_probs_for_topic_i(2, 10).Probabilities * 4000, \n",
    "                           'color': lda.get_colors()[2]})\n",
    "layout = go.Layout({'xaxis': {'showgrid': False, 'showticklabels': False, 'zeroline': False},\n",
    "                    'yaxis': {'showgrid': False, 'showticklabels': False, 'zeroline': False}})\n",
    "fig = go.Figure(data=[data], layout=layout)\n",
    "\n",
    "fig"
   ]
  },
  {
   "cell_type": "code",
   "execution_count": 65,
   "metadata": {},
   "outputs": [
    {
     "data": {
      "application/vnd.plotly.v1+json": {
       "config": {
        "plotlyServerURL": "https://plot.ly"
       },
       "data": [
        {
         "marker": {
          "opacity": 0.3
         },
         "mode": "text",
         "text": [
          "pattern",
          "time",
          "present",
          "model",
          "used",
          "large",
          "based",
          "application",
          "paper",
          "design",
          "tool",
          "set",
          "analysis",
          "technique",
          "information",
          "user",
          "system",
          "visual",
          "visualization",
          "data"
         ],
         "textfont": {
          "color": "green",
          "size": [
           14.038030058145523,
           14.212292619049549,
           14.303507283329964,
           14.685477130115032,
           14.961636625230312,
           17.18132570385933,
           17.26987026631832,
           18.334800377488136,
           18.383271992206573,
           19.12771351635456,
           19.22541856765747,
           20.66417597234249,
           23.656494915485382,
           27.16856449842453,
           30.562356114387512,
           34.16771814227104,
           40.54418206214905,
           44.62680593132973,
           58.86683985590935,
           69.79485601186752
          ]
         },
         "type": "scatter",
         "x": [
          0.9873142915265616,
          0.7659652990103699,
          0.8565509131517187,
          0.07734486984179789,
          0.11742755429467833,
          0.8094116759829022,
          0.6315183472233435,
          0.7725263349955178,
          0.05751552794278547,
          0.5892877588235573,
          0.29711476857096397,
          0.15620776267808323,
          0.9987192949022173,
          0.5559030390295691,
          0.8113978760317424,
          0.9959452504721175,
          0.9031734477588645,
          0.2286247342452773,
          0.38356073867399376,
          0.8297242433256207,
          0.9767630012759947,
          0.5952343166278462,
          0.4207821021269639,
          0.7144320646013028,
          0.0393258550691189,
          0.32657946347934774,
          0.7836439213438635,
          0.226758679949557,
          0.9441202621219594,
          0.4222295677476089
         ],
         "y": [
          0.6732342511457458,
          0.15175173113685236,
          0.3791736882359432,
          0.24800232178121162,
          0.4308510306275962,
          0.23637746872782894,
          0.7708252213662964,
          0.5863750051448972,
          0.5522573447502546,
          0.24635355212250765,
          0.13185923949657086,
          0.5566399394368852,
          0.6951124722066848,
          0.26957831799987375,
          0.6582957262715499,
          0.4783874978360607,
          0.44001378186033735,
          0.24312474474551604,
          0.16514856257449562,
          0.9795692139348544,
          0.554045224691083,
          0.15653475602937406,
          0.5398005411556656,
          0.7857957382325202,
          0.3923799304251627,
          0.6135947312717998,
          0.910505360224627,
          0.901133592729917,
          0.8923068972418299,
          0.027571103707679345
         ]
        }
       ],
       "layout": {
        "template": {
         "data": {
          "bar": [
           {
            "error_x": {
             "color": "#2a3f5f"
            },
            "error_y": {
             "color": "#2a3f5f"
            },
            "marker": {
             "line": {
              "color": "#E5ECF6",
              "width": 0.5
             }
            },
            "type": "bar"
           }
          ],
          "barpolar": [
           {
            "marker": {
             "line": {
              "color": "#E5ECF6",
              "width": 0.5
             }
            },
            "type": "barpolar"
           }
          ],
          "carpet": [
           {
            "aaxis": {
             "endlinecolor": "#2a3f5f",
             "gridcolor": "white",
             "linecolor": "white",
             "minorgridcolor": "white",
             "startlinecolor": "#2a3f5f"
            },
            "baxis": {
             "endlinecolor": "#2a3f5f",
             "gridcolor": "white",
             "linecolor": "white",
             "minorgridcolor": "white",
             "startlinecolor": "#2a3f5f"
            },
            "type": "carpet"
           }
          ],
          "choropleth": [
           {
            "colorbar": {
             "outlinewidth": 0,
             "ticks": ""
            },
            "type": "choropleth"
           }
          ],
          "contour": [
           {
            "colorbar": {
             "outlinewidth": 0,
             "ticks": ""
            },
            "colorscale": [
             [
              0.0,
              "#0d0887"
             ],
             [
              0.1111111111111111,
              "#46039f"
             ],
             [
              0.2222222222222222,
              "#7201a8"
             ],
             [
              0.3333333333333333,
              "#9c179e"
             ],
             [
              0.4444444444444444,
              "#bd3786"
             ],
             [
              0.5555555555555556,
              "#d8576b"
             ],
             [
              0.6666666666666666,
              "#ed7953"
             ],
             [
              0.7777777777777778,
              "#fb9f3a"
             ],
             [
              0.8888888888888888,
              "#fdca26"
             ],
             [
              1.0,
              "#f0f921"
             ]
            ],
            "type": "contour"
           }
          ],
          "contourcarpet": [
           {
            "colorbar": {
             "outlinewidth": 0,
             "ticks": ""
            },
            "type": "contourcarpet"
           }
          ],
          "heatmap": [
           {
            "colorbar": {
             "outlinewidth": 0,
             "ticks": ""
            },
            "colorscale": [
             [
              0.0,
              "#0d0887"
             ],
             [
              0.1111111111111111,
              "#46039f"
             ],
             [
              0.2222222222222222,
              "#7201a8"
             ],
             [
              0.3333333333333333,
              "#9c179e"
             ],
             [
              0.4444444444444444,
              "#bd3786"
             ],
             [
              0.5555555555555556,
              "#d8576b"
             ],
             [
              0.6666666666666666,
              "#ed7953"
             ],
             [
              0.7777777777777778,
              "#fb9f3a"
             ],
             [
              0.8888888888888888,
              "#fdca26"
             ],
             [
              1.0,
              "#f0f921"
             ]
            ],
            "type": "heatmap"
           }
          ],
          "heatmapgl": [
           {
            "colorbar": {
             "outlinewidth": 0,
             "ticks": ""
            },
            "colorscale": [
             [
              0.0,
              "#0d0887"
             ],
             [
              0.1111111111111111,
              "#46039f"
             ],
             [
              0.2222222222222222,
              "#7201a8"
             ],
             [
              0.3333333333333333,
              "#9c179e"
             ],
             [
              0.4444444444444444,
              "#bd3786"
             ],
             [
              0.5555555555555556,
              "#d8576b"
             ],
             [
              0.6666666666666666,
              "#ed7953"
             ],
             [
              0.7777777777777778,
              "#fb9f3a"
             ],
             [
              0.8888888888888888,
              "#fdca26"
             ],
             [
              1.0,
              "#f0f921"
             ]
            ],
            "type": "heatmapgl"
           }
          ],
          "histogram": [
           {
            "marker": {
             "colorbar": {
              "outlinewidth": 0,
              "ticks": ""
             }
            },
            "type": "histogram"
           }
          ],
          "histogram2d": [
           {
            "colorbar": {
             "outlinewidth": 0,
             "ticks": ""
            },
            "colorscale": [
             [
              0.0,
              "#0d0887"
             ],
             [
              0.1111111111111111,
              "#46039f"
             ],
             [
              0.2222222222222222,
              "#7201a8"
             ],
             [
              0.3333333333333333,
              "#9c179e"
             ],
             [
              0.4444444444444444,
              "#bd3786"
             ],
             [
              0.5555555555555556,
              "#d8576b"
             ],
             [
              0.6666666666666666,
              "#ed7953"
             ],
             [
              0.7777777777777778,
              "#fb9f3a"
             ],
             [
              0.8888888888888888,
              "#fdca26"
             ],
             [
              1.0,
              "#f0f921"
             ]
            ],
            "type": "histogram2d"
           }
          ],
          "histogram2dcontour": [
           {
            "colorbar": {
             "outlinewidth": 0,
             "ticks": ""
            },
            "colorscale": [
             [
              0.0,
              "#0d0887"
             ],
             [
              0.1111111111111111,
              "#46039f"
             ],
             [
              0.2222222222222222,
              "#7201a8"
             ],
             [
              0.3333333333333333,
              "#9c179e"
             ],
             [
              0.4444444444444444,
              "#bd3786"
             ],
             [
              0.5555555555555556,
              "#d8576b"
             ],
             [
              0.6666666666666666,
              "#ed7953"
             ],
             [
              0.7777777777777778,
              "#fb9f3a"
             ],
             [
              0.8888888888888888,
              "#fdca26"
             ],
             [
              1.0,
              "#f0f921"
             ]
            ],
            "type": "histogram2dcontour"
           }
          ],
          "mesh3d": [
           {
            "colorbar": {
             "outlinewidth": 0,
             "ticks": ""
            },
            "type": "mesh3d"
           }
          ],
          "parcoords": [
           {
            "line": {
             "colorbar": {
              "outlinewidth": 0,
              "ticks": ""
             }
            },
            "type": "parcoords"
           }
          ],
          "pie": [
           {
            "automargin": true,
            "type": "pie"
           }
          ],
          "scatter": [
           {
            "marker": {
             "colorbar": {
              "outlinewidth": 0,
              "ticks": ""
             }
            },
            "type": "scatter"
           }
          ],
          "scatter3d": [
           {
            "line": {
             "colorbar": {
              "outlinewidth": 0,
              "ticks": ""
             }
            },
            "marker": {
             "colorbar": {
              "outlinewidth": 0,
              "ticks": ""
             }
            },
            "type": "scatter3d"
           }
          ],
          "scattercarpet": [
           {
            "marker": {
             "colorbar": {
              "outlinewidth": 0,
              "ticks": ""
             }
            },
            "type": "scattercarpet"
           }
          ],
          "scattergeo": [
           {
            "marker": {
             "colorbar": {
              "outlinewidth": 0,
              "ticks": ""
             }
            },
            "type": "scattergeo"
           }
          ],
          "scattergl": [
           {
            "marker": {
             "colorbar": {
              "outlinewidth": 0,
              "ticks": ""
             }
            },
            "type": "scattergl"
           }
          ],
          "scattermapbox": [
           {
            "marker": {
             "colorbar": {
              "outlinewidth": 0,
              "ticks": ""
             }
            },
            "type": "scattermapbox"
           }
          ],
          "scatterpolar": [
           {
            "marker": {
             "colorbar": {
              "outlinewidth": 0,
              "ticks": ""
             }
            },
            "type": "scatterpolar"
           }
          ],
          "scatterpolargl": [
           {
            "marker": {
             "colorbar": {
              "outlinewidth": 0,
              "ticks": ""
             }
            },
            "type": "scatterpolargl"
           }
          ],
          "scatterternary": [
           {
            "marker": {
             "colorbar": {
              "outlinewidth": 0,
              "ticks": ""
             }
            },
            "type": "scatterternary"
           }
          ],
          "surface": [
           {
            "colorbar": {
             "outlinewidth": 0,
             "ticks": ""
            },
            "colorscale": [
             [
              0.0,
              "#0d0887"
             ],
             [
              0.1111111111111111,
              "#46039f"
             ],
             [
              0.2222222222222222,
              "#7201a8"
             ],
             [
              0.3333333333333333,
              "#9c179e"
             ],
             [
              0.4444444444444444,
              "#bd3786"
             ],
             [
              0.5555555555555556,
              "#d8576b"
             ],
             [
              0.6666666666666666,
              "#ed7953"
             ],
             [
              0.7777777777777778,
              "#fb9f3a"
             ],
             [
              0.8888888888888888,
              "#fdca26"
             ],
             [
              1.0,
              "#f0f921"
             ]
            ],
            "type": "surface"
           }
          ],
          "table": [
           {
            "cells": {
             "fill": {
              "color": "#EBF0F8"
             },
             "line": {
              "color": "white"
             }
            },
            "header": {
             "fill": {
              "color": "#C8D4E3"
             },
             "line": {
              "color": "white"
             }
            },
            "type": "table"
           }
          ]
         },
         "layout": {
          "annotationdefaults": {
           "arrowcolor": "#2a3f5f",
           "arrowhead": 0,
           "arrowwidth": 1
          },
          "autotypenumbers": "strict",
          "coloraxis": {
           "colorbar": {
            "outlinewidth": 0,
            "ticks": ""
           }
          },
          "colorscale": {
           "diverging": [
            [
             0,
             "#8e0152"
            ],
            [
             0.1,
             "#c51b7d"
            ],
            [
             0.2,
             "#de77ae"
            ],
            [
             0.3,
             "#f1b6da"
            ],
            [
             0.4,
             "#fde0ef"
            ],
            [
             0.5,
             "#f7f7f7"
            ],
            [
             0.6,
             "#e6f5d0"
            ],
            [
             0.7,
             "#b8e186"
            ],
            [
             0.8,
             "#7fbc41"
            ],
            [
             0.9,
             "#4d9221"
            ],
            [
             1,
             "#276419"
            ]
           ],
           "sequential": [
            [
             0.0,
             "#0d0887"
            ],
            [
             0.1111111111111111,
             "#46039f"
            ],
            [
             0.2222222222222222,
             "#7201a8"
            ],
            [
             0.3333333333333333,
             "#9c179e"
            ],
            [
             0.4444444444444444,
             "#bd3786"
            ],
            [
             0.5555555555555556,
             "#d8576b"
            ],
            [
             0.6666666666666666,
             "#ed7953"
            ],
            [
             0.7777777777777778,
             "#fb9f3a"
            ],
            [
             0.8888888888888888,
             "#fdca26"
            ],
            [
             1.0,
             "#f0f921"
            ]
           ],
           "sequentialminus": [
            [
             0.0,
             "#0d0887"
            ],
            [
             0.1111111111111111,
             "#46039f"
            ],
            [
             0.2222222222222222,
             "#7201a8"
            ],
            [
             0.3333333333333333,
             "#9c179e"
            ],
            [
             0.4444444444444444,
             "#bd3786"
            ],
            [
             0.5555555555555556,
             "#d8576b"
            ],
            [
             0.6666666666666666,
             "#ed7953"
            ],
            [
             0.7777777777777778,
             "#fb9f3a"
            ],
            [
             0.8888888888888888,
             "#fdca26"
            ],
            [
             1.0,
             "#f0f921"
            ]
           ]
          },
          "colorway": [
           "#636efa",
           "#EF553B",
           "#00cc96",
           "#ab63fa",
           "#FFA15A",
           "#19d3f3",
           "#FF6692",
           "#B6E880",
           "#FF97FF",
           "#FECB52"
          ],
          "font": {
           "color": "#2a3f5f"
          },
          "geo": {
           "bgcolor": "white",
           "lakecolor": "white",
           "landcolor": "#E5ECF6",
           "showlakes": true,
           "showland": true,
           "subunitcolor": "white"
          },
          "hoverlabel": {
           "align": "left"
          },
          "hovermode": "closest",
          "mapbox": {
           "style": "light"
          },
          "paper_bgcolor": "white",
          "plot_bgcolor": "#E5ECF6",
          "polar": {
           "angularaxis": {
            "gridcolor": "white",
            "linecolor": "white",
            "ticks": ""
           },
           "bgcolor": "#E5ECF6",
           "radialaxis": {
            "gridcolor": "white",
            "linecolor": "white",
            "ticks": ""
           }
          },
          "scene": {
           "xaxis": {
            "backgroundcolor": "#E5ECF6",
            "gridcolor": "white",
            "gridwidth": 2,
            "linecolor": "white",
            "showbackground": true,
            "ticks": "",
            "zerolinecolor": "white"
           },
           "yaxis": {
            "backgroundcolor": "#E5ECF6",
            "gridcolor": "white",
            "gridwidth": 2,
            "linecolor": "white",
            "showbackground": true,
            "ticks": "",
            "zerolinecolor": "white"
           },
           "zaxis": {
            "backgroundcolor": "#E5ECF6",
            "gridcolor": "white",
            "gridwidth": 2,
            "linecolor": "white",
            "showbackground": true,
            "ticks": "",
            "zerolinecolor": "white"
           }
          },
          "shapedefaults": {
           "line": {
            "color": "#2a3f5f"
           }
          },
          "ternary": {
           "aaxis": {
            "gridcolor": "white",
            "linecolor": "white",
            "ticks": ""
           },
           "baxis": {
            "gridcolor": "white",
            "linecolor": "white",
            "ticks": ""
           },
           "bgcolor": "#E5ECF6",
           "caxis": {
            "gridcolor": "white",
            "linecolor": "white",
            "ticks": ""
           }
          },
          "title": {
           "x": 0.05
          },
          "xaxis": {
           "automargin": true,
           "gridcolor": "white",
           "linecolor": "white",
           "ticks": "",
           "title": {
            "standoff": 15
           },
           "zerolinecolor": "white",
           "zerolinewidth": 2
          },
          "yaxis": {
           "automargin": true,
           "gridcolor": "white",
           "linecolor": "white",
           "ticks": "",
           "title": {
            "standoff": 15
           },
           "zerolinecolor": "white",
           "zerolinewidth": 2
          }
         }
        },
        "xaxis": {
         "showgrid": false,
         "showticklabels": false,
         "zeroline": false
        },
        "yaxis": {
         "showgrid": false,
         "showticklabels": false,
         "zeroline": false
        }
       }
      },
      "text/html": "<div>                            <div id=\"6cfc7217-aee0-4802-b446-d7083b868879\" class=\"plotly-graph-div\" style=\"height:525px; width:100%;\"></div>            <script type=\"text/javascript\">                require([\"plotly\"], function(Plotly) {                    window.PLOTLYENV=window.PLOTLYENV || {};                                    if (document.getElementById(\"6cfc7217-aee0-4802-b446-d7083b868879\")) {                    Plotly.newPlot(                        \"6cfc7217-aee0-4802-b446-d7083b868879\",                        [{\"marker\": {\"opacity\": 0.3}, \"mode\": \"text\", \"text\": [\"pattern\", \"time\", \"present\", \"model\", \"used\", \"large\", \"based\", \"application\", \"paper\", \"design\", \"tool\", \"set\", \"analysis\", \"technique\", \"information\", \"user\", \"system\", \"visual\", \"visualization\", \"data\"], \"textfont\": {\"color\": \"green\", \"size\": [14.038030058145523, 14.212292619049549, 14.303507283329964, 14.685477130115032, 14.961636625230312, 17.18132570385933, 17.26987026631832, 18.334800377488136, 18.383271992206573, 19.12771351635456, 19.22541856765747, 20.66417597234249, 23.656494915485382, 27.16856449842453, 30.562356114387512, 34.16771814227104, 40.54418206214905, 44.62680593132973, 58.86683985590935, 69.79485601186752]}, \"type\": \"scatter\", \"x\": [0.9873142915265616, 0.7659652990103699, 0.8565509131517187, 0.07734486984179789, 0.11742755429467833, 0.8094116759829022, 0.6315183472233435, 0.7725263349955178, 0.05751552794278547, 0.5892877588235573, 0.29711476857096397, 0.15620776267808323, 0.9987192949022173, 0.5559030390295691, 0.8113978760317424, 0.9959452504721175, 0.9031734477588645, 0.2286247342452773, 0.38356073867399376, 0.8297242433256207, 0.9767630012759947, 0.5952343166278462, 0.4207821021269639, 0.7144320646013028, 0.0393258550691189, 0.32657946347934774, 0.7836439213438635, 0.226758679949557, 0.9441202621219594, 0.4222295677476089], \"y\": [0.6732342511457458, 0.15175173113685236, 0.3791736882359432, 0.24800232178121162, 0.4308510306275962, 0.23637746872782894, 0.7708252213662964, 0.5863750051448972, 0.5522573447502546, 0.24635355212250765, 0.13185923949657086, 0.5566399394368852, 0.6951124722066848, 0.26957831799987375, 0.6582957262715499, 0.4783874978360607, 0.44001378186033735, 0.24312474474551604, 0.16514856257449562, 0.9795692139348544, 0.554045224691083, 0.15653475602937406, 0.5398005411556656, 0.7857957382325202, 0.3923799304251627, 0.6135947312717998, 0.910505360224627, 0.901133592729917, 0.8923068972418299, 0.027571103707679345]}],                        {\"template\": {\"data\": {\"bar\": [{\"error_x\": {\"color\": \"#2a3f5f\"}, \"error_y\": {\"color\": \"#2a3f5f\"}, \"marker\": {\"line\": {\"color\": \"#E5ECF6\", \"width\": 0.5}}, \"type\": \"bar\"}], \"barpolar\": [{\"marker\": {\"line\": {\"color\": \"#E5ECF6\", \"width\": 0.5}}, \"type\": \"barpolar\"}], \"carpet\": [{\"aaxis\": {\"endlinecolor\": \"#2a3f5f\", \"gridcolor\": \"white\", \"linecolor\": \"white\", \"minorgridcolor\": \"white\", \"startlinecolor\": \"#2a3f5f\"}, \"baxis\": {\"endlinecolor\": \"#2a3f5f\", \"gridcolor\": \"white\", \"linecolor\": \"white\", \"minorgridcolor\": \"white\", \"startlinecolor\": \"#2a3f5f\"}, \"type\": \"carpet\"}], \"choropleth\": [{\"colorbar\": {\"outlinewidth\": 0, \"ticks\": \"\"}, \"type\": \"choropleth\"}], \"contour\": [{\"colorbar\": {\"outlinewidth\": 0, \"ticks\": \"\"}, \"colorscale\": [[0.0, \"#0d0887\"], [0.1111111111111111, \"#46039f\"], [0.2222222222222222, \"#7201a8\"], [0.3333333333333333, \"#9c179e\"], [0.4444444444444444, \"#bd3786\"], [0.5555555555555556, \"#d8576b\"], [0.6666666666666666, \"#ed7953\"], [0.7777777777777778, \"#fb9f3a\"], [0.8888888888888888, \"#fdca26\"], [1.0, \"#f0f921\"]], \"type\": \"contour\"}], \"contourcarpet\": [{\"colorbar\": {\"outlinewidth\": 0, \"ticks\": \"\"}, \"type\": \"contourcarpet\"}], \"heatmap\": [{\"colorbar\": {\"outlinewidth\": 0, \"ticks\": \"\"}, \"colorscale\": [[0.0, \"#0d0887\"], [0.1111111111111111, \"#46039f\"], [0.2222222222222222, \"#7201a8\"], [0.3333333333333333, \"#9c179e\"], [0.4444444444444444, \"#bd3786\"], [0.5555555555555556, \"#d8576b\"], [0.6666666666666666, \"#ed7953\"], [0.7777777777777778, \"#fb9f3a\"], [0.8888888888888888, \"#fdca26\"], [1.0, \"#f0f921\"]], \"type\": \"heatmap\"}], \"heatmapgl\": [{\"colorbar\": {\"outlinewidth\": 0, \"ticks\": \"\"}, \"colorscale\": [[0.0, \"#0d0887\"], [0.1111111111111111, \"#46039f\"], [0.2222222222222222, \"#7201a8\"], [0.3333333333333333, \"#9c179e\"], [0.4444444444444444, \"#bd3786\"], [0.5555555555555556, \"#d8576b\"], [0.6666666666666666, \"#ed7953\"], [0.7777777777777778, \"#fb9f3a\"], [0.8888888888888888, \"#fdca26\"], [1.0, \"#f0f921\"]], \"type\": \"heatmapgl\"}], \"histogram\": [{\"marker\": {\"colorbar\": {\"outlinewidth\": 0, \"ticks\": \"\"}}, \"type\": \"histogram\"}], \"histogram2d\": [{\"colorbar\": {\"outlinewidth\": 0, \"ticks\": \"\"}, \"colorscale\": [[0.0, \"#0d0887\"], [0.1111111111111111, \"#46039f\"], [0.2222222222222222, \"#7201a8\"], [0.3333333333333333, \"#9c179e\"], [0.4444444444444444, \"#bd3786\"], [0.5555555555555556, \"#d8576b\"], [0.6666666666666666, \"#ed7953\"], [0.7777777777777778, \"#fb9f3a\"], [0.8888888888888888, \"#fdca26\"], [1.0, \"#f0f921\"]], \"type\": \"histogram2d\"}], \"histogram2dcontour\": [{\"colorbar\": {\"outlinewidth\": 0, \"ticks\": \"\"}, \"colorscale\": [[0.0, \"#0d0887\"], [0.1111111111111111, \"#46039f\"], [0.2222222222222222, \"#7201a8\"], [0.3333333333333333, \"#9c179e\"], [0.4444444444444444, \"#bd3786\"], [0.5555555555555556, \"#d8576b\"], [0.6666666666666666, \"#ed7953\"], [0.7777777777777778, \"#fb9f3a\"], [0.8888888888888888, \"#fdca26\"], [1.0, \"#f0f921\"]], \"type\": \"histogram2dcontour\"}], \"mesh3d\": [{\"colorbar\": {\"outlinewidth\": 0, \"ticks\": \"\"}, \"type\": \"mesh3d\"}], \"parcoords\": [{\"line\": {\"colorbar\": {\"outlinewidth\": 0, \"ticks\": \"\"}}, \"type\": \"parcoords\"}], \"pie\": [{\"automargin\": true, \"type\": \"pie\"}], \"scatter\": [{\"marker\": {\"colorbar\": {\"outlinewidth\": 0, \"ticks\": \"\"}}, \"type\": \"scatter\"}], \"scatter3d\": [{\"line\": {\"colorbar\": {\"outlinewidth\": 0, \"ticks\": \"\"}}, \"marker\": {\"colorbar\": {\"outlinewidth\": 0, \"ticks\": \"\"}}, \"type\": \"scatter3d\"}], \"scattercarpet\": [{\"marker\": {\"colorbar\": {\"outlinewidth\": 0, \"ticks\": \"\"}}, \"type\": \"scattercarpet\"}], \"scattergeo\": [{\"marker\": {\"colorbar\": {\"outlinewidth\": 0, \"ticks\": \"\"}}, \"type\": \"scattergeo\"}], \"scattergl\": [{\"marker\": {\"colorbar\": {\"outlinewidth\": 0, \"ticks\": \"\"}}, \"type\": \"scattergl\"}], \"scattermapbox\": [{\"marker\": {\"colorbar\": {\"outlinewidth\": 0, \"ticks\": \"\"}}, \"type\": \"scattermapbox\"}], \"scatterpolar\": [{\"marker\": {\"colorbar\": {\"outlinewidth\": 0, \"ticks\": \"\"}}, \"type\": \"scatterpolar\"}], \"scatterpolargl\": [{\"marker\": {\"colorbar\": {\"outlinewidth\": 0, \"ticks\": \"\"}}, \"type\": \"scatterpolargl\"}], \"scatterternary\": [{\"marker\": {\"colorbar\": {\"outlinewidth\": 0, \"ticks\": \"\"}}, \"type\": \"scatterternary\"}], \"surface\": [{\"colorbar\": {\"outlinewidth\": 0, \"ticks\": \"\"}, \"colorscale\": [[0.0, \"#0d0887\"], [0.1111111111111111, \"#46039f\"], [0.2222222222222222, \"#7201a8\"], [0.3333333333333333, \"#9c179e\"], [0.4444444444444444, \"#bd3786\"], [0.5555555555555556, \"#d8576b\"], [0.6666666666666666, \"#ed7953\"], [0.7777777777777778, \"#fb9f3a\"], [0.8888888888888888, \"#fdca26\"], [1.0, \"#f0f921\"]], \"type\": \"surface\"}], \"table\": [{\"cells\": {\"fill\": {\"color\": \"#EBF0F8\"}, \"line\": {\"color\": \"white\"}}, \"header\": {\"fill\": {\"color\": \"#C8D4E3\"}, \"line\": {\"color\": \"white\"}}, \"type\": \"table\"}]}, \"layout\": {\"annotationdefaults\": {\"arrowcolor\": \"#2a3f5f\", \"arrowhead\": 0, \"arrowwidth\": 1}, \"autotypenumbers\": \"strict\", \"coloraxis\": {\"colorbar\": {\"outlinewidth\": 0, \"ticks\": \"\"}}, \"colorscale\": {\"diverging\": [[0, \"#8e0152\"], [0.1, \"#c51b7d\"], [0.2, \"#de77ae\"], [0.3, \"#f1b6da\"], [0.4, \"#fde0ef\"], [0.5, \"#f7f7f7\"], [0.6, \"#e6f5d0\"], [0.7, \"#b8e186\"], [0.8, \"#7fbc41\"], [0.9, \"#4d9221\"], [1, \"#276419\"]], \"sequential\": [[0.0, \"#0d0887\"], [0.1111111111111111, \"#46039f\"], [0.2222222222222222, \"#7201a8\"], [0.3333333333333333, \"#9c179e\"], [0.4444444444444444, \"#bd3786\"], [0.5555555555555556, \"#d8576b\"], [0.6666666666666666, \"#ed7953\"], [0.7777777777777778, \"#fb9f3a\"], [0.8888888888888888, \"#fdca26\"], [1.0, \"#f0f921\"]], \"sequentialminus\": [[0.0, \"#0d0887\"], [0.1111111111111111, \"#46039f\"], [0.2222222222222222, \"#7201a8\"], [0.3333333333333333, \"#9c179e\"], [0.4444444444444444, \"#bd3786\"], [0.5555555555555556, \"#d8576b\"], [0.6666666666666666, \"#ed7953\"], [0.7777777777777778, \"#fb9f3a\"], [0.8888888888888888, \"#fdca26\"], [1.0, \"#f0f921\"]]}, \"colorway\": [\"#636efa\", \"#EF553B\", \"#00cc96\", \"#ab63fa\", \"#FFA15A\", \"#19d3f3\", \"#FF6692\", \"#B6E880\", \"#FF97FF\", \"#FECB52\"], \"font\": {\"color\": \"#2a3f5f\"}, \"geo\": {\"bgcolor\": \"white\", \"lakecolor\": \"white\", \"landcolor\": \"#E5ECF6\", \"showlakes\": true, \"showland\": true, \"subunitcolor\": \"white\"}, \"hoverlabel\": {\"align\": \"left\"}, \"hovermode\": \"closest\", \"mapbox\": {\"style\": \"light\"}, \"paper_bgcolor\": \"white\", \"plot_bgcolor\": \"#E5ECF6\", \"polar\": {\"angularaxis\": {\"gridcolor\": \"white\", \"linecolor\": \"white\", \"ticks\": \"\"}, \"bgcolor\": \"#E5ECF6\", \"radialaxis\": {\"gridcolor\": \"white\", \"linecolor\": \"white\", \"ticks\": \"\"}}, \"scene\": {\"xaxis\": {\"backgroundcolor\": \"#E5ECF6\", \"gridcolor\": \"white\", \"gridwidth\": 2, \"linecolor\": \"white\", \"showbackground\": true, \"ticks\": \"\", \"zerolinecolor\": \"white\"}, \"yaxis\": {\"backgroundcolor\": \"#E5ECF6\", \"gridcolor\": \"white\", \"gridwidth\": 2, \"linecolor\": \"white\", \"showbackground\": true, \"ticks\": \"\", \"zerolinecolor\": \"white\"}, \"zaxis\": {\"backgroundcolor\": \"#E5ECF6\", \"gridcolor\": \"white\", \"gridwidth\": 2, \"linecolor\": \"white\", \"showbackground\": true, \"ticks\": \"\", \"zerolinecolor\": \"white\"}}, \"shapedefaults\": {\"line\": {\"color\": \"#2a3f5f\"}}, \"ternary\": {\"aaxis\": {\"gridcolor\": \"white\", \"linecolor\": \"white\", \"ticks\": \"\"}, \"baxis\": {\"gridcolor\": \"white\", \"linecolor\": \"white\", \"ticks\": \"\"}, \"bgcolor\": \"#E5ECF6\", \"caxis\": {\"gridcolor\": \"white\", \"linecolor\": \"white\", \"ticks\": \"\"}}, \"title\": {\"x\": 0.05}, \"xaxis\": {\"automargin\": true, \"gridcolor\": \"white\", \"linecolor\": \"white\", \"ticks\": \"\", \"title\": {\"standoff\": 15}, \"zerolinecolor\": \"white\", \"zerolinewidth\": 2}, \"yaxis\": {\"automargin\": true, \"gridcolor\": \"white\", \"linecolor\": \"white\", \"ticks\": \"\", \"title\": {\"standoff\": 15}, \"zerolinecolor\": \"white\", \"zerolinewidth\": 2}}}, \"xaxis\": {\"showgrid\": false, \"showticklabels\": false, \"zeroline\": false}, \"yaxis\": {\"showgrid\": false, \"showticklabels\": false, \"zeroline\": false}},                        {\"responsive\": true}                    ).then(function(){\n                            \nvar gd = document.getElementById('6cfc7217-aee0-4802-b446-d7083b868879');\nvar x = new MutationObserver(function (mutations, observer) {{\n        var display = window.getComputedStyle(gd).display;\n        if (!display || display === 'none') {{\n            console.log([gd, 'removed!']);\n            Plotly.purge(gd);\n            observer.disconnect();\n        }}\n}});\n\n// Listen for the removal of the full notebook cells\nvar notebookContainer = gd.closest('#notebook-container');\nif (notebookContainer) {{\n    x.observe(notebookContainer, {childList: true});\n}}\n\n// Listen for the clearing of the current output cell\nvar outputEl = gd.closest('.output');\nif (outputEl) {{\n    x.observe(outputEl, {childList: true});\n}}\n\n                        })                };                });            </script>        </div>"
     },
     "metadata": {},
     "output_type": "display_data"
    }
   ],
   "source": [
    "cluster_id = 2\n",
    "value = 20\n",
    "data = go.Scatter(\n",
    "                             x=[random.random() for i in range(30)],\n",
    "                             y=[random.random() for i in range(30)],\n",
    "                             mode='text',\n",
    "                             text=lda.get_top_n_word_probs_for_topic_i(cluster_id, value).Words,\n",
    "                             marker={'opacity': 0.3},\n",
    "                             textfont={'size': lda.get_top_n_word_probs_for_topic_i(cluster_id, value).Probabilities * 4000, \n",
    "                                   'color': lda.get_colors()[cluster_id]})\n",
    "layout = go.Layout({'xaxis': {'showgrid': False, 'showticklabels': False, 'zeroline': False},\n",
    "                                            'yaxis': {'showgrid': False, 'showticklabels': False, 'zeroline': False}})\n",
    "figure = go.Figure(data=[data], layout=layout)\n",
    "figure"
   ]
  },
  {
   "cell_type": "code",
   "execution_count": 66,
   "metadata": {},
   "outputs": [
    {
     "data": {
      "text/plain": "9     4.806355\n8     5.166044\n7     5.914124\n6     6.792141\n5     7.640589\n4     8.541930\n3    10.136046\n2    11.156701\n1    14.716710\n0    17.448714\nName: Probabilities, dtype: float64"
     },
     "execution_count": 66,
     "metadata": {},
     "output_type": "execute_result"
    }
   ],
   "source": [
    "lda.get_top_n_word_probs_for_topic_i(2, 10).Probabilities * 1000"
   ]
  },
  {
   "cell_type": "code",
   "execution_count": 67,
   "metadata": {},
   "outputs": [
    {
     "ename": "NameError",
     "evalue": "name 'node_title' is not defined",
     "output_type": "error",
     "traceback": [
      "\u001B[1;31m---------------------------------------------------------------------------\u001B[0m",
      "\u001B[1;31mNameError\u001B[0m                                 Traceback (most recent call last)",
      "\u001B[1;32m<ipython-input-67-6feb096a6451>\u001B[0m in \u001B[0;36m<module>\u001B[1;34m\u001B[0m\n\u001B[0;32m      4\u001B[0m \u001B[0mtop_terms\u001B[0m \u001B[1;33m=\u001B[0m \u001B[0mlda\u001B[0m\u001B[1;33m.\u001B[0m\u001B[0mget_terms_with_best_topic\u001B[0m\u001B[1;33m(\u001B[0m\u001B[1;33m)\u001B[0m\u001B[1;33m.\u001B[0m\u001B[0mto_dict\u001B[0m\u001B[1;33m(\u001B[0m\u001B[1;34m'records'\u001B[0m\u001B[1;33m)\u001B[0m\u001B[1;33m\u001B[0m\u001B[1;33m\u001B[0m\u001B[0m\n\u001B[0;32m      5\u001B[0m \u001B[1;33m\u001B[0m\u001B[0m\n\u001B[1;32m----> 6\u001B[1;33m \u001B[0mdata\u001B[0m\u001B[1;33m=\u001B[0m\u001B[0mlda\u001B[0m\u001B[1;33m.\u001B[0m\u001B[0mget_data\u001B[0m\u001B[1;33m(\u001B[0m\u001B[1;33m)\u001B[0m\u001B[1;33m[\u001B[0m\u001B[0mlda\u001B[0m\u001B[1;33m.\u001B[0m\u001B[0mget_data\u001B[0m\u001B[1;33m(\u001B[0m\u001B[1;33m)\u001B[0m\u001B[1;33m[\u001B[0m\u001B[1;34m'title'\u001B[0m\u001B[1;33m]\u001B[0m \u001B[1;33m==\u001B[0m \u001B[0mnode_title\u001B[0m\u001B[1;33m]\u001B[0m\u001B[1;33m.\u001B[0m\u001B[0msplit\u001B[0m\u001B[1;33m(\u001B[0m\u001B[1;34m' '\u001B[0m\u001B[1;33m)\u001B[0m\u001B[1;33m\u001B[0m\u001B[1;33m\u001B[0m\u001B[0m\n\u001B[0m\u001B[0;32m      7\u001B[0m \u001B[1;32mfor\u001B[0m \u001B[0md\u001B[0m \u001B[1;32min\u001B[0m \u001B[0mdata\u001B[0m\u001B[1;33m:\u001B[0m\u001B[1;33m\u001B[0m\u001B[1;33m\u001B[0m\u001B[0m\n\u001B[0;32m      8\u001B[0m     \u001B[0mlemmat_d\u001B[0m \u001B[1;33m=\u001B[0m \u001B[0mlemmatizer\u001B[0m\u001B[1;33m.\u001B[0m\u001B[0mlemmatize\u001B[0m\u001B[1;33m(\u001B[0m\u001B[0md\u001B[0m\u001B[1;33m)\u001B[0m\u001B[1;33m\u001B[0m\u001B[1;33m\u001B[0m\u001B[0m\n",
      "\u001B[1;31mNameError\u001B[0m: name 'node_title' is not defined"
     ]
    }
   ],
   "source": [
    "from nltk.stem import WordNetLemmatizer\n",
    "lemmatizer = WordNetLemmatizer()\n",
    "import dash_core_components as dcc\n",
    "top_terms = lda.get_terms_with_best_topic().to_dict('records')\n",
    "\n",
    "data=lda.get_data()[lda.get_data()['title'] == node_title].split(' ')\n",
    "for d in data:\n",
    "    lemmat_d = lemmatizer.lemmatize(d)\n",
    "    color = 'black'\n",
    "    if lemmat_d in top_terms.keys():\n",
    "        color = top_terms[lemmat_d]\n",
    "\n",
    "\n",
    "\n",
    "html.Div(dcc.Markdown('''Am I red yet?'''), style={'color':'red'})\n",
    "\n",
    "#print(lda.get_terms_with_best_topic())"
   ]
  },
  {
   "cell_type": "code",
   "execution_count": null,
   "metadata": {
    "pycharm": {
     "name": "#%%\n"
    }
   },
   "outputs": [],
   "source": [
    "lda.lda_get_state().__dict__['sstats'] = 1\n",
    "\n",
    "lda.lda_get_state().__dict__['sstats']\n",
    "#.__dict__['eta']"
   ]
  },
  {
   "cell_type": "code",
   "execution_count": null,
   "metadata": {},
   "outputs": [],
   "source": [
    "lda.lda_get_state().__dict__"
   ]
  },
  {
   "cell_type": "code",
   "execution_count": null,
   "metadata": {
    "pycharm": {
     "name": "#%%\n"
    }
   },
   "outputs": [],
   "source": [
    "\n",
    "#lda.lda_get_state()['sstats']\n",
    "\n",
    "lda.lda_get_state().__dict__"
   ]
  },
  {
   "cell_type": "code",
   "execution_count": null,
   "metadata": {
    "pycharm": {
     "name": "#%%\n"
    }
   },
   "outputs": [],
   "source": [
    "lda.lda_get_lda_model().__dict__"
   ]
  },
  {
   "cell_type": "code",
   "execution_count": null,
   "metadata": {},
   "outputs": [],
   "source": [
    "lda.lda_get_lda_model().__dict__['num_topics'] = 4"
   ]
  },
  {
   "cell_type": "code",
   "execution_count": null,
   "metadata": {},
   "outputs": [],
   "source": [
    "lda.lda_get_lda_model().__dict__['alp']"
   ]
  },
  {
   "cell_type": "code",
   "execution_count": null,
   "metadata": {},
   "outputs": [],
   "source": [
    "lda.lda_get_lda_model().__dict__"
   ]
  },
  {
   "cell_type": "code",
   "execution_count": null,
   "metadata": {},
   "outputs": [],
   "source": []
  }
 ],
 "metadata": {
  "kernelspec": {
   "display_name": "Python 3",
   "language": "python",
   "name": "python3"
  },
  "language_info": {
   "codemirror_mode": {
    "name": "ipython",
    "version": 3
   },
   "file_extension": ".py",
   "mimetype": "text/x-python",
   "name": "python",
   "nbconvert_exporter": "python",
   "pygments_lexer": "ipython3",
   "version": "3.8.5"
  }
 },
 "nbformat": 4,
 "nbformat_minor": 4
}