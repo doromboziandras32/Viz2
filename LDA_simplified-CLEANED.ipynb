{
 "cells": [
  {
   "cell_type": "code",
   "execution_count": 13,
   "metadata": {},
   "outputs": [],
   "source": [
    "from LDA_simplified import LDA"
   ]
  },
  {
   "cell_type": "code",
   "execution_count": 14,
   "metadata": {},
   "outputs": [
    {
     "name": "stderr",
     "output_type": "stream",
     "text": [
      "C:\\Users\\Andras\\TU\\Visualization 2\\wordcloud\\LDA_simplified.py:471: SettingWithCopyWarning:\n",
      "\n",
      "\n",
      "A value is trying to be set on a copy of a slice from a DataFrame.\n",
      "Try using .loc[row_indexer,col_indexer] = value instead\n",
      "\n",
      "See the caveats in the documentation: https://pandas.pydata.org/pandas-docs/stable/user_guide/indexing.html#returning-a-view-versus-a-copy\n",
      "\n"
     ]
    }
   ],
   "source": [
    "#lda = LDA(5,'/Users/timi/Documents/TU/Python/Viz2/Project/aktuell/InfovisVAST-papers.jig.txt')\n",
    "#lda = LDA(5,'C:/Users/Andras/TU/Visualization 2/Viz2_Project/data/InfovisVAST-papers.jig.txt')\n",
    "lda = LDA(5,'InfovisVAST-papers.jig.txt')"
   ]
  },
  {
   "cell_type": "markdown",
   "metadata": {},
   "source": [
    "Build up the nodes and edges for the cytoscape network graph"
   ]
  },
  {
   "cell_type": "code",
   "execution_count": 15,
   "metadata": {},
   "outputs": [],
   "source": [
    "# extract the color from class settings: will be defined in stylesheet\n",
    "# the label is the top 4 words\n",
    "# position defined by lda\n",
    "def get_graph_topic_nodes():\n",
    "    return [{'data': {'id': id_, 'label': vals[0]},\n",
    "             'classes': f'topic_{vals[1]}'                                                                                        #,\"opacity\": 0.1\n",
    "            ,'position':{'x' : vals[2][0] , 'y' : vals[2][1]}\n",
    "            } for id_,vals in lda.get_topic_nodes_().items()                        \n",
    "        ]"
   ]
  },
  {
   "cell_type": "code",
   "execution_count": 16,
   "metadata": {},
   "outputs": [],
   "source": [
    "# document nodes: id by document id, class defined in stylesheet,\n",
    "# define the color and belonging\n",
    "def get_graph_document_nodes():\n",
    "    return [                       \n",
    "            {'data': {'id': id_,'size': 1000}, \n",
    "             'style': {'shape': 'circle'},\n",
    "             'classes': vals[1]\n",
    "             #vals[1]\n",
    "            } for id_,vals in lda.get_doc_nodes_().items()                        \n",
    "        ]\n"
   ]
  },
  {
   "cell_type": "code",
   "execution_count": 17,
   "metadata": {},
   "outputs": [],
   "source": [
    "# document edges based on cosine similarity\n",
    "def get_graph_cos_sim_edges():\n",
    "        return [\n",
    "            {'data': {'source': f[0], 'target': f[1],'label': f'{f[0]} -> {f[1]}'}} for f in lda.get_edges_()\n",
    "        ]"
   ]
  },
  {
   "cell_type": "code",
   "execution_count": 18,
   "metadata": {},
   "outputs": [],
   "source": [
    "# edges between the  topics and the related documents: they are invisible\n",
    "def get_doc_topic_edges():\n",
    "    return  [\n",
    "            {'data': {'source': id_, 'target': vals[2],'label': f'{id_} -> {vals[2]}',\"edgeLength\":200, 'size': 5},\n",
    "            'style': {'line-color': 'white', \"opacity\": 0}}  for id_,vals in lda.get_doc_nodes_().items() \n",
    "        ]"
   ]
  },
  {
   "cell_type": "code",
   "execution_count": 19,
   "metadata": {},
   "outputs": [],
   "source": [
    "# Update stylessheet:  define all the new clusters class settings\n",
    "# after the update_lda step e.g.\n",
    "def update_stylesheet():\n",
    "    colors = sorted(set([vals[1] for id_,vals in lda.get_doc_nodes_().items()]))\n",
    "    #get the new colors for the topics and the nodes\n",
    "    node_classes = [{\n",
    "                    'selector': f'.{c}',\n",
    "                    'style': {\n",
    "                        'background-color': c\n",
    "                    }\n",
    "                } for c in colors]\n",
    "    \n",
    "    topic_classes = [{\n",
    "                    'selector': f'.topic_{c}',\n",
    "                    'style': { 'border-color': c,\n",
    "               'border-width': 2,        \n",
    "               'background-color': 'white',\n",
    "                'shape': 'rectangle','content': 'data(label)','text-halign':'center',\n",
    "                'text-valign':'center','text-wrap': 'wrap','width':'label','height':'label'}\n",
    "                }for c in colors     ]\n",
    "\n",
    "    \n",
    "    return node_classes + topic_classes   # Class selectors\n",
    "                 \n",
    "                           \n",
    "            "
   ]
  },
  {
   "cell_type": "code",
   "execution_count": 20,
   "metadata": {
    "pycharm": {
     "name": "#%%\n"
    }
   },
   "outputs": [],
   "source": [
    "#prepare the data for the cluster summary view\n",
    "def build_cluster_summary_view():\n",
    "    clust = 'Clusters'\n",
    "    labels = [clust]\n",
    "    parents = ['']\n",
    "    marker_colors = [\"white\"]\n",
    "    text_info = ['']\n",
    "    for id_,vals in lda.get_topic_nodes_().items():\n",
    "        labels.append(id_)\n",
    "        text_info.append(vals[0].replace('\\n','<br>'))\n",
    "        parents.append(clust)\n",
    "        marker_colors.append(vals[1])\n",
    "    clust_sum_view = dict()\n",
    "    clust_sum_view['labels'] =  labels\n",
    "    clust_sum_view['parents'] =  parents\n",
    "    clust_sum_view['marker_colors'] =  marker_colors\n",
    "    clust_sum_view['text_info'] =  text_info\n",
    "    return  clust_sum_view\n",
    "\n"
   ]
  },
  {
   "cell_type": "code",
   "execution_count": 21,
   "metadata": {
    "pycharm": {
     "name": "#%%\n"
    }
   },
   "outputs": [],
   "source": [
    "#Prepare the checklist for the merge cluster functionality\n",
    "def build_cluster_merge_list():\n",
    "    clusters = []\n",
    "    for k in lda.get_topic_nodes().keys():\n",
    "        clusters.append({'label': k, 'value': k.replace('Cluster ', '')})\n",
    "\n",
    "    return clusters\n"
   ]
  },
  {
   "cell_type": "code",
   "execution_count": 22,
   "metadata": {},
   "outputs": [
    {
     "name": "stdout",
     "output_type": "stream",
     "text": [
      "Dash app running on http://127.0.0.1:8051/\n"
     ]
    }
   ],
   "source": [
    "initial_sum_view = build_cluster_summary_view()\n",
    "from jupyter_dash import JupyterDash  #  pip install jupyter-dash\n",
    "import dash_cytoscape as cyto  # pip install dash-cytoscape==0.2.0 or higher\n",
    "import dash_html_components as html\n",
    "import dash_core_components as dcc\n",
    "import plotly.express as px\n",
    "from dash.dependencies import Output, Input,State\n",
    "\n",
    "\n",
    "\n",
    "import dash_bootstrap_components as dbc #pip install dash-bootstrap-components\n",
    "\n",
    "import dash\n",
    "import plotly.graph_objects as go\n",
    "import dash_dangerously_set_inner_html\n",
    "\n",
    "\n",
    "\n",
    "external_stylesheets = ['https://codepen.io/chriddyp/pen/bWLwgP.css']\n",
    "# SKETCHY\n",
    "app = JupyterDash(__name__, external_stylesheets=[dbc.themes.MATERIA], suppress_callback_exceptions=True)\n",
    "\n",
    "\n",
    "app.layout = html.Div([html.Div(html.H1('iVisClustering: An Interactive Visual Document Clustering via Topic Modeling', style={'backgroundColor':'lightgray'})),\n",
    "    ############## FIRST ROW ########################\n",
    "    dbc.Row([\n",
    "        dbc.Col([\n",
    "            #html.Div(id='empty-div', children=''),\n",
    "            html.P(id='cytoscape-tapNodeData-output'),\n",
    "            html.P(id='cytoscape-mouseoverNodeData-output'),\n",
    "            dcc.Location(id='url', refresh=True),\n",
    "            html.H3('Cluster Relation View'),   \n",
    "            html.Br(),\n",
    "            html.A(html.Button('Reset settings', id = 'reset_button', n_clicks = 0),href='/'),\n",
    "            html.Br(),\n",
    "            html.I(\"Number of clusters (min: 2 , max: 10)\"),\n",
    "            dcc.Input(id=\"input1\", type=\"number\", min = 2, value = 5, max = 10),\n",
    "            dbc.Modal([dbc.ModalHeader(\"Warning!\"),\n",
    "                       dbc.ModalBody(\"Number of clusters should be within 2 and 10\"),\n",
    "                       dbc.ModalFooter(dbc.Button(\n",
    "                                            \"Close\", id=\"close_warning_num_of_cluster\", className=\"ml-auto\"\n",
    "                                        )\n",
    "                                    ),\n",
    "                       ],\n",
    "            id=\"number_of_topics_warning\",\n",
    "            centered=True),\n",
    "            html.Button(\"Update\", id=\"update_button\", n_clicks = 0),\n",
    "            html.Br(),\n",
    "            html.I(\"Cosine similarity:\"),\n",
    "        html.Div(id=\"output\"),\n",
    "            dcc.Slider(\n",
    "                id='my-daq-slider-ex',\n",
    "                min=0, max=1, value=0.4, step = 0.05\n",
    "            ),\n",
    "            html.Br(),\n",
    "            dcc.Interval(id='refresh', interval=1),\n",
    "            html.I(\"Delete marked node/document:\"),\n",
    "           html.Button(\"Delete\", id=\"delete_button\",  n_clicks = 0)],width = 2),\n",
    "            dbc.Modal([dbc.ModalHeader(\"Warning!\"),\n",
    "                           dbc.ModalBody(\"You have to select a document (node in graphs, except document summary) to delete\"),\n",
    "                               dbc.ModalFooter(dbc.Button(\n",
    "                                                \"Close\", id=\"close_delete_document_warning\", className=\"ml-auto\"\n",
    "                                            )\n",
    "                                        ),\n",
    "                            ],\n",
    "                id=\"delete_document_warning\",\n",
    "                centered=True),\n",
    "        dbc.Col([\n",
    "           cyto.Cytoscape(\n",
    "                id='cytoscape',\n",
    "                minZoom=0.2,\n",
    "                maxZoom=2,\n",
    "                autoRefreshLayout = True,                \n",
    "                layout={'name': 'cose', 'animate': True},        \n",
    "                style={'width': '100%', 'height': '400px'},\n",
    "                elements=  get_graph_topic_nodes() + get_graph_document_nodes() + get_graph_cos_sim_edges() + get_doc_topic_edges(),\n",
    "                stylesheet = update_stylesheet()\n",
    "        \n",
    "        \n",
    "    )\n",
    "\n",
    "\n",
    "\n",
    "    ], width = 3),\n",
    "        ###### intitialise the place for the cluster summary view,\n",
    "        ###### update it with a callback\n",
    "        dbc.Col([html.Div([\n",
    "            html.H3('Cluster Summary View'),\n",
    "            html.Div([dcc.Graph(id = 'clust_sum_graph',\n",
    "                                #style={'width': '40vh', 'height': '40vh',},\n",
    "                                style={'width': '100%', 'height': '40vh',},\n",
    "                                figure= go.Figure(data = go.Treemap(labels  = initial_sum_view['labels'],\n",
    "                                                                    parents = initial_sum_view['parents'],\n",
    "                                                                    marker_colors =  initial_sum_view['marker_colors'],\n",
    "                                                                    text = initial_sum_view['text_info']),\n",
    "                                                  layout = go.Layout(margin={'t': 0, 'l': 0, 'r': 5, 'b' : 2})))])\n",
    "            ,html.Div([ html.Button(\"Delete Cluster\", id=\"delete_cluster_button\",  n_clicks = 0),\n",
    "                        dbc.Modal([\n",
    "                                    dbc.ModalHeader(\"Warning!\"),\n",
    "                                    dbc.ModalBody([\n",
    "                                        html.Div(\"You have to select a cluster first from the Cluster summary view\"),\n",
    "                                        html.Div(\"AND\"),\n",
    "                                        html.Div(\"Number of clusters should remain at least 2\")\n",
    "                                        ]),\n",
    "                                    dbc.ModalFooter(\n",
    "                                        dbc.Button(\n",
    "                                            \"Close\", id=\"close-warning\", className=\"ml-auto\"\n",
    "                                        )\n",
    "                                    ),\n",
    "                                ],\n",
    "                                    id=\"cluster_delete_failed_warning\",\n",
    "                                    centered=True,\n",
    "        )])])\n",
    "        ], width = 2),\n",
    "        dbc.Col([html.Div([html.I(\"Merge clusters:\"),\n",
    "                            html.Br(),\n",
    "                           dcc.Checklist(\n",
    "                                options = build_cluster_merge_list(),\n",
    "                                id = 'cluster_merge_checklist'\n",
    "                           ),\n",
    "                           html.Button(\"Merge Clusters\", id=\"merge_cluster_button\",  n_clicks = 0),\n",
    "                           dbc.Modal([\n",
    "                                        dbc.ModalHeader(\"Warning!\"),\n",
    "                                        dbc.ModalBody(\"You have to select one or more (at most k-1) clusters from the checklist, and the number of clusters must remain at least 2\"),\n",
    "                                        dbc.ModalFooter(\n",
    "                                            dbc.Button(\n",
    "                                                \"Close\", id=\"close_cluster_merge_warning\", className=\"ml-auto\"\n",
    "                                            )\n",
    "                                        ),\n",
    "                                    ],\n",
    "                            id=\"cluster_merge_failed_warning\",\n",
    "                            centered=True,\n",
    "            )])],width = 1),\n",
    "\n",
    "        dbc.Col([html.Div([\n",
    "            html.Div([],id='bar_chart')\n",
    "        ], style= {'display': 'none'}, id = 'term_weight_barplot_div')], width = 2)\n",
    "    ],\n",
    "    style = {'padding': 10}\n",
    "    ),\n",
    "\n",
    "     ## paralell coordinates plot\n",
    "    dbc.Row([\n",
    "        dbc.Col([\n",
    "            html.H3('Parallel Coordinates View'),\n",
    "            dcc.Graph(id='parallel_coord', \n",
    "                      style={'width': '130vh', 'height': '50vh'},\n",
    "                      figure = go.Figure(data= \n",
    "            go.Parcoords(\n",
    "                line = dict(color = lda.get_parall_coord_df()['Dominant_Topic'],\n",
    "                           colorscale = list(lda.get_colors().values())[:lda.get_k()]),\n",
    "                dimensions = [                       \n",
    "                    dict(range = [0,1],\n",
    "                        label = f'Cluster {i}', \n",
    "                        values = lda.get_parall_coord_df()[i])\n",
    "                     for i in range(lda.get_k())                      \n",
    "                ]\n",
    "\n",
    "            )\n",
    "            ))                                  \n",
    "        ], width = 5),\n",
    "        dbc.Col([ html.I(\"Set threshold for the probability, that a document belongs to the cluster :\"),\n",
    "                 html.I(\"Filter out noisy documents\"),\n",
    "                    dcc.Slider(\n",
    "                id='pc_slider',\n",
    "                min=0, max=1, value=0.4, step = 0.05\n",
    "            ),\n",
    "        ], width = 2),\n",
    "        dbc.Col([html.Div([\n",
    "            html.H3('Word Cloud'),\n",
    "            html.Div([],id='word_cloud')\n",
    "        ], style= {'display': 'none'}, id = 'word_cloud_style')], width = 5)\n",
    "         \n",
    "    ]),\n",
    "    ########### THIRD ROW #####################    \n",
    "                     \n",
    "    dbc.Row([\n",
    "        dbc.Col([\n",
    "                html.Div([\n",
    "            html.Div([],id='dt')\n",
    "\n",
    "        ], style= {'display': 'none'}, id = 'dt_input')], width = 8)\n",
    "        ])])\n",
    "    \n",
    "    \n",
    "   \n",
    "    \n",
    "        \n",
    "#])    \n",
    "\n",
    "  \n",
    "\n",
    "######### Number of clusters ################    \n",
    "\n",
    "\n",
    "@app.callback(    \n",
    "    Output('cytoscape', 'stylesheet'),        \n",
    "    Output('cytoscape','elements'),\n",
    "    Output('cytoscape','layout'),\n",
    "    Output('parallel_coord','figure'),\n",
    "    Output('clust_sum_graph','figure'),\n",
    "    Output('cluster_delete_failed_warning','is_open'),\n",
    "    Output('number_of_topics_warning','is_open'),\n",
    "    Output('delete_document_warning','is_open'),\n",
    "    Output('cluster_merge_failed_warning','is_open'),\n",
    "    Output('cluster_merge_checklist','value'),\n",
    "    Output('cluster_merge_checklist','options'),    \n",
    "    Input('my-daq-slider-ex', 'value'),\n",
    "    Input(\"update_button\", \"n_clicks\"),\n",
    "    Input('delete_button', \"n_clicks\"),\n",
    "    Input('cytoscape','tapNodeData'),\n",
    "    Input('cytoscape', 'selectedNodeData'),\n",
    "    Input('pc_slider','value'),\n",
    "    Input('clust_sum_graph','clickData'),\n",
    "    Input('reset_button',\"n_clicks\"),\n",
    "    Input('delete_cluster_button', \"n_clicks\"),\n",
    "    Input('merge_cluster_button', \"n_clicks\"),\n",
    "    Input(\"close-warning\", \"n_clicks\"),\n",
    "    Input(\"close_warning_num_of_cluster\", \"n_clicks\"),\n",
    "    Input(\"close_delete_document_warning\", \"n_clicks\"),\n",
    "    Input(\"close_cluster_merge_warning\", \"n_clicks\"),\n",
    "    State('parallel_coord','figure'),\n",
    "    State(\"input1\", \"value\"),\n",
    "    State('cytoscape','stylesheet'),\n",
    "    State('cytoscape', 'elements'),\n",
    "    State('cytoscape', 'layout'),\n",
    "    State('clust_sum_graph','figure'),\n",
    "    State('clust_sum_graph','clickData'),\n",
    "    State('cluster_delete_failed_warning','is_open'),\n",
    "    State('number_of_topics_warning','is_open'),\n",
    "    State('delete_document_warning','is_open'),\n",
    "    State('cluster_merge_failed_warning','is_open'),\n",
    "    State('cluster_merge_checklist','value'),\n",
    "    State('cluster_merge_checklist','options'),\n",
    "\n",
    "    prevent_initial_call = True\n",
    "    \n",
    ")\n",
    "def update_graph(value_slider, update_n_button,delete_button, tapNodeData,selectedNodeData,\n",
    "                 pc_slider,clust_sum_data,reset_button,delete_cluster_button,merge_cluster_button,clust_delete_warn_button,\n",
    "                 close_warning_num_of_cluster,close_delete_document_warning,close_cluster_merge_warning,\n",
    "                 pc_figure,cluster_number_value, stylesheet, elements,layout,clust_sum_graph, clust_sum_latest,\n",
    "                 cluster_delete_failed_warning,number_of_topics_warning,delete_document_warning,cluster_merge_warning,\n",
    "                 cluster_merge_checklist_vals, cluster_merge_checklist_opts):\n",
    "\n",
    "    ctx = dash.callback_context\n",
    "    figure = pc_figure\n",
    "    clust_sum_figure = clust_sum_graph\n",
    "    cluster_delete_warn_dialog = cluster_delete_failed_warning\n",
    "    update_cluster_warn_dialog = number_of_topics_warning\n",
    "    document_delete_warn_dialog = delete_document_warning\n",
    "    close_cluster_merge_warning_dialog = cluster_merge_warning\n",
    "    clicked_element = ctx.triggered[0]['prop_id'].split('.')[0]\n",
    "    clust_opts = cluster_merge_checklist_opts \n",
    "\n",
    "    clust_vals = cluster_merge_checklist_vals if cluster_merge_checklist_vals is not None else []\n",
    "\n",
    "    #################### cosine similarity ############################\n",
    "    if  clicked_element == 'my-daq-slider-ex':\n",
    "        slider_value =  ctx.triggered[0]['value']\n",
    "        lda.set_cosine_sim_treshold(slider_value)\n",
    "        ## need to update the elements of the graph\n",
    "        elements = get_graph_topic_nodes() + get_graph_document_nodes() + get_graph_cos_sim_edges() + get_doc_topic_edges()\n",
    "\n",
    "    #################  number of clusters ##############################    \n",
    "    elif clicked_element == 'update_button':\n",
    "        if cluster_number_value is not None:\n",
    "            ### elements need to be updated\n",
    "            lda.set_number_of_clusters(cluster_number_value)\n",
    "            lda.update_lda()\n",
    "            elements = get_graph_topic_nodes() + get_graph_document_nodes() + get_graph_cos_sim_edges() + get_doc_topic_edges()\n",
    "            ### layout of the graph needs to be updated\n",
    "            layout = {'name': 'cose'}\n",
    "\n",
    "            ### parallel coordinates plot needs to be updated\n",
    "            ### according to the number of clusters\n",
    "            figure=figure = go.Figure(data=\n",
    "                go.Parcoords(\n",
    "                    line = dict(color = lda.get_parall_coord_df()['Dominant_Topic'],\n",
    "                               colorscale = list(lda.get_colors().values())[:lda.get_k()]),\n",
    "                    dimensions = [\n",
    "                        dict(range = [0,1],\n",
    "                            label = f'Cluster {i}',\n",
    "                            values = lda.get_parall_coord_df()[i])\n",
    "                         for i in range(lda.get_k())\n",
    "                    ]))\n",
    "\n",
    "            ### update stylesheet\n",
    "            stylesheet = update_stylesheet()\n",
    "\n",
    "            #update cluster summary view\n",
    "            update_clust_summary = build_cluster_summary_view()\n",
    "            clust_sum_figure =  go.Figure(go.Treemap(labels  = update_clust_summary['labels'],\n",
    "                                                         parents = update_clust_summary['parents'],\n",
    "                                                         marker_colors =  update_clust_summary['marker_colors'],\n",
    "                                                         text = update_clust_summary['text_info']),\n",
    "                                              layout = go.Layout(margin={'t': 0, 'l': 0, 'r': 15, 'b' : 2}))\n",
    "\n",
    "                                                   \n",
    "            clust_opts = build_cluster_merge_list() \n",
    "            clust_vals = []\n",
    "\n",
    "            lda.set_last_selected_cluster_from_clust_sum_view(None)\n",
    "            lda.set_last_selected_cluster(None)\n",
    "\n",
    "        else: #show warning dialog if the input value is out of the limit\n",
    "            update_cluster_warn_dialog = True\n",
    "    ################### highlight rows #################################    \n",
    "    # the choosen document will be highlighted on the parallel coordinates plot\n",
    "    elif clicked_element == 'cytoscape' and tapNodeData is not None: \n",
    "        ## recolor the choosen line\n",
    "        color_list = list(lda.get_colors().values())[:lda.get_k()]\n",
    "        color_list.append('black')\n",
    "        df = lda.get_parall_coord_df()\n",
    "        df = df.reset_index()\n",
    "        df['index'] = range(1, len(df) + 1)\n",
    "        df.set_index('index')\n",
    "        df.loc[tapNodeData['id'],'Dominant_Topic'] = lda.get_k()\n",
    "        \n",
    "        figure= go.Figure(data= \n",
    "            go.Parcoords(\n",
    "                line = dict(color = df['Dominant_Topic'],\n",
    "                           colorscale = color_list),\n",
    "                dimensions = [                       \n",
    "                    dict(range = [0,1],\n",
    "                        label = f'Cluster {i}', \n",
    "                        values = df[i])\n",
    "                     for i in range(lda.get_k())                      \n",
    "                ]))\n",
    "        \n",
    "    ################## delete documents #################################\n",
    "    elif clicked_element == 'delete_button':\n",
    "        #If no node selected before, the input variable should be None, we have to handle it\n",
    "        if (tapNodeData is not None and 'Cluster' not in tapNodeData['id']):\n",
    "            lda.remove_document(int(tapNodeData['id']))\n",
    "            elements = get_graph_topic_nodes() + get_graph_document_nodes() + get_graph_cos_sim_edges() + get_doc_topic_edges()\n",
    "\n",
    "        else: #Show warning dialog\n",
    "            document_delete_warn_dialog = True\n",
    "            \n",
    "\n",
    "    ######### Filter the paralell coordinates by the given threshold #####\n",
    "    elif clicked_element == 'pc_slider':\n",
    "            #print('pc_slider triggered')\n",
    "            lda.filter_parall_coords_topic_contribution(ctx.triggered[0]['value'])\n",
    "            #parall_coord_input = lda.get_filtered_topics_df()\n",
    "            #filtered_parall_coords = lda.get_parall_coord_df().loc[lda.get_filtered_topics_df()['Title']]\n",
    "            filtered_parall_coords = lda.get_filtered_parall_coords_df()\n",
    "            figure = go.Figure(data= go.Parcoords(\n",
    "                line = dict(color = filtered_parall_coords['Dominant_Topic'],\n",
    "                           colorscale = list(lda.get_colors().values())[:lda.get_k()]),\n",
    "                dimensions = [                       \n",
    "                    dict(range = [0,1],\n",
    "                        label = f'Cluster {i}', \n",
    "                        values = filtered_parall_coords[i])\n",
    "                     for i in range(lda.get_k())                      \n",
    "                ]))\n",
    "    elif clicked_element == 'clust_sum_graph':\n",
    "        #print('clust_sum_graph')\n",
    "        print(clust_sum_data)\n",
    "        #print(clust_sum_data['points'][0]['label'])\n",
    "        lda.set_last_selected_cluster_from_clust_sum_view(clust_sum_data['points'][0]['label'])\n",
    "        #set currently selected cluster from summary view in class aas actual in order to delete\n",
    "        \n",
    "    elif clicked_element == 'delete_cluster_button':\n",
    "        if clust_sum_latest is None  or lda.get_k() == 2 or lda.get_last_selected_cluster_from_clust_sum_view() is None:\n",
    "            #show the warning that no cluster selected before in the cluster summary view\n",
    "            cluster_delete_warn_dialog = True\n",
    "        else:            \n",
    "            #print(clust_sum_latest['points'][0]['label'])\n",
    "\n",
    "            lda.delete_cluster()\n",
    "            elements = get_graph_topic_nodes() + get_graph_document_nodes() + get_graph_cos_sim_edges() + get_doc_topic_edges()\n",
    "            ### layout of the graph needs to be updated\n",
    "            layout = {'name': 'cose'}\n",
    "\n",
    "            ### parallel coordinates plot needs to be updated\n",
    "            ### according to the number of clusters\n",
    "            figure=figure = go.Figure(data=\n",
    "                go.Parcoords(\n",
    "                    line = dict(color = lda.get_parall_coord_df()['Dominant_Topic'],\n",
    "                               colorscale = list(lda.get_colors().values())[:lda.get_k()]),\n",
    "                    dimensions = [\n",
    "                        dict(range = [0,1],\n",
    "                            label = f'Cluster {i}',\n",
    "                            values = lda.get_parall_coord_df()[i])\n",
    "                         for i in range(lda.get_k())\n",
    "                    ]))\n",
    "\n",
    "            ### update stylesheet\n",
    "            stylesheet = update_stylesheet()\n",
    "\n",
    "            #update cluster summary view\n",
    "            update_clust_summary = build_cluster_summary_view()\n",
    "            clust_sum_figure =  go.Figure(go.Treemap(labels  = update_clust_summary['labels'],\n",
    "                                                     parents = update_clust_summary['parents'],\n",
    "                                                     marker_colors =  update_clust_summary['marker_colors'],\n",
    "                                                     text = update_clust_summary['text_info']),\n",
    "                                          layout = go.Layout(margin={'t': 0, 'l': 0, 'r': 5, 'b' : 2}))\n",
    "            \n",
    "\n",
    "            clust_opts = build_cluster_merge_list()\n",
    "            clust_vals = []\n",
    "\n",
    "            lda.set_last_selected_cluster_from_clust_sum_view(None)\n",
    "            lda.set_last_selected_cluster(None)\n",
    "\n",
    "            #print(clust_opts)\n",
    "    elif clicked_element == \"merge_cluster_button\":\n",
    "            if cluster_merge_checklist_vals is None or not(1 < len(cluster_merge_checklist_vals) < lda.get_k()):\n",
    "                close_cluster_merge_warning_dialog = True\n",
    "            else:\n",
    "                lda.merge_cluster(cluster_merge_checklist_vals)\n",
    "                elements = get_graph_topic_nodes() + get_graph_document_nodes() + get_graph_cos_sim_edges() + get_doc_topic_edges()\n",
    "            ### layout of the graph needs to be updated\n",
    "                layout = {'name': 'cose'}\n",
    "\n",
    "                ### parallel coordinates plot needs to be updated\n",
    "                ### according to the number of clusters\n",
    "                figure=figure = go.Figure(data=\n",
    "                    go.Parcoords(\n",
    "                        line = dict(color = lda.get_parall_coord_df()['Dominant_Topic'],\n",
    "                                   colorscale = list(lda.get_colors().values())[:lda.get_k()]),\n",
    "                        dimensions = [\n",
    "                            dict(range = [0,1],\n",
    "                                label = f'Cluster {i}',\n",
    "                                values = lda.get_parall_coord_df()[i])\n",
    "                             for i in range(lda.get_k())\n",
    "                        ]))\n",
    "\n",
    "                ### update stylesheet\n",
    "                stylesheet = update_stylesheet()\n",
    "\n",
    "                #update cluster summary view\n",
    "                update_clust_summary = build_cluster_summary_view()\n",
    "                clust_sum_figure =  go.Figure(go.Treemap(labels  = update_clust_summary['labels'],\n",
    "                                                         parents = update_clust_summary['parents'],\n",
    "                                                         marker_colors =  update_clust_summary['marker_colors'],\n",
    "                                                         text = update_clust_summary['text_info']),\n",
    "                                              layout = go.Layout(margin={'t': 0, 'l': 0, 'r': 5, 'b' : 2}))\n",
    "\n",
    "\n",
    "                clust_opts = build_cluster_merge_list()\n",
    "                clust_vals = []\n",
    "\n",
    "                lda.set_last_selected_cluster_from_clust_sum_view(None)\n",
    "                lda.set_last_selected_cluster(None)\n",
    "\n",
    "\n",
    "    elif clicked_element in [\"close-warning\",\"close_warning_num_of_cluster\",\"close_delete_document_warning\",\"close_cluster_merge_warning\"]:\n",
    "            if clicked_element == \"close-warning\" : cluster_delete_warn_dialog = False\n",
    "            elif clicked_element == \"close_warning_num_of_cluster\": update_cluster_warn_dialog = False\n",
    "            elif clicked_element == \"close_cluster_merge_warning\": close_cluster_merge_warning_dialog = False\n",
    "            else: document_delete_warn_dialog = False\n",
    "\n",
    "    elif clicked_element == 'reset_button':\n",
    "        lda.reset_settings()\n",
    "        elements = get_graph_topic_nodes() + get_graph_document_nodes() + get_graph_cos_sim_edges() + get_doc_topic_edges()\n",
    "        ### layout of the graph needs to be updated\n",
    "        layout = {'name': 'cose'}\n",
    "\n",
    "        ### parallel coordinates plot needs to be updated\n",
    "        ### according to the number of clusters\n",
    "        figure=figure = go.Figure(data=\n",
    "            go.Parcoords(\n",
    "                line = dict(color = lda.get_parall_coord_df()['Dominant_Topic'],\n",
    "                           colorscale = list(lda.get_colors().values())[:lda.get_k()]),\n",
    "                dimensions = [\n",
    "                    dict(range = [0,1],\n",
    "                        label = f'Cluster {i}',\n",
    "                        values = lda.get_parall_coord_df()[i])\n",
    "                     for i in range(lda.get_k())\n",
    "                ]))\n",
    "\n",
    "        ### update stylesheet\n",
    "        stylesheet = update_stylesheet()\n",
    "\n",
    "        #update cluster summary view\n",
    "        update_clust_summary = build_cluster_summary_view()\n",
    "        clust_sum_figure =  go.Figure(go.Treemap(labels  = update_clust_summary['labels'],\n",
    "                                                     parents = update_clust_summary['parents'],\n",
    "                                                     marker_colors =  update_clust_summary['marker_colors'],\n",
    "                                                     text = update_clust_summary['text_info']),\n",
    "                                          layout = go.Layout(margin={'t': 0, 'l': 0, 'r': 15, 'b' : 2}))\n",
    "\n",
    "        clust_opts = build_cluster_merge_list()\n",
    "        clust_vals = []\n",
    "\n",
    "    else:\n",
    "        return dash.no_update\n",
    "\n",
    "\n",
    "            \n",
    "    return [stylesheet, elements,layout, figure,clust_sum_figure,cluster_delete_warn_dialog,update_cluster_warn_dialog,document_delete_warn_dialog,close_cluster_merge_warning_dialog,clust_vals,clust_opts]\n",
    "\n",
    "@app.callback(\n",
    "    Output('empty-div', 'children'),\n",
    "    Input('cytoscape', 'mouseoverNodeData'),\n",
    "    Input('cytoscape','mouseoverEdgeData'),\n",
    "    Input('cytoscape','tapEdgeData'),\n",
    "    Input('cytoscape','tapNodeData'),\n",
    "    Input('cytoscape','selectedNodeData')\n",
    ")\n",
    "def update_layout(mouse_on_node, mouse_on_edge, tap_edge, tap_node, snd):\n",
    "    print(\"Mouse on Node: {}\".format(mouse_on_node))\n",
    "    print(\"Mouse on Edge: {}\".format(mouse_on_edge))\n",
    "    print(\"Tapped Edge: {}\".format(tap_edge))\n",
    "    print(\"Tapped Node: {}\".format(tap_node))\n",
    "    print(\"------------------------------------------------------------\")\n",
    "    print(\"All selected Nodes: {}\".format(snd))\n",
    "    print(\"------------------------------------------------------------\")\n",
    "\n",
    "    return 'see print statement for nodes and edges selected.'\n",
    "\n",
    "\n",
    "# Highlight document words:\n",
    "# https://www.machinelearningplus.com/nlp/topic-modeling-visualization-how-to-present-results-lda-models/#6.-What-is-the-Dominant-topic-and-its-percentage-contribution-in-each-document\n",
    "\n",
    "############################  Term-weight view   #######################\n",
    "@app.callback(\n",
    "    Output('bar_chart', 'children'),\n",
    "    Output('term_weight_barplot_div', 'style'),\n",
    "    Output('word_cloud_style', \"style\"),\n",
    "    Output('word_cloud', \"children\"),\n",
    "    Input('cytoscape', 'tapNodeData'),\n",
    "\n",
    "    prevent_initial_call = True\n",
    ")\n",
    "def update_barplot(tapNodeData):\n",
    "    ctx = dash.callback_context\n",
    "    style = {'display': 'block'}\n",
    "    if 'Cluster' in tapNodeData['id']:\n",
    "        cluster_id = int(tapNodeData['id'].replace('Cluster ',''))\n",
    "        lda.set_last_selected_cluster(cluster_id)\n",
    "        \n",
    "        data = lda.get_top_n_word_probs_for_topic_i(cluster_id, value).sort_values(by = \"Probabilities\",\n",
    "                                                                            ascending = False)\n",
    "        table_data = data.to_dict('records')\n",
    "        ## change table, according to the cluster choosen\n",
    "\n",
    "        ## change the barplot, accoring to the cluster choosen\n",
    "        bar_color = lda.get_colors()[lda.get_last_selected_cluster()]\n",
    "        figure=html.Div([dcc.Graph(id='horizontal_bar_plot', \n",
    "                      style={'width': '150%', 'height': '400px'},\n",
    "                      figure = px.bar(lda.get_top_n_word_probs_for_topic_i(cluster_id, value), \n",
    "                        x = \"Probabilities\",\n",
    "                        y = \"Words\",\n",
    "                        color_discrete_sequence = [bar_color] * len(data),\n",
    "                        orientation='h'\n",
    "                        ))\n",
    "                    ])\n",
    "        data = go.Scatter(\n",
    "                             x=[random.random() for i in random.choices(range(30), k=30)],\n",
    "                             y=[random.random() for i in random.choices(range(30), k=30)],\n",
    "                             mode='text',\n",
    "                             text=lda.get_top_n_word_probs_for_topic_i(lda.get_last_selected_cluster(), 20).Words,\n",
    "                             marker={'opacity': 0.3},\n",
    "                             textfont={'size': lda.get_top_n_word_probs_for_topic_i(lda.get_last_selected_cluster(), 20).Probabilities * 2000,\n",
    "                                   'color': lda.get_colors()[lda.get_last_selected_cluster()]})\n",
    "\n",
    "        layout = go.Layout({\"plot_bgcolor\": \"rgba(0, 0, 0,0)\",'xaxis': {'showgrid': False, 'showticklabels': False, 'zeroline': False},\n",
    "                                            'yaxis': {'showgrid': False, 'showticklabels': False, 'zeroline': False}})\n",
    "\n",
    "        word_cloud = html.Div([dcc.Graph(id='word_cloud_plot',\n",
    "                      figure = go.Figure(data=[data], layout=layout)\n",
    "                        )])\n",
    "\n",
    "        \n",
    "    else:\n",
    "        return dash.no_update\n",
    "\n",
    "\n",
    "\n",
    "    return [figure,style, style, word_cloud]\n",
    "\n",
    "\n",
    "    \n",
    "    \n",
    "######## Show the documents from a choosen cluster in the document view #########\n",
    "\n",
    "@app.callback(\n",
    "    Output('dt', 'children'),\n",
    "    Output('dt_input', 'style'),\n",
    "    Input('cytoscape', 'tapNodeData'),\n",
    "    prevent_initial_call = True    \n",
    ")\n",
    "def update_result(tapNodeData):\n",
    "    if tapNodeData is not None and 'Cluster' not in tapNodeData['id']:\n",
    "        node_title = lda.get_document_title_by_id(int(tapNodeData['id']))\n",
    "        data=lda.get_data()[lda.get_data()['title'] == node_title]\n",
    "        doc_with_higlighted_terms = lda.build_term_higlights(data)\n",
    "        child = html.Div(children = [dash_dangerously_set_inner_html.DangerouslySetInnerHTML(f'''<h2>{node_title}</h2>'''),\n",
    "                        html.Div([dash_dangerously_set_inner_html.DangerouslySetInnerHTML(doc_with_higlighted_terms)])])\n",
    "        style = {'display': 'block'}\n",
    "    else: \n",
    "        return dash.no_update\n",
    "    \n",
    "    return [child,style] \n",
    "    \n",
    "\n",
    "\n",
    "@app.callback(Output('cytoscape-tapNodeData-output', 'children'),\n",
    "                  Input('cytoscape', 'tapNodeData'),\n",
    "                prevent_initial_call = True\n",
    "              )\n",
    "def displayTapNodeData(tapNodeData):\n",
    "    tap_data = tapNodeData['id']\n",
    "    if 'Cluster' not in tap_data:\n",
    "        return \"You recently clicked/tapped the document: \" + lda.get_document_nodes()[tap_data][0]\n",
    "    else:\n",
    "        return \"You recently clicked/tapped cluster: \" + tap_data\n",
    "'''\n",
    "\n",
    "@app.callback(Output('cytoscape-tapEdgeData-output', 'children'),\n",
    "              Input('cytoscape', 'tapEdgeData'))\n",
    "def displayTapEdgeData(tapEdgeData):\n",
    "    if tapEdgeData:\n",
    "        edge =\n",
    "        return \"You recently clicked/tapped the edge between \" + tapEdgeData['source'].upper() + \" and \" + tapEdgeData['target'].upper()\n",
    "'''\n",
    "@app.callback(Output('cytoscape-mouseoverNodeData-output', 'children'),\n",
    "              Input('cytoscape', 'mouseoverNodeData'),\n",
    "                prevent_initial_call = True\n",
    "              )\n",
    "def displayTapNodeData(mouseoverNodeData):\n",
    "    hover_data = mouseoverNodeData['id']\n",
    "    if 'Cluster' not in  hover_data:\n",
    "        return \"You recently hovered over document: \" + lda.get_document_nodes()[hover_data][0]\n",
    "    else:\n",
    "         return \"You recently hovered cluster: \" + hover_data\n",
    "'''\n",
    "@app.callback(Output('cytoscape-mouseoverEdgeData-output', 'children'),\n",
    "              Input('cytoscape', 'mouseoverEdgeData'))\n",
    "def displayTapEdgeData(mouseoverEdgeData):\n",
    "    if mouseoverEdgeData:\n",
    "        return \"You recently hovered over the edge between \" + mouseoverEdgeData['source'].upper() + \" and \" + mouseoverEdgeData['target'].upper()\n",
    "'''\n",
    "#figure.layout.update(showlegend=False)\n",
    "app.run_server( port=8051, dev_tools_hot_reload=True)\n"
   ]
  },
  {
   "cell_type": "code",
   "execution_count": 23,
   "metadata": {},
   "outputs": [
    {
     "data": {
      "application/vnd.plotly.v1+json": {
       "config": {
        "plotlyServerURL": "https://plot.ly"
       },
       "data": [
        {
         "marker": {
          "opacity": 0.3
         },
         "mode": "text",
         "text": [
          "based",
          "analysis",
          "system",
          "technique",
          "graph",
          "information",
          "visual",
          "user",
          "visualization",
          "data"
         ],
         "textfont": {
          "color": "green",
          "size": [
           25.691576302051544,
           26.747602969408035,
           27.187366038560867,
           29.04641442000866,
           29.69597466289997,
           32.25632756948471,
           38.68166729807854,
           44.42862421274185,
           61.358727514743805,
           81.62007480859756
          ]
         },
         "type": "scatter",
         "x": [
          0.8180707849283838,
          0.44106680674248866,
          0.4199183170680869,
          0.8410561084634732,
          0.7579151785452114,
          0.687644953942044,
          0.13763433691936477,
          0.16994117771752137,
          0.25294475302506014,
          0.6310774075112618,
          0.650536368487935,
          0.8911743452534522,
          0.6581165610603783,
          0.6759861337513485,
          0.7976587978552597,
          0.22764011059597344,
          0.8194938959608025,
          0.36535261005950626,
          0.9304506814540013,
          0.044473358246093775,
          0.022031994170471525,
          0.4911100737722439,
          0.8667077655845387,
          0.8721263559937054,
          0.3103722036908789,
          0.6089676077291878,
          0.8471464785680684,
          0.09086293300486592,
          0.6161300564483826,
          0.4207660034520736
         ],
         "y": [
          0.6566250008616428,
          0.4244738609524764,
          0.5523217297593535,
          0.7175815194502392,
          0.9753896492816779,
          0.77258176078475,
          0.3006744969110836,
          0.4708814164894506,
          0.6381080911139776,
          0.5653938098504804,
          0.31355169865325083,
          0.775640100531144,
          0.3034013872838113,
          0.5412975035822442,
          0.21970933351470867,
          0.47054808984681773,
          0.2083986573139105,
          0.7577322876758064,
          0.06397293449834096,
          0.11085028173238598,
          0.32793217851542966,
          0.7953280267548489,
          0.7165822843031622,
          0.3714783740709381,
          0.6074431839235246,
          0.19725140063245739,
          0.04635754602681108,
          0.3432938480947053,
          0.968342700217119,
          0.4411847577605954
         ]
        }
       ],
       "layout": {
        "template": {
         "data": {
          "bar": [
           {
            "error_x": {
             "color": "#2a3f5f"
            },
            "error_y": {
             "color": "#2a3f5f"
            },
            "marker": {
             "line": {
              "color": "#E5ECF6",
              "width": 0.5
             }
            },
            "type": "bar"
           }
          ],
          "barpolar": [
           {
            "marker": {
             "line": {
              "color": "#E5ECF6",
              "width": 0.5
             }
            },
            "type": "barpolar"
           }
          ],
          "carpet": [
           {
            "aaxis": {
             "endlinecolor": "#2a3f5f",
             "gridcolor": "white",
             "linecolor": "white",
             "minorgridcolor": "white",
             "startlinecolor": "#2a3f5f"
            },
            "baxis": {
             "endlinecolor": "#2a3f5f",
             "gridcolor": "white",
             "linecolor": "white",
             "minorgridcolor": "white",
             "startlinecolor": "#2a3f5f"
            },
            "type": "carpet"
           }
          ],
          "choropleth": [
           {
            "colorbar": {
             "outlinewidth": 0,
             "ticks": ""
            },
            "type": "choropleth"
           }
          ],
          "contour": [
           {
            "colorbar": {
             "outlinewidth": 0,
             "ticks": ""
            },
            "colorscale": [
             [
              0.0,
              "#0d0887"
             ],
             [
              0.1111111111111111,
              "#46039f"
             ],
             [
              0.2222222222222222,
              "#7201a8"
             ],
             [
              0.3333333333333333,
              "#9c179e"
             ],
             [
              0.4444444444444444,
              "#bd3786"
             ],
             [
              0.5555555555555556,
              "#d8576b"
             ],
             [
              0.6666666666666666,
              "#ed7953"
             ],
             [
              0.7777777777777778,
              "#fb9f3a"
             ],
             [
              0.8888888888888888,
              "#fdca26"
             ],
             [
              1.0,
              "#f0f921"
             ]
            ],
            "type": "contour"
           }
          ],
          "contourcarpet": [
           {
            "colorbar": {
             "outlinewidth": 0,
             "ticks": ""
            },
            "type": "contourcarpet"
           }
          ],
          "heatmap": [
           {
            "colorbar": {
             "outlinewidth": 0,
             "ticks": ""
            },
            "colorscale": [
             [
              0.0,
              "#0d0887"
             ],
             [
              0.1111111111111111,
              "#46039f"
             ],
             [
              0.2222222222222222,
              "#7201a8"
             ],
             [
              0.3333333333333333,
              "#9c179e"
             ],
             [
              0.4444444444444444,
              "#bd3786"
             ],
             [
              0.5555555555555556,
              "#d8576b"
             ],
             [
              0.6666666666666666,
              "#ed7953"
             ],
             [
              0.7777777777777778,
              "#fb9f3a"
             ],
             [
              0.8888888888888888,
              "#fdca26"
             ],
             [
              1.0,
              "#f0f921"
             ]
            ],
            "type": "heatmap"
           }
          ],
          "heatmapgl": [
           {
            "colorbar": {
             "outlinewidth": 0,
             "ticks": ""
            },
            "colorscale": [
             [
              0.0,
              "#0d0887"
             ],
             [
              0.1111111111111111,
              "#46039f"
             ],
             [
              0.2222222222222222,
              "#7201a8"
             ],
             [
              0.3333333333333333,
              "#9c179e"
             ],
             [
              0.4444444444444444,
              "#bd3786"
             ],
             [
              0.5555555555555556,
              "#d8576b"
             ],
             [
              0.6666666666666666,
              "#ed7953"
             ],
             [
              0.7777777777777778,
              "#fb9f3a"
             ],
             [
              0.8888888888888888,
              "#fdca26"
             ],
             [
              1.0,
              "#f0f921"
             ]
            ],
            "type": "heatmapgl"
           }
          ],
          "histogram": [
           {
            "marker": {
             "colorbar": {
              "outlinewidth": 0,
              "ticks": ""
             }
            },
            "type": "histogram"
           }
          ],
          "histogram2d": [
           {
            "colorbar": {
             "outlinewidth": 0,
             "ticks": ""
            },
            "colorscale": [
             [
              0.0,
              "#0d0887"
             ],
             [
              0.1111111111111111,
              "#46039f"
             ],
             [
              0.2222222222222222,
              "#7201a8"
             ],
             [
              0.3333333333333333,
              "#9c179e"
             ],
             [
              0.4444444444444444,
              "#bd3786"
             ],
             [
              0.5555555555555556,
              "#d8576b"
             ],
             [
              0.6666666666666666,
              "#ed7953"
             ],
             [
              0.7777777777777778,
              "#fb9f3a"
             ],
             [
              0.8888888888888888,
              "#fdca26"
             ],
             [
              1.0,
              "#f0f921"
             ]
            ],
            "type": "histogram2d"
           }
          ],
          "histogram2dcontour": [
           {
            "colorbar": {
             "outlinewidth": 0,
             "ticks": ""
            },
            "colorscale": [
             [
              0.0,
              "#0d0887"
             ],
             [
              0.1111111111111111,
              "#46039f"
             ],
             [
              0.2222222222222222,
              "#7201a8"
             ],
             [
              0.3333333333333333,
              "#9c179e"
             ],
             [
              0.4444444444444444,
              "#bd3786"
             ],
             [
              0.5555555555555556,
              "#d8576b"
             ],
             [
              0.6666666666666666,
              "#ed7953"
             ],
             [
              0.7777777777777778,
              "#fb9f3a"
             ],
             [
              0.8888888888888888,
              "#fdca26"
             ],
             [
              1.0,
              "#f0f921"
             ]
            ],
            "type": "histogram2dcontour"
           }
          ],
          "mesh3d": [
           {
            "colorbar": {
             "outlinewidth": 0,
             "ticks": ""
            },
            "type": "mesh3d"
           }
          ],
          "parcoords": [
           {
            "line": {
             "colorbar": {
              "outlinewidth": 0,
              "ticks": ""
             }
            },
            "type": "parcoords"
           }
          ],
          "pie": [
           {
            "automargin": true,
            "type": "pie"
           }
          ],
          "scatter": [
           {
            "marker": {
             "colorbar": {
              "outlinewidth": 0,
              "ticks": ""
             }
            },
            "type": "scatter"
           }
          ],
          "scatter3d": [
           {
            "line": {
             "colorbar": {
              "outlinewidth": 0,
              "ticks": ""
             }
            },
            "marker": {
             "colorbar": {
              "outlinewidth": 0,
              "ticks": ""
             }
            },
            "type": "scatter3d"
           }
          ],
          "scattercarpet": [
           {
            "marker": {
             "colorbar": {
              "outlinewidth": 0,
              "ticks": ""
             }
            },
            "type": "scattercarpet"
           }
          ],
          "scattergeo": [
           {
            "marker": {
             "colorbar": {
              "outlinewidth": 0,
              "ticks": ""
             }
            },
            "type": "scattergeo"
           }
          ],
          "scattergl": [
           {
            "marker": {
             "colorbar": {
              "outlinewidth": 0,
              "ticks": ""
             }
            },
            "type": "scattergl"
           }
          ],
          "scattermapbox": [
           {
            "marker": {
             "colorbar": {
              "outlinewidth": 0,
              "ticks": ""
             }
            },
            "type": "scattermapbox"
           }
          ],
          "scatterpolar": [
           {
            "marker": {
             "colorbar": {
              "outlinewidth": 0,
              "ticks": ""
             }
            },
            "type": "scatterpolar"
           }
          ],
          "scatterpolargl": [
           {
            "marker": {
             "colorbar": {
              "outlinewidth": 0,
              "ticks": ""
             }
            },
            "type": "scatterpolargl"
           }
          ],
          "scatterternary": [
           {
            "marker": {
             "colorbar": {
              "outlinewidth": 0,
              "ticks": ""
             }
            },
            "type": "scatterternary"
           }
          ],
          "surface": [
           {
            "colorbar": {
             "outlinewidth": 0,
             "ticks": ""
            },
            "colorscale": [
             [
              0.0,
              "#0d0887"
             ],
             [
              0.1111111111111111,
              "#46039f"
             ],
             [
              0.2222222222222222,
              "#7201a8"
             ],
             [
              0.3333333333333333,
              "#9c179e"
             ],
             [
              0.4444444444444444,
              "#bd3786"
             ],
             [
              0.5555555555555556,
              "#d8576b"
             ],
             [
              0.6666666666666666,
              "#ed7953"
             ],
             [
              0.7777777777777778,
              "#fb9f3a"
             ],
             [
              0.8888888888888888,
              "#fdca26"
             ],
             [
              1.0,
              "#f0f921"
             ]
            ],
            "type": "surface"
           }
          ],
          "table": [
           {
            "cells": {
             "fill": {
              "color": "#EBF0F8"
             },
             "line": {
              "color": "white"
             }
            },
            "header": {
             "fill": {
              "color": "#C8D4E3"
             },
             "line": {
              "color": "white"
             }
            },
            "type": "table"
           }
          ]
         },
         "layout": {
          "annotationdefaults": {
           "arrowcolor": "#2a3f5f",
           "arrowhead": 0,
           "arrowwidth": 1
          },
          "autotypenumbers": "strict",
          "coloraxis": {
           "colorbar": {
            "outlinewidth": 0,
            "ticks": ""
           }
          },
          "colorscale": {
           "diverging": [
            [
             0,
             "#8e0152"
            ],
            [
             0.1,
             "#c51b7d"
            ],
            [
             0.2,
             "#de77ae"
            ],
            [
             0.3,
             "#f1b6da"
            ],
            [
             0.4,
             "#fde0ef"
            ],
            [
             0.5,
             "#f7f7f7"
            ],
            [
             0.6,
             "#e6f5d0"
            ],
            [
             0.7,
             "#b8e186"
            ],
            [
             0.8,
             "#7fbc41"
            ],
            [
             0.9,
             "#4d9221"
            ],
            [
             1,
             "#276419"
            ]
           ],
           "sequential": [
            [
             0.0,
             "#0d0887"
            ],
            [
             0.1111111111111111,
             "#46039f"
            ],
            [
             0.2222222222222222,
             "#7201a8"
            ],
            [
             0.3333333333333333,
             "#9c179e"
            ],
            [
             0.4444444444444444,
             "#bd3786"
            ],
            [
             0.5555555555555556,
             "#d8576b"
            ],
            [
             0.6666666666666666,
             "#ed7953"
            ],
            [
             0.7777777777777778,
             "#fb9f3a"
            ],
            [
             0.8888888888888888,
             "#fdca26"
            ],
            [
             1.0,
             "#f0f921"
            ]
           ],
           "sequentialminus": [
            [
             0.0,
             "#0d0887"
            ],
            [
             0.1111111111111111,
             "#46039f"
            ],
            [
             0.2222222222222222,
             "#7201a8"
            ],
            [
             0.3333333333333333,
             "#9c179e"
            ],
            [
             0.4444444444444444,
             "#bd3786"
            ],
            [
             0.5555555555555556,
             "#d8576b"
            ],
            [
             0.6666666666666666,
             "#ed7953"
            ],
            [
             0.7777777777777778,
             "#fb9f3a"
            ],
            [
             0.8888888888888888,
             "#fdca26"
            ],
            [
             1.0,
             "#f0f921"
            ]
           ]
          },
          "colorway": [
           "#636efa",
           "#EF553B",
           "#00cc96",
           "#ab63fa",
           "#FFA15A",
           "#19d3f3",
           "#FF6692",
           "#B6E880",
           "#FF97FF",
           "#FECB52"
          ],
          "font": {
           "color": "#2a3f5f"
          },
          "geo": {
           "bgcolor": "white",
           "lakecolor": "white",
           "landcolor": "#E5ECF6",
           "showlakes": true,
           "showland": true,
           "subunitcolor": "white"
          },
          "hoverlabel": {
           "align": "left"
          },
          "hovermode": "closest",
          "mapbox": {
           "style": "light"
          },
          "paper_bgcolor": "white",
          "plot_bgcolor": "#E5ECF6",
          "polar": {
           "angularaxis": {
            "gridcolor": "white",
            "linecolor": "white",
            "ticks": ""
           },
           "bgcolor": "#E5ECF6",
           "radialaxis": {
            "gridcolor": "white",
            "linecolor": "white",
            "ticks": ""
           }
          },
          "scene": {
           "xaxis": {
            "backgroundcolor": "#E5ECF6",
            "gridcolor": "white",
            "gridwidth": 2,
            "linecolor": "white",
            "showbackground": true,
            "ticks": "",
            "zerolinecolor": "white"
           },
           "yaxis": {
            "backgroundcolor": "#E5ECF6",
            "gridcolor": "white",
            "gridwidth": 2,
            "linecolor": "white",
            "showbackground": true,
            "ticks": "",
            "zerolinecolor": "white"
           },
           "zaxis": {
            "backgroundcolor": "#E5ECF6",
            "gridcolor": "white",
            "gridwidth": 2,
            "linecolor": "white",
            "showbackground": true,
            "ticks": "",
            "zerolinecolor": "white"
           }
          },
          "shapedefaults": {
           "line": {
            "color": "#2a3f5f"
           }
          },
          "ternary": {
           "aaxis": {
            "gridcolor": "white",
            "linecolor": "white",
            "ticks": ""
           },
           "baxis": {
            "gridcolor": "white",
            "linecolor": "white",
            "ticks": ""
           },
           "bgcolor": "#E5ECF6",
           "caxis": {
            "gridcolor": "white",
            "linecolor": "white",
            "ticks": ""
           }
          },
          "title": {
           "x": 0.05
          },
          "xaxis": {
           "automargin": true,
           "gridcolor": "white",
           "linecolor": "white",
           "ticks": "",
           "title": {
            "standoff": 15
           },
           "zerolinecolor": "white",
           "zerolinewidth": 2
          },
          "yaxis": {
           "automargin": true,
           "gridcolor": "white",
           "linecolor": "white",
           "ticks": "",
           "title": {
            "standoff": 15
           },
           "zerolinecolor": "white",
           "zerolinewidth": 2
          }
         }
        },
        "xaxis": {
         "showgrid": false,
         "showticklabels": false,
         "zeroline": false
        },
        "yaxis": {
         "showgrid": false,
         "showticklabels": false,
         "zeroline": false
        }
       }
      },
      "text/html": "<div>                            <div id=\"05874c39-9e1f-4d0d-85ae-1a9ac213b89e\" class=\"plotly-graph-div\" style=\"height:525px; width:100%;\"></div>            <script type=\"text/javascript\">                require([\"plotly\"], function(Plotly) {                    window.PLOTLYENV=window.PLOTLYENV || {};                                    if (document.getElementById(\"05874c39-9e1f-4d0d-85ae-1a9ac213b89e\")) {                    Plotly.newPlot(                        \"05874c39-9e1f-4d0d-85ae-1a9ac213b89e\",                        [{\"marker\": {\"opacity\": 0.3}, \"mode\": \"text\", \"text\": [\"based\", \"analysis\", \"system\", \"technique\", \"graph\", \"information\", \"visual\", \"user\", \"visualization\", \"data\"], \"textfont\": {\"color\": \"green\", \"size\": [25.691576302051544, 26.747602969408035, 27.187366038560867, 29.04641442000866, 29.69597466289997, 32.25632756948471, 38.68166729807854, 44.42862421274185, 61.358727514743805, 81.62007480859756]}, \"type\": \"scatter\", \"x\": [0.8180707849283838, 0.44106680674248866, 0.4199183170680869, 0.8410561084634732, 0.7579151785452114, 0.687644953942044, 0.13763433691936477, 0.16994117771752137, 0.25294475302506014, 0.6310774075112618, 0.650536368487935, 0.8911743452534522, 0.6581165610603783, 0.6759861337513485, 0.7976587978552597, 0.22764011059597344, 0.8194938959608025, 0.36535261005950626, 0.9304506814540013, 0.044473358246093775, 0.022031994170471525, 0.4911100737722439, 0.8667077655845387, 0.8721263559937054, 0.3103722036908789, 0.6089676077291878, 0.8471464785680684, 0.09086293300486592, 0.6161300564483826, 0.4207660034520736], \"y\": [0.6566250008616428, 0.4244738609524764, 0.5523217297593535, 0.7175815194502392, 0.9753896492816779, 0.77258176078475, 0.3006744969110836, 0.4708814164894506, 0.6381080911139776, 0.5653938098504804, 0.31355169865325083, 0.775640100531144, 0.3034013872838113, 0.5412975035822442, 0.21970933351470867, 0.47054808984681773, 0.2083986573139105, 0.7577322876758064, 0.06397293449834096, 0.11085028173238598, 0.32793217851542966, 0.7953280267548489, 0.7165822843031622, 0.3714783740709381, 0.6074431839235246, 0.19725140063245739, 0.04635754602681108, 0.3432938480947053, 0.968342700217119, 0.4411847577605954]}],                        {\"template\": {\"data\": {\"bar\": [{\"error_x\": {\"color\": \"#2a3f5f\"}, \"error_y\": {\"color\": \"#2a3f5f\"}, \"marker\": {\"line\": {\"color\": \"#E5ECF6\", \"width\": 0.5}}, \"type\": \"bar\"}], \"barpolar\": [{\"marker\": {\"line\": {\"color\": \"#E5ECF6\", \"width\": 0.5}}, \"type\": \"barpolar\"}], \"carpet\": [{\"aaxis\": {\"endlinecolor\": \"#2a3f5f\", \"gridcolor\": \"white\", \"linecolor\": \"white\", \"minorgridcolor\": \"white\", \"startlinecolor\": \"#2a3f5f\"}, \"baxis\": {\"endlinecolor\": \"#2a3f5f\", \"gridcolor\": \"white\", \"linecolor\": \"white\", \"minorgridcolor\": \"white\", \"startlinecolor\": \"#2a3f5f\"}, \"type\": \"carpet\"}], \"choropleth\": [{\"colorbar\": {\"outlinewidth\": 0, \"ticks\": \"\"}, \"type\": \"choropleth\"}], \"contour\": [{\"colorbar\": {\"outlinewidth\": 0, \"ticks\": \"\"}, \"colorscale\": [[0.0, \"#0d0887\"], [0.1111111111111111, \"#46039f\"], [0.2222222222222222, \"#7201a8\"], [0.3333333333333333, \"#9c179e\"], [0.4444444444444444, \"#bd3786\"], [0.5555555555555556, \"#d8576b\"], [0.6666666666666666, \"#ed7953\"], [0.7777777777777778, \"#fb9f3a\"], [0.8888888888888888, \"#fdca26\"], [1.0, \"#f0f921\"]], \"type\": \"contour\"}], \"contourcarpet\": [{\"colorbar\": {\"outlinewidth\": 0, \"ticks\": \"\"}, \"type\": \"contourcarpet\"}], \"heatmap\": [{\"colorbar\": {\"outlinewidth\": 0, \"ticks\": \"\"}, \"colorscale\": [[0.0, \"#0d0887\"], [0.1111111111111111, \"#46039f\"], [0.2222222222222222, \"#7201a8\"], [0.3333333333333333, \"#9c179e\"], [0.4444444444444444, \"#bd3786\"], [0.5555555555555556, \"#d8576b\"], [0.6666666666666666, \"#ed7953\"], [0.7777777777777778, \"#fb9f3a\"], [0.8888888888888888, \"#fdca26\"], [1.0, \"#f0f921\"]], \"type\": \"heatmap\"}], \"heatmapgl\": [{\"colorbar\": {\"outlinewidth\": 0, \"ticks\": \"\"}, \"colorscale\": [[0.0, \"#0d0887\"], [0.1111111111111111, \"#46039f\"], [0.2222222222222222, \"#7201a8\"], [0.3333333333333333, \"#9c179e\"], [0.4444444444444444, \"#bd3786\"], [0.5555555555555556, \"#d8576b\"], [0.6666666666666666, \"#ed7953\"], [0.7777777777777778, \"#fb9f3a\"], [0.8888888888888888, \"#fdca26\"], [1.0, \"#f0f921\"]], \"type\": \"heatmapgl\"}], \"histogram\": [{\"marker\": {\"colorbar\": {\"outlinewidth\": 0, \"ticks\": \"\"}}, \"type\": \"histogram\"}], \"histogram2d\": [{\"colorbar\": {\"outlinewidth\": 0, \"ticks\": \"\"}, \"colorscale\": [[0.0, \"#0d0887\"], [0.1111111111111111, \"#46039f\"], [0.2222222222222222, \"#7201a8\"], [0.3333333333333333, \"#9c179e\"], [0.4444444444444444, \"#bd3786\"], [0.5555555555555556, \"#d8576b\"], [0.6666666666666666, \"#ed7953\"], [0.7777777777777778, \"#fb9f3a\"], [0.8888888888888888, \"#fdca26\"], [1.0, \"#f0f921\"]], \"type\": \"histogram2d\"}], \"histogram2dcontour\": [{\"colorbar\": {\"outlinewidth\": 0, \"ticks\": \"\"}, \"colorscale\": [[0.0, \"#0d0887\"], [0.1111111111111111, \"#46039f\"], [0.2222222222222222, \"#7201a8\"], [0.3333333333333333, \"#9c179e\"], [0.4444444444444444, \"#bd3786\"], [0.5555555555555556, \"#d8576b\"], [0.6666666666666666, \"#ed7953\"], [0.7777777777777778, \"#fb9f3a\"], [0.8888888888888888, \"#fdca26\"], [1.0, \"#f0f921\"]], \"type\": \"histogram2dcontour\"}], \"mesh3d\": [{\"colorbar\": {\"outlinewidth\": 0, \"ticks\": \"\"}, \"type\": \"mesh3d\"}], \"parcoords\": [{\"line\": {\"colorbar\": {\"outlinewidth\": 0, \"ticks\": \"\"}}, \"type\": \"parcoords\"}], \"pie\": [{\"automargin\": true, \"type\": \"pie\"}], \"scatter\": [{\"marker\": {\"colorbar\": {\"outlinewidth\": 0, \"ticks\": \"\"}}, \"type\": \"scatter\"}], \"scatter3d\": [{\"line\": {\"colorbar\": {\"outlinewidth\": 0, \"ticks\": \"\"}}, \"marker\": {\"colorbar\": {\"outlinewidth\": 0, \"ticks\": \"\"}}, \"type\": \"scatter3d\"}], \"scattercarpet\": [{\"marker\": {\"colorbar\": {\"outlinewidth\": 0, \"ticks\": \"\"}}, \"type\": \"scattercarpet\"}], \"scattergeo\": [{\"marker\": {\"colorbar\": {\"outlinewidth\": 0, \"ticks\": \"\"}}, \"type\": \"scattergeo\"}], \"scattergl\": [{\"marker\": {\"colorbar\": {\"outlinewidth\": 0, \"ticks\": \"\"}}, \"type\": \"scattergl\"}], \"scattermapbox\": [{\"marker\": {\"colorbar\": {\"outlinewidth\": 0, \"ticks\": \"\"}}, \"type\": \"scattermapbox\"}], \"scatterpolar\": [{\"marker\": {\"colorbar\": {\"outlinewidth\": 0, \"ticks\": \"\"}}, \"type\": \"scatterpolar\"}], \"scatterpolargl\": [{\"marker\": {\"colorbar\": {\"outlinewidth\": 0, \"ticks\": \"\"}}, \"type\": \"scatterpolargl\"}], \"scatterternary\": [{\"marker\": {\"colorbar\": {\"outlinewidth\": 0, \"ticks\": \"\"}}, \"type\": \"scatterternary\"}], \"surface\": [{\"colorbar\": {\"outlinewidth\": 0, \"ticks\": \"\"}, \"colorscale\": [[0.0, \"#0d0887\"], [0.1111111111111111, \"#46039f\"], [0.2222222222222222, \"#7201a8\"], [0.3333333333333333, \"#9c179e\"], [0.4444444444444444, \"#bd3786\"], [0.5555555555555556, \"#d8576b\"], [0.6666666666666666, \"#ed7953\"], [0.7777777777777778, \"#fb9f3a\"], [0.8888888888888888, \"#fdca26\"], [1.0, \"#f0f921\"]], \"type\": \"surface\"}], \"table\": [{\"cells\": {\"fill\": {\"color\": \"#EBF0F8\"}, \"line\": {\"color\": \"white\"}}, \"header\": {\"fill\": {\"color\": \"#C8D4E3\"}, \"line\": {\"color\": \"white\"}}, \"type\": \"table\"}]}, \"layout\": {\"annotationdefaults\": {\"arrowcolor\": \"#2a3f5f\", \"arrowhead\": 0, \"arrowwidth\": 1}, \"autotypenumbers\": \"strict\", \"coloraxis\": {\"colorbar\": {\"outlinewidth\": 0, \"ticks\": \"\"}}, \"colorscale\": {\"diverging\": [[0, \"#8e0152\"], [0.1, \"#c51b7d\"], [0.2, \"#de77ae\"], [0.3, \"#f1b6da\"], [0.4, \"#fde0ef\"], [0.5, \"#f7f7f7\"], [0.6, \"#e6f5d0\"], [0.7, \"#b8e186\"], [0.8, \"#7fbc41\"], [0.9, \"#4d9221\"], [1, \"#276419\"]], \"sequential\": [[0.0, \"#0d0887\"], [0.1111111111111111, \"#46039f\"], [0.2222222222222222, \"#7201a8\"], [0.3333333333333333, \"#9c179e\"], [0.4444444444444444, \"#bd3786\"], [0.5555555555555556, \"#d8576b\"], [0.6666666666666666, \"#ed7953\"], [0.7777777777777778, \"#fb9f3a\"], [0.8888888888888888, \"#fdca26\"], [1.0, \"#f0f921\"]], \"sequentialminus\": [[0.0, \"#0d0887\"], [0.1111111111111111, \"#46039f\"], [0.2222222222222222, \"#7201a8\"], [0.3333333333333333, \"#9c179e\"], [0.4444444444444444, \"#bd3786\"], [0.5555555555555556, \"#d8576b\"], [0.6666666666666666, \"#ed7953\"], [0.7777777777777778, \"#fb9f3a\"], [0.8888888888888888, \"#fdca26\"], [1.0, \"#f0f921\"]]}, \"colorway\": [\"#636efa\", \"#EF553B\", \"#00cc96\", \"#ab63fa\", \"#FFA15A\", \"#19d3f3\", \"#FF6692\", \"#B6E880\", \"#FF97FF\", \"#FECB52\"], \"font\": {\"color\": \"#2a3f5f\"}, \"geo\": {\"bgcolor\": \"white\", \"lakecolor\": \"white\", \"landcolor\": \"#E5ECF6\", \"showlakes\": true, \"showland\": true, \"subunitcolor\": \"white\"}, \"hoverlabel\": {\"align\": \"left\"}, \"hovermode\": \"closest\", \"mapbox\": {\"style\": \"light\"}, \"paper_bgcolor\": \"white\", \"plot_bgcolor\": \"#E5ECF6\", \"polar\": {\"angularaxis\": {\"gridcolor\": \"white\", \"linecolor\": \"white\", \"ticks\": \"\"}, \"bgcolor\": \"#E5ECF6\", \"radialaxis\": {\"gridcolor\": \"white\", \"linecolor\": \"white\", \"ticks\": \"\"}}, \"scene\": {\"xaxis\": {\"backgroundcolor\": \"#E5ECF6\", \"gridcolor\": \"white\", \"gridwidth\": 2, \"linecolor\": \"white\", \"showbackground\": true, \"ticks\": \"\", \"zerolinecolor\": \"white\"}, \"yaxis\": {\"backgroundcolor\": \"#E5ECF6\", \"gridcolor\": \"white\", \"gridwidth\": 2, \"linecolor\": \"white\", \"showbackground\": true, \"ticks\": \"\", \"zerolinecolor\": \"white\"}, \"zaxis\": {\"backgroundcolor\": \"#E5ECF6\", \"gridcolor\": \"white\", \"gridwidth\": 2, \"linecolor\": \"white\", \"showbackground\": true, \"ticks\": \"\", \"zerolinecolor\": \"white\"}}, \"shapedefaults\": {\"line\": {\"color\": \"#2a3f5f\"}}, \"ternary\": {\"aaxis\": {\"gridcolor\": \"white\", \"linecolor\": \"white\", \"ticks\": \"\"}, \"baxis\": {\"gridcolor\": \"white\", \"linecolor\": \"white\", \"ticks\": \"\"}, \"bgcolor\": \"#E5ECF6\", \"caxis\": {\"gridcolor\": \"white\", \"linecolor\": \"white\", \"ticks\": \"\"}}, \"title\": {\"x\": 0.05}, \"xaxis\": {\"automargin\": true, \"gridcolor\": \"white\", \"linecolor\": \"white\", \"ticks\": \"\", \"title\": {\"standoff\": 15}, \"zerolinecolor\": \"white\", \"zerolinewidth\": 2}, \"yaxis\": {\"automargin\": true, \"gridcolor\": \"white\", \"linecolor\": \"white\", \"ticks\": \"\", \"title\": {\"standoff\": 15}, \"zerolinecolor\": \"white\", \"zerolinewidth\": 2}}}, \"xaxis\": {\"showgrid\": false, \"showticklabels\": false, \"zeroline\": false}, \"yaxis\": {\"showgrid\": false, \"showticklabels\": false, \"zeroline\": false}},                        {\"responsive\": true}                    ).then(function(){\n                            \nvar gd = document.getElementById('05874c39-9e1f-4d0d-85ae-1a9ac213b89e');\nvar x = new MutationObserver(function (mutations, observer) {{\n        var display = window.getComputedStyle(gd).display;\n        if (!display || display === 'none') {{\n            console.log([gd, 'removed!']);\n            Plotly.purge(gd);\n            observer.disconnect();\n        }}\n}});\n\n// Listen for the removal of the full notebook cells\nvar notebookContainer = gd.closest('#notebook-container');\nif (notebookContainer) {{\n    x.observe(notebookContainer, {childList: true});\n}}\n\n// Listen for the clearing of the current output cell\nvar outputEl = gd.closest('.output');\nif (outputEl) {{\n    x.observe(outputEl, {childList: true});\n}}\n\n                        })                };                });            </script>        </div>"
     },
     "metadata": {},
     "output_type": "display_data"
    }
   ],
   "source": [
    "import plotly\n",
    "import plotly.graph_objs as go\n",
    "from plotly.offline import plot\n",
    "import random\n",
    "data = go.Scatter(x=[random.random() for i in range(30)],\n",
    "                 y=[random.random() for i in range(30)],\n",
    "                 mode='text',\n",
    "                 text=lda.get_top_n_word_probs_for_topic_i(2, 10).Words,\n",
    "                 marker={'opacity': 0.3},\n",
    "                 textfont={'size': lda.get_top_n_word_probs_for_topic_i(2, 10).Probabilities * 4000, \n",
    "                           'color': lda.get_colors()[2]})\n",
    "layout = go.Layout({'xaxis': {'showgrid': False, 'showticklabels': False, 'zeroline': False},\n",
    "                    'yaxis': {'showgrid': False, 'showticklabels': False, 'zeroline': False}})\n",
    "fig = go.Figure(data=[data], layout=layout)\n",
    "\n",
    "fig"
   ]
  },
  {
   "cell_type": "code",
   "execution_count": 24,
   "metadata": {
    "pycharm": {
     "name": "#%%\n"
    }
   },
   "outputs": [
    {
     "data": {
      "application/vnd.plotly.v1+json": {
       "config": {
        "plotlyServerURL": "https://plot.ly"
       },
       "data": [
        {
         "marker": {
          "opacity": 0.3
         },
         "mode": "text",
         "text": [
          "tool",
          "large",
          "present",
          "paper",
          "approach",
          "method",
          "set",
          "node",
          "algorithm",
          "layout",
          "based",
          "analysis",
          "system",
          "technique",
          "graph",
          "information",
          "visual",
          "user",
          "visualization",
          "data"
         ],
         "textfont": {
          "color": "green",
          "size": [
           17.714006826281548,
           18.53971928358078,
           20.216237753629684,
           21.535448729991913,
           21.975070238113403,
           22.231997922062874,
           22.841263562440872,
           23.48603866994381,
           23.634091019630432,
           24.043895304203033,
           25.691576302051544,
           26.747602969408035,
           27.187366038560867,
           29.04641442000866,
           29.69597466289997,
           32.25632756948471,
           38.68166729807854,
           44.42862421274185,
           61.358727514743805,
           81.62007480859756
          ]
         },
         "type": "scatter",
         "x": [
          0.6026910754627948,
          0.6734507066791278,
          0.8964240345535266,
          0.5067806727546682,
          0.20071945440765826,
          0.5193885881156765,
          0.0803461891770435,
          0.19510720339803356,
          0.7399635496502522,
          0.701940720877821,
          0.07241872711293462,
          0.8578715806445164,
          0.7623624528870866,
          0.4057414795315374,
          0.3431865015917006,
          0.4951028863639736,
          0.052760117410643126,
          0.17554703206772038,
          0.8551406008897067,
          0.46456902342164563,
          0.564669395810602,
          0.4929156528853301,
          0.7947501092477408,
          0.7528863654674574,
          0.13812820246730118,
          0.19282640455899092,
          0.11577949156118184,
          0.17775506888991077,
          0.7814450900574846,
          0.563689951855132
         ],
         "y": [
          0.8774967244033381,
          0.43687885354584166,
          0.5984964905429183,
          0.19314850680036066,
          0.07095786801490778,
          0.05651508416726092,
          0.8206526030242425,
          0.8869768875843805,
          0.40681842544283864,
          0.7640216430840929,
          0.48446140767299994,
          0.26901953354028374,
          0.8767936124682305,
          0.627174124316337,
          0.18471937559560325,
          0.6187377365892813,
          0.2220722605071066,
          0.33403164588033296,
          0.4774651783097409,
          0.0839716919625203,
          0.7717200000451402,
          0.6542208658789157,
          0.06530354722107379,
          0.495251751224455,
          0.07566733601639064,
          0.8951553393259688,
          0.9524025725625477,
          0.20751284302914463,
          0.20577795959836254,
          0.11473724465024493
         ]
        }
       ],
       "layout": {
        "template": {
         "data": {
          "bar": [
           {
            "error_x": {
             "color": "#2a3f5f"
            },
            "error_y": {
             "color": "#2a3f5f"
            },
            "marker": {
             "line": {
              "color": "#E5ECF6",
              "width": 0.5
             }
            },
            "type": "bar"
           }
          ],
          "barpolar": [
           {
            "marker": {
             "line": {
              "color": "#E5ECF6",
              "width": 0.5
             }
            },
            "type": "barpolar"
           }
          ],
          "carpet": [
           {
            "aaxis": {
             "endlinecolor": "#2a3f5f",
             "gridcolor": "white",
             "linecolor": "white",
             "minorgridcolor": "white",
             "startlinecolor": "#2a3f5f"
            },
            "baxis": {
             "endlinecolor": "#2a3f5f",
             "gridcolor": "white",
             "linecolor": "white",
             "minorgridcolor": "white",
             "startlinecolor": "#2a3f5f"
            },
            "type": "carpet"
           }
          ],
          "choropleth": [
           {
            "colorbar": {
             "outlinewidth": 0,
             "ticks": ""
            },
            "type": "choropleth"
           }
          ],
          "contour": [
           {
            "colorbar": {
             "outlinewidth": 0,
             "ticks": ""
            },
            "colorscale": [
             [
              0.0,
              "#0d0887"
             ],
             [
              0.1111111111111111,
              "#46039f"
             ],
             [
              0.2222222222222222,
              "#7201a8"
             ],
             [
              0.3333333333333333,
              "#9c179e"
             ],
             [
              0.4444444444444444,
              "#bd3786"
             ],
             [
              0.5555555555555556,
              "#d8576b"
             ],
             [
              0.6666666666666666,
              "#ed7953"
             ],
             [
              0.7777777777777778,
              "#fb9f3a"
             ],
             [
              0.8888888888888888,
              "#fdca26"
             ],
             [
              1.0,
              "#f0f921"
             ]
            ],
            "type": "contour"
           }
          ],
          "contourcarpet": [
           {
            "colorbar": {
             "outlinewidth": 0,
             "ticks": ""
            },
            "type": "contourcarpet"
           }
          ],
          "heatmap": [
           {
            "colorbar": {
             "outlinewidth": 0,
             "ticks": ""
            },
            "colorscale": [
             [
              0.0,
              "#0d0887"
             ],
             [
              0.1111111111111111,
              "#46039f"
             ],
             [
              0.2222222222222222,
              "#7201a8"
             ],
             [
              0.3333333333333333,
              "#9c179e"
             ],
             [
              0.4444444444444444,
              "#bd3786"
             ],
             [
              0.5555555555555556,
              "#d8576b"
             ],
             [
              0.6666666666666666,
              "#ed7953"
             ],
             [
              0.7777777777777778,
              "#fb9f3a"
             ],
             [
              0.8888888888888888,
              "#fdca26"
             ],
             [
              1.0,
              "#f0f921"
             ]
            ],
            "type": "heatmap"
           }
          ],
          "heatmapgl": [
           {
            "colorbar": {
             "outlinewidth": 0,
             "ticks": ""
            },
            "colorscale": [
             [
              0.0,
              "#0d0887"
             ],
             [
              0.1111111111111111,
              "#46039f"
             ],
             [
              0.2222222222222222,
              "#7201a8"
             ],
             [
              0.3333333333333333,
              "#9c179e"
             ],
             [
              0.4444444444444444,
              "#bd3786"
             ],
             [
              0.5555555555555556,
              "#d8576b"
             ],
             [
              0.6666666666666666,
              "#ed7953"
             ],
             [
              0.7777777777777778,
              "#fb9f3a"
             ],
             [
              0.8888888888888888,
              "#fdca26"
             ],
             [
              1.0,
              "#f0f921"
             ]
            ],
            "type": "heatmapgl"
           }
          ],
          "histogram": [
           {
            "marker": {
             "colorbar": {
              "outlinewidth": 0,
              "ticks": ""
             }
            },
            "type": "histogram"
           }
          ],
          "histogram2d": [
           {
            "colorbar": {
             "outlinewidth": 0,
             "ticks": ""
            },
            "colorscale": [
             [
              0.0,
              "#0d0887"
             ],
             [
              0.1111111111111111,
              "#46039f"
             ],
             [
              0.2222222222222222,
              "#7201a8"
             ],
             [
              0.3333333333333333,
              "#9c179e"
             ],
             [
              0.4444444444444444,
              "#bd3786"
             ],
             [
              0.5555555555555556,
              "#d8576b"
             ],
             [
              0.6666666666666666,
              "#ed7953"
             ],
             [
              0.7777777777777778,
              "#fb9f3a"
             ],
             [
              0.8888888888888888,
              "#fdca26"
             ],
             [
              1.0,
              "#f0f921"
             ]
            ],
            "type": "histogram2d"
           }
          ],
          "histogram2dcontour": [
           {
            "colorbar": {
             "outlinewidth": 0,
             "ticks": ""
            },
            "colorscale": [
             [
              0.0,
              "#0d0887"
             ],
             [
              0.1111111111111111,
              "#46039f"
             ],
             [
              0.2222222222222222,
              "#7201a8"
             ],
             [
              0.3333333333333333,
              "#9c179e"
             ],
             [
              0.4444444444444444,
              "#bd3786"
             ],
             [
              0.5555555555555556,
              "#d8576b"
             ],
             [
              0.6666666666666666,
              "#ed7953"
             ],
             [
              0.7777777777777778,
              "#fb9f3a"
             ],
             [
              0.8888888888888888,
              "#fdca26"
             ],
             [
              1.0,
              "#f0f921"
             ]
            ],
            "type": "histogram2dcontour"
           }
          ],
          "mesh3d": [
           {
            "colorbar": {
             "outlinewidth": 0,
             "ticks": ""
            },
            "type": "mesh3d"
           }
          ],
          "parcoords": [
           {
            "line": {
             "colorbar": {
              "outlinewidth": 0,
              "ticks": ""
             }
            },
            "type": "parcoords"
           }
          ],
          "pie": [
           {
            "automargin": true,
            "type": "pie"
           }
          ],
          "scatter": [
           {
            "marker": {
             "colorbar": {
              "outlinewidth": 0,
              "ticks": ""
             }
            },
            "type": "scatter"
           }
          ],
          "scatter3d": [
           {
            "line": {
             "colorbar": {
              "outlinewidth": 0,
              "ticks": ""
             }
            },
            "marker": {
             "colorbar": {
              "outlinewidth": 0,
              "ticks": ""
             }
            },
            "type": "scatter3d"
           }
          ],
          "scattercarpet": [
           {
            "marker": {
             "colorbar": {
              "outlinewidth": 0,
              "ticks": ""
             }
            },
            "type": "scattercarpet"
           }
          ],
          "scattergeo": [
           {
            "marker": {
             "colorbar": {
              "outlinewidth": 0,
              "ticks": ""
             }
            },
            "type": "scattergeo"
           }
          ],
          "scattergl": [
           {
            "marker": {
             "colorbar": {
              "outlinewidth": 0,
              "ticks": ""
             }
            },
            "type": "scattergl"
           }
          ],
          "scattermapbox": [
           {
            "marker": {
             "colorbar": {
              "outlinewidth": 0,
              "ticks": ""
             }
            },
            "type": "scattermapbox"
           }
          ],
          "scatterpolar": [
           {
            "marker": {
             "colorbar": {
              "outlinewidth": 0,
              "ticks": ""
             }
            },
            "type": "scatterpolar"
           }
          ],
          "scatterpolargl": [
           {
            "marker": {
             "colorbar": {
              "outlinewidth": 0,
              "ticks": ""
             }
            },
            "type": "scatterpolargl"
           }
          ],
          "scatterternary": [
           {
            "marker": {
             "colorbar": {
              "outlinewidth": 0,
              "ticks": ""
             }
            },
            "type": "scatterternary"
           }
          ],
          "surface": [
           {
            "colorbar": {
             "outlinewidth": 0,
             "ticks": ""
            },
            "colorscale": [
             [
              0.0,
              "#0d0887"
             ],
             [
              0.1111111111111111,
              "#46039f"
             ],
             [
              0.2222222222222222,
              "#7201a8"
             ],
             [
              0.3333333333333333,
              "#9c179e"
             ],
             [
              0.4444444444444444,
              "#bd3786"
             ],
             [
              0.5555555555555556,
              "#d8576b"
             ],
             [
              0.6666666666666666,
              "#ed7953"
             ],
             [
              0.7777777777777778,
              "#fb9f3a"
             ],
             [
              0.8888888888888888,
              "#fdca26"
             ],
             [
              1.0,
              "#f0f921"
             ]
            ],
            "type": "surface"
           }
          ],
          "table": [
           {
            "cells": {
             "fill": {
              "color": "#EBF0F8"
             },
             "line": {
              "color": "white"
             }
            },
            "header": {
             "fill": {
              "color": "#C8D4E3"
             },
             "line": {
              "color": "white"
             }
            },
            "type": "table"
           }
          ]
         },
         "layout": {
          "annotationdefaults": {
           "arrowcolor": "#2a3f5f",
           "arrowhead": 0,
           "arrowwidth": 1
          },
          "autotypenumbers": "strict",
          "coloraxis": {
           "colorbar": {
            "outlinewidth": 0,
            "ticks": ""
           }
          },
          "colorscale": {
           "diverging": [
            [
             0,
             "#8e0152"
            ],
            [
             0.1,
             "#c51b7d"
            ],
            [
             0.2,
             "#de77ae"
            ],
            [
             0.3,
             "#f1b6da"
            ],
            [
             0.4,
             "#fde0ef"
            ],
            [
             0.5,
             "#f7f7f7"
            ],
            [
             0.6,
             "#e6f5d0"
            ],
            [
             0.7,
             "#b8e186"
            ],
            [
             0.8,
             "#7fbc41"
            ],
            [
             0.9,
             "#4d9221"
            ],
            [
             1,
             "#276419"
            ]
           ],
           "sequential": [
            [
             0.0,
             "#0d0887"
            ],
            [
             0.1111111111111111,
             "#46039f"
            ],
            [
             0.2222222222222222,
             "#7201a8"
            ],
            [
             0.3333333333333333,
             "#9c179e"
            ],
            [
             0.4444444444444444,
             "#bd3786"
            ],
            [
             0.5555555555555556,
             "#d8576b"
            ],
            [
             0.6666666666666666,
             "#ed7953"
            ],
            [
             0.7777777777777778,
             "#fb9f3a"
            ],
            [
             0.8888888888888888,
             "#fdca26"
            ],
            [
             1.0,
             "#f0f921"
            ]
           ],
           "sequentialminus": [
            [
             0.0,
             "#0d0887"
            ],
            [
             0.1111111111111111,
             "#46039f"
            ],
            [
             0.2222222222222222,
             "#7201a8"
            ],
            [
             0.3333333333333333,
             "#9c179e"
            ],
            [
             0.4444444444444444,
             "#bd3786"
            ],
            [
             0.5555555555555556,
             "#d8576b"
            ],
            [
             0.6666666666666666,
             "#ed7953"
            ],
            [
             0.7777777777777778,
             "#fb9f3a"
            ],
            [
             0.8888888888888888,
             "#fdca26"
            ],
            [
             1.0,
             "#f0f921"
            ]
           ]
          },
          "colorway": [
           "#636efa",
           "#EF553B",
           "#00cc96",
           "#ab63fa",
           "#FFA15A",
           "#19d3f3",
           "#FF6692",
           "#B6E880",
           "#FF97FF",
           "#FECB52"
          ],
          "font": {
           "color": "#2a3f5f"
          },
          "geo": {
           "bgcolor": "white",
           "lakecolor": "white",
           "landcolor": "#E5ECF6",
           "showlakes": true,
           "showland": true,
           "subunitcolor": "white"
          },
          "hoverlabel": {
           "align": "left"
          },
          "hovermode": "closest",
          "mapbox": {
           "style": "light"
          },
          "paper_bgcolor": "white",
          "plot_bgcolor": "#E5ECF6",
          "polar": {
           "angularaxis": {
            "gridcolor": "white",
            "linecolor": "white",
            "ticks": ""
           },
           "bgcolor": "#E5ECF6",
           "radialaxis": {
            "gridcolor": "white",
            "linecolor": "white",
            "ticks": ""
           }
          },
          "scene": {
           "xaxis": {
            "backgroundcolor": "#E5ECF6",
            "gridcolor": "white",
            "gridwidth": 2,
            "linecolor": "white",
            "showbackground": true,
            "ticks": "",
            "zerolinecolor": "white"
           },
           "yaxis": {
            "backgroundcolor": "#E5ECF6",
            "gridcolor": "white",
            "gridwidth": 2,
            "linecolor": "white",
            "showbackground": true,
            "ticks": "",
            "zerolinecolor": "white"
           },
           "zaxis": {
            "backgroundcolor": "#E5ECF6",
            "gridcolor": "white",
            "gridwidth": 2,
            "linecolor": "white",
            "showbackground": true,
            "ticks": "",
            "zerolinecolor": "white"
           }
          },
          "shapedefaults": {
           "line": {
            "color": "#2a3f5f"
           }
          },
          "ternary": {
           "aaxis": {
            "gridcolor": "white",
            "linecolor": "white",
            "ticks": ""
           },
           "baxis": {
            "gridcolor": "white",
            "linecolor": "white",
            "ticks": ""
           },
           "bgcolor": "#E5ECF6",
           "caxis": {
            "gridcolor": "white",
            "linecolor": "white",
            "ticks": ""
           }
          },
          "title": {
           "x": 0.05
          },
          "xaxis": {
           "automargin": true,
           "gridcolor": "white",
           "linecolor": "white",
           "ticks": "",
           "title": {
            "standoff": 15
           },
           "zerolinecolor": "white",
           "zerolinewidth": 2
          },
          "yaxis": {
           "automargin": true,
           "gridcolor": "white",
           "linecolor": "white",
           "ticks": "",
           "title": {
            "standoff": 15
           },
           "zerolinecolor": "white",
           "zerolinewidth": 2
          }
         }
        },
        "xaxis": {
         "showgrid": false,
         "showticklabels": false,
         "zeroline": false
        },
        "yaxis": {
         "showgrid": false,
         "showticklabels": false,
         "zeroline": false
        }
       }
      },
      "text/html": "<div>                            <div id=\"2737e361-a72b-40a7-be3b-7c0610f39958\" class=\"plotly-graph-div\" style=\"height:525px; width:100%;\"></div>            <script type=\"text/javascript\">                require([\"plotly\"], function(Plotly) {                    window.PLOTLYENV=window.PLOTLYENV || {};                                    if (document.getElementById(\"2737e361-a72b-40a7-be3b-7c0610f39958\")) {                    Plotly.newPlot(                        \"2737e361-a72b-40a7-be3b-7c0610f39958\",                        [{\"marker\": {\"opacity\": 0.3}, \"mode\": \"text\", \"text\": [\"tool\", \"large\", \"present\", \"paper\", \"approach\", \"method\", \"set\", \"node\", \"algorithm\", \"layout\", \"based\", \"analysis\", \"system\", \"technique\", \"graph\", \"information\", \"visual\", \"user\", \"visualization\", \"data\"], \"textfont\": {\"color\": \"green\", \"size\": [17.714006826281548, 18.53971928358078, 20.216237753629684, 21.535448729991913, 21.975070238113403, 22.231997922062874, 22.841263562440872, 23.48603866994381, 23.634091019630432, 24.043895304203033, 25.691576302051544, 26.747602969408035, 27.187366038560867, 29.04641442000866, 29.69597466289997, 32.25632756948471, 38.68166729807854, 44.42862421274185, 61.358727514743805, 81.62007480859756]}, \"type\": \"scatter\", \"x\": [0.6026910754627948, 0.6734507066791278, 0.8964240345535266, 0.5067806727546682, 0.20071945440765826, 0.5193885881156765, 0.0803461891770435, 0.19510720339803356, 0.7399635496502522, 0.701940720877821, 0.07241872711293462, 0.8578715806445164, 0.7623624528870866, 0.4057414795315374, 0.3431865015917006, 0.4951028863639736, 0.052760117410643126, 0.17554703206772038, 0.8551406008897067, 0.46456902342164563, 0.564669395810602, 0.4929156528853301, 0.7947501092477408, 0.7528863654674574, 0.13812820246730118, 0.19282640455899092, 0.11577949156118184, 0.17775506888991077, 0.7814450900574846, 0.563689951855132], \"y\": [0.8774967244033381, 0.43687885354584166, 0.5984964905429183, 0.19314850680036066, 0.07095786801490778, 0.05651508416726092, 0.8206526030242425, 0.8869768875843805, 0.40681842544283864, 0.7640216430840929, 0.48446140767299994, 0.26901953354028374, 0.8767936124682305, 0.627174124316337, 0.18471937559560325, 0.6187377365892813, 0.2220722605071066, 0.33403164588033296, 0.4774651783097409, 0.0839716919625203, 0.7717200000451402, 0.6542208658789157, 0.06530354722107379, 0.495251751224455, 0.07566733601639064, 0.8951553393259688, 0.9524025725625477, 0.20751284302914463, 0.20577795959836254, 0.11473724465024493]}],                        {\"template\": {\"data\": {\"bar\": [{\"error_x\": {\"color\": \"#2a3f5f\"}, \"error_y\": {\"color\": \"#2a3f5f\"}, \"marker\": {\"line\": {\"color\": \"#E5ECF6\", \"width\": 0.5}}, \"type\": \"bar\"}], \"barpolar\": [{\"marker\": {\"line\": {\"color\": \"#E5ECF6\", \"width\": 0.5}}, \"type\": \"barpolar\"}], \"carpet\": [{\"aaxis\": {\"endlinecolor\": \"#2a3f5f\", \"gridcolor\": \"white\", \"linecolor\": \"white\", \"minorgridcolor\": \"white\", \"startlinecolor\": \"#2a3f5f\"}, \"baxis\": {\"endlinecolor\": \"#2a3f5f\", \"gridcolor\": \"white\", \"linecolor\": \"white\", \"minorgridcolor\": \"white\", \"startlinecolor\": \"#2a3f5f\"}, \"type\": \"carpet\"}], \"choropleth\": [{\"colorbar\": {\"outlinewidth\": 0, \"ticks\": \"\"}, \"type\": \"choropleth\"}], \"contour\": [{\"colorbar\": {\"outlinewidth\": 0, \"ticks\": \"\"}, \"colorscale\": [[0.0, \"#0d0887\"], [0.1111111111111111, \"#46039f\"], [0.2222222222222222, \"#7201a8\"], [0.3333333333333333, \"#9c179e\"], [0.4444444444444444, \"#bd3786\"], [0.5555555555555556, \"#d8576b\"], [0.6666666666666666, \"#ed7953\"], [0.7777777777777778, \"#fb9f3a\"], [0.8888888888888888, \"#fdca26\"], [1.0, \"#f0f921\"]], \"type\": \"contour\"}], \"contourcarpet\": [{\"colorbar\": {\"outlinewidth\": 0, \"ticks\": \"\"}, \"type\": \"contourcarpet\"}], \"heatmap\": [{\"colorbar\": {\"outlinewidth\": 0, \"ticks\": \"\"}, \"colorscale\": [[0.0, \"#0d0887\"], [0.1111111111111111, \"#46039f\"], [0.2222222222222222, \"#7201a8\"], [0.3333333333333333, \"#9c179e\"], [0.4444444444444444, \"#bd3786\"], [0.5555555555555556, \"#d8576b\"], [0.6666666666666666, \"#ed7953\"], [0.7777777777777778, \"#fb9f3a\"], [0.8888888888888888, \"#fdca26\"], [1.0, \"#f0f921\"]], \"type\": \"heatmap\"}], \"heatmapgl\": [{\"colorbar\": {\"outlinewidth\": 0, \"ticks\": \"\"}, \"colorscale\": [[0.0, \"#0d0887\"], [0.1111111111111111, \"#46039f\"], [0.2222222222222222, \"#7201a8\"], [0.3333333333333333, \"#9c179e\"], [0.4444444444444444, \"#bd3786\"], [0.5555555555555556, \"#d8576b\"], [0.6666666666666666, \"#ed7953\"], [0.7777777777777778, \"#fb9f3a\"], [0.8888888888888888, \"#fdca26\"], [1.0, \"#f0f921\"]], \"type\": \"heatmapgl\"}], \"histogram\": [{\"marker\": {\"colorbar\": {\"outlinewidth\": 0, \"ticks\": \"\"}}, \"type\": \"histogram\"}], \"histogram2d\": [{\"colorbar\": {\"outlinewidth\": 0, \"ticks\": \"\"}, \"colorscale\": [[0.0, \"#0d0887\"], [0.1111111111111111, \"#46039f\"], [0.2222222222222222, \"#7201a8\"], [0.3333333333333333, \"#9c179e\"], [0.4444444444444444, \"#bd3786\"], [0.5555555555555556, \"#d8576b\"], [0.6666666666666666, \"#ed7953\"], [0.7777777777777778, \"#fb9f3a\"], [0.8888888888888888, \"#fdca26\"], [1.0, \"#f0f921\"]], \"type\": \"histogram2d\"}], \"histogram2dcontour\": [{\"colorbar\": {\"outlinewidth\": 0, \"ticks\": \"\"}, \"colorscale\": [[0.0, \"#0d0887\"], [0.1111111111111111, \"#46039f\"], [0.2222222222222222, \"#7201a8\"], [0.3333333333333333, \"#9c179e\"], [0.4444444444444444, \"#bd3786\"], [0.5555555555555556, \"#d8576b\"], [0.6666666666666666, \"#ed7953\"], [0.7777777777777778, \"#fb9f3a\"], [0.8888888888888888, \"#fdca26\"], [1.0, \"#f0f921\"]], \"type\": \"histogram2dcontour\"}], \"mesh3d\": [{\"colorbar\": {\"outlinewidth\": 0, \"ticks\": \"\"}, \"type\": \"mesh3d\"}], \"parcoords\": [{\"line\": {\"colorbar\": {\"outlinewidth\": 0, \"ticks\": \"\"}}, \"type\": \"parcoords\"}], \"pie\": [{\"automargin\": true, \"type\": \"pie\"}], \"scatter\": [{\"marker\": {\"colorbar\": {\"outlinewidth\": 0, \"ticks\": \"\"}}, \"type\": \"scatter\"}], \"scatter3d\": [{\"line\": {\"colorbar\": {\"outlinewidth\": 0, \"ticks\": \"\"}}, \"marker\": {\"colorbar\": {\"outlinewidth\": 0, \"ticks\": \"\"}}, \"type\": \"scatter3d\"}], \"scattercarpet\": [{\"marker\": {\"colorbar\": {\"outlinewidth\": 0, \"ticks\": \"\"}}, \"type\": \"scattercarpet\"}], \"scattergeo\": [{\"marker\": {\"colorbar\": {\"outlinewidth\": 0, \"ticks\": \"\"}}, \"type\": \"scattergeo\"}], \"scattergl\": [{\"marker\": {\"colorbar\": {\"outlinewidth\": 0, \"ticks\": \"\"}}, \"type\": \"scattergl\"}], \"scattermapbox\": [{\"marker\": {\"colorbar\": {\"outlinewidth\": 0, \"ticks\": \"\"}}, \"type\": \"scattermapbox\"}], \"scatterpolar\": [{\"marker\": {\"colorbar\": {\"outlinewidth\": 0, \"ticks\": \"\"}}, \"type\": \"scatterpolar\"}], \"scatterpolargl\": [{\"marker\": {\"colorbar\": {\"outlinewidth\": 0, \"ticks\": \"\"}}, \"type\": \"scatterpolargl\"}], \"scatterternary\": [{\"marker\": {\"colorbar\": {\"outlinewidth\": 0, \"ticks\": \"\"}}, \"type\": \"scatterternary\"}], \"surface\": [{\"colorbar\": {\"outlinewidth\": 0, \"ticks\": \"\"}, \"colorscale\": [[0.0, \"#0d0887\"], [0.1111111111111111, \"#46039f\"], [0.2222222222222222, \"#7201a8\"], [0.3333333333333333, \"#9c179e\"], [0.4444444444444444, \"#bd3786\"], [0.5555555555555556, \"#d8576b\"], [0.6666666666666666, \"#ed7953\"], [0.7777777777777778, \"#fb9f3a\"], [0.8888888888888888, \"#fdca26\"], [1.0, \"#f0f921\"]], \"type\": \"surface\"}], \"table\": [{\"cells\": {\"fill\": {\"color\": \"#EBF0F8\"}, \"line\": {\"color\": \"white\"}}, \"header\": {\"fill\": {\"color\": \"#C8D4E3\"}, \"line\": {\"color\": \"white\"}}, \"type\": \"table\"}]}, \"layout\": {\"annotationdefaults\": {\"arrowcolor\": \"#2a3f5f\", \"arrowhead\": 0, \"arrowwidth\": 1}, \"autotypenumbers\": \"strict\", \"coloraxis\": {\"colorbar\": {\"outlinewidth\": 0, \"ticks\": \"\"}}, \"colorscale\": {\"diverging\": [[0, \"#8e0152\"], [0.1, \"#c51b7d\"], [0.2, \"#de77ae\"], [0.3, \"#f1b6da\"], [0.4, \"#fde0ef\"], [0.5, \"#f7f7f7\"], [0.6, \"#e6f5d0\"], [0.7, \"#b8e186\"], [0.8, \"#7fbc41\"], [0.9, \"#4d9221\"], [1, \"#276419\"]], \"sequential\": [[0.0, \"#0d0887\"], [0.1111111111111111, \"#46039f\"], [0.2222222222222222, \"#7201a8\"], [0.3333333333333333, \"#9c179e\"], [0.4444444444444444, \"#bd3786\"], [0.5555555555555556, \"#d8576b\"], [0.6666666666666666, \"#ed7953\"], [0.7777777777777778, \"#fb9f3a\"], [0.8888888888888888, \"#fdca26\"], [1.0, \"#f0f921\"]], \"sequentialminus\": [[0.0, \"#0d0887\"], [0.1111111111111111, \"#46039f\"], [0.2222222222222222, \"#7201a8\"], [0.3333333333333333, \"#9c179e\"], [0.4444444444444444, \"#bd3786\"], [0.5555555555555556, \"#d8576b\"], [0.6666666666666666, \"#ed7953\"], [0.7777777777777778, \"#fb9f3a\"], [0.8888888888888888, \"#fdca26\"], [1.0, \"#f0f921\"]]}, \"colorway\": [\"#636efa\", \"#EF553B\", \"#00cc96\", \"#ab63fa\", \"#FFA15A\", \"#19d3f3\", \"#FF6692\", \"#B6E880\", \"#FF97FF\", \"#FECB52\"], \"font\": {\"color\": \"#2a3f5f\"}, \"geo\": {\"bgcolor\": \"white\", \"lakecolor\": \"white\", \"landcolor\": \"#E5ECF6\", \"showlakes\": true, \"showland\": true, \"subunitcolor\": \"white\"}, \"hoverlabel\": {\"align\": \"left\"}, \"hovermode\": \"closest\", \"mapbox\": {\"style\": \"light\"}, \"paper_bgcolor\": \"white\", \"plot_bgcolor\": \"#E5ECF6\", \"polar\": {\"angularaxis\": {\"gridcolor\": \"white\", \"linecolor\": \"white\", \"ticks\": \"\"}, \"bgcolor\": \"#E5ECF6\", \"radialaxis\": {\"gridcolor\": \"white\", \"linecolor\": \"white\", \"ticks\": \"\"}}, \"scene\": {\"xaxis\": {\"backgroundcolor\": \"#E5ECF6\", \"gridcolor\": \"white\", \"gridwidth\": 2, \"linecolor\": \"white\", \"showbackground\": true, \"ticks\": \"\", \"zerolinecolor\": \"white\"}, \"yaxis\": {\"backgroundcolor\": \"#E5ECF6\", \"gridcolor\": \"white\", \"gridwidth\": 2, \"linecolor\": \"white\", \"showbackground\": true, \"ticks\": \"\", \"zerolinecolor\": \"white\"}, \"zaxis\": {\"backgroundcolor\": \"#E5ECF6\", \"gridcolor\": \"white\", \"gridwidth\": 2, \"linecolor\": \"white\", \"showbackground\": true, \"ticks\": \"\", \"zerolinecolor\": \"white\"}}, \"shapedefaults\": {\"line\": {\"color\": \"#2a3f5f\"}}, \"ternary\": {\"aaxis\": {\"gridcolor\": \"white\", \"linecolor\": \"white\", \"ticks\": \"\"}, \"baxis\": {\"gridcolor\": \"white\", \"linecolor\": \"white\", \"ticks\": \"\"}, \"bgcolor\": \"#E5ECF6\", \"caxis\": {\"gridcolor\": \"white\", \"linecolor\": \"white\", \"ticks\": \"\"}}, \"title\": {\"x\": 0.05}, \"xaxis\": {\"automargin\": true, \"gridcolor\": \"white\", \"linecolor\": \"white\", \"ticks\": \"\", \"title\": {\"standoff\": 15}, \"zerolinecolor\": \"white\", \"zerolinewidth\": 2}, \"yaxis\": {\"automargin\": true, \"gridcolor\": \"white\", \"linecolor\": \"white\", \"ticks\": \"\", \"title\": {\"standoff\": 15}, \"zerolinecolor\": \"white\", \"zerolinewidth\": 2}}}, \"xaxis\": {\"showgrid\": false, \"showticklabels\": false, \"zeroline\": false}, \"yaxis\": {\"showgrid\": false, \"showticklabels\": false, \"zeroline\": false}},                        {\"responsive\": true}                    ).then(function(){\n                            \nvar gd = document.getElementById('2737e361-a72b-40a7-be3b-7c0610f39958');\nvar x = new MutationObserver(function (mutations, observer) {{\n        var display = window.getComputedStyle(gd).display;\n        if (!display || display === 'none') {{\n            console.log([gd, 'removed!']);\n            Plotly.purge(gd);\n            observer.disconnect();\n        }}\n}});\n\n// Listen for the removal of the full notebook cells\nvar notebookContainer = gd.closest('#notebook-container');\nif (notebookContainer) {{\n    x.observe(notebookContainer, {childList: true});\n}}\n\n// Listen for the clearing of the current output cell\nvar outputEl = gd.closest('.output');\nif (outputEl) {{\n    x.observe(outputEl, {childList: true});\n}}\n\n                        })                };                });            </script>        </div>"
     },
     "metadata": {},
     "output_type": "display_data"
    }
   ],
   "source": [
    "cluster_id = 2\n",
    "value = 20\n",
    "data = go.Scatter(\n",
    "                             x=[random.random() for i in range(30)],\n",
    "                             y=[random.random() for i in range(30)],\n",
    "                             mode='text',\n",
    "                             text=lda.get_top_n_word_probs_for_topic_i(cluster_id, value).Words,\n",
    "                             marker={'opacity': 0.3},\n",
    "                             textfont={'size': lda.get_top_n_word_probs_for_topic_i(cluster_id, value).Probabilities * 4000, \n",
    "                                   'color': lda.get_colors()[cluster_id]})\n",
    "layout = go.Layout({'xaxis': {'showgrid': False, 'showticklabels': False, 'zeroline': False},\n",
    "                                            'yaxis': {'showgrid': False, 'showticklabels': False, 'zeroline': False}})\n",
    "figure = go.Figure(data=[data], layout=layout)\n",
    "figure\n"
   ]
  }
 ],
 "metadata": {
  "kernelspec": {
   "display_name": "Python 3",
   "language": "python",
   "name": "python3"
  },
  "language_info": {
   "codemirror_mode": {
    "name": "ipython",
    "version": 3
   },
   "file_extension": ".py",
   "mimetype": "text/x-python",
   "name": "python",
   "nbconvert_exporter": "python",
   "pygments_lexer": "ipython3",
   "version": "3.8.5"
  }
 },
 "nbformat": 4,
 "nbformat_minor": 4
}