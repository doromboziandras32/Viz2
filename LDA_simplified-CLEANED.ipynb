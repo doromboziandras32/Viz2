{
 "cells": [
  {
   "cell_type": "code",
   "execution_count": 14,
   "metadata": {},
   "outputs": [],
   "source": [
    "from LDA_simplified import LDA"
   ]
  },
  {
   "cell_type": "code",
   "execution_count": 15,
   "metadata": {},
   "outputs": [
    {
     "name": "stdout",
     "output_type": "stream",
     "text": [
      "lda_bag_of_words\n",
      "<gensim.interfaces.TransformedCorpus object at 0x0000020D19419AC0>\n",
      "row\n",
      "[(1, 0.8488539), (4, 0.14335164)]\n",
      "row\n",
      "[(1, 0.993204)]\n",
      "row\n",
      "[(3, 0.9857594)]\n",
      "row\n",
      "[(3, 0.97720516)]\n",
      "row\n",
      "[(1, 0.98366904), (3, 0.010369334)]\n",
      "row\n",
      "[(2, 0.8237964), (0, 0.16596133)]\n",
      "row\n",
      "[(2, 0.98938674)]\n",
      "row\n",
      "[(4, 0.9894685)]\n",
      "row\n",
      "[(0, 0.99179345)]\n",
      "row\n",
      "[(3, 0.9915324)]\n",
      "row\n",
      "[(2, 0.9919239)]\n",
      "row\n",
      "[(4, 0.9874436)]\n",
      "row\n",
      "[(1, 0.9913924)]\n",
      "row\n",
      "[(0, 0.90884405), (3, 0.07749502)]\n",
      "row\n",
      "[(1, 0.87910664), (2, 0.11292602)]\n",
      "row\n",
      "[(1, 0.99125904)]\n",
      "row\n",
      "[(3, 0.9865284)]\n",
      "row\n",
      "[(1, 0.70446956), (2, 0.28746176)]\n",
      "row\n",
      "[(1, 0.98818725)]\n",
      "row\n",
      "[(1, 0.4619896), (0, 0.4003842), (2, 0.1329268)]\n",
      "row\n",
      "[(2, 0.9038775), (4, 0.08832174)]\n",
      "row\n",
      "[(3, 0.55670404), (4, 0.4387928)]\n",
      "row\n",
      "[(4, 0.98876315)]\n",
      "row\n",
      "[(2, 0.99172086)]\n",
      "row\n",
      "[(3, 0.98740906)]\n",
      "row\n",
      "[(3, 0.9796473)]\n",
      "row\n",
      "[(4, 0.9842192)]\n",
      "row\n",
      "[(1, 0.98923457)]\n",
      "row\n",
      "[(1, 0.6445352), (2, 0.22665453), (0, 0.12278563)]\n",
      "row\n",
      "[(0, 0.9889345)]\n",
      "row\n",
      "[(3, 0.9759138)]\n",
      "row\n",
      "[(4, 0.9888008)]\n",
      "row\n",
      "[(1, 0.9814096)]\n",
      "row\n",
      "[(2, 0.98950064)]\n",
      "row\n",
      "[(3, 0.982918)]\n",
      "row\n",
      "[(3, 0.65965366), (1, 0.33365494)]\n",
      "row\n",
      "[(2, 0.99120724)]\n",
      "row\n",
      "[(1, 0.9813338), (2, 0.010992261)]\n",
      "row\n",
      "[(3, 0.986172)]\n",
      "row\n",
      "[(2, 0.9532173), (3, 0.040091794)]\n",
      "row\n",
      "[(3, 0.99174064)]\n",
      "row\n",
      "[(4, 0.98741275)]\n",
      "row\n",
      "[(2, 0.98585796)]\n",
      "row\n",
      "[(2, 0.6394732), (0, 0.3553941)]\n",
      "row\n",
      "[(2, 0.9924163)]\n",
      "row\n",
      "[(4, 0.99279916)]\n",
      "row\n",
      "[(1, 0.98861545)]\n",
      "row\n",
      "[(3, 0.9839458)]\n",
      "row\n",
      "[(1, 0.993606)]\n",
      "row\n",
      "[(4, 0.80605507), (3, 0.18052694)]\n",
      "row\n",
      "[(1, 0.99374986)]\n",
      "row\n",
      "[(1, 0.98364836)]\n",
      "row\n",
      "[(0, 0.98371935)]\n",
      "row\n",
      "[(1, 0.99313253)]\n",
      "row\n",
      "[(1, 0.98966354)]\n",
      "row\n",
      "[(2, 0.848987), (1, 0.14004315)]\n",
      "row\n",
      "[(2, 0.73567694), (1, 0.25566414)]\n",
      "row\n",
      "[(2, 0.991226)]\n",
      "row\n",
      "[(2, 0.69851595), (3, 0.26996008), (0, 0.024438325)]\n",
      "row\n",
      "[(2, 0.983341)]\n",
      "row\n",
      "[(1, 0.5908762), (2, 0.40036097)]\n",
      "row\n",
      "[(4, 0.9942586)]\n",
      "row\n",
      "[(3, 0.52176857), (4, 0.45734388), (2, 0.010617079)]\n",
      "row\n",
      "[(2, 0.51360863), (4, 0.47810656)]\n",
      "row\n",
      "[(2, 0.5330269), (1, 0.4559955)]\n",
      "row\n",
      "[(1, 0.9929698)]\n",
      "row\n",
      "[(1, 0.98876923)]\n",
      "row\n",
      "[(0, 0.9821965)]\n",
      "row\n",
      "[(3, 0.6384559), (4, 0.35208106)]\n",
      "row\n",
      "[(2, 0.98906404)]\n",
      "row\n",
      "[(3, 0.97955936)]\n",
      "row\n",
      "[(3, 0.78697175), (1, 0.105614245), (4, 0.10314196)]\n",
      "row\n",
      "[(0, 0.9845552)]\n",
      "row\n",
      "[(3, 0.98592985)]\n",
      "row\n",
      "[(4, 0.98892176)]\n",
      "row\n",
      "[(3, 0.9892911)]\n",
      "row\n",
      "[(2, 0.98287493)]\n",
      "row\n",
      "[(0, 0.9758818)]\n",
      "row\n",
      "[(1, 0.9928799)]\n",
      "row\n",
      "[(2, 0.9898502)]\n",
      "row\n",
      "[(4, 0.80201715), (1, 0.19132584)]\n",
      "row\n",
      "[(1, 0.8287139), (3, 0.15849063)]\n",
      "row\n",
      "[(1, 0.97699714), (2, 0.01424812)]\n",
      "row\n",
      "[(4, 0.9922942)]\n",
      "row\n",
      "[(0, 0.7704561), (4, 0.22174728)]\n",
      "row\n",
      "[(1, 0.5981862), (3, 0.3605722), (2, 0.036189537)]\n",
      "row\n",
      "[(4, 0.9906232)]\n",
      "row\n",
      "[(3, 0.5777624), (1, 0.41162038)]\n",
      "row\n",
      "[(2, 0.491331), (1, 0.40284652), (4, 0.07593351), (3, 0.02778918)]\n",
      "row\n",
      "[(0, 0.99272305)]\n",
      "row\n",
      "[(0, 0.9894674)]\n",
      "row\n",
      "[(4, 0.83730274), (1, 0.11603311), (0, 0.043064248)]\n",
      "row\n",
      "[(4, 0.967017), (3, 0.024085648)]\n",
      "row\n",
      "[(2, 0.8778969), (4, 0.11141345)]\n",
      "row\n",
      "[(2, 0.98963755)]\n",
      "row\n",
      "[(1, 0.5702609), (2, 0.4187239)]\n",
      "row\n",
      "[(1, 0.98635143)]\n",
      "row\n",
      "[(1, 0.99058974)]\n",
      "row\n",
      "[(1, 0.9766043)]\n",
      "row\n",
      "[(3, 0.9810285), (2, 0.012215526)]\n",
      "row\n",
      "[(2, 0.9845952)]\n",
      "row\n",
      "[(2, 0.98182935)]\n",
      "row\n",
      "[(1, 0.9825066)]\n",
      "row\n",
      "[(3, 0.98702586)]\n",
      "row\n",
      "[(0, 0.9853814)]\n",
      "row\n",
      "[(3, 0.9428804), (2, 0.050520252)]\n",
      "row\n",
      "[(4, 0.9879841)]\n",
      "row\n",
      "[(2, 0.9744761)]\n",
      "row\n",
      "[(1, 0.98632014)]\n",
      "row\n",
      "[(1, 0.6465946), (3, 0.33728352)]\n",
      "row\n",
      "[(2, 0.813099), (0, 0.17259473)]\n",
      "row\n",
      "[(4, 0.98762304)]\n",
      "row\n",
      "[(3, 0.6280134), (2, 0.3650948)]\n",
      "row\n",
      "[(0, 0.9395367), (4, 0.052181803)]\n",
      "row\n",
      "[(3, 0.93328714), (1, 0.05911772)]\n",
      "row\n",
      "[(1, 0.9880246)]\n",
      "row\n",
      "[(4, 0.6979144), (3, 0.28976184)]\n",
      "row\n",
      "[(3, 0.5959072), (4, 0.397815)]\n",
      "row\n",
      "[(2, 0.9839193)]\n",
      "row\n",
      "[(3, 0.97841084)]\n",
      "row\n",
      "[(1, 0.9904519)]\n",
      "row\n",
      "[(2, 0.49653047), (1, 0.41151792), (0, 0.08434985)]\n",
      "row\n",
      "[(4, 0.98700005)]\n",
      "row\n",
      "[(0, 0.98807925)]\n",
      "row\n",
      "[(2, 0.9810234)]\n",
      "row\n",
      "[(2, 0.99120003)]\n",
      "row\n",
      "[(3, 0.99070305)]\n",
      "row\n",
      "[(2, 0.56838244), (1, 0.42354247)]\n",
      "row\n",
      "[(3, 0.51316315), (1, 0.47754726)]\n",
      "row\n",
      "[(4, 0.99104476)]\n",
      "row\n",
      "[(1, 0.98661155)]\n",
      "row\n",
      "[(4, 0.99109566)]\n",
      "row\n",
      "[(1, 0.98589134)]\n",
      "row\n",
      "[(4, 0.98934597)]\n",
      "row\n",
      "[(3, 0.9861003)]\n",
      "row\n",
      "[(2, 0.98984456)]\n",
      "row\n",
      "[(1, 0.99057776)]\n",
      "row\n",
      "[(0, 0.9804367)]\n",
      "row\n",
      "[(2, 0.98659307)]\n",
      "row\n",
      "[(2, 0.982163)]\n",
      "row\n",
      "[(4, 0.9242891), (2, 0.06526361)]\n",
      "row\n",
      "[(2, 0.7735528), (3, 0.21283863)]\n",
      "row\n",
      "[(4, 0.6060451), (3, 0.38538775)]\n",
      "row\n",
      "[(1, 0.98788023)]\n",
      "row\n",
      "[(1, 0.9813713)]\n",
      "row\n",
      "[(2, 0.9893833)]\n",
      "row\n",
      "[(1, 0.9851149)]\n",
      "row\n",
      "[(1, 0.9199399), (4, 0.06748848)]\n",
      "row\n",
      "[(3, 0.73087674), (0, 0.25753412)]\n",
      "row\n",
      "[(0, 0.9896377)]\n",
      "row\n",
      "[(1, 0.9812428), (3, 0.013131662)]\n",
      "row\n",
      "[(2, 0.98880327)]\n",
      "row\n",
      "[(2, 0.9905436)]\n",
      "row\n",
      "[(0, 0.6635629), (4, 0.26150152), (2, 0.07009837)]\n",
      "row\n",
      "[(1, 0.8746519), (0, 0.11817609)]\n",
      "row\n",
      "[(1, 0.9716228), (3, 0.023380218)]\n",
      "row\n",
      "[(4, 0.58994377), (1, 0.2393914), (3, 0.16805099)]\n",
      "row\n",
      "[(3, 0.9898853)]\n",
      "row\n",
      "[(3, 0.99213547)]\n",
      "row\n",
      "[(2, 0.9915585)]\n",
      "row\n",
      "[(2, 0.9949342)]\n",
      "row\n",
      "[(2, 0.9935609)]\n",
      "row\n",
      "[(1, 0.9920727)]\n",
      "row\n",
      "[(2, 0.994158)]\n",
      "row\n",
      "[(1, 0.9873605)]\n",
      "row\n",
      "[(1, 0.57343125), (3, 0.4210389)]\n",
      "row\n",
      "[(2, 0.99025285)]\n",
      "row\n",
      "[(1, 0.994624)]\n",
      "row\n",
      "[(1, 0.74932265), (3, 0.24375981)]\n",
      "row\n",
      "[(3, 0.98906887)]\n",
      "row\n",
      "[(3, 0.88510907), (2, 0.107209995)]\n",
      "row\n",
      "[(1, 0.98359895)]\n",
      "row\n",
      "[(3, 0.9845076)]\n",
      "row\n",
      "[(2, 0.72369975), (1, 0.268631)]\n",
      "row\n",
      "[(1, 0.98974997)]\n",
      "row\n",
      "[(3, 0.98972845)]\n",
      "row\n",
      "[(0, 0.59000367), (2, 0.3661071), (3, 0.038989455)]\n",
      "row\n",
      "[(4, 0.989399)]\n",
      "row\n",
      "[(3, 0.98772806)]\n",
      "row\n",
      "[(2, 0.58526695), (1, 0.40697518)]\n",
      "row\n",
      "[(3, 0.9897757)]\n",
      "row\n",
      "[(4, 0.98759794)]\n",
      "row\n",
      "[(3, 0.9932685)]\n",
      "row\n",
      "[(0, 0.77237445), (1, 0.17932662), (2, 0.041968223)]\n",
      "row\n",
      "[(0, 0.9930438)]\n",
      "row\n",
      "[(3, 0.98775744)]\n",
      "row\n",
      "[(3, 0.8666636), (1, 0.12566224)]\n",
      "row\n",
      "[(0, 0.98089)]\n",
      "row\n",
      "[(3, 0.5861055), (0, 0.4071396)]\n",
      "row\n",
      "[(1, 0.73145384), (0, 0.2597716)]\n",
      "row\n",
      "[(1, 0.9861331)]\n",
      "row\n",
      "[(1, 0.9875732)]\n",
      "row\n",
      "[(1, 0.99344593)]\n",
      "row\n",
      "[(3, 0.9327442), (1, 0.058856487)]\n",
      "row\n",
      "[(4, 0.9863269)]\n",
      "row\n",
      "[(0, 0.90576756), (2, 0.089302614)]\n",
      "row\n",
      "[(2, 0.9323095), (0, 0.061276853)]\n",
      "row\n",
      "[(2, 0.9600924), (1, 0.022064872), (4, 0.014946986)]\n",
      "row\n",
      "[(3, 0.9910843)]\n",
      "row\n",
      "[(2, 0.9916561)]\n",
      "row\n",
      "[(2, 0.9208995), (1, 0.07501402)]\n",
      "row\n",
      "[(3, 0.98742115)]\n",
      "row\n",
      "[(1, 0.9846693)]\n",
      "row\n",
      "[(3, 0.9928057)]\n",
      "row\n",
      "[(1, 0.68258435), (3, 0.3083844)]\n",
      "row\n",
      "[(4, 0.9908073)]\n",
      "row\n",
      "[(3, 0.9895013)]\n",
      "row\n",
      "[(3, 0.68218046), (4, 0.31236857)]\n",
      "row\n",
      "[(2, 0.9844236)]\n",
      "row\n",
      "[(1, 0.9944083)]\n",
      "row\n",
      "[(2, 0.9854122)]\n",
      "row\n",
      "[(3, 0.9898993)]\n",
      "row\n",
      "[(0, 0.98931164)]\n",
      "row\n",
      "[(4, 0.98837876)]\n",
      "row\n",
      "[(3, 0.7088749), (4, 0.16956303), (0, 0.115825236)]\n",
      "row\n",
      "[(1, 0.9848332)]\n",
      "row\n",
      "[(2, 0.9916646)]\n",
      "row\n",
      "[(2, 0.98613137)]\n",
      "row\n",
      "[(0, 0.55449253), (2, 0.28668275), (1, 0.15414478)]\n",
      "row\n",
      "[(4, 0.9916694)]\n",
      "row\n",
      "[(4, 0.815689), (3, 0.104471005), (2, 0.07565638)]\n",
      "row\n",
      "[(2, 0.99255913)]\n",
      "row\n",
      "[(3, 0.69789326), (4, 0.19041169), (2, 0.10459121)]\n",
      "row\n",
      "[(4, 0.5112662), (2, 0.4821267)]\n",
      "row\n",
      "[(1, 0.9374805), (3, 0.01567617), (4, 0.015660737), (2, 0.01561449), (0, 0.015568052)]\n",
      "row\n",
      "[(4, 0.6971471), (2, 0.29383823)]\n",
      "row\n",
      "[(1, 0.60094494), (4, 0.3931456)]\n",
      "row\n",
      "[(2, 0.98563695)]\n",
      "row\n",
      "[(2, 0.8227146), (4, 0.17207439)]\n",
      "row\n",
      "[(4, 0.7230368), (1, 0.16864865), (2, 0.10448189)]\n",
      "row\n",
      "[(3, 0.5165915), (1, 0.47885722)]\n",
      "row\n",
      "[(4, 0.9932409)]\n",
      "row\n",
      "[(1, 0.98952115)]\n",
      "row\n",
      "[(4, 0.9942343)]\n",
      "row\n",
      "[(4, 0.9895365)]\n",
      "row\n",
      "[(2, 0.58397424), (3, 0.40550777)]\n",
      "row\n",
      "[(1, 0.99180037)]\n",
      "row\n",
      "[(2, 0.7399751), (3, 0.2527764)]\n",
      "row\n",
      "[(4, 0.9437827), (1, 0.051584873)]\n",
      "row\n",
      "[(4, 0.99113345)]\n",
      "row\n",
      "[(2, 0.9928989)]\n",
      "row\n",
      "[(2, 0.90788406), (3, 0.082388565)]\n",
      "row\n",
      "[(1, 0.98461735)]\n",
      "row\n",
      "[(3, 0.9887811)]\n",
      "row\n",
      "[(2, 0.7660928), (3, 0.22791941)]\n",
      "row\n",
      "[(3, 0.9936455)]\n",
      "row\n",
      "[(0, 0.81397754), (1, 0.17698015)]\n",
      "row\n",
      "[(4, 0.98542815)]\n",
      "row\n",
      "[(2, 0.9947165)]\n",
      "row\n",
      "[(2, 0.99164075)]\n",
      "row\n",
      "[(3, 0.63661236), (2, 0.35379818)]\n",
      "row\n",
      "[(3, 0.8970808), (2, 0.09427854)]\n",
      "row\n",
      "[(1, 0.8945028), (4, 0.10172547)]\n",
      "row\n",
      "[(3, 0.9196394), (1, 0.07360583)]\n",
      "row\n",
      "[(2, 0.99204534)]\n",
      "row\n",
      "[(2, 0.80105937), (1, 0.16325822), (3, 0.03236589)]\n",
      "row\n",
      "[(1, 0.9943672)]\n",
      "row\n",
      "[(3, 0.98989666)]\n",
      "row\n",
      "[(2, 0.99024266)]\n",
      "row\n",
      "[(0, 0.5287047), (1, 0.46311516)]\n",
      "row\n",
      "[(4, 0.9342028), (1, 0.060986236)]\n",
      "row\n",
      "[(1, 0.8213536), (4, 0.16903712)]\n",
      "row\n",
      "[(1, 0.9889127)]\n",
      "row\n",
      "[(1, 0.9910932)]\n",
      "row\n",
      "[(0, 0.9943853)]\n",
      "row\n",
      "[(1, 0.9937988)]\n",
      "row\n",
      "[(3, 0.994204)]\n",
      "row\n",
      "[(4, 0.51865447), (2, 0.47636825)]\n",
      "row\n",
      "[(2, 0.9937862)]\n",
      "row\n",
      "[(2, 0.790076), (1, 0.2024429)]\n",
      "row\n",
      "[(3, 0.98779017)]\n",
      "row\n",
      "[(1, 0.6983645), (3, 0.29273063)]\n",
      "row\n",
      "[(3, 0.9898292)]\n",
      "row\n",
      "[(2, 0.95019245), (4, 0.042828914)]\n",
      "row\n",
      "[(2, 0.9905809)]\n",
      "row\n",
      "[(2, 0.9561182), (1, 0.03819633)]\n",
      "row\n",
      "[(3, 0.9861447)]\n",
      "row\n",
      "[(4, 0.98945755)]\n",
      "row\n",
      "[(3, 0.9932191)]\n",
      "row\n",
      "[(3, 0.656876), (1, 0.33735114)]\n",
      "row\n",
      "[(1, 0.99635315)]\n",
      "row\n",
      "[(1, 0.9938511)]\n",
      "row\n",
      "[(3, 0.5559298), (1, 0.30879706), (2, 0.1319066)]\n",
      "row\n",
      "[(1, 0.990202)]\n",
      "row\n",
      "[(1, 0.9886353)]\n",
      "row\n",
      "[(1, 0.9914726)]\n",
      "row\n",
      "[(2, 0.8714061), (1, 0.122463085)]\n",
      "row\n",
      "[(0, 0.9908196)]\n",
      "row\n",
      "[(3, 0.5400358), (4, 0.45575055)]\n",
      "row\n",
      "[(1, 0.64464885), (3, 0.18428674), (2, 0.1676039)]\n",
      "row\n",
      "[(1, 0.9912681)]\n",
      "row\n",
      "[(1, 0.9930096)]\n",
      "row\n",
      "[(0, 0.99048126)]\n",
      "row\n",
      "[(4, 0.99047005)]\n",
      "row\n",
      "[(2, 0.99128014)]\n",
      "row\n",
      "[(3, 0.9927377)]\n",
      "row\n",
      "[(0, 0.7221539), (1, 0.26645777)]\n",
      "row\n",
      "[(2, 0.9840364)]\n",
      "row\n",
      "[(2, 0.9942605)]\n",
      "row\n",
      "[(1, 0.9292259), (4, 0.062785804)]\n",
      "row\n",
      "[(2, 0.7382522), (4, 0.25738278)]\n",
      "row\n",
      "[(3, 0.99179393)]\n",
      "row\n",
      "[(2, 0.6505399), (1, 0.3436186)]\n",
      "row\n",
      "[(1, 0.9910157)]\n",
      "row\n",
      "[(4, 0.5032047), (3, 0.38818994), (1, 0.10332775)]\n",
      "row\n",
      "[(2, 0.99443847)]\n",
      "row\n",
      "[(0, 0.57913184), (2, 0.41092804)]\n",
      "row\n",
      "[(0, 0.728458), (1, 0.18829311), (3, 0.07979752)]\n",
      "row\n",
      "[(1, 0.9911049)]\n",
      "row\n",
      "[(1, 0.99221647)]\n",
      "row\n",
      "[(3, 0.6622695), (1, 0.33260062)]\n",
      "row\n",
      "[(2, 0.9912082)]\n",
      "row\n",
      "[(0, 0.99169934)]\n",
      "row\n",
      "[(0, 0.9869704)]\n",
      "row\n",
      "[(1, 0.98510367)]\n",
      "row\n",
      "[(1, 0.5523474), (4, 0.44264242)]\n",
      "row\n",
      "[(1, 0.99350923)]\n",
      "row\n",
      "[(3, 0.9913766)]\n",
      "row\n",
      "[(0, 0.9862971)]\n",
      "row\n",
      "[(3, 0.53431445), (2, 0.37843576), (1, 0.07980325)]\n",
      "row\n",
      "[(2, 0.9919655)]\n",
      "row\n",
      "[(2, 0.7818668), (1, 0.21153413)]\n",
      "row\n",
      "[(1, 0.99157834)]\n",
      "row\n",
      "[(1, 0.62484264), (3, 0.36785832)]\n",
      "row\n",
      "[(0, 0.99224335)]\n",
      "row\n",
      "[(0, 0.8837647), (2, 0.10879709)]\n",
      "row\n",
      "[(3, 0.99557745)]\n",
      "row\n",
      "[(2, 0.9913917)]\n",
      "row\n",
      "[(0, 0.6335011), (3, 0.35719234)]\n",
      "row\n",
      "[(2, 0.7606819), (4, 0.23356491)]\n",
      "row\n",
      "[(4, 0.63696873), (1, 0.35845065)]\n",
      "row\n",
      "[(3, 0.85332996), (0, 0.14005509)]\n",
      "row\n",
      "[(4, 0.48534226), (2, 0.44545025), (3, 0.064363755)]\n",
      "row\n",
      "[(2, 0.9136093), (1, 0.08013041)]\n",
      "row\n",
      "[(3, 0.9906313)]\n",
      "row\n",
      "[(4, 0.92904186), (3, 0.06498551)]\n",
      "row\n",
      "[(4, 0.7554197), (2, 0.23923546)]\n",
      "row\n",
      "[(1, 0.97572494), (4, 0.019590922)]\n",
      "row\n",
      "[(4, 0.93822485), (2, 0.054212842)]\n",
      "row\n",
      "[(2, 0.99424696)]\n",
      "row\n",
      "[(0, 0.64786184), (1, 0.34655383)]\n",
      "row\n",
      "[(1, 0.6479905), (0, 0.27750298), (4, 0.0704365)]\n",
      "row\n",
      "[(4, 0.4114956), (1, 0.22704734), (2, 0.1974103), (3, 0.16220436)]\n",
      "row\n",
      "[(3, 0.9920146)]\n",
      "row\n",
      "[(2, 0.52643335), (1, 0.4678845)]\n",
      "row\n",
      "[(2, 0.51886356), (1, 0.47367424)]\n",
      "row\n",
      "[(1, 0.81248504), (4, 0.18371892)]\n",
      "row\n",
      "[(4, 0.9932869)]\n",
      "row\n",
      "[(1, 0.46902192), (3, 0.36367726), (2, 0.16406465)]\n",
      "row\n",
      "[(1, 0.9943274)]\n",
      "row\n",
      "[(2, 0.56738436), (1, 0.21687654), (3, 0.21198916)]\n",
      "row\n",
      "[(4, 0.99164134)]\n",
      "row\n",
      "[(1, 0.9905879)]\n",
      "row\n",
      "[(3, 0.9904448)]\n",
      "row\n",
      "[(1, 0.99048495)]\n",
      "row\n",
      "[(0, 0.92651933), (4, 0.06731835)]\n",
      "row\n",
      "[(1, 0.9943686)]\n",
      "row\n",
      "[(1, 0.9795807), (4, 0.015946316)]\n",
      "row\n",
      "[(3, 0.9934721)]\n",
      "row\n",
      "[(1, 0.99000907)]\n",
      "row\n",
      "[(4, 0.52483577), (2, 0.291178), (0, 0.17860009)]\n",
      "row\n",
      "[(2, 0.7204608), (1, 0.26625133), (0, 0.0103899)]\n",
      "row\n",
      "[(1, 0.99047005)]\n",
      "row\n",
      "[(1, 0.80185163), (4, 0.19303328)]\n",
      "row\n",
      "[(1, 0.75895774), (4, 0.23062731)]\n",
      "row\n",
      "[(2, 0.9936196)]\n",
      "row\n",
      "[(1, 0.99317235)]\n",
      "row\n",
      "[(1, 0.93478715), (4, 0.060334794)]\n",
      "row\n",
      "[(1, 0.98949283)]\n",
      "row\n",
      "[(0, 0.6204756), (1, 0.3736616)]\n",
      "row\n",
      "[(2, 0.68413335), (1, 0.30524465)]\n",
      "row\n",
      "[(3, 0.610027), (4, 0.3338003), (1, 0.052643087)]\n",
      "row\n",
      "[(2, 0.66626036), (4, 0.289445), (3, 0.040133554)]\n",
      "row\n",
      "[(4, 0.7198), (2, 0.27514315)]\n",
      "row\n",
      "[(2, 0.99483943)]\n",
      "row\n",
      "[(0, 0.7465466), (3, 0.17133632), (1, 0.054769233), (2, 0.025901696)]\n",
      "row\n",
      "[(2, 0.62560517), (0, 0.33280775), (3, 0.034596074)]\n",
      "row\n",
      "[(2, 0.99057555)]\n",
      "row\n",
      "[(4, 0.99426603)]\n",
      "row\n",
      "[(2, 0.9903829)]\n",
      "row\n",
      "[(1, 0.7067857), (0, 0.27178434), (3, 0.019170545)]\n",
      "row\n",
      "[(2, 0.62662804), (1, 0.36588198)]\n",
      "row\n",
      "[(1, 0.9920436)]\n",
      "row\n",
      "[(1, 0.984512)]\n",
      "row\n",
      "[(4, 0.9896341)]\n",
      "row\n",
      "[(2, 0.99312913)]\n",
      "row\n",
      "[(2, 0.9325299), (4, 0.06308007)]\n",
      "row\n",
      "[(4, 0.99539065)]\n",
      "row\n",
      "[(3, 0.93072134), (1, 0.06450325)]\n",
      "row\n",
      "[(1, 0.9875618)]\n",
      "row\n",
      "[(0, 0.64202785), (4, 0.27918363), (2, 0.07465177)]\n",
      "row\n",
      "[(1, 0.6112358), (4, 0.24584153), (2, 0.1376097)]\n",
      "row\n",
      "[(4, 0.9912694)]\n",
      "row\n",
      "[(4, 0.98846817)]\n",
      "row\n",
      "[(0, 0.77297395), (4, 0.20894022), (1, 0.013847529)]\n",
      "row\n",
      "[(4, 0.9912883)]\n",
      "row\n",
      "[(4, 0.89826417), (3, 0.09468256)]\n",
      "row\n",
      "[(4, 0.9916379)]\n",
      "row\n",
      "[(2, 0.8581555), (1, 0.13424397)]\n",
      "row\n",
      "[(4, 0.9863663)]\n",
      "row\n",
      "[(2, 0.58784944), (3, 0.38958013), (4, 0.018798243)]\n",
      "row\n",
      "[(1, 0.9670282), (2, 0.02828435)]\n",
      "row\n",
      "[(1, 0.99398303)]\n",
      "row\n",
      "[(1, 0.4021312), (4, 0.37690717), (2, 0.21743345)]\n",
      "row\n",
      "[(2, 0.9102655), (1, 0.0849453)]\n",
      "row\n",
      "[(2, 0.9920018)]\n",
      "row\n",
      "[(0, 0.99138373)]\n",
      "row\n",
      "[(2, 0.98695415)]\n",
      "row\n",
      "[(2, 0.99001414)]\n",
      "row\n",
      "[(4, 0.91212314), (2, 0.07799021)]\n",
      "row\n",
      "[(3, 0.64027196), (0, 0.27894244), (2, 0.076503016)]\n",
      "row\n",
      "[(0, 0.9796403)]\n",
      "row\n",
      "[(0, 0.9896076)]\n",
      "row\n",
      "[(1, 0.5308223), (2, 0.29049298), (0, 0.17351215)]\n",
      "row\n",
      "[(0, 0.9434599), (4, 0.04952047)]\n",
      "row\n",
      "[(1, 0.99174714)]\n",
      "row\n",
      "[(4, 0.99167544)]\n",
      "row\n",
      "[(4, 0.8858708), (2, 0.108881615)]\n",
      "row\n",
      "[(1, 0.99241996)]\n",
      "row\n",
      "[(3, 0.98860574)]\n",
      "row\n",
      "[(1, 0.60478896), (4, 0.2513811), (2, 0.13859041)]\n",
      "row\n",
      "[(2, 0.9292335), (4, 0.067773946)]\n",
      "row\n",
      "[(1, 0.99300736)]\n",
      "row\n",
      "[(4, 0.9938799)]\n",
      "row\n",
      "[(3, 0.71832037), (2, 0.27709204)]\n",
      "row\n",
      "[(1, 0.985904)]\n",
      "row\n",
      "[(1, 0.99226815)]\n",
      "row\n",
      "[(0, 0.33465764), (3, 0.29531452), (4, 0.18686399), (1, 0.11371052), (2, 0.06945331)]\n",
      "row\n",
      "[(1, 0.9683326), (2, 0.026320407)]\n",
      "row\n",
      "[(2, 0.98967266)]\n",
      "row\n",
      "[(0, 0.39080968), (2, 0.30084595), (1, 0.18006827), (4, 0.12657231)]\n",
      "row\n",
      "[(2, 0.9204607), (1, 0.075418465)]\n",
      "row\n",
      "[(4, 0.9922776)]\n",
      "row\n",
      "[(0, 0.9903332)]\n",
      "row\n",
      "[(0, 0.98740673)]\n",
      "row\n",
      "[(1, 0.9916631)]\n",
      "row\n",
      "[(3, 0.9915499)]\n",
      "row\n",
      "[(2, 0.7195116), (1, 0.27434146)]\n",
      "row\n",
      "[(1, 0.9894162)]\n",
      "row\n",
      "[(2, 0.9525059), (3, 0.040824145)]\n",
      "row\n",
      "[(1, 0.7900936), (2, 0.16150542), (4, 0.04399737)]\n",
      "row\n",
      "[(1, 0.50267035), (4, 0.2466865), (0, 0.24623153)]\n",
      "row\n",
      "[(0, 0.99370277)]\n",
      "row\n",
      "[(2, 0.9905623)]\n",
      "row\n",
      "[(2, 0.9928308)]\n",
      "row\n",
      "[(1, 0.99360925)]\n",
      "row\n",
      "[(0, 0.82934403), (2, 0.16576639)]\n",
      "row\n",
      "[(2, 0.9887804)]\n"
     ]
    },
    {
     "name": "stderr",
     "output_type": "stream",
     "text": [
      "C:\\Users\\Andras\\TU\\Visualization 2\\wordcloud\\LDA_simplified.py:513: SettingWithCopyWarning:\n",
      "\n",
      "\n",
      "A value is trying to be set on a copy of a slice from a DataFrame.\n",
      "Try using .loc[row_indexer,col_indexer] = value instead\n",
      "\n",
      "See the caveats in the documentation: https://pandas.pydata.org/pandas-docs/stable/user_guide/indexing.html#returning-a-view-versus-a-copy\n",
      "\n"
     ]
    }
   ],
   "source": [
    "#lda = LDA(5,'/Users/timi/Documents/TU/Python/Viz2/Project/aktuell/InfovisVAST-papers.jig.txt')\n",
    "#lda = LDA(5,'C:/Users/Andras/TU/Visualization 2/Viz2_Project/data/InfovisVAST-papers.jig.txt')\n",
    "lda = LDA(5,'InfovisVAST-papers.jig.txt')"
   ]
  },
  {
   "cell_type": "markdown",
   "metadata": {},
   "source": [
    "Build up the nodes and edges for the cytoscape network graph"
   ]
  },
  {
   "cell_type": "code",
   "execution_count": 16,
   "metadata": {},
   "outputs": [],
   "source": [
    "# extract the color from class settings: will be defined in stylesheet\n",
    "# the label is the top 4 words\n",
    "# position defined by lda\n",
    "def get_graph_topic_nodes():\n",
    "    return [{'data': {'id': id_, 'label': vals[0]},\n",
    "             'classes': f'topic_{vals[1]}'                                                                                        #,\"opacity\": 0.1\n",
    "            ,'position':{'x' : vals[2][0] , 'y' : vals[2][1]}\n",
    "            } for id_,vals in lda.get_topic_nodes_().items()                        \n",
    "        ]"
   ]
  },
  {
   "cell_type": "code",
   "execution_count": 17,
   "metadata": {},
   "outputs": [],
   "source": [
    "# document nodes: id by document id, class defined in stylesheet,\n",
    "# define the color and belonging\n",
    "def get_graph_document_nodes():\n",
    "    return [                       \n",
    "            {'data': {'id': id_,'size': 1000}, \n",
    "             'style': {'shape': 'circle'},\n",
    "             'classes': vals[1]\n",
    "             #vals[1]\n",
    "            } for id_,vals in lda.get_doc_nodes_().items()                        \n",
    "        ]\n"
   ]
  },
  {
   "cell_type": "code",
   "execution_count": 18,
   "metadata": {},
   "outputs": [],
   "source": [
    "# document edges based on cosine similarity\n",
    "def get_graph_cos_sim_edges():\n",
    "        return [\n",
    "            {'data': {'source': f[0], 'target': f[1],'label': f'{f[0]} -> {f[1]}'}} for f in lda.get_edges_()\n",
    "        ]"
   ]
  },
  {
   "cell_type": "code",
   "execution_count": 19,
   "metadata": {},
   "outputs": [],
   "source": [
    "# edges between the  topics and the related documents: they are invisible\n",
    "def get_doc_topic_edges():\n",
    "    return  [\n",
    "            {'data': {'source': id_, 'target': vals[2],'label': f'{id_} -> {vals[2]}',\"edgeLength\":200, 'size': 5},\n",
    "            'style': {'line-color': 'white', \"opacity\": 0}}  for id_,vals in lda.get_doc_nodes_().items() \n",
    "        ]"
   ]
  },
  {
   "cell_type": "code",
   "execution_count": 20,
   "metadata": {},
   "outputs": [],
   "source": [
    "# Update stylessheet:  define all the new clusters class settings\n",
    "# after the update_lda step e.g.\n",
    "def update_stylesheet():\n",
    "    colors = sorted(set([vals[1] for id_,vals in lda.get_doc_nodes_().items()]))\n",
    "    #get the new colors for the topics and the nodes\n",
    "    node_classes = [{\n",
    "                    'selector': f'.{c}',\n",
    "                    'style': {\n",
    "                        'background-color': c\n",
    "                    }\n",
    "                } for c in colors]\n",
    "    \n",
    "    topic_classes = [{\n",
    "                    'selector': f'.topic_{c}',\n",
    "                    'style': { 'border-color': c,\n",
    "               'border-width': 2,        \n",
    "               'background-color': 'white',\n",
    "                'shape': 'rectangle','content': 'data(label)','text-halign':'center',\n",
    "                'text-valign':'center','text-wrap': 'wrap','width':'label','height':'label'}\n",
    "                }for c in colors     ]\n",
    "\n",
    "    \n",
    "    return node_classes + topic_classes   # Class selectors\n",
    "                 \n",
    "                           \n",
    "            "
   ]
  },
  {
   "cell_type": "code",
   "execution_count": 21,
   "metadata": {
    "pycharm": {
     "name": "#%%\n"
    }
   },
   "outputs": [
    {
     "data": {
      "text/plain": "{'labels': ['Clusters',\n  'Cluster 0',\n  'Cluster 1',\n  'Cluster 2',\n  'Cluster 3',\n  'Cluster 4'],\n 'parents': ['', 'Clusters', 'Clusters', 'Clusters', 'Clusters', 'Clusters'],\n 'marker_colors': ['white', 'blue', 'orange', 'green', 'red', 'purple'],\n 'text_info': ['',\n  'data<br>visualization<br>information<br>user',\n  'data<br>visualization<br>information<br>visual',\n  'data<br>visualization<br>system<br>visual',\n  'visualization<br>data<br>user<br>information',\n  'data<br>user<br>visualization<br>system']}"
     },
     "execution_count": 21,
     "metadata": {},
     "output_type": "execute_result"
    }
   ],
   "source": [
    "import plotly.express as px\n",
    "def build_cluster_summary_view():\n",
    "    clust = 'Clusters'\n",
    "    labels = [clust]\n",
    "    parents = ['']\n",
    "    marker_colors = [\"white\"]\n",
    "    text_info = ['']\n",
    "    for id_,vals in lda.get_topic_nodes_().items():\n",
    "        labels.append(id_)\n",
    "        #text_info.append('+'.join([v for v in vals[0].replace('\\n', ' ').split(' ')]))\n",
    "        #text_info.append('\\n'.join([v for v in vals[0].replace('\\n', ' ').split(' ')]))\n",
    "        text_info.append(vals[0].replace('\\n','<br>'))\n",
    "        parents.append(clust)\n",
    "        marker_colors.append(vals[1])\n",
    "        #print([v for v in vals[1].replace('\\\\n', ' ').split(' ')])\n",
    "    clust_sum_view = dict()\n",
    "    clust_sum_view['labels'] =  labels\n",
    "    clust_sum_view['parents'] =  parents\n",
    "    clust_sum_view['marker_colors'] =  marker_colors\n",
    "    clust_sum_view['text_info'] =  text_info\n",
    "    return  clust_sum_view\n",
    "\n",
    "initial_sum_view = build_cluster_summary_view()\n",
    "initial_sum_view"
   ]
  },
  {
   "cell_type": "code",
   "execution_count": 22,
   "metadata": {},
   "outputs": [
    {
     "name": "stdout",
     "output_type": "stream",
     "text": [
      "Dash app running on http://127.0.0.1:8051/\n"
     ]
    }
   ],
   "source": [
    "from jupyter_dash import JupyterDash  #  pip install jupyter-dash\n",
    "import dash_cytoscape as cyto  # pip install dash-cytoscape==0.2.0 or higher\n",
    "import dash_html_components as html\n",
    "import dash_core_components as dcc\n",
    "\n",
    "from dash.dependencies import Output, Input,State\n",
    "import pandas as pd  # pip install pandas\n",
    "\n",
    "\n",
    "import dash_bootstrap_components as dbc #pip install dash-bootstrap-components\n",
    "import dash_table\n",
    "import dash\n",
    "import plotly.graph_objects as go\n",
    "import json\n",
    "import plotly.graph_objs as go\n",
    "\n",
    "\n",
    "import dash_dangerously_set_inner_html\n",
    "\n",
    "\n",
    "\n",
    "external_stylesheets = ['https://codepen.io/chriddyp/pen/bWLwgP.css']\n",
    "# SKETCHY\n",
    "app = JupyterDash(__name__, external_stylesheets=[dbc.themes.MATERIA], suppress_callback_exceptions=True)\n",
    "\n",
    "\n",
    "app.layout = html.Div([html.Div(html.H1('iVisClustering: An Interactive Visual Document Clustering via Topic Modeling', style={'backgroundColor':'lightgray'})),\n",
    "    ############## FIRST ROW ########################\n",
    "    dbc.Row([\n",
    "        dbc.Col([\n",
    "            html.Div(id='empty-div', children=''),\n",
    "            dcc.Location(id='url', refresh=True),\n",
    "            html.H3('Cluster Relation View'),   \n",
    "            html.Br(),\n",
    "            html.A(html.Button('Reset settings'),href='/'),\n",
    "            html.Br(),\n",
    "            html.I(\"Number of clusters:\"),\n",
    "            dcc.Input(id=\"input1\", type=\"number\", min = 2, value = 5),\n",
    "            html.Button(\"Update\", id=\"update_button\", n_clicks = 0),\n",
    "            html.Br(),\n",
    "            html.I(\"Cosine similarity:\"),\n",
    "        html.Div(id=\"output\"),\n",
    "            dcc.Slider(\n",
    "                id='my-daq-slider-ex',\n",
    "                min=0, max=1, value=0.4, step = 0.05\n",
    "            ),\n",
    "            html.Br(),\n",
    "            dcc.Interval(id='refresh', interval=1),\n",
    "            html.I(\"Delete marked node/document:\"),\n",
    "           html.Button(\"Delete\", id=\"delete_button\",  n_clicks = 0)],width = 2),\n",
    "        dbc.Col([\n",
    "           cyto.Cytoscape(\n",
    "                id='cytoscape',\n",
    "                minZoom=0.2,\n",
    "                maxZoom=2,\n",
    "                autoRefreshLayout = True,                \n",
    "                layout={'name': 'cose', 'animate': True},        \n",
    "                style={'width': '100%', 'height': '400px'},\n",
    "                elements=  get_graph_topic_nodes() + get_graph_document_nodes() + get_graph_cos_sim_edges() + get_doc_topic_edges(),\n",
    "                stylesheet = update_stylesheet()\n",
    "        \n",
    "        \n",
    "    )\n",
    "\n",
    "\n",
    "\n",
    "    ], width = 3),\n",
    "        ###### intitialise the place for the cluster summary view,\n",
    "        ###### update it with a callback\n",
    "        dbc.Col([html.Div([\n",
    "            html.Div(id = \"cluster_summary\"),\n",
    "            html.H3('Cluster Summary View'),\n",
    "            html.Div([dcc.Graph(id = 'clust_sum_graph',figure= go.Figure(go.Treemap(labels  = initial_sum_view['labels'],parents = initial_sum_view['parents']\n",
    "                                                             ,marker_colors =  initial_sum_view['marker_colors'], text = initial_sum_view['text_info'])))])\n",
    "            ,html.Div([ html.Button(\"Delete Cluster\", id=\"delete_cluster_button\",  n_clicks = 0),  dbc.Modal(\n",
    "            [\n",
    "                dbc.ModalHeader(\"Warning!\"),\n",
    "                dbc.ModalBody(\"You have to select a cluster first from the Cluster summary view\"),\n",
    "                dbc.ModalFooter(\n",
    "                    dbc.Button(\n",
    "                        \"Close\", id=\"close-warning\", className=\"ml-auto\"\n",
    "                    )\n",
    "                ),\n",
    "            ],\n",
    "            id=\"cluster_delete_failed_warning\",\n",
    "            centered=True,\n",
    "        )])])\n",
    "        ], width = 2),\n",
    "        ### initialize the views, update by callback\n",
    "       dbc.Col([html.Div([\n",
    "            html.H3('Term Weight View'),\n",
    "            dcc.Input(id=\"input_barchart\", type=\"number\", min = 2, value = 10),\n",
    "            html.Div([\n",
    "                dash_table.DataTable(\n",
    "                                id='table',\n",
    "                                #data=[{'Words': '', 'Probabilities': ''}],\n",
    "                                #columns= ['Words','Probabilities'],\n",
    "                                editable = True,\n",
    "                                style_cell={'width': '50px',\n",
    "                                            'height': '30px',\n",
    "                                            'textAlign': 'left'}\n",
    "                                      )\n",
    "                           ]\n",
    "            ,id='term-weighttable')\n",
    "\n",
    "        ], style= {'display': 'none'}, id = 'term-weight-input')], width = 2),\n",
    "        dbc.Col([html.Div([\n",
    "            html.Button('Change Prob.', id='change-probs', n_clicks=0),\n",
    "            html.Div([],id='bar_chart')\n",
    "        ], style= {'display': 'none'}, id = 'change-prob-btn-div')], width = 2)\n",
    "    ],\n",
    "    style = {'padding': 10}\n",
    "    ),\n",
    "\n",
    "     ## paralell coordinates plot\n",
    "    dbc.Row([\n",
    "        dbc.Col([\n",
    "            html.H3('Parallel Coordinates View'),\n",
    "            dcc.Graph(id='parallel_coord', \n",
    "                      style={'width': '130vh', 'height': '50vh'},\n",
    "                      figure = go.Figure(data= \n",
    "            go.Parcoords(\n",
    "                line = dict(color = lda.get_parall_coord_df()['Dominant_Topic'],\n",
    "                           colorscale = list(lda.get_colors().values())[:lda.get_k()]),\n",
    "                dimensions = [                       \n",
    "                    dict(range = [0,1],\n",
    "                        label = f'Cluster {i}', \n",
    "                        values = lda.get_parall_coord_df()[i])\n",
    "                     for i in range(lda.get_k())                      \n",
    "                ]\n",
    "\n",
    "            )\n",
    "            ))                                  \n",
    "        ], width = 5),\n",
    "        dbc.Col([ html.I(\"Set threshold for the probability, that a document belongs to the cluster :\"),\n",
    "                 html.I(\"Filter out noisy documents\"),\n",
    "                    dcc.Slider(\n",
    "                id='pc_slider',\n",
    "                min=0, max=1, value=0.4, step = 0.05\n",
    "            ),\n",
    "        ], width = 2),\n",
    "        dbc.Col([html.Div([\n",
    "            html.H3('Word Cloud'),\n",
    "            html.Div([],id='word_cloud')\n",
    "        ], style= {'display': 'none'}, id = 'word_cloud_style')], width = 5)\n",
    "         \n",
    "    ]),\n",
    "    ########### THIRD ROW #####################    \n",
    "                     \n",
    "    dbc.Row([\n",
    "        dbc.Col([\n",
    "                html.Div([\n",
    "            html.Div([],id='dt')\n",
    "\n",
    "        ], style= {'display': 'none'}, id = 'dt_input')], width = 8)\n",
    "        ])])\n",
    "    \n",
    "    \n",
    "   \n",
    "    \n",
    "        \n",
    "#])    \n",
    "\n",
    "  \n",
    "\n",
    "######### Number of clusters ################    \n",
    "\n",
    "\n",
    "@app.callback(    \n",
    "    Output('cytoscape', 'stylesheet'),        \n",
    "    Output('cytoscape','elements'),\n",
    "    Output('cytoscape','layout'),\n",
    "    Output('parallel_coord','figure'),\n",
    "    Output('clust_sum_graph','figure'),\n",
    "    Output('cluster_delete_failed_warning','is_open'),\n",
    "    Input('my-daq-slider-ex', 'value'),\n",
    "    Input(\"update_button\", \"n_clicks\"),\n",
    "    Input('delete_button', \"n_clicks\"),\n",
    "    Input('cytoscape','tapNodeData'),\n",
    "    Input('cytoscape', 'selectedNodeData'),\n",
    "    Input('pc_slider','value'),\n",
    "    Input('change-probs', \"n_clicks\"),\n",
    "    Input('clust_sum_graph','clickData'),\n",
    "    Input('delete_cluster_button', \"n_clicks\"),\n",
    "    Input(\"close-warning\", \"n_clicks\"),\n",
    "    State('parallel_coord','figure'),\n",
    "    State(\"input1\", \"value\"),\n",
    "    State('cytoscape','stylesheet'),\n",
    "    State('cytoscape', 'elements'),\n",
    "    State('cytoscape', 'layout'),\n",
    "    State('clust_sum_graph','figure'),\n",
    "    State('clust_sum_graph','clickData'),\n",
    "    State('cluster_delete_failed_warning','is_open'),\n",
    "    \n",
    "    \n",
    "    prevent_initial_call = True\n",
    "    \n",
    ")\n",
    "def update_graph(value_slider, update_n_button,delete_button, tapNodeData,selectedNodeData,\n",
    "                 pc_slider,change_prob_button,clust_sum_data,delete_cluster_button,clust_delete_warn_button,\n",
    "                 pc_figure,cluster_number_value, stylesheet, elements,layout,clust_sum_graph, clust_sum_latest,\n",
    "                 cluster_delete_failed_warning):\n",
    "    ctx = dash.callback_context\n",
    "    figure = pc_figure\n",
    "    clust_sum_figure = clust_sum_graph\n",
    "    cluster_delete_warn_dialog = cluster_delete_failed_warning\n",
    "    clicked_element = ctx.triggered[0]['prop_id'].split('.')[0]\n",
    "\n",
    "        \n",
    "    values = []\n",
    "\n",
    "    \n",
    "\n",
    "    #################### cosine similarity ############################\n",
    "    if  clicked_element == 'my-daq-slider-ex':\n",
    "        slider_value =  ctx.triggered[0]['value']\n",
    "        lda.set_cosine_sim_treshold(slider_value)\n",
    "        ## need to update the elements of the graph\n",
    "        elements = get_graph_topic_nodes() + get_graph_document_nodes() + get_graph_cos_sim_edges() + get_doc_topic_edges()\n",
    "\n",
    "    #################  number of clusters ##############################    \n",
    "    elif clicked_element == 'update_button':\n",
    "        ### elements need to be updated\n",
    "        lda.set_number_of_clusters(cluster_number_value)\n",
    "        lda.update_lda()\n",
    "        elements = get_graph_topic_nodes() + get_graph_document_nodes() + get_graph_cos_sim_edges() + get_doc_topic_edges()\n",
    "        ### layout of the graph needs to be updated\n",
    "        layout = {'name': 'cose'}\n",
    "        \n",
    "        ### parallel coordinates plot needs to be updated\n",
    "        ### according to the number of clusters\n",
    "        figure=figure = go.Figure(data= \n",
    "            go.Parcoords(\n",
    "                line = dict(color = lda.get_parall_coord_df()['Dominant_Topic'],\n",
    "                           colorscale = list(lda.get_colors().values())[:lda.get_k()]),\n",
    "                dimensions = [                       \n",
    "                    dict(range = [0,1],\n",
    "                        label = f'Cluster {i}', \n",
    "                        values = lda.get_parall_coord_df()[i])\n",
    "                     for i in range(lda.get_k())                      \n",
    "                ]))\n",
    "        \n",
    "        ### update stylesheet\n",
    "        stylesheet = update_stylesheet()\n",
    "        \n",
    "        #update cluster summary view\n",
    "        update_clust_summary = build_cluster_summary_view()\n",
    "        clust_sum_figure =  go.Figure(go.Treemap(labels  = update_clust_summary['labels'],parents = update_clust_summary['parents']\n",
    "                                                             ,marker_colors =  update_clust_summary['marker_colors'], text = update_clust_summary['text_info']))\n",
    "        '''\n",
    "        #update cluster summary view\n",
    "        styles = list()        \n",
    "        values = list()\n",
    "\n",
    "        for i in range(lda.get_k()):\n",
    "            values.append(\"\\n\".join(list(lda.get_top_n_word_probs_for_topic_i(i, 5).Words)))\n",
    "            styles.append({'width': 100, 'height': 100, 'backgroundColor' : list(lda.get_colors().values())[i]})\n",
    "\n",
    "        if (lda.get_k() < 9):\n",
    "            list_val = range(lda.get_k(), 9)\n",
    "            for i in list_val:\n",
    "                values.append('')\n",
    "                styles.append({'width': 20, 'height': 50, 'display': 'none'})\n",
    "        '''\n",
    "    ################### highlight rows #################################    \n",
    "    # the choosen document will be highlighted on the parallel coordinates plot\n",
    "    elif clicked_element == 'cytoscape' and tapNodeData is not None: \n",
    "        ## recolor the choosen line\n",
    "        color_list = list(lda.get_colors().values())[:lda.get_k()]\n",
    "        color_list.append('black')\n",
    "        df = lda.get_parall_coord_df()\n",
    "        df = df.reset_index()\n",
    "        df['index'] = range(1, len(df) + 1)\n",
    "        df.set_index('index')\n",
    "        df.loc[tapNodeData['id'],'Dominant_Topic'] = lda.get_k()\n",
    "        \n",
    "        figure= go.Figure(data= \n",
    "            go.Parcoords(\n",
    "                line = dict(color = df['Dominant_Topic'],\n",
    "                           colorscale = color_list),\n",
    "                dimensions = [                       \n",
    "                    dict(range = [0,1],\n",
    "                        label = f'Cluster {i}', \n",
    "                        values = df[i])\n",
    "                     for i in range(lda.get_k())                      \n",
    "                ]))\n",
    "        \n",
    "    ################## delete documents #################################\n",
    "    elif clicked_element == 'delete_button':\n",
    "        #If no node selected before, the input variable should be None, we have to handle it\n",
    "        if tapNodeData is not None and 'Cluster' not in tapNodeData['id']:\n",
    "            lda.remove_document(int(tapNodeData['id']))\n",
    "            elements = get_graph_topic_nodes() + get_graph_document_nodes() + get_graph_cos_sim_edges() + get_doc_topic_edges()\n",
    "            \n",
    "\n",
    "    ######### Filter the paralell coordinates by the given threshold #####\n",
    "    elif clicked_element == 'pc_slider':\n",
    "            #print('pc_slider triggered')\n",
    "            lda.filter_parall_coords_topic_contribution(ctx.triggered[0]['value'])\n",
    "            #parall_coord_input = lda.get_filtered_topics_df()\n",
    "            #filtered_parall_coords = lda.get_parall_coord_df().loc[lda.get_filtered_topics_df()['Title']]\n",
    "            filtered_parall_coords = lda.get_filtered_parall_coords_df()\n",
    "            figure = go.Figure(data= go.Parcoords(\n",
    "                line = dict(color = filtered_parall_coords['Dominant_Topic'],\n",
    "                           colorscale = list(lda.get_colors().values())[:lda.get_k()]),\n",
    "                dimensions = [                       \n",
    "                    dict(range = [0,1],\n",
    "                        label = f'Cluster {i}', \n",
    "                        values = filtered_parall_coords[i])\n",
    "                     for i in range(lda.get_k())                      \n",
    "                ]))\n",
    "    elif clicked_element == 'clust_sum_graph':\n",
    "        #print('clust_sum_graph')\n",
    "        #print(clust_sum_data['points'][0]['label'])\n",
    "        lda.set_last_selected_cluster_from_clust_sum_view(clust_sum_data['points'][0]['label'])\n",
    "        #set currently selected cluster from summary view in class aas actual in order to delete\n",
    "        \n",
    "    elif clicked_element == 'delete_cluster_button':\n",
    "        print('clust_sum_graph_delete_button')\n",
    "        if clust_sum_latest is None:\n",
    "            #show the warning that no cluster selected before in the cluster summary view\n",
    "            cluster_delete_warn_dialog = True\n",
    "        else:            \n",
    "            #print(clust_sum_latest['points'][0]['label'])\n",
    "            lda.delete_cluster()\n",
    "            elements = get_graph_topic_nodes() + get_graph_document_nodes() + get_graph_cos_sim_edges() + get_doc_topic_edges()\n",
    "            ### layout of the graph needs to be updated\n",
    "            layout = {'name': 'cose'}\n",
    "\n",
    "            ### parallel coordinates plot needs to be updated\n",
    "            ### according to the number of clusters\n",
    "            figure=figure = go.Figure(data=\n",
    "                go.Parcoords(\n",
    "                    line = dict(color = lda.get_parall_coord_df()['Dominant_Topic'],\n",
    "                               colorscale = list(lda.get_colors().values())[:lda.get_k()]),\n",
    "                    dimensions = [\n",
    "                        dict(range = [0,1],\n",
    "                            label = f'Cluster {i}',\n",
    "                            values = lda.get_parall_coord_df()[i])\n",
    "                         for i in range(lda.get_k())\n",
    "                    ]))\n",
    "\n",
    "            ### update stylesheet\n",
    "            stylesheet = update_stylesheet()\n",
    "\n",
    "            #update cluster summary view\n",
    "            update_clust_summary = build_cluster_summary_view()\n",
    "            clust_sum_figure =  go.Figure(go.Treemap(labels  = update_clust_summary['labels'],parents = update_clust_summary['parents']\n",
    "                                                                 ,marker_colors =  update_clust_summary['marker_colors'], text = update_clust_summary['text_info']))\n",
    "            \n",
    "    elif clicked_element == 'close-warning':\n",
    "            cluster_delete_warn_dialog = False\n",
    "    #elif ctx.triggered[0]['prop_id'].split('.')[0] == 'change-probs':\n",
    "\n",
    "            \n",
    "    return [stylesheet, elements,layout, figure,clust_sum_figure,cluster_delete_warn_dialog]\n",
    "\n",
    "@app.callback(\n",
    "    Output('empty-div', 'children'),\n",
    "    Input('cytoscape', 'mouseoverNodeData'),\n",
    "    Input('cytoscape','mouseoverEdgeData'),\n",
    "    Input('cytoscape','tapEdgeData'),\n",
    "    Input('cytoscape','tapNodeData'),\n",
    "    Input('cytoscape','selectedNodeData')\n",
    ")\n",
    "def update_layout(mouse_on_node, mouse_on_edge, tap_edge, tap_node, snd):\n",
    "    print(\"Mouse on Node: {}\".format(mouse_on_node))\n",
    "    print(\"Mouse on Edge: {}\".format(mouse_on_edge))\n",
    "    print(\"Tapped Edge: {}\".format(tap_edge))\n",
    "    print(\"Tapped Node: {}\".format(tap_node))\n",
    "    print(\"------------------------------------------------------------\")\n",
    "    print(\"All selected Nodes: {}\".format(snd))\n",
    "    print(\"------------------------------------------------------------\")\n",
    "\n",
    "    return 'see print statement for nodes and edges selected.'\n",
    "\n",
    "\n",
    "# Highlight document words:\n",
    "# https://www.machinelearningplus.com/nlp/topic-modeling-visualization-how-to-present-results-lda-models/#6.-What-is-the-Dominant-topic-and-its-percentage-contribution-in-each-document\n",
    "\n",
    "############################  Term-weight view   #######################\n",
    "@app.callback(\n",
    "    Output('table', 'data'),\n",
    "    Output('table', 'columns'),\n",
    "    Output('bar_chart', 'children'),\n",
    "    Output('change-prob-btn-div', 'style'),\n",
    "    Output('term-weight-input', 'style'),  \n",
    "    Output('word_cloud_style', \"style\"),\n",
    "    Output('word_cloud', \"children\"),\n",
    "    Input('cytoscape', 'tapNodeData'),\n",
    "    Input('input_barchart', 'value'),\n",
    "    Input('change-probs', \"n_clicks\"),\n",
    "    State('table', 'columns'),  \n",
    "    State('table', 'data'),\n",
    "    prevent_initial_call = True\n",
    ")\n",
    "def update_barplot(tapNodeData,value, btn_change_prob,table_column,table_data):\n",
    "    ctx = dash.callback_context\n",
    "    style = {'display': 'block'}\n",
    "    columns = [{'name':i,'id':i} for i in ['Words','Probabilities']]    \n",
    "    \n",
    "    ### if you klick on the button change probs\n",
    "    if ctx.triggered[0]['prop_id'].split('.')[0] == 'change-probs':    \n",
    "        json_data = json.dumps(table_data)\n",
    "        changed_data = pd.read_json(json_data, orient = 'records').sort_values(by = \"Probabilities\",\n",
    "                                                                            ascending = False)\n",
    "\n",
    "\n",
    "        #print(lda.get_word_probabilities())\n",
    "        #print(\"********************************\")\n",
    "        for i,d in changed_data.iterrows():\n",
    "            lda.update_term_topic_weight(lda.get_last_selected_cluster(), d['Words'],d[\"Probabilities\"])\n",
    "\n",
    "        lda.term_prob_update_lda()\n",
    "        #print(\"********************************\")\n",
    "        #print(lda.get_word_probabilities())\n",
    "\n",
    "        lda.set_word_probabilities(changed_data)\n",
    "        \n",
    "        data = lda.get_top_n_word_probs_for_topic_i(lda.get_last_selected_cluster(), value).sort_values(by = \"Probabilities\",\n",
    "                                                                            ascending = False)\n",
    "        table_data = data.to_dict('records')\n",
    "\n",
    "        ### the values in the data table need to be changed\n",
    "        \n",
    "        \n",
    "\n",
    "\n",
    "        child = html.Div([\n",
    "                dash_table.DataTable(\n",
    "                                id='table',\n",
    "                                data=table_data,\n",
    "                                columns=columns,\n",
    "                                editable = True,\n",
    "                                style_cell={'width': '50px',\n",
    "                                            'height': '30px',\n",
    "                                            'textAlign': 'left'}\n",
    "                                      )\n",
    "                           ])\n",
    "        \n",
    "\n",
    "        ### the barplot needs to be changed\n",
    "        bar_color = lda.get_colors()[lda.get_last_selected_cluster()]\n",
    "        figure=html.Div([dcc.Graph(id='horizontal_bar_plot', \n",
    "                      style={'width': '150%', 'height': '400px'},\n",
    "                      figure = px.bar(data.sort_values(by = \"Probabilities\",\n",
    "                                                                            ascending = True), \n",
    "                        x = \"Probabilities\",\n",
    "                        y = \"Words\",\n",
    "                        color_discrete_sequence = [bar_color] * len(data),## color by cluster color\n",
    "                        orientation='h'\n",
    "                        ))])\n",
    "\n",
    "\n",
    "\n",
    "        ''' IMPLEMENT WORD CLOUD'''\n",
    "        data = go.Scatter(\n",
    "                             x=[random.random() for i in random.choices(range(30), k=30)],\n",
    "                             y=[random.random() for i in random.choices(range(30), k=30)],\n",
    "                             mode='text',\n",
    "                             text=lda.get_top_n_word_probs_for_topic_i(lda.get_last_selected_cluster(), 20).Words,\n",
    "                             marker={'opacity': 0.3},\n",
    "                             textfont={'size': lda.get_top_n_word_probs_for_topic_i(lda.get_last_selected_cluster(), 20).Probabilities * 2000,\n",
    "                                   'color': lda.get_colors()[lda.get_last_selected_cluster()]})\n",
    "\n",
    "        layout = go.Layout({\"plot_bgcolor\": \"rgba(0, 0, 0,0)\",'xaxis': {'showgrid': False, 'showticklabels': False, 'zeroline': False},\n",
    "                                                'yaxis': {'showgrid': False, 'showticklabels': False, 'zeroline': False}})\n",
    "\n",
    "        word_cloud = html.Div([dcc.Graph(id='word_cloud',\n",
    "                      figure = go.Figure(data=[data], layout=layout)\n",
    "                        )])\n",
    "        \n",
    "        \n",
    "    #### if you click on a cluster node on the graph    \n",
    "    elif 'Cluster' in tapNodeData['id']:\n",
    "        cluster_id = int(tapNodeData['id'].replace('Cluster ',''))\n",
    "        lda.set_last_selected_cluster(cluster_id)\n",
    "        \n",
    "        data = lda.get_top_n_word_probs_for_topic_i(cluster_id, value).sort_values(by = \"Probabilities\",\n",
    "                                                                            ascending = False)\n",
    "        table_data = data.to_dict('records')\n",
    "        ## change table, according to the cluster choosen\n",
    "        '''\n",
    "        child = html.Div([\n",
    "                dash_table.DataTable(\n",
    "                                id='table',\n",
    "                                data=table_data, \n",
    "                                columns=columns,\n",
    "                                editable = True,\n",
    "                                style_cell={'width': '50px',\n",
    "                                            'height': '30px',\n",
    "                                            'textAlign': 'left'}\n",
    "                                      )\n",
    "                           ])\n",
    "        '''\n",
    "        ## change the barplot, accoring to the cluster choosen\n",
    "        bar_color = lda.get_colors()[lda.get_last_selected_cluster()]\n",
    "        figure=html.Div([dcc.Graph(id='horizontal_bar_plot', \n",
    "                      style={'width': '150%', 'height': '400px'},\n",
    "                      figure = px.bar(lda.get_top_n_word_probs_for_topic_i(cluster_id, value), \n",
    "                        x = \"Probabilities\",\n",
    "                        y = \"Words\",\n",
    "                        color_discrete_sequence = [bar_color] * len(data),\n",
    "                        orientation='h'\n",
    "                        ))\n",
    "                    ])\n",
    "        data = go.Scatter(\n",
    "                             x=[random.random() for i in random.choices(range(30), k=30)],\n",
    "                             y=[random.random() for i in random.choices(range(30), k=30)],\n",
    "                             mode='text',\n",
    "                             text=lda.get_top_n_word_probs_for_topic_i(lda.get_last_selected_cluster(), 20).Words,\n",
    "                             marker={'opacity': 0.3},\n",
    "                             textfont={'size': lda.get_top_n_word_probs_for_topic_i(lda.get_last_selected_cluster(), 20).Probabilities * 2000,\n",
    "                                   'color': lda.get_colors()[lda.get_last_selected_cluster()]})\n",
    "\n",
    "        layout = go.Layout({\"plot_bgcolor\": \"rgba(0, 0, 0,0)\",'xaxis': {'showgrid': False, 'showticklabels': False, 'zeroline': False},\n",
    "                                            'yaxis': {'showgrid': False, 'showticklabels': False, 'zeroline': False}})\n",
    "\n",
    "        word_cloud = html.Div([dcc.Graph(id='word_cloud_plot',\n",
    "                      figure = go.Figure(data=[data], layout=layout)\n",
    "                        )])\n",
    "\n",
    "        \n",
    "    else:\n",
    "        return dash.no_update\n",
    "\n",
    "\n",
    "\n",
    "    return [table_data,columns,figure, style, style, style, word_cloud]\n",
    "\n",
    "\n",
    "    \n",
    "    \n",
    "######## Show the documents from a choosen cluster in the document view #########\n",
    "\n",
    "@app.callback(\n",
    "    Output('dt', 'children'),\n",
    "    Output('dt_input', 'style'),\n",
    "    Input('cytoscape', 'tapNodeData'),\n",
    "    prevent_initial_call = True    \n",
    ")\n",
    "def update_result(tapNodeData):\n",
    "    if tapNodeData is not None and 'Cluster' not in tapNodeData['id']:\n",
    "        node_title = lda.get_document_title_by_id(int(tapNodeData['id']))\n",
    "        data=lda.get_data()[lda.get_data()['title'] == node_title]\n",
    "        doc_with_higlighted_terms = lda.build_term_higlights(data)\n",
    "        child = html.Div(children = [dash_dangerously_set_inner_html.DangerouslySetInnerHTML(f'''<h2>{node_title}</h2>'''),\n",
    "                        html.Div([dash_dangerously_set_inner_html.DangerouslySetInnerHTML(doc_with_higlighted_terms)])])\n",
    "        style = {'display': 'block'}\n",
    "    else: \n",
    "        return dash.no_update\n",
    "    \n",
    "    return [child,style] \n",
    "    \n",
    "  \n",
    "#figure.layout.update(showlegend=False)\n",
    "app.run_server( port=8051, dev_tools_hot_reload=True)\n"
   ]
  },
  {
   "cell_type": "code",
   "execution_count": 23,
   "metadata": {},
   "outputs": [
    {
     "data": {
      "application/vnd.plotly.v1+json": {
       "config": {
        "plotlyServerURL": "https://plot.ly"
       },
       "data": [
        {
         "marker": {
          "opacity": 0.3
         },
         "mode": "text",
         "text": [
          "paper",
          "approach",
          "analysis",
          "technique",
          "information",
          "user",
          "visual",
          "system",
          "visualization",
          "data"
         ],
         "textfont": {
          "color": "green",
          "size": [
           22.325055673718452,
           24.213748052716255,
           27.915898710489273,
           30.94925917685032,
           34.59590673446655,
           35.710565745830536,
           37.32064366340637,
           53.305331617593765,
           68.54069977998734,
           94.74580734968185
          ]
         },
         "type": "scatter",
         "x": [
          0.546567414411606,
          0.22260205119126242,
          0.600227606437349,
          0.11143102034351626,
          0.3984269911735273,
          0.9410326829419046,
          0.4550299451753692,
          0.9017216719544606,
          0.12430081580739327,
          0.572281260110092,
          0.49271529034350947,
          0.10142365620731186,
          0.551383539643836,
          0.6207158385694089,
          0.9859080150243867,
          0.6650526697881932,
          0.4252669253314354,
          0.026862520458427297,
          0.34924186585465555,
          0.07679130156253255,
          0.5915903541273104,
          0.6154842100712483,
          0.2976763753989562,
          0.3923282020199722,
          0.6699692218964246,
          0.5270267821182169,
          0.5440124948790424,
          0.41961718132405934,
          0.5910600913929009,
          0.840505746696807
         ],
         "y": [
          0.19139917430019815,
          0.4246741185884423,
          0.814402639144205,
          0.61032016535487,
          0.23533234192742325,
          0.43225684140423193,
          0.3299814087891695,
          0.41651956549679836,
          0.6648503200458855,
          0.8475415551539339,
          0.44386184173248344,
          0.3393260622318406,
          0.03470554939143167,
          0.7881180200932002,
          0.613574194392411,
          0.7613126744571025,
          0.34115139342587997,
          0.4235062588590244,
          0.43371494082585427,
          0.4612714383534904,
          0.922685161731136,
          0.5427535704703932,
          0.7712588966210293,
          0.5427617772387057,
          0.5485293163581734,
          0.22533114101221552,
          0.8876716468188283,
          0.8410205683996674,
          0.3875205482173042,
          0.7496373419988946
         ]
        }
       ],
       "layout": {
        "template": {
         "data": {
          "bar": [
           {
            "error_x": {
             "color": "#2a3f5f"
            },
            "error_y": {
             "color": "#2a3f5f"
            },
            "marker": {
             "line": {
              "color": "#E5ECF6",
              "width": 0.5
             }
            },
            "type": "bar"
           }
          ],
          "barpolar": [
           {
            "marker": {
             "line": {
              "color": "#E5ECF6",
              "width": 0.5
             }
            },
            "type": "barpolar"
           }
          ],
          "carpet": [
           {
            "aaxis": {
             "endlinecolor": "#2a3f5f",
             "gridcolor": "white",
             "linecolor": "white",
             "minorgridcolor": "white",
             "startlinecolor": "#2a3f5f"
            },
            "baxis": {
             "endlinecolor": "#2a3f5f",
             "gridcolor": "white",
             "linecolor": "white",
             "minorgridcolor": "white",
             "startlinecolor": "#2a3f5f"
            },
            "type": "carpet"
           }
          ],
          "choropleth": [
           {
            "colorbar": {
             "outlinewidth": 0,
             "ticks": ""
            },
            "type": "choropleth"
           }
          ],
          "contour": [
           {
            "colorbar": {
             "outlinewidth": 0,
             "ticks": ""
            },
            "colorscale": [
             [
              0.0,
              "#0d0887"
             ],
             [
              0.1111111111111111,
              "#46039f"
             ],
             [
              0.2222222222222222,
              "#7201a8"
             ],
             [
              0.3333333333333333,
              "#9c179e"
             ],
             [
              0.4444444444444444,
              "#bd3786"
             ],
             [
              0.5555555555555556,
              "#d8576b"
             ],
             [
              0.6666666666666666,
              "#ed7953"
             ],
             [
              0.7777777777777778,
              "#fb9f3a"
             ],
             [
              0.8888888888888888,
              "#fdca26"
             ],
             [
              1.0,
              "#f0f921"
             ]
            ],
            "type": "contour"
           }
          ],
          "contourcarpet": [
           {
            "colorbar": {
             "outlinewidth": 0,
             "ticks": ""
            },
            "type": "contourcarpet"
           }
          ],
          "heatmap": [
           {
            "colorbar": {
             "outlinewidth": 0,
             "ticks": ""
            },
            "colorscale": [
             [
              0.0,
              "#0d0887"
             ],
             [
              0.1111111111111111,
              "#46039f"
             ],
             [
              0.2222222222222222,
              "#7201a8"
             ],
             [
              0.3333333333333333,
              "#9c179e"
             ],
             [
              0.4444444444444444,
              "#bd3786"
             ],
             [
              0.5555555555555556,
              "#d8576b"
             ],
             [
              0.6666666666666666,
              "#ed7953"
             ],
             [
              0.7777777777777778,
              "#fb9f3a"
             ],
             [
              0.8888888888888888,
              "#fdca26"
             ],
             [
              1.0,
              "#f0f921"
             ]
            ],
            "type": "heatmap"
           }
          ],
          "heatmapgl": [
           {
            "colorbar": {
             "outlinewidth": 0,
             "ticks": ""
            },
            "colorscale": [
             [
              0.0,
              "#0d0887"
             ],
             [
              0.1111111111111111,
              "#46039f"
             ],
             [
              0.2222222222222222,
              "#7201a8"
             ],
             [
              0.3333333333333333,
              "#9c179e"
             ],
             [
              0.4444444444444444,
              "#bd3786"
             ],
             [
              0.5555555555555556,
              "#d8576b"
             ],
             [
              0.6666666666666666,
              "#ed7953"
             ],
             [
              0.7777777777777778,
              "#fb9f3a"
             ],
             [
              0.8888888888888888,
              "#fdca26"
             ],
             [
              1.0,
              "#f0f921"
             ]
            ],
            "type": "heatmapgl"
           }
          ],
          "histogram": [
           {
            "marker": {
             "colorbar": {
              "outlinewidth": 0,
              "ticks": ""
             }
            },
            "type": "histogram"
           }
          ],
          "histogram2d": [
           {
            "colorbar": {
             "outlinewidth": 0,
             "ticks": ""
            },
            "colorscale": [
             [
              0.0,
              "#0d0887"
             ],
             [
              0.1111111111111111,
              "#46039f"
             ],
             [
              0.2222222222222222,
              "#7201a8"
             ],
             [
              0.3333333333333333,
              "#9c179e"
             ],
             [
              0.4444444444444444,
              "#bd3786"
             ],
             [
              0.5555555555555556,
              "#d8576b"
             ],
             [
              0.6666666666666666,
              "#ed7953"
             ],
             [
              0.7777777777777778,
              "#fb9f3a"
             ],
             [
              0.8888888888888888,
              "#fdca26"
             ],
             [
              1.0,
              "#f0f921"
             ]
            ],
            "type": "histogram2d"
           }
          ],
          "histogram2dcontour": [
           {
            "colorbar": {
             "outlinewidth": 0,
             "ticks": ""
            },
            "colorscale": [
             [
              0.0,
              "#0d0887"
             ],
             [
              0.1111111111111111,
              "#46039f"
             ],
             [
              0.2222222222222222,
              "#7201a8"
             ],
             [
              0.3333333333333333,
              "#9c179e"
             ],
             [
              0.4444444444444444,
              "#bd3786"
             ],
             [
              0.5555555555555556,
              "#d8576b"
             ],
             [
              0.6666666666666666,
              "#ed7953"
             ],
             [
              0.7777777777777778,
              "#fb9f3a"
             ],
             [
              0.8888888888888888,
              "#fdca26"
             ],
             [
              1.0,
              "#f0f921"
             ]
            ],
            "type": "histogram2dcontour"
           }
          ],
          "mesh3d": [
           {
            "colorbar": {
             "outlinewidth": 0,
             "ticks": ""
            },
            "type": "mesh3d"
           }
          ],
          "parcoords": [
           {
            "line": {
             "colorbar": {
              "outlinewidth": 0,
              "ticks": ""
             }
            },
            "type": "parcoords"
           }
          ],
          "pie": [
           {
            "automargin": true,
            "type": "pie"
           }
          ],
          "scatter": [
           {
            "marker": {
             "colorbar": {
              "outlinewidth": 0,
              "ticks": ""
             }
            },
            "type": "scatter"
           }
          ],
          "scatter3d": [
           {
            "line": {
             "colorbar": {
              "outlinewidth": 0,
              "ticks": ""
             }
            },
            "marker": {
             "colorbar": {
              "outlinewidth": 0,
              "ticks": ""
             }
            },
            "type": "scatter3d"
           }
          ],
          "scattercarpet": [
           {
            "marker": {
             "colorbar": {
              "outlinewidth": 0,
              "ticks": ""
             }
            },
            "type": "scattercarpet"
           }
          ],
          "scattergeo": [
           {
            "marker": {
             "colorbar": {
              "outlinewidth": 0,
              "ticks": ""
             }
            },
            "type": "scattergeo"
           }
          ],
          "scattergl": [
           {
            "marker": {
             "colorbar": {
              "outlinewidth": 0,
              "ticks": ""
             }
            },
            "type": "scattergl"
           }
          ],
          "scattermapbox": [
           {
            "marker": {
             "colorbar": {
              "outlinewidth": 0,
              "ticks": ""
             }
            },
            "type": "scattermapbox"
           }
          ],
          "scatterpolar": [
           {
            "marker": {
             "colorbar": {
              "outlinewidth": 0,
              "ticks": ""
             }
            },
            "type": "scatterpolar"
           }
          ],
          "scatterpolargl": [
           {
            "marker": {
             "colorbar": {
              "outlinewidth": 0,
              "ticks": ""
             }
            },
            "type": "scatterpolargl"
           }
          ],
          "scatterternary": [
           {
            "marker": {
             "colorbar": {
              "outlinewidth": 0,
              "ticks": ""
             }
            },
            "type": "scatterternary"
           }
          ],
          "surface": [
           {
            "colorbar": {
             "outlinewidth": 0,
             "ticks": ""
            },
            "colorscale": [
             [
              0.0,
              "#0d0887"
             ],
             [
              0.1111111111111111,
              "#46039f"
             ],
             [
              0.2222222222222222,
              "#7201a8"
             ],
             [
              0.3333333333333333,
              "#9c179e"
             ],
             [
              0.4444444444444444,
              "#bd3786"
             ],
             [
              0.5555555555555556,
              "#d8576b"
             ],
             [
              0.6666666666666666,
              "#ed7953"
             ],
             [
              0.7777777777777778,
              "#fb9f3a"
             ],
             [
              0.8888888888888888,
              "#fdca26"
             ],
             [
              1.0,
              "#f0f921"
             ]
            ],
            "type": "surface"
           }
          ],
          "table": [
           {
            "cells": {
             "fill": {
              "color": "#EBF0F8"
             },
             "line": {
              "color": "white"
             }
            },
            "header": {
             "fill": {
              "color": "#C8D4E3"
             },
             "line": {
              "color": "white"
             }
            },
            "type": "table"
           }
          ]
         },
         "layout": {
          "annotationdefaults": {
           "arrowcolor": "#2a3f5f",
           "arrowhead": 0,
           "arrowwidth": 1
          },
          "autotypenumbers": "strict",
          "coloraxis": {
           "colorbar": {
            "outlinewidth": 0,
            "ticks": ""
           }
          },
          "colorscale": {
           "diverging": [
            [
             0,
             "#8e0152"
            ],
            [
             0.1,
             "#c51b7d"
            ],
            [
             0.2,
             "#de77ae"
            ],
            [
             0.3,
             "#f1b6da"
            ],
            [
             0.4,
             "#fde0ef"
            ],
            [
             0.5,
             "#f7f7f7"
            ],
            [
             0.6,
             "#e6f5d0"
            ],
            [
             0.7,
             "#b8e186"
            ],
            [
             0.8,
             "#7fbc41"
            ],
            [
             0.9,
             "#4d9221"
            ],
            [
             1,
             "#276419"
            ]
           ],
           "sequential": [
            [
             0.0,
             "#0d0887"
            ],
            [
             0.1111111111111111,
             "#46039f"
            ],
            [
             0.2222222222222222,
             "#7201a8"
            ],
            [
             0.3333333333333333,
             "#9c179e"
            ],
            [
             0.4444444444444444,
             "#bd3786"
            ],
            [
             0.5555555555555556,
             "#d8576b"
            ],
            [
             0.6666666666666666,
             "#ed7953"
            ],
            [
             0.7777777777777778,
             "#fb9f3a"
            ],
            [
             0.8888888888888888,
             "#fdca26"
            ],
            [
             1.0,
             "#f0f921"
            ]
           ],
           "sequentialminus": [
            [
             0.0,
             "#0d0887"
            ],
            [
             0.1111111111111111,
             "#46039f"
            ],
            [
             0.2222222222222222,
             "#7201a8"
            ],
            [
             0.3333333333333333,
             "#9c179e"
            ],
            [
             0.4444444444444444,
             "#bd3786"
            ],
            [
             0.5555555555555556,
             "#d8576b"
            ],
            [
             0.6666666666666666,
             "#ed7953"
            ],
            [
             0.7777777777777778,
             "#fb9f3a"
            ],
            [
             0.8888888888888888,
             "#fdca26"
            ],
            [
             1.0,
             "#f0f921"
            ]
           ]
          },
          "colorway": [
           "#636efa",
           "#EF553B",
           "#00cc96",
           "#ab63fa",
           "#FFA15A",
           "#19d3f3",
           "#FF6692",
           "#B6E880",
           "#FF97FF",
           "#FECB52"
          ],
          "font": {
           "color": "#2a3f5f"
          },
          "geo": {
           "bgcolor": "white",
           "lakecolor": "white",
           "landcolor": "#E5ECF6",
           "showlakes": true,
           "showland": true,
           "subunitcolor": "white"
          },
          "hoverlabel": {
           "align": "left"
          },
          "hovermode": "closest",
          "mapbox": {
           "style": "light"
          },
          "paper_bgcolor": "white",
          "plot_bgcolor": "#E5ECF6",
          "polar": {
           "angularaxis": {
            "gridcolor": "white",
            "linecolor": "white",
            "ticks": ""
           },
           "bgcolor": "#E5ECF6",
           "radialaxis": {
            "gridcolor": "white",
            "linecolor": "white",
            "ticks": ""
           }
          },
          "scene": {
           "xaxis": {
            "backgroundcolor": "#E5ECF6",
            "gridcolor": "white",
            "gridwidth": 2,
            "linecolor": "white",
            "showbackground": true,
            "ticks": "",
            "zerolinecolor": "white"
           },
           "yaxis": {
            "backgroundcolor": "#E5ECF6",
            "gridcolor": "white",
            "gridwidth": 2,
            "linecolor": "white",
            "showbackground": true,
            "ticks": "",
            "zerolinecolor": "white"
           },
           "zaxis": {
            "backgroundcolor": "#E5ECF6",
            "gridcolor": "white",
            "gridwidth": 2,
            "linecolor": "white",
            "showbackground": true,
            "ticks": "",
            "zerolinecolor": "white"
           }
          },
          "shapedefaults": {
           "line": {
            "color": "#2a3f5f"
           }
          },
          "ternary": {
           "aaxis": {
            "gridcolor": "white",
            "linecolor": "white",
            "ticks": ""
           },
           "baxis": {
            "gridcolor": "white",
            "linecolor": "white",
            "ticks": ""
           },
           "bgcolor": "#E5ECF6",
           "caxis": {
            "gridcolor": "white",
            "linecolor": "white",
            "ticks": ""
           }
          },
          "title": {
           "x": 0.05
          },
          "xaxis": {
           "automargin": true,
           "gridcolor": "white",
           "linecolor": "white",
           "ticks": "",
           "title": {
            "standoff": 15
           },
           "zerolinecolor": "white",
           "zerolinewidth": 2
          },
          "yaxis": {
           "automargin": true,
           "gridcolor": "white",
           "linecolor": "white",
           "ticks": "",
           "title": {
            "standoff": 15
           },
           "zerolinecolor": "white",
           "zerolinewidth": 2
          }
         }
        },
        "xaxis": {
         "showgrid": false,
         "showticklabels": false,
         "zeroline": false
        },
        "yaxis": {
         "showgrid": false,
         "showticklabels": false,
         "zeroline": false
        }
       }
      },
      "text/html": "<div>                            <div id=\"0ca7af01-90da-4a89-944e-18ea84a693cc\" class=\"plotly-graph-div\" style=\"height:525px; width:100%;\"></div>            <script type=\"text/javascript\">                require([\"plotly\"], function(Plotly) {                    window.PLOTLYENV=window.PLOTLYENV || {};                                    if (document.getElementById(\"0ca7af01-90da-4a89-944e-18ea84a693cc\")) {                    Plotly.newPlot(                        \"0ca7af01-90da-4a89-944e-18ea84a693cc\",                        [{\"marker\": {\"opacity\": 0.3}, \"mode\": \"text\", \"text\": [\"paper\", \"approach\", \"analysis\", \"technique\", \"information\", \"user\", \"visual\", \"system\", \"visualization\", \"data\"], \"textfont\": {\"color\": \"green\", \"size\": [22.325055673718452, 24.213748052716255, 27.915898710489273, 30.94925917685032, 34.59590673446655, 35.710565745830536, 37.32064366340637, 53.305331617593765, 68.54069977998734, 94.74580734968185]}, \"type\": \"scatter\", \"x\": [0.546567414411606, 0.22260205119126242, 0.600227606437349, 0.11143102034351626, 0.3984269911735273, 0.9410326829419046, 0.4550299451753692, 0.9017216719544606, 0.12430081580739327, 0.572281260110092, 0.49271529034350947, 0.10142365620731186, 0.551383539643836, 0.6207158385694089, 0.9859080150243867, 0.6650526697881932, 0.4252669253314354, 0.026862520458427297, 0.34924186585465555, 0.07679130156253255, 0.5915903541273104, 0.6154842100712483, 0.2976763753989562, 0.3923282020199722, 0.6699692218964246, 0.5270267821182169, 0.5440124948790424, 0.41961718132405934, 0.5910600913929009, 0.840505746696807], \"y\": [0.19139917430019815, 0.4246741185884423, 0.814402639144205, 0.61032016535487, 0.23533234192742325, 0.43225684140423193, 0.3299814087891695, 0.41651956549679836, 0.6648503200458855, 0.8475415551539339, 0.44386184173248344, 0.3393260622318406, 0.03470554939143167, 0.7881180200932002, 0.613574194392411, 0.7613126744571025, 0.34115139342587997, 0.4235062588590244, 0.43371494082585427, 0.4612714383534904, 0.922685161731136, 0.5427535704703932, 0.7712588966210293, 0.5427617772387057, 0.5485293163581734, 0.22533114101221552, 0.8876716468188283, 0.8410205683996674, 0.3875205482173042, 0.7496373419988946]}],                        {\"template\": {\"data\": {\"bar\": [{\"error_x\": {\"color\": \"#2a3f5f\"}, \"error_y\": {\"color\": \"#2a3f5f\"}, \"marker\": {\"line\": {\"color\": \"#E5ECF6\", \"width\": 0.5}}, \"type\": \"bar\"}], \"barpolar\": [{\"marker\": {\"line\": {\"color\": \"#E5ECF6\", \"width\": 0.5}}, \"type\": \"barpolar\"}], \"carpet\": [{\"aaxis\": {\"endlinecolor\": \"#2a3f5f\", \"gridcolor\": \"white\", \"linecolor\": \"white\", \"minorgridcolor\": \"white\", \"startlinecolor\": \"#2a3f5f\"}, \"baxis\": {\"endlinecolor\": \"#2a3f5f\", \"gridcolor\": \"white\", \"linecolor\": \"white\", \"minorgridcolor\": \"white\", \"startlinecolor\": \"#2a3f5f\"}, \"type\": \"carpet\"}], \"choropleth\": [{\"colorbar\": {\"outlinewidth\": 0, \"ticks\": \"\"}, \"type\": \"choropleth\"}], \"contour\": [{\"colorbar\": {\"outlinewidth\": 0, \"ticks\": \"\"}, \"colorscale\": [[0.0, \"#0d0887\"], [0.1111111111111111, \"#46039f\"], [0.2222222222222222, \"#7201a8\"], [0.3333333333333333, \"#9c179e\"], [0.4444444444444444, \"#bd3786\"], [0.5555555555555556, \"#d8576b\"], [0.6666666666666666, \"#ed7953\"], [0.7777777777777778, \"#fb9f3a\"], [0.8888888888888888, \"#fdca26\"], [1.0, \"#f0f921\"]], \"type\": \"contour\"}], \"contourcarpet\": [{\"colorbar\": {\"outlinewidth\": 0, \"ticks\": \"\"}, \"type\": \"contourcarpet\"}], \"heatmap\": [{\"colorbar\": {\"outlinewidth\": 0, \"ticks\": \"\"}, \"colorscale\": [[0.0, \"#0d0887\"], [0.1111111111111111, \"#46039f\"], [0.2222222222222222, \"#7201a8\"], [0.3333333333333333, \"#9c179e\"], [0.4444444444444444, \"#bd3786\"], [0.5555555555555556, \"#d8576b\"], [0.6666666666666666, \"#ed7953\"], [0.7777777777777778, \"#fb9f3a\"], [0.8888888888888888, \"#fdca26\"], [1.0, \"#f0f921\"]], \"type\": \"heatmap\"}], \"heatmapgl\": [{\"colorbar\": {\"outlinewidth\": 0, \"ticks\": \"\"}, \"colorscale\": [[0.0, \"#0d0887\"], [0.1111111111111111, \"#46039f\"], [0.2222222222222222, \"#7201a8\"], [0.3333333333333333, \"#9c179e\"], [0.4444444444444444, \"#bd3786\"], [0.5555555555555556, \"#d8576b\"], [0.6666666666666666, \"#ed7953\"], [0.7777777777777778, \"#fb9f3a\"], [0.8888888888888888, \"#fdca26\"], [1.0, \"#f0f921\"]], \"type\": \"heatmapgl\"}], \"histogram\": [{\"marker\": {\"colorbar\": {\"outlinewidth\": 0, \"ticks\": \"\"}}, \"type\": \"histogram\"}], \"histogram2d\": [{\"colorbar\": {\"outlinewidth\": 0, \"ticks\": \"\"}, \"colorscale\": [[0.0, \"#0d0887\"], [0.1111111111111111, \"#46039f\"], [0.2222222222222222, \"#7201a8\"], [0.3333333333333333, \"#9c179e\"], [0.4444444444444444, \"#bd3786\"], [0.5555555555555556, \"#d8576b\"], [0.6666666666666666, \"#ed7953\"], [0.7777777777777778, \"#fb9f3a\"], [0.8888888888888888, \"#fdca26\"], [1.0, \"#f0f921\"]], \"type\": \"histogram2d\"}], \"histogram2dcontour\": [{\"colorbar\": {\"outlinewidth\": 0, \"ticks\": \"\"}, \"colorscale\": [[0.0, \"#0d0887\"], [0.1111111111111111, \"#46039f\"], [0.2222222222222222, \"#7201a8\"], [0.3333333333333333, \"#9c179e\"], [0.4444444444444444, \"#bd3786\"], [0.5555555555555556, \"#d8576b\"], [0.6666666666666666, \"#ed7953\"], [0.7777777777777778, \"#fb9f3a\"], [0.8888888888888888, \"#fdca26\"], [1.0, \"#f0f921\"]], \"type\": \"histogram2dcontour\"}], \"mesh3d\": [{\"colorbar\": {\"outlinewidth\": 0, \"ticks\": \"\"}, \"type\": \"mesh3d\"}], \"parcoords\": [{\"line\": {\"colorbar\": {\"outlinewidth\": 0, \"ticks\": \"\"}}, \"type\": \"parcoords\"}], \"pie\": [{\"automargin\": true, \"type\": \"pie\"}], \"scatter\": [{\"marker\": {\"colorbar\": {\"outlinewidth\": 0, \"ticks\": \"\"}}, \"type\": \"scatter\"}], \"scatter3d\": [{\"line\": {\"colorbar\": {\"outlinewidth\": 0, \"ticks\": \"\"}}, \"marker\": {\"colorbar\": {\"outlinewidth\": 0, \"ticks\": \"\"}}, \"type\": \"scatter3d\"}], \"scattercarpet\": [{\"marker\": {\"colorbar\": {\"outlinewidth\": 0, \"ticks\": \"\"}}, \"type\": \"scattercarpet\"}], \"scattergeo\": [{\"marker\": {\"colorbar\": {\"outlinewidth\": 0, \"ticks\": \"\"}}, \"type\": \"scattergeo\"}], \"scattergl\": [{\"marker\": {\"colorbar\": {\"outlinewidth\": 0, \"ticks\": \"\"}}, \"type\": \"scattergl\"}], \"scattermapbox\": [{\"marker\": {\"colorbar\": {\"outlinewidth\": 0, \"ticks\": \"\"}}, \"type\": \"scattermapbox\"}], \"scatterpolar\": [{\"marker\": {\"colorbar\": {\"outlinewidth\": 0, \"ticks\": \"\"}}, \"type\": \"scatterpolar\"}], \"scatterpolargl\": [{\"marker\": {\"colorbar\": {\"outlinewidth\": 0, \"ticks\": \"\"}}, \"type\": \"scatterpolargl\"}], \"scatterternary\": [{\"marker\": {\"colorbar\": {\"outlinewidth\": 0, \"ticks\": \"\"}}, \"type\": \"scatterternary\"}], \"surface\": [{\"colorbar\": {\"outlinewidth\": 0, \"ticks\": \"\"}, \"colorscale\": [[0.0, \"#0d0887\"], [0.1111111111111111, \"#46039f\"], [0.2222222222222222, \"#7201a8\"], [0.3333333333333333, \"#9c179e\"], [0.4444444444444444, \"#bd3786\"], [0.5555555555555556, \"#d8576b\"], [0.6666666666666666, \"#ed7953\"], [0.7777777777777778, \"#fb9f3a\"], [0.8888888888888888, \"#fdca26\"], [1.0, \"#f0f921\"]], \"type\": \"surface\"}], \"table\": [{\"cells\": {\"fill\": {\"color\": \"#EBF0F8\"}, \"line\": {\"color\": \"white\"}}, \"header\": {\"fill\": {\"color\": \"#C8D4E3\"}, \"line\": {\"color\": \"white\"}}, \"type\": \"table\"}]}, \"layout\": {\"annotationdefaults\": {\"arrowcolor\": \"#2a3f5f\", \"arrowhead\": 0, \"arrowwidth\": 1}, \"autotypenumbers\": \"strict\", \"coloraxis\": {\"colorbar\": {\"outlinewidth\": 0, \"ticks\": \"\"}}, \"colorscale\": {\"diverging\": [[0, \"#8e0152\"], [0.1, \"#c51b7d\"], [0.2, \"#de77ae\"], [0.3, \"#f1b6da\"], [0.4, \"#fde0ef\"], [0.5, \"#f7f7f7\"], [0.6, \"#e6f5d0\"], [0.7, \"#b8e186\"], [0.8, \"#7fbc41\"], [0.9, \"#4d9221\"], [1, \"#276419\"]], \"sequential\": [[0.0, \"#0d0887\"], [0.1111111111111111, \"#46039f\"], [0.2222222222222222, \"#7201a8\"], [0.3333333333333333, \"#9c179e\"], [0.4444444444444444, \"#bd3786\"], [0.5555555555555556, \"#d8576b\"], [0.6666666666666666, \"#ed7953\"], [0.7777777777777778, \"#fb9f3a\"], [0.8888888888888888, \"#fdca26\"], [1.0, \"#f0f921\"]], \"sequentialminus\": [[0.0, \"#0d0887\"], [0.1111111111111111, \"#46039f\"], [0.2222222222222222, \"#7201a8\"], [0.3333333333333333, \"#9c179e\"], [0.4444444444444444, \"#bd3786\"], [0.5555555555555556, \"#d8576b\"], [0.6666666666666666, \"#ed7953\"], [0.7777777777777778, \"#fb9f3a\"], [0.8888888888888888, \"#fdca26\"], [1.0, \"#f0f921\"]]}, \"colorway\": [\"#636efa\", \"#EF553B\", \"#00cc96\", \"#ab63fa\", \"#FFA15A\", \"#19d3f3\", \"#FF6692\", \"#B6E880\", \"#FF97FF\", \"#FECB52\"], \"font\": {\"color\": \"#2a3f5f\"}, \"geo\": {\"bgcolor\": \"white\", \"lakecolor\": \"white\", \"landcolor\": \"#E5ECF6\", \"showlakes\": true, \"showland\": true, \"subunitcolor\": \"white\"}, \"hoverlabel\": {\"align\": \"left\"}, \"hovermode\": \"closest\", \"mapbox\": {\"style\": \"light\"}, \"paper_bgcolor\": \"white\", \"plot_bgcolor\": \"#E5ECF6\", \"polar\": {\"angularaxis\": {\"gridcolor\": \"white\", \"linecolor\": \"white\", \"ticks\": \"\"}, \"bgcolor\": \"#E5ECF6\", \"radialaxis\": {\"gridcolor\": \"white\", \"linecolor\": \"white\", \"ticks\": \"\"}}, \"scene\": {\"xaxis\": {\"backgroundcolor\": \"#E5ECF6\", \"gridcolor\": \"white\", \"gridwidth\": 2, \"linecolor\": \"white\", \"showbackground\": true, \"ticks\": \"\", \"zerolinecolor\": \"white\"}, \"yaxis\": {\"backgroundcolor\": \"#E5ECF6\", \"gridcolor\": \"white\", \"gridwidth\": 2, \"linecolor\": \"white\", \"showbackground\": true, \"ticks\": \"\", \"zerolinecolor\": \"white\"}, \"zaxis\": {\"backgroundcolor\": \"#E5ECF6\", \"gridcolor\": \"white\", \"gridwidth\": 2, \"linecolor\": \"white\", \"showbackground\": true, \"ticks\": \"\", \"zerolinecolor\": \"white\"}}, \"shapedefaults\": {\"line\": {\"color\": \"#2a3f5f\"}}, \"ternary\": {\"aaxis\": {\"gridcolor\": \"white\", \"linecolor\": \"white\", \"ticks\": \"\"}, \"baxis\": {\"gridcolor\": \"white\", \"linecolor\": \"white\", \"ticks\": \"\"}, \"bgcolor\": \"#E5ECF6\", \"caxis\": {\"gridcolor\": \"white\", \"linecolor\": \"white\", \"ticks\": \"\"}}, \"title\": {\"x\": 0.05}, \"xaxis\": {\"automargin\": true, \"gridcolor\": \"white\", \"linecolor\": \"white\", \"ticks\": \"\", \"title\": {\"standoff\": 15}, \"zerolinecolor\": \"white\", \"zerolinewidth\": 2}, \"yaxis\": {\"automargin\": true, \"gridcolor\": \"white\", \"linecolor\": \"white\", \"ticks\": \"\", \"title\": {\"standoff\": 15}, \"zerolinecolor\": \"white\", \"zerolinewidth\": 2}}}, \"xaxis\": {\"showgrid\": false, \"showticklabels\": false, \"zeroline\": false}, \"yaxis\": {\"showgrid\": false, \"showticklabels\": false, \"zeroline\": false}},                        {\"responsive\": true}                    ).then(function(){\n                            \nvar gd = document.getElementById('0ca7af01-90da-4a89-944e-18ea84a693cc');\nvar x = new MutationObserver(function (mutations, observer) {{\n        var display = window.getComputedStyle(gd).display;\n        if (!display || display === 'none') {{\n            console.log([gd, 'removed!']);\n            Plotly.purge(gd);\n            observer.disconnect();\n        }}\n}});\n\n// Listen for the removal of the full notebook cells\nvar notebookContainer = gd.closest('#notebook-container');\nif (notebookContainer) {{\n    x.observe(notebookContainer, {childList: true});\n}}\n\n// Listen for the clearing of the current output cell\nvar outputEl = gd.closest('.output');\nif (outputEl) {{\n    x.observe(outputEl, {childList: true});\n}}\n\n                        })                };                });            </script>        </div>"
     },
     "metadata": {},
     "output_type": "display_data"
    }
   ],
   "source": [
    "import plotly\n",
    "import plotly.graph_objs as go\n",
    "from plotly.offline import plot\n",
    "import random\n",
    "data = go.Scatter(x=[random.random() for i in range(30)],\n",
    "                 y=[random.random() for i in range(30)],\n",
    "                 mode='text',\n",
    "                 text=lda.get_top_n_word_probs_for_topic_i(2, 10).Words,\n",
    "                 marker={'opacity': 0.3},\n",
    "                 textfont={'size': lda.get_top_n_word_probs_for_topic_i(2, 10).Probabilities * 4000, \n",
    "                           'color': lda.get_colors()[2]})\n",
    "layout = go.Layout({'xaxis': {'showgrid': False, 'showticklabels': False, 'zeroline': False},\n",
    "                    'yaxis': {'showgrid': False, 'showticklabels': False, 'zeroline': False}})\n",
    "fig = go.Figure(data=[data], layout=layout)\n",
    "\n",
    "fig"
   ]
  },
  {
   "cell_type": "code",
   "execution_count": 24,
   "metadata": {},
   "outputs": [
    {
     "data": {
      "application/vnd.plotly.v1+json": {
       "config": {
        "plotlyServerURL": "https://plot.ly"
       },
       "data": [
        {
         "marker": {
          "opacity": 0.3
         },
         "mode": "text",
         "text": [
          "graph",
          "method",
          "algorithm",
          "set",
          "based",
          "large",
          "tool",
          "layout",
          "dimension",
          "present",
          "paper",
          "approach",
          "analysis",
          "technique",
          "information",
          "user",
          "visual",
          "system",
          "visualization",
          "data"
         ],
         "textfont": {
          "color": "green",
          "size": [
           16.495827585458755,
           16.703592613339424,
           17.066050320863724,
           17.2392837703228,
           17.325041815638542,
           17.793573439121246,
           17.91558787226677,
           17.97281950712204,
           18.25800910592079,
           20.07964998483658,
           22.325055673718452,
           24.213748052716255,
           27.915898710489273,
           30.94925917685032,
           34.59590673446655,
           35.710565745830536,
           37.32064366340637,
           53.305331617593765,
           68.54069977998734,
           94.74580734968185
          ]
         },
         "type": "scatter",
         "x": [
          0.6858921062939505,
          0.816756722245247,
          0.9585420765245766,
          0.22707039477148072,
          0.09493173812218902,
          0.2808508007484384,
          0.6023015351411833,
          0.4686339943118303,
          0.9437668476225146,
          0.30587849497333675,
          0.8665531498418997,
          0.306219289932675,
          0.5970457904026052,
          0.19196203780490884,
          0.8887430914649753,
          0.08740302497911512,
          0.7443645843078597,
          0.37267991444390336,
          0.7134842379795208,
          0.44688932916845303,
          0.27227874129772456,
          0.8457698613250172,
          0.4904986391901427,
          0.23539312659225686,
          0.9871624130571647,
          0.03873485153625622,
          0.9643424903211352,
          0.75702519505172,
          0.13344343335347641,
          0.7508251846352841
         ],
         "y": [
          0.8394710833800776,
          0.06395036187781744,
          0.8179574441600009,
          0.324204120837134,
          0.3475528527465259,
          0.25066959660350807,
          0.41181527884143077,
          0.36428467654157926,
          0.5910300035255288,
          0.07732442561032882,
          0.9073521679961437,
          0.2640369482087015,
          0.04390830324161543,
          0.9975768460674608,
          0.019905904129313146,
          0.4618119254549724,
          0.19621744334366253,
          0.9041439711508467,
          0.5170778158489316,
          0.6345994032303275,
          0.6655735175874902,
          0.4910260804924468,
          0.38749765085647947,
          0.6629056969701467,
          0.4966300814828518,
          0.28442652042550975,
          0.720844590653027,
          0.15055131748286377,
          0.38970128601505627,
          0.6208936231997159
         ]
        }
       ],
       "layout": {
        "template": {
         "data": {
          "bar": [
           {
            "error_x": {
             "color": "#2a3f5f"
            },
            "error_y": {
             "color": "#2a3f5f"
            },
            "marker": {
             "line": {
              "color": "#E5ECF6",
              "width": 0.5
             }
            },
            "type": "bar"
           }
          ],
          "barpolar": [
           {
            "marker": {
             "line": {
              "color": "#E5ECF6",
              "width": 0.5
             }
            },
            "type": "barpolar"
           }
          ],
          "carpet": [
           {
            "aaxis": {
             "endlinecolor": "#2a3f5f",
             "gridcolor": "white",
             "linecolor": "white",
             "minorgridcolor": "white",
             "startlinecolor": "#2a3f5f"
            },
            "baxis": {
             "endlinecolor": "#2a3f5f",
             "gridcolor": "white",
             "linecolor": "white",
             "minorgridcolor": "white",
             "startlinecolor": "#2a3f5f"
            },
            "type": "carpet"
           }
          ],
          "choropleth": [
           {
            "colorbar": {
             "outlinewidth": 0,
             "ticks": ""
            },
            "type": "choropleth"
           }
          ],
          "contour": [
           {
            "colorbar": {
             "outlinewidth": 0,
             "ticks": ""
            },
            "colorscale": [
             [
              0.0,
              "#0d0887"
             ],
             [
              0.1111111111111111,
              "#46039f"
             ],
             [
              0.2222222222222222,
              "#7201a8"
             ],
             [
              0.3333333333333333,
              "#9c179e"
             ],
             [
              0.4444444444444444,
              "#bd3786"
             ],
             [
              0.5555555555555556,
              "#d8576b"
             ],
             [
              0.6666666666666666,
              "#ed7953"
             ],
             [
              0.7777777777777778,
              "#fb9f3a"
             ],
             [
              0.8888888888888888,
              "#fdca26"
             ],
             [
              1.0,
              "#f0f921"
             ]
            ],
            "type": "contour"
           }
          ],
          "contourcarpet": [
           {
            "colorbar": {
             "outlinewidth": 0,
             "ticks": ""
            },
            "type": "contourcarpet"
           }
          ],
          "heatmap": [
           {
            "colorbar": {
             "outlinewidth": 0,
             "ticks": ""
            },
            "colorscale": [
             [
              0.0,
              "#0d0887"
             ],
             [
              0.1111111111111111,
              "#46039f"
             ],
             [
              0.2222222222222222,
              "#7201a8"
             ],
             [
              0.3333333333333333,
              "#9c179e"
             ],
             [
              0.4444444444444444,
              "#bd3786"
             ],
             [
              0.5555555555555556,
              "#d8576b"
             ],
             [
              0.6666666666666666,
              "#ed7953"
             ],
             [
              0.7777777777777778,
              "#fb9f3a"
             ],
             [
              0.8888888888888888,
              "#fdca26"
             ],
             [
              1.0,
              "#f0f921"
             ]
            ],
            "type": "heatmap"
           }
          ],
          "heatmapgl": [
           {
            "colorbar": {
             "outlinewidth": 0,
             "ticks": ""
            },
            "colorscale": [
             [
              0.0,
              "#0d0887"
             ],
             [
              0.1111111111111111,
              "#46039f"
             ],
             [
              0.2222222222222222,
              "#7201a8"
             ],
             [
              0.3333333333333333,
              "#9c179e"
             ],
             [
              0.4444444444444444,
              "#bd3786"
             ],
             [
              0.5555555555555556,
              "#d8576b"
             ],
             [
              0.6666666666666666,
              "#ed7953"
             ],
             [
              0.7777777777777778,
              "#fb9f3a"
             ],
             [
              0.8888888888888888,
              "#fdca26"
             ],
             [
              1.0,
              "#f0f921"
             ]
            ],
            "type": "heatmapgl"
           }
          ],
          "histogram": [
           {
            "marker": {
             "colorbar": {
              "outlinewidth": 0,
              "ticks": ""
             }
            },
            "type": "histogram"
           }
          ],
          "histogram2d": [
           {
            "colorbar": {
             "outlinewidth": 0,
             "ticks": ""
            },
            "colorscale": [
             [
              0.0,
              "#0d0887"
             ],
             [
              0.1111111111111111,
              "#46039f"
             ],
             [
              0.2222222222222222,
              "#7201a8"
             ],
             [
              0.3333333333333333,
              "#9c179e"
             ],
             [
              0.4444444444444444,
              "#bd3786"
             ],
             [
              0.5555555555555556,
              "#d8576b"
             ],
             [
              0.6666666666666666,
              "#ed7953"
             ],
             [
              0.7777777777777778,
              "#fb9f3a"
             ],
             [
              0.8888888888888888,
              "#fdca26"
             ],
             [
              1.0,
              "#f0f921"
             ]
            ],
            "type": "histogram2d"
           }
          ],
          "histogram2dcontour": [
           {
            "colorbar": {
             "outlinewidth": 0,
             "ticks": ""
            },
            "colorscale": [
             [
              0.0,
              "#0d0887"
             ],
             [
              0.1111111111111111,
              "#46039f"
             ],
             [
              0.2222222222222222,
              "#7201a8"
             ],
             [
              0.3333333333333333,
              "#9c179e"
             ],
             [
              0.4444444444444444,
              "#bd3786"
             ],
             [
              0.5555555555555556,
              "#d8576b"
             ],
             [
              0.6666666666666666,
              "#ed7953"
             ],
             [
              0.7777777777777778,
              "#fb9f3a"
             ],
             [
              0.8888888888888888,
              "#fdca26"
             ],
             [
              1.0,
              "#f0f921"
             ]
            ],
            "type": "histogram2dcontour"
           }
          ],
          "mesh3d": [
           {
            "colorbar": {
             "outlinewidth": 0,
             "ticks": ""
            },
            "type": "mesh3d"
           }
          ],
          "parcoords": [
           {
            "line": {
             "colorbar": {
              "outlinewidth": 0,
              "ticks": ""
             }
            },
            "type": "parcoords"
           }
          ],
          "pie": [
           {
            "automargin": true,
            "type": "pie"
           }
          ],
          "scatter": [
           {
            "marker": {
             "colorbar": {
              "outlinewidth": 0,
              "ticks": ""
             }
            },
            "type": "scatter"
           }
          ],
          "scatter3d": [
           {
            "line": {
             "colorbar": {
              "outlinewidth": 0,
              "ticks": ""
             }
            },
            "marker": {
             "colorbar": {
              "outlinewidth": 0,
              "ticks": ""
             }
            },
            "type": "scatter3d"
           }
          ],
          "scattercarpet": [
           {
            "marker": {
             "colorbar": {
              "outlinewidth": 0,
              "ticks": ""
             }
            },
            "type": "scattercarpet"
           }
          ],
          "scattergeo": [
           {
            "marker": {
             "colorbar": {
              "outlinewidth": 0,
              "ticks": ""
             }
            },
            "type": "scattergeo"
           }
          ],
          "scattergl": [
           {
            "marker": {
             "colorbar": {
              "outlinewidth": 0,
              "ticks": ""
             }
            },
            "type": "scattergl"
           }
          ],
          "scattermapbox": [
           {
            "marker": {
             "colorbar": {
              "outlinewidth": 0,
              "ticks": ""
             }
            },
            "type": "scattermapbox"
           }
          ],
          "scatterpolar": [
           {
            "marker": {
             "colorbar": {
              "outlinewidth": 0,
              "ticks": ""
             }
            },
            "type": "scatterpolar"
           }
          ],
          "scatterpolargl": [
           {
            "marker": {
             "colorbar": {
              "outlinewidth": 0,
              "ticks": ""
             }
            },
            "type": "scatterpolargl"
           }
          ],
          "scatterternary": [
           {
            "marker": {
             "colorbar": {
              "outlinewidth": 0,
              "ticks": ""
             }
            },
            "type": "scatterternary"
           }
          ],
          "surface": [
           {
            "colorbar": {
             "outlinewidth": 0,
             "ticks": ""
            },
            "colorscale": [
             [
              0.0,
              "#0d0887"
             ],
             [
              0.1111111111111111,
              "#46039f"
             ],
             [
              0.2222222222222222,
              "#7201a8"
             ],
             [
              0.3333333333333333,
              "#9c179e"
             ],
             [
              0.4444444444444444,
              "#bd3786"
             ],
             [
              0.5555555555555556,
              "#d8576b"
             ],
             [
              0.6666666666666666,
              "#ed7953"
             ],
             [
              0.7777777777777778,
              "#fb9f3a"
             ],
             [
              0.8888888888888888,
              "#fdca26"
             ],
             [
              1.0,
              "#f0f921"
             ]
            ],
            "type": "surface"
           }
          ],
          "table": [
           {
            "cells": {
             "fill": {
              "color": "#EBF0F8"
             },
             "line": {
              "color": "white"
             }
            },
            "header": {
             "fill": {
              "color": "#C8D4E3"
             },
             "line": {
              "color": "white"
             }
            },
            "type": "table"
           }
          ]
         },
         "layout": {
          "annotationdefaults": {
           "arrowcolor": "#2a3f5f",
           "arrowhead": 0,
           "arrowwidth": 1
          },
          "autotypenumbers": "strict",
          "coloraxis": {
           "colorbar": {
            "outlinewidth": 0,
            "ticks": ""
           }
          },
          "colorscale": {
           "diverging": [
            [
             0,
             "#8e0152"
            ],
            [
             0.1,
             "#c51b7d"
            ],
            [
             0.2,
             "#de77ae"
            ],
            [
             0.3,
             "#f1b6da"
            ],
            [
             0.4,
             "#fde0ef"
            ],
            [
             0.5,
             "#f7f7f7"
            ],
            [
             0.6,
             "#e6f5d0"
            ],
            [
             0.7,
             "#b8e186"
            ],
            [
             0.8,
             "#7fbc41"
            ],
            [
             0.9,
             "#4d9221"
            ],
            [
             1,
             "#276419"
            ]
           ],
           "sequential": [
            [
             0.0,
             "#0d0887"
            ],
            [
             0.1111111111111111,
             "#46039f"
            ],
            [
             0.2222222222222222,
             "#7201a8"
            ],
            [
             0.3333333333333333,
             "#9c179e"
            ],
            [
             0.4444444444444444,
             "#bd3786"
            ],
            [
             0.5555555555555556,
             "#d8576b"
            ],
            [
             0.6666666666666666,
             "#ed7953"
            ],
            [
             0.7777777777777778,
             "#fb9f3a"
            ],
            [
             0.8888888888888888,
             "#fdca26"
            ],
            [
             1.0,
             "#f0f921"
            ]
           ],
           "sequentialminus": [
            [
             0.0,
             "#0d0887"
            ],
            [
             0.1111111111111111,
             "#46039f"
            ],
            [
             0.2222222222222222,
             "#7201a8"
            ],
            [
             0.3333333333333333,
             "#9c179e"
            ],
            [
             0.4444444444444444,
             "#bd3786"
            ],
            [
             0.5555555555555556,
             "#d8576b"
            ],
            [
             0.6666666666666666,
             "#ed7953"
            ],
            [
             0.7777777777777778,
             "#fb9f3a"
            ],
            [
             0.8888888888888888,
             "#fdca26"
            ],
            [
             1.0,
             "#f0f921"
            ]
           ]
          },
          "colorway": [
           "#636efa",
           "#EF553B",
           "#00cc96",
           "#ab63fa",
           "#FFA15A",
           "#19d3f3",
           "#FF6692",
           "#B6E880",
           "#FF97FF",
           "#FECB52"
          ],
          "font": {
           "color": "#2a3f5f"
          },
          "geo": {
           "bgcolor": "white",
           "lakecolor": "white",
           "landcolor": "#E5ECF6",
           "showlakes": true,
           "showland": true,
           "subunitcolor": "white"
          },
          "hoverlabel": {
           "align": "left"
          },
          "hovermode": "closest",
          "mapbox": {
           "style": "light"
          },
          "paper_bgcolor": "white",
          "plot_bgcolor": "#E5ECF6",
          "polar": {
           "angularaxis": {
            "gridcolor": "white",
            "linecolor": "white",
            "ticks": ""
           },
           "bgcolor": "#E5ECF6",
           "radialaxis": {
            "gridcolor": "white",
            "linecolor": "white",
            "ticks": ""
           }
          },
          "scene": {
           "xaxis": {
            "backgroundcolor": "#E5ECF6",
            "gridcolor": "white",
            "gridwidth": 2,
            "linecolor": "white",
            "showbackground": true,
            "ticks": "",
            "zerolinecolor": "white"
           },
           "yaxis": {
            "backgroundcolor": "#E5ECF6",
            "gridcolor": "white",
            "gridwidth": 2,
            "linecolor": "white",
            "showbackground": true,
            "ticks": "",
            "zerolinecolor": "white"
           },
           "zaxis": {
            "backgroundcolor": "#E5ECF6",
            "gridcolor": "white",
            "gridwidth": 2,
            "linecolor": "white",
            "showbackground": true,
            "ticks": "",
            "zerolinecolor": "white"
           }
          },
          "shapedefaults": {
           "line": {
            "color": "#2a3f5f"
           }
          },
          "ternary": {
           "aaxis": {
            "gridcolor": "white",
            "linecolor": "white",
            "ticks": ""
           },
           "baxis": {
            "gridcolor": "white",
            "linecolor": "white",
            "ticks": ""
           },
           "bgcolor": "#E5ECF6",
           "caxis": {
            "gridcolor": "white",
            "linecolor": "white",
            "ticks": ""
           }
          },
          "title": {
           "x": 0.05
          },
          "xaxis": {
           "automargin": true,
           "gridcolor": "white",
           "linecolor": "white",
           "ticks": "",
           "title": {
            "standoff": 15
           },
           "zerolinecolor": "white",
           "zerolinewidth": 2
          },
          "yaxis": {
           "automargin": true,
           "gridcolor": "white",
           "linecolor": "white",
           "ticks": "",
           "title": {
            "standoff": 15
           },
           "zerolinecolor": "white",
           "zerolinewidth": 2
          }
         }
        },
        "xaxis": {
         "showgrid": false,
         "showticklabels": false,
         "zeroline": false
        },
        "yaxis": {
         "showgrid": false,
         "showticklabels": false,
         "zeroline": false
        }
       }
      },
      "text/html": "<div>                            <div id=\"052a7e24-7653-41ed-b0b6-fbf9f307138e\" class=\"plotly-graph-div\" style=\"height:525px; width:100%;\"></div>            <script type=\"text/javascript\">                require([\"plotly\"], function(Plotly) {                    window.PLOTLYENV=window.PLOTLYENV || {};                                    if (document.getElementById(\"052a7e24-7653-41ed-b0b6-fbf9f307138e\")) {                    Plotly.newPlot(                        \"052a7e24-7653-41ed-b0b6-fbf9f307138e\",                        [{\"marker\": {\"opacity\": 0.3}, \"mode\": \"text\", \"text\": [\"graph\", \"method\", \"algorithm\", \"set\", \"based\", \"large\", \"tool\", \"layout\", \"dimension\", \"present\", \"paper\", \"approach\", \"analysis\", \"technique\", \"information\", \"user\", \"visual\", \"system\", \"visualization\", \"data\"], \"textfont\": {\"color\": \"green\", \"size\": [16.495827585458755, 16.703592613339424, 17.066050320863724, 17.2392837703228, 17.325041815638542, 17.793573439121246, 17.91558787226677, 17.97281950712204, 18.25800910592079, 20.07964998483658, 22.325055673718452, 24.213748052716255, 27.915898710489273, 30.94925917685032, 34.59590673446655, 35.710565745830536, 37.32064366340637, 53.305331617593765, 68.54069977998734, 94.74580734968185]}, \"type\": \"scatter\", \"x\": [0.6858921062939505, 0.816756722245247, 0.9585420765245766, 0.22707039477148072, 0.09493173812218902, 0.2808508007484384, 0.6023015351411833, 0.4686339943118303, 0.9437668476225146, 0.30587849497333675, 0.8665531498418997, 0.306219289932675, 0.5970457904026052, 0.19196203780490884, 0.8887430914649753, 0.08740302497911512, 0.7443645843078597, 0.37267991444390336, 0.7134842379795208, 0.44688932916845303, 0.27227874129772456, 0.8457698613250172, 0.4904986391901427, 0.23539312659225686, 0.9871624130571647, 0.03873485153625622, 0.9643424903211352, 0.75702519505172, 0.13344343335347641, 0.7508251846352841], \"y\": [0.8394710833800776, 0.06395036187781744, 0.8179574441600009, 0.324204120837134, 0.3475528527465259, 0.25066959660350807, 0.41181527884143077, 0.36428467654157926, 0.5910300035255288, 0.07732442561032882, 0.9073521679961437, 0.2640369482087015, 0.04390830324161543, 0.9975768460674608, 0.019905904129313146, 0.4618119254549724, 0.19621744334366253, 0.9041439711508467, 0.5170778158489316, 0.6345994032303275, 0.6655735175874902, 0.4910260804924468, 0.38749765085647947, 0.6629056969701467, 0.4966300814828518, 0.28442652042550975, 0.720844590653027, 0.15055131748286377, 0.38970128601505627, 0.6208936231997159]}],                        {\"template\": {\"data\": {\"bar\": [{\"error_x\": {\"color\": \"#2a3f5f\"}, \"error_y\": {\"color\": \"#2a3f5f\"}, \"marker\": {\"line\": {\"color\": \"#E5ECF6\", \"width\": 0.5}}, \"type\": \"bar\"}], \"barpolar\": [{\"marker\": {\"line\": {\"color\": \"#E5ECF6\", \"width\": 0.5}}, \"type\": \"barpolar\"}], \"carpet\": [{\"aaxis\": {\"endlinecolor\": \"#2a3f5f\", \"gridcolor\": \"white\", \"linecolor\": \"white\", \"minorgridcolor\": \"white\", \"startlinecolor\": \"#2a3f5f\"}, \"baxis\": {\"endlinecolor\": \"#2a3f5f\", \"gridcolor\": \"white\", \"linecolor\": \"white\", \"minorgridcolor\": \"white\", \"startlinecolor\": \"#2a3f5f\"}, \"type\": \"carpet\"}], \"choropleth\": [{\"colorbar\": {\"outlinewidth\": 0, \"ticks\": \"\"}, \"type\": \"choropleth\"}], \"contour\": [{\"colorbar\": {\"outlinewidth\": 0, \"ticks\": \"\"}, \"colorscale\": [[0.0, \"#0d0887\"], [0.1111111111111111, \"#46039f\"], [0.2222222222222222, \"#7201a8\"], [0.3333333333333333, \"#9c179e\"], [0.4444444444444444, \"#bd3786\"], [0.5555555555555556, \"#d8576b\"], [0.6666666666666666, \"#ed7953\"], [0.7777777777777778, \"#fb9f3a\"], [0.8888888888888888, \"#fdca26\"], [1.0, \"#f0f921\"]], \"type\": \"contour\"}], \"contourcarpet\": [{\"colorbar\": {\"outlinewidth\": 0, \"ticks\": \"\"}, \"type\": \"contourcarpet\"}], \"heatmap\": [{\"colorbar\": {\"outlinewidth\": 0, \"ticks\": \"\"}, \"colorscale\": [[0.0, \"#0d0887\"], [0.1111111111111111, \"#46039f\"], [0.2222222222222222, \"#7201a8\"], [0.3333333333333333, \"#9c179e\"], [0.4444444444444444, \"#bd3786\"], [0.5555555555555556, \"#d8576b\"], [0.6666666666666666, \"#ed7953\"], [0.7777777777777778, \"#fb9f3a\"], [0.8888888888888888, \"#fdca26\"], [1.0, \"#f0f921\"]], \"type\": \"heatmap\"}], \"heatmapgl\": [{\"colorbar\": {\"outlinewidth\": 0, \"ticks\": \"\"}, \"colorscale\": [[0.0, \"#0d0887\"], [0.1111111111111111, \"#46039f\"], [0.2222222222222222, \"#7201a8\"], [0.3333333333333333, \"#9c179e\"], [0.4444444444444444, \"#bd3786\"], [0.5555555555555556, \"#d8576b\"], [0.6666666666666666, \"#ed7953\"], [0.7777777777777778, \"#fb9f3a\"], [0.8888888888888888, \"#fdca26\"], [1.0, \"#f0f921\"]], \"type\": \"heatmapgl\"}], \"histogram\": [{\"marker\": {\"colorbar\": {\"outlinewidth\": 0, \"ticks\": \"\"}}, \"type\": \"histogram\"}], \"histogram2d\": [{\"colorbar\": {\"outlinewidth\": 0, \"ticks\": \"\"}, \"colorscale\": [[0.0, \"#0d0887\"], [0.1111111111111111, \"#46039f\"], [0.2222222222222222, \"#7201a8\"], [0.3333333333333333, \"#9c179e\"], [0.4444444444444444, \"#bd3786\"], [0.5555555555555556, \"#d8576b\"], [0.6666666666666666, \"#ed7953\"], [0.7777777777777778, \"#fb9f3a\"], [0.8888888888888888, \"#fdca26\"], [1.0, \"#f0f921\"]], \"type\": \"histogram2d\"}], \"histogram2dcontour\": [{\"colorbar\": {\"outlinewidth\": 0, \"ticks\": \"\"}, \"colorscale\": [[0.0, \"#0d0887\"], [0.1111111111111111, \"#46039f\"], [0.2222222222222222, \"#7201a8\"], [0.3333333333333333, \"#9c179e\"], [0.4444444444444444, \"#bd3786\"], [0.5555555555555556, \"#d8576b\"], [0.6666666666666666, \"#ed7953\"], [0.7777777777777778, \"#fb9f3a\"], [0.8888888888888888, \"#fdca26\"], [1.0, \"#f0f921\"]], \"type\": \"histogram2dcontour\"}], \"mesh3d\": [{\"colorbar\": {\"outlinewidth\": 0, \"ticks\": \"\"}, \"type\": \"mesh3d\"}], \"parcoords\": [{\"line\": {\"colorbar\": {\"outlinewidth\": 0, \"ticks\": \"\"}}, \"type\": \"parcoords\"}], \"pie\": [{\"automargin\": true, \"type\": \"pie\"}], \"scatter\": [{\"marker\": {\"colorbar\": {\"outlinewidth\": 0, \"ticks\": \"\"}}, \"type\": \"scatter\"}], \"scatter3d\": [{\"line\": {\"colorbar\": {\"outlinewidth\": 0, \"ticks\": \"\"}}, \"marker\": {\"colorbar\": {\"outlinewidth\": 0, \"ticks\": \"\"}}, \"type\": \"scatter3d\"}], \"scattercarpet\": [{\"marker\": {\"colorbar\": {\"outlinewidth\": 0, \"ticks\": \"\"}}, \"type\": \"scattercarpet\"}], \"scattergeo\": [{\"marker\": {\"colorbar\": {\"outlinewidth\": 0, \"ticks\": \"\"}}, \"type\": \"scattergeo\"}], \"scattergl\": [{\"marker\": {\"colorbar\": {\"outlinewidth\": 0, \"ticks\": \"\"}}, \"type\": \"scattergl\"}], \"scattermapbox\": [{\"marker\": {\"colorbar\": {\"outlinewidth\": 0, \"ticks\": \"\"}}, \"type\": \"scattermapbox\"}], \"scatterpolar\": [{\"marker\": {\"colorbar\": {\"outlinewidth\": 0, \"ticks\": \"\"}}, \"type\": \"scatterpolar\"}], \"scatterpolargl\": [{\"marker\": {\"colorbar\": {\"outlinewidth\": 0, \"ticks\": \"\"}}, \"type\": \"scatterpolargl\"}], \"scatterternary\": [{\"marker\": {\"colorbar\": {\"outlinewidth\": 0, \"ticks\": \"\"}}, \"type\": \"scatterternary\"}], \"surface\": [{\"colorbar\": {\"outlinewidth\": 0, \"ticks\": \"\"}, \"colorscale\": [[0.0, \"#0d0887\"], [0.1111111111111111, \"#46039f\"], [0.2222222222222222, \"#7201a8\"], [0.3333333333333333, \"#9c179e\"], [0.4444444444444444, \"#bd3786\"], [0.5555555555555556, \"#d8576b\"], [0.6666666666666666, \"#ed7953\"], [0.7777777777777778, \"#fb9f3a\"], [0.8888888888888888, \"#fdca26\"], [1.0, \"#f0f921\"]], \"type\": \"surface\"}], \"table\": [{\"cells\": {\"fill\": {\"color\": \"#EBF0F8\"}, \"line\": {\"color\": \"white\"}}, \"header\": {\"fill\": {\"color\": \"#C8D4E3\"}, \"line\": {\"color\": \"white\"}}, \"type\": \"table\"}]}, \"layout\": {\"annotationdefaults\": {\"arrowcolor\": \"#2a3f5f\", \"arrowhead\": 0, \"arrowwidth\": 1}, \"autotypenumbers\": \"strict\", \"coloraxis\": {\"colorbar\": {\"outlinewidth\": 0, \"ticks\": \"\"}}, \"colorscale\": {\"diverging\": [[0, \"#8e0152\"], [0.1, \"#c51b7d\"], [0.2, \"#de77ae\"], [0.3, \"#f1b6da\"], [0.4, \"#fde0ef\"], [0.5, \"#f7f7f7\"], [0.6, \"#e6f5d0\"], [0.7, \"#b8e186\"], [0.8, \"#7fbc41\"], [0.9, \"#4d9221\"], [1, \"#276419\"]], \"sequential\": [[0.0, \"#0d0887\"], [0.1111111111111111, \"#46039f\"], [0.2222222222222222, \"#7201a8\"], [0.3333333333333333, \"#9c179e\"], [0.4444444444444444, \"#bd3786\"], [0.5555555555555556, \"#d8576b\"], [0.6666666666666666, \"#ed7953\"], [0.7777777777777778, \"#fb9f3a\"], [0.8888888888888888, \"#fdca26\"], [1.0, \"#f0f921\"]], \"sequentialminus\": [[0.0, \"#0d0887\"], [0.1111111111111111, \"#46039f\"], [0.2222222222222222, \"#7201a8\"], [0.3333333333333333, \"#9c179e\"], [0.4444444444444444, \"#bd3786\"], [0.5555555555555556, \"#d8576b\"], [0.6666666666666666, \"#ed7953\"], [0.7777777777777778, \"#fb9f3a\"], [0.8888888888888888, \"#fdca26\"], [1.0, \"#f0f921\"]]}, \"colorway\": [\"#636efa\", \"#EF553B\", \"#00cc96\", \"#ab63fa\", \"#FFA15A\", \"#19d3f3\", \"#FF6692\", \"#B6E880\", \"#FF97FF\", \"#FECB52\"], \"font\": {\"color\": \"#2a3f5f\"}, \"geo\": {\"bgcolor\": \"white\", \"lakecolor\": \"white\", \"landcolor\": \"#E5ECF6\", \"showlakes\": true, \"showland\": true, \"subunitcolor\": \"white\"}, \"hoverlabel\": {\"align\": \"left\"}, \"hovermode\": \"closest\", \"mapbox\": {\"style\": \"light\"}, \"paper_bgcolor\": \"white\", \"plot_bgcolor\": \"#E5ECF6\", \"polar\": {\"angularaxis\": {\"gridcolor\": \"white\", \"linecolor\": \"white\", \"ticks\": \"\"}, \"bgcolor\": \"#E5ECF6\", \"radialaxis\": {\"gridcolor\": \"white\", \"linecolor\": \"white\", \"ticks\": \"\"}}, \"scene\": {\"xaxis\": {\"backgroundcolor\": \"#E5ECF6\", \"gridcolor\": \"white\", \"gridwidth\": 2, \"linecolor\": \"white\", \"showbackground\": true, \"ticks\": \"\", \"zerolinecolor\": \"white\"}, \"yaxis\": {\"backgroundcolor\": \"#E5ECF6\", \"gridcolor\": \"white\", \"gridwidth\": 2, \"linecolor\": \"white\", \"showbackground\": true, \"ticks\": \"\", \"zerolinecolor\": \"white\"}, \"zaxis\": {\"backgroundcolor\": \"#E5ECF6\", \"gridcolor\": \"white\", \"gridwidth\": 2, \"linecolor\": \"white\", \"showbackground\": true, \"ticks\": \"\", \"zerolinecolor\": \"white\"}}, \"shapedefaults\": {\"line\": {\"color\": \"#2a3f5f\"}}, \"ternary\": {\"aaxis\": {\"gridcolor\": \"white\", \"linecolor\": \"white\", \"ticks\": \"\"}, \"baxis\": {\"gridcolor\": \"white\", \"linecolor\": \"white\", \"ticks\": \"\"}, \"bgcolor\": \"#E5ECF6\", \"caxis\": {\"gridcolor\": \"white\", \"linecolor\": \"white\", \"ticks\": \"\"}}, \"title\": {\"x\": 0.05}, \"xaxis\": {\"automargin\": true, \"gridcolor\": \"white\", \"linecolor\": \"white\", \"ticks\": \"\", \"title\": {\"standoff\": 15}, \"zerolinecolor\": \"white\", \"zerolinewidth\": 2}, \"yaxis\": {\"automargin\": true, \"gridcolor\": \"white\", \"linecolor\": \"white\", \"ticks\": \"\", \"title\": {\"standoff\": 15}, \"zerolinecolor\": \"white\", \"zerolinewidth\": 2}}}, \"xaxis\": {\"showgrid\": false, \"showticklabels\": false, \"zeroline\": false}, \"yaxis\": {\"showgrid\": false, \"showticklabels\": false, \"zeroline\": false}},                        {\"responsive\": true}                    ).then(function(){\n                            \nvar gd = document.getElementById('052a7e24-7653-41ed-b0b6-fbf9f307138e');\nvar x = new MutationObserver(function (mutations, observer) {{\n        var display = window.getComputedStyle(gd).display;\n        if (!display || display === 'none') {{\n            console.log([gd, 'removed!']);\n            Plotly.purge(gd);\n            observer.disconnect();\n        }}\n}});\n\n// Listen for the removal of the full notebook cells\nvar notebookContainer = gd.closest('#notebook-container');\nif (notebookContainer) {{\n    x.observe(notebookContainer, {childList: true});\n}}\n\n// Listen for the clearing of the current output cell\nvar outputEl = gd.closest('.output');\nif (outputEl) {{\n    x.observe(outputEl, {childList: true});\n}}\n\n                        })                };                });            </script>        </div>"
     },
     "metadata": {},
     "output_type": "display_data"
    }
   ],
   "source": [
    "cluster_id = 2\n",
    "value = 20\n",
    "data = go.Scatter(\n",
    "                             x=[random.random() for i in range(30)],\n",
    "                             y=[random.random() for i in range(30)],\n",
    "                             mode='text',\n",
    "                             text=lda.get_top_n_word_probs_for_topic_i(cluster_id, value).Words,\n",
    "                             marker={'opacity': 0.3},\n",
    "                             textfont={'size': lda.get_top_n_word_probs_for_topic_i(cluster_id, value).Probabilities * 4000, \n",
    "                                   'color': lda.get_colors()[cluster_id]})\n",
    "layout = go.Layout({'xaxis': {'showgrid': False, 'showticklabels': False, 'zeroline': False},\n",
    "                                            'yaxis': {'showgrid': False, 'showticklabels': False, 'zeroline': False}})\n",
    "figure = go.Figure(data=[data], layout=layout)\n",
    "figure"
   ]
  },
  {
   "cell_type": "code",
   "execution_count": 25,
   "metadata": {},
   "outputs": [
    {
     "data": {
      "text/plain": "9     5.581264\n8     6.053437\n7     6.978975\n6     7.737315\n5     8.648977\n4     8.927641\n3     9.330161\n2    13.326333\n1    17.135175\n0    23.686452\nName: Probabilities, dtype: float64"
     },
     "execution_count": 25,
     "metadata": {},
     "output_type": "execute_result"
    }
   ],
   "source": [
    "lda.get_top_n_word_probs_for_topic_i(2, 10).Probabilities * 1000"
   ]
  },
  {
   "cell_type": "code",
   "execution_count": 26,
   "metadata": {},
   "outputs": [
    {
     "ename": "NameError",
     "evalue": "name 'node_title' is not defined",
     "output_type": "error",
     "traceback": [
      "\u001B[1;31m---------------------------------------------------------------------------\u001B[0m",
      "\u001B[1;31mNameError\u001B[0m                                 Traceback (most recent call last)",
      "\u001B[1;32m<ipython-input-26-6feb096a6451>\u001B[0m in \u001B[0;36m<module>\u001B[1;34m\u001B[0m\n\u001B[0;32m      4\u001B[0m \u001B[0mtop_terms\u001B[0m \u001B[1;33m=\u001B[0m \u001B[0mlda\u001B[0m\u001B[1;33m.\u001B[0m\u001B[0mget_terms_with_best_topic\u001B[0m\u001B[1;33m(\u001B[0m\u001B[1;33m)\u001B[0m\u001B[1;33m.\u001B[0m\u001B[0mto_dict\u001B[0m\u001B[1;33m(\u001B[0m\u001B[1;34m'records'\u001B[0m\u001B[1;33m)\u001B[0m\u001B[1;33m\u001B[0m\u001B[1;33m\u001B[0m\u001B[0m\n\u001B[0;32m      5\u001B[0m \u001B[1;33m\u001B[0m\u001B[0m\n\u001B[1;32m----> 6\u001B[1;33m \u001B[0mdata\u001B[0m\u001B[1;33m=\u001B[0m\u001B[0mlda\u001B[0m\u001B[1;33m.\u001B[0m\u001B[0mget_data\u001B[0m\u001B[1;33m(\u001B[0m\u001B[1;33m)\u001B[0m\u001B[1;33m[\u001B[0m\u001B[0mlda\u001B[0m\u001B[1;33m.\u001B[0m\u001B[0mget_data\u001B[0m\u001B[1;33m(\u001B[0m\u001B[1;33m)\u001B[0m\u001B[1;33m[\u001B[0m\u001B[1;34m'title'\u001B[0m\u001B[1;33m]\u001B[0m \u001B[1;33m==\u001B[0m \u001B[0mnode_title\u001B[0m\u001B[1;33m]\u001B[0m\u001B[1;33m.\u001B[0m\u001B[0msplit\u001B[0m\u001B[1;33m(\u001B[0m\u001B[1;34m' '\u001B[0m\u001B[1;33m)\u001B[0m\u001B[1;33m\u001B[0m\u001B[1;33m\u001B[0m\u001B[0m\n\u001B[0m\u001B[0;32m      7\u001B[0m \u001B[1;32mfor\u001B[0m \u001B[0md\u001B[0m \u001B[1;32min\u001B[0m \u001B[0mdata\u001B[0m\u001B[1;33m:\u001B[0m\u001B[1;33m\u001B[0m\u001B[1;33m\u001B[0m\u001B[0m\n\u001B[0;32m      8\u001B[0m     \u001B[0mlemmat_d\u001B[0m \u001B[1;33m=\u001B[0m \u001B[0mlemmatizer\u001B[0m\u001B[1;33m.\u001B[0m\u001B[0mlemmatize\u001B[0m\u001B[1;33m(\u001B[0m\u001B[0md\u001B[0m\u001B[1;33m)\u001B[0m\u001B[1;33m\u001B[0m\u001B[1;33m\u001B[0m\u001B[0m\n",
      "\u001B[1;31mNameError\u001B[0m: name 'node_title' is not defined"
     ]
    }
   ],
   "source": [
    "from nltk.stem import WordNetLemmatizer\n",
    "lemmatizer = WordNetLemmatizer()\n",
    "import dash_core_components as dcc\n",
    "top_terms = lda.get_terms_with_best_topic().to_dict('records')\n",
    "\n",
    "data=lda.get_data()[lda.get_data()['title'] == node_title].split(' ')\n",
    "for d in data:\n",
    "    lemmat_d = lemmatizer.lemmatize(d)\n",
    "    color = 'black'\n",
    "    if lemmat_d in top_terms.keys():\n",
    "        color = top_terms[lemmat_d]\n",
    "\n",
    "\n",
    "\n",
    "html.Div(dcc.Markdown('''Am I red yet?'''), style={'color':'red'})\n",
    "\n",
    "#print(lda.get_terms_with_best_topic())"
   ]
  },
  {
   "cell_type": "code",
   "execution_count": null,
   "metadata": {
    "pycharm": {
     "name": "#%%\n"
    }
   },
   "outputs": [],
   "source": [
    "lda.lda_get_state().__dict__['sstats'] = 1\n",
    "\n",
    "lda.lda_get_state().__dict__['sstats']\n",
    "#.__dict__['eta']"
   ]
  },
  {
   "cell_type": "code",
   "execution_count": null,
   "metadata": {},
   "outputs": [],
   "source": [
    "lda.lda_get_state().__dict__"
   ]
  },
  {
   "cell_type": "code",
   "execution_count": null,
   "metadata": {
    "pycharm": {
     "name": "#%%\n"
    }
   },
   "outputs": [],
   "source": [
    "\n",
    "#lda.lda_get_state()['sstats']\n",
    "\n",
    "lda.lda_get_state().__dict__"
   ]
  },
  {
   "cell_type": "code",
   "execution_count": null,
   "metadata": {
    "pycharm": {
     "name": "#%%\n"
    }
   },
   "outputs": [],
   "source": [
    "lda.lda_get_lda_model().__dict__"
   ]
  },
  {
   "cell_type": "code",
   "execution_count": null,
   "metadata": {},
   "outputs": [],
   "source": [
    "lda.lda_get_lda_model().__dict__['num_topics'] = 4"
   ]
  },
  {
   "cell_type": "code",
   "execution_count": null,
   "metadata": {},
   "outputs": [],
   "source": [
    "lda.lda_get_lda_model().__dict__['alp']"
   ]
  },
  {
   "cell_type": "code",
   "execution_count": null,
   "metadata": {},
   "outputs": [],
   "source": [
    "lda.lda_get_lda_model().__dict__"
   ]
  },
  {
   "cell_type": "code",
   "execution_count": null,
   "metadata": {},
   "outputs": [],
   "source": []
  }
 ],
 "metadata": {
  "kernelspec": {
   "display_name": "Python 3",
   "language": "python",
   "name": "python3"
  },
  "language_info": {
   "codemirror_mode": {
    "name": "ipython",
    "version": 3
   },
   "file_extension": ".py",
   "mimetype": "text/x-python",
   "name": "python",
   "nbconvert_exporter": "python",
   "pygments_lexer": "ipython3",
   "version": "3.8.5"
  }
 },
 "nbformat": 4,
 "nbformat_minor": 4
}