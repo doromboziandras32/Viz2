{
 "cells": [
  {
   "cell_type": "code",
   "execution_count": 18,
   "metadata": {},
   "outputs": [],
   "source": [
    "from LDA_simplified import LDA"
   ]
  },
  {
   "cell_type": "code",
   "execution_count": 19,
   "metadata": {},
   "outputs": [
    {
     "name": "stderr",
     "output_type": "stream",
     "text": [
      "C:\\Users\\Andras\\TU\\Visualization 2\\wordcloud\\LDA_simplified.py:511: SettingWithCopyWarning:\n",
      "\n",
      "\n",
      "A value is trying to be set on a copy of a slice from a DataFrame.\n",
      "Try using .loc[row_indexer,col_indexer] = value instead\n",
      "\n",
      "See the caveats in the documentation: https://pandas.pydata.org/pandas-docs/stable/user_guide/indexing.html#returning-a-view-versus-a-copy\n",
      "\n"
     ]
    }
   ],
   "source": [
    "#lda = LDA(5,'/Users/timi/Documents/TU/Python/Viz2/Project/aktuell/InfovisVAST-papers.jig.txt')\n",
    "#lda = LDA(5,'C:/Users/Andras/TU/Visualization 2/Viz2_Project/data/InfovisVAST-papers.jig.txt')\n",
    "lda = LDA(5,'InfovisVAST-papers.jig.txt')"
   ]
  },
  {
   "cell_type": "markdown",
   "metadata": {},
   "source": [
    "Build up the nodes and edges for the cytoscape network graph"
   ]
  },
  {
   "cell_type": "code",
   "execution_count": 20,
   "metadata": {},
   "outputs": [],
   "source": [
    "# extract the color from class settings: will be defined in stylesheet\n",
    "# the label is the top 4 words\n",
    "# position defined by lda\n",
    "def get_graph_topic_nodes():\n",
    "    return [{'data': {'id': id_, 'label': vals[0]},\n",
    "             'classes': f'topic_{vals[1]}'                                                                                        #,\"opacity\": 0.1\n",
    "            ,'position':{'x' : vals[2][0] , 'y' : vals[2][1]}\n",
    "            } for id_,vals in lda.get_topic_nodes_().items()                        \n",
    "        ]"
   ]
  },
  {
   "cell_type": "code",
   "execution_count": 21,
   "metadata": {},
   "outputs": [],
   "source": [
    "# document nodes: id by document id, class defined in stylesheet,\n",
    "# define the color and belonging\n",
    "def get_graph_document_nodes():\n",
    "    return [                       \n",
    "            {'data': {'id': id_,'size': 1000}, \n",
    "             'style': {'shape': 'circle'},\n",
    "             'classes': vals[1]\n",
    "             #vals[1]\n",
    "            } for id_,vals in lda.get_doc_nodes_().items()                        \n",
    "        ]\n"
   ]
  },
  {
   "cell_type": "code",
   "execution_count": 22,
   "metadata": {},
   "outputs": [],
   "source": [
    "# document edges based on cosine similarity\n",
    "def get_graph_cos_sim_edges():\n",
    "        return [\n",
    "            {'data': {'source': f[0], 'target': f[1],'label': f'{f[0]} -> {f[1]}'}} for f in lda.get_edges_()\n",
    "        ]"
   ]
  },
  {
   "cell_type": "code",
   "execution_count": 23,
   "metadata": {},
   "outputs": [],
   "source": [
    "# edges between the  topics and the related documents: they are invisible\n",
    "def get_doc_topic_edges():\n",
    "    return  [\n",
    "            {'data': {'source': id_, 'target': vals[2],'label': f'{id_} -> {vals[2]}',\"edgeLength\":200, 'size': 5},\n",
    "            'style': {'line-color': 'white', \"opacity\": 0}}  for id_,vals in lda.get_doc_nodes_().items() \n",
    "        ]"
   ]
  },
  {
   "cell_type": "code",
   "execution_count": 24,
   "metadata": {},
   "outputs": [],
   "source": [
    "# Update stylessheet:  define all the new clusters class settings\n",
    "# after the update_lda step e.g.\n",
    "def update_stylesheet():\n",
    "    colors = sorted(set([vals[1] for id_,vals in lda.get_doc_nodes_().items()]))\n",
    "    #get the new colors for the topics and the nodes\n",
    "    node_classes = [{\n",
    "                    'selector': f'.{c}',\n",
    "                    'style': {\n",
    "                        'background-color': c\n",
    "                    }\n",
    "                } for c in colors]\n",
    "    \n",
    "    topic_classes = [{\n",
    "                    'selector': f'.topic_{c}',\n",
    "                    'style': { 'border-color': c,\n",
    "               'border-width': 2,        \n",
    "               'background-color': 'white',\n",
    "                'shape': 'rectangle','content': 'data(label)','text-halign':'center',\n",
    "                'text-valign':'center','text-wrap': 'wrap','width':'label','height':'label'}\n",
    "                }for c in colors     ]\n",
    "\n",
    "    \n",
    "    return node_classes + topic_classes   # Class selectors\n",
    "                 \n",
    "                           \n",
    "            "
   ]
  },
  {
   "cell_type": "code",
   "execution_count": 25,
   "metadata": {
    "pycharm": {
     "name": "#%%\n"
    }
   },
   "outputs": [],
   "source": [
    "import plotly.express as px\n",
    "def build_cluster_summary_view():\n",
    "    clust = 'Clusters'\n",
    "    labels = [clust]\n",
    "    parents = ['']\n",
    "    marker_colors = [\"white\"]\n",
    "    text_info = ['']\n",
    "    for id_,vals in lda.get_topic_nodes_().items():\n",
    "        labels.append(id_)\n",
    "        #text_info.append('+'.join([v for v in vals[0].replace('\\n', ' ').split(' ')]))\n",
    "        #text_info.append('\\n'.join([v for v in vals[0].replace('\\n', ' ').split(' ')]))\n",
    "        text_info.append(vals[0].replace('\\n','<br>'))\n",
    "        parents.append(clust)\n",
    "        marker_colors.append(vals[1])\n",
    "        #print([v for v in vals[1].replace('\\\\n', ' ').split(' ')])\n",
    "    clust_sum_view = dict()\n",
    "    clust_sum_view['labels'] =  labels\n",
    "    clust_sum_view['parents'] =  parents\n",
    "    clust_sum_view['marker_colors'] =  marker_colors\n",
    "    clust_sum_view['text_info'] =  text_info\n",
    "    return  clust_sum_view\n",
    "\n"
   ]
  },
  {
   "cell_type": "code",
   "execution_count": 26,
   "metadata": {
    "pycharm": {
     "name": "#%%\n"
    }
   },
   "outputs": [],
   "source": [
    "def build_cluster_merge_list():\n",
    "    clusters = []\n",
    "    for k in lda.get_topic_nodes().keys():\n",
    "        clusters.append({'label': k, 'value': k.replace('Cluster ', '')})\n",
    "\n",
    "    return clusters\n"
   ]
  },
  {
   "cell_type": "code",
   "execution_count": 38,
   "metadata": {},
   "outputs": [
    {
     "name": "stdout",
     "output_type": "stream",
     "text": [
      "Dash app running on http://127.0.0.1:8051/\n"
     ]
    }
   ],
   "source": [
    "initial_sum_view = build_cluster_summary_view()\n",
    "from jupyter_dash import JupyterDash  #  pip install jupyter-dash\n",
    "import dash_cytoscape as cyto  # pip install dash-cytoscape==0.2.0 or higher\n",
    "import dash_html_components as html\n",
    "import dash_core_components as dcc\n",
    "\n",
    "from dash.dependencies import Output, Input,State\n",
    "import pandas as pd  # pip install pandas\n",
    "\n",
    "\n",
    "import dash_bootstrap_components as dbc #pip install dash-bootstrap-components\n",
    "import dash_table\n",
    "import dash\n",
    "import plotly.graph_objects as go\n",
    "import json\n",
    "import plotly.graph_objs as go\n",
    "\n",
    "\n",
    "import dash_dangerously_set_inner_html\n",
    "\n",
    "\n",
    "\n",
    "external_stylesheets = ['https://codepen.io/chriddyp/pen/bWLwgP.css']\n",
    "# SKETCHY\n",
    "app = JupyterDash(__name__, external_stylesheets=[dbc.themes.MATERIA], suppress_callback_exceptions=True)\n",
    "\n",
    "\n",
    "app.layout = html.Div([html.Div(html.H1('iVisClustering: An Interactive Visual Document Clustering via Topic Modeling', style={'backgroundColor':'lightgray'})),\n",
    "    ############## FIRST ROW ########################\n",
    "    dbc.Row([\n",
    "        dbc.Col([\n",
    "            html.Div(id='empty-div', children=''),\n",
    "            dcc.Location(id='url', refresh=True),\n",
    "            html.H3('Cluster Relation View'),   \n",
    "            html.Br(),\n",
    "            html.A(html.Button('Reset settings'),href='/'),\n",
    "            html.Br(),\n",
    "            html.I(\"Number of clusters (min: 2 , max: 10)\"),\n",
    "            dcc.Input(id=\"input1\", type=\"number\", min = 2, value = 5, max = 10),\n",
    "            dbc.Modal([dbc.ModalHeader(\"Warning!\"),\n",
    "                       dbc.ModalBody(\"Number of clusters should be within 2 and 10\"),\n",
    "                       dbc.ModalFooter(dbc.Button(\n",
    "                                            \"Close\", id=\"close_warning_num_of_cluster\", className=\"ml-auto\"\n",
    "                                        )\n",
    "                                    ),\n",
    "                       ],\n",
    "            id=\"number_of_topics_warning\",\n",
    "            centered=True),\n",
    "            html.Button(\"Update\", id=\"update_button\", n_clicks = 0),\n",
    "            html.Br(),\n",
    "            html.I(\"Cosine similarity:\"),\n",
    "        html.Div(id=\"output\"),\n",
    "            dcc.Slider(\n",
    "                id='my-daq-slider-ex',\n",
    "                min=0, max=1, value=0.4, step = 0.05\n",
    "            ),\n",
    "            html.Br(),\n",
    "            dcc.Interval(id='refresh', interval=1),\n",
    "            html.I(\"Delete marked node/document:\"),\n",
    "           html.Button(\"Delete\", id=\"delete_button\",  n_clicks = 0)],width = 2),\n",
    "            dbc.Modal([dbc.ModalHeader(\"Warning!\"),\n",
    "                           dbc.ModalBody(\"You have to select a document (node in graphs, except document summary) to delete\"),\n",
    "                               dbc.ModalFooter(dbc.Button(\n",
    "                                                \"Close\", id=\"close_delete_document_warning\", className=\"ml-auto\"\n",
    "                                            )\n",
    "                                        ),\n",
    "                            ],\n",
    "                id=\"delete_document_warning\",\n",
    "                centered=True),\n",
    "        dbc.Col([\n",
    "           cyto.Cytoscape(\n",
    "                id='cytoscape',\n",
    "                minZoom=0.2,\n",
    "                maxZoom=2,\n",
    "                autoRefreshLayout = True,                \n",
    "                layout={'name': 'cose', 'animate': True},        \n",
    "                style={'width': '100%', 'height': '400px'},\n",
    "                elements=  get_graph_topic_nodes() + get_graph_document_nodes() + get_graph_cos_sim_edges() + get_doc_topic_edges(),\n",
    "                stylesheet = update_stylesheet()\n",
    "        \n",
    "        \n",
    "    )\n",
    "\n",
    "\n",
    "\n",
    "    ], width = 3),\n",
    "        ###### intitialise the place for the cluster summary view,\n",
    "        ###### update it with a callback\n",
    "        dbc.Col([html.Div([\n",
    "            html.H3('Cluster Summary View'),\n",
    "            html.Div([dcc.Graph(id = 'clust_sum_graph',\n",
    "                                #style={'width': '40vh', 'height': '40vh',},\n",
    "                                style={'width': '100%', 'height': '40vh',},\n",
    "                                figure= go.Figure(data = go.Treemap(labels  = initial_sum_view['labels'],\n",
    "                                                                    parents = initial_sum_view['parents'],\n",
    "                                                                    marker_colors =  initial_sum_view['marker_colors'],\n",
    "                                                                    text = initial_sum_view['text_info']),\n",
    "                                                  layout = go.Layout(margin={'t': 0, 'l': 0, 'r': 5, 'b' : 2})))])\n",
    "            ,html.Div([ html.Button(\"Delete Cluster\", id=\"delete_cluster_button\",  n_clicks = 0),\n",
    "                        dbc.Modal([\n",
    "                                    dbc.ModalHeader(\"Warning!\"),\n",
    "                                    dbc.ModalBody([\n",
    "                                        html.Div(\"You have to select a cluster first from the Cluster summary view\"),\n",
    "                                        html.Div(\"AND\"),\n",
    "                                        html.Div(\"Number of clusters should remain at least 2\")\n",
    "                                        ]),\n",
    "                                    dbc.ModalFooter(\n",
    "                                        dbc.Button(\n",
    "                                            \"Close\", id=\"close-warning\", className=\"ml-auto\"\n",
    "                                        )\n",
    "                                    ),\n",
    "                                ],\n",
    "                                    id=\"cluster_delete_failed_warning\",\n",
    "                                    centered=True,\n",
    "        )])])\n",
    "        ], width = 2),\n",
    "        dbc.Col([html.Div([html.I(\"Merge clusters:\"),\n",
    "                            html.Br(),\n",
    "                           dcc.Checklist(\n",
    "                                options = build_cluster_merge_list(),\n",
    "                                id = 'cluster_merge_checklist'\n",
    "                           ),\n",
    "                           html.Button(\"Merge Clusters\", id=\"merge_cluster_button\",  n_clicks = 0),\n",
    "                           dbc.Modal([\n",
    "                                        dbc.ModalHeader(\"Warning!\"),\n",
    "                                        dbc.ModalBody(\"You have to select one or more (at most k-1) clusters from the checklist, and the number of clusters must remain at least 2\"),\n",
    "                                        dbc.ModalFooter(\n",
    "                                            dbc.Button(\n",
    "                                                \"Close\", id=\"close_cluster_merge_warning\", className=\"ml-auto\"\n",
    "                                            )\n",
    "                                        ),\n",
    "                                    ],\n",
    "                            id=\"cluster_merge_failed_warning\",\n",
    "                            centered=True,\n",
    "            )])],width = 1),\n",
    "        ### initialize the views, update by callback\n",
    "       dbc.Col([html.Div([\n",
    "            html.H3('Term Weight View'),\n",
    "            dcc.Input(id=\"input_barchart\", type=\"number\", min = 2, value = 10),\n",
    "            html.Div([\n",
    "                dash_table.DataTable(\n",
    "                                id='table',\n",
    "                                #data=[{'Words': '', 'Probabilities': ''}],\n",
    "                                #columns= ['Words','Probabilities'],\n",
    "                                editable = True,\n",
    "                                style_cell={'width': '50px',\n",
    "                                            'height': '30px',\n",
    "                                            'textAlign': 'left'}\n",
    "                                      )\n",
    "                           ]\n",
    "            ,id='term-weighttable')\n",
    "\n",
    "        ], style= {'display': 'none'}, id = 'term-weight-input')], width = 2),\n",
    "        dbc.Col([html.Div([\n",
    "            html.Button('Change Prob.', id='change-probs', n_clicks=0),\n",
    "            html.Div([],id='bar_chart')\n",
    "        ], style= {'display': 'none'}, id = 'change-prob-btn-div')], width = 2)\n",
    "    ],\n",
    "    style = {'padding': 10}\n",
    "    ),\n",
    "\n",
    "     ## paralell coordinates plot\n",
    "    dbc.Row([\n",
    "        dbc.Col([\n",
    "            html.H3('Parallel Coordinates View'),\n",
    "            dcc.Graph(id='parallel_coord', \n",
    "                      style={'width': '130vh', 'height': '50vh'},\n",
    "                      figure = go.Figure(data= \n",
    "            go.Parcoords(\n",
    "                line = dict(color = lda.get_parall_coord_df()['Dominant_Topic'],\n",
    "                           colorscale = list(lda.get_colors().values())[:lda.get_k()]),\n",
    "                dimensions = [                       \n",
    "                    dict(range = [0,1],\n",
    "                        label = f'Cluster {i}', \n",
    "                        values = lda.get_parall_coord_df()[i])\n",
    "                     for i in range(lda.get_k())                      \n",
    "                ]\n",
    "\n",
    "            )\n",
    "            ))                                  \n",
    "        ], width = 5),\n",
    "        dbc.Col([ html.I(\"Set threshold for the probability, that a document belongs to the cluster :\"),\n",
    "                 html.I(\"Filter out noisy documents\"),\n",
    "                    dcc.Slider(\n",
    "                id='pc_slider',\n",
    "                min=0, max=1, value=0.4, step = 0.05\n",
    "            ),\n",
    "        ], width = 2),\n",
    "        dbc.Col([html.Div([\n",
    "            html.H3('Word Cloud'),\n",
    "            html.Div([],id='word_cloud')\n",
    "        ], style= {'display': 'none'}, id = 'word_cloud_style')], width = 5)\n",
    "         \n",
    "    ]),\n",
    "    ########### THIRD ROW #####################    \n",
    "                     \n",
    "    dbc.Row([\n",
    "        dbc.Col([\n",
    "                html.Div([\n",
    "            html.Div([],id='dt')\n",
    "\n",
    "        ], style= {'display': 'none'}, id = 'dt_input')], width = 8)\n",
    "        ])])\n",
    "    \n",
    "    \n",
    "   \n",
    "    \n",
    "        \n",
    "#])    \n",
    "\n",
    "  \n",
    "\n",
    "######### Number of clusters ################    \n",
    "\n",
    "\n",
    "@app.callback(    \n",
    "    Output('cytoscape', 'stylesheet'),        \n",
    "    Output('cytoscape','elements'),\n",
    "    Output('cytoscape','layout'),\n",
    "    Output('parallel_coord','figure'),\n",
    "    Output('clust_sum_graph','figure'),\n",
    "    Output('cluster_delete_failed_warning','is_open'),\n",
    "    Output('number_of_topics_warning','is_open'),\n",
    "    Output('delete_document_warning','is_open'),\n",
    "    Output('cluster_merge_failed_warning','is_open'),\n",
    "    Output('cluster_merge_checklist','value'),\n",
    "    Output('cluster_merge_checklist','options'),    \n",
    "    Input('my-daq-slider-ex', 'value'),\n",
    "    Input(\"update_button\", \"n_clicks\"),\n",
    "    Input('delete_button', \"n_clicks\"),\n",
    "    Input('cytoscape','tapNodeData'),\n",
    "    Input('cytoscape', 'selectedNodeData'),\n",
    "    Input('pc_slider','value'),\n",
    "    Input('change-probs', \"n_clicks\"),\n",
    "    Input('clust_sum_graph','clickData'),\n",
    "    Input('delete_cluster_button', \"n_clicks\"),\n",
    "    Input('merge_cluster_button', \"n_clicks\"),\n",
    "    Input(\"close-warning\", \"n_clicks\"),\n",
    "    Input(\"close_warning_num_of_cluster\", \"n_clicks\"),\n",
    "    Input(\"close_delete_document_warning\", \"n_clicks\"),\n",
    "    Input(\"close_cluster_merge_warning\", \"n_clicks\"),\n",
    "    State('parallel_coord','figure'),\n",
    "    State(\"input1\", \"value\"),\n",
    "    State('cytoscape','stylesheet'),\n",
    "    State('cytoscape', 'elements'),\n",
    "    State('cytoscape', 'layout'),\n",
    "    State('clust_sum_graph','figure'),\n",
    "    State('clust_sum_graph','clickData'),\n",
    "    State('cluster_delete_failed_warning','is_open'),\n",
    "    State('number_of_topics_warning','is_open'),\n",
    "    State('delete_document_warning','is_open'),\n",
    "    State('cluster_merge_failed_warning','is_open'),\n",
    "    State('cluster_merge_checklist','value'),\n",
    "    State('cluster_merge_checklist','options'),\n",
    "\n",
    "    prevent_initial_call = True\n",
    "    \n",
    ")\n",
    "def update_graph(value_slider, update_n_button,delete_button, tapNodeData,selectedNodeData,\n",
    "                 pc_slider,change_prob_button,clust_sum_data,delete_cluster_button,merge_cluster_button,clust_delete_warn_button,\n",
    "                 close_warning_num_of_cluster,close_delete_document_warning,close_cluster_merge_warning,\n",
    "                 pc_figure,cluster_number_value, stylesheet, elements,layout,clust_sum_graph, clust_sum_latest,\n",
    "                 cluster_delete_failed_warning,number_of_topics_warning,delete_document_warning,cluster_merge_warning,\n",
    "                 cluster_merge_checklist_vals, cluster_merge_checklist_opts):\n",
    "    ctx = dash.callback_context\n",
    "    figure = pc_figure\n",
    "    clust_sum_figure = clust_sum_graph\n",
    "    cluster_delete_warn_dialog = cluster_delete_failed_warning\n",
    "    update_cluster_warn_dialog = number_of_topics_warning\n",
    "    document_delete_warn_dialog = delete_document_warning\n",
    "    close_cluster_merge_warning_dialog = cluster_merge_warning\n",
    "    clust_opts = cluster_merge_checklist_opts\n",
    "    clicked_element = ctx.triggered[0]['prop_id'].split('.')[0]\n",
    "    clust_opts = cluster_merge_checklist_opts \n",
    "\n",
    "    clust_vals = cluster_merge_checklist_vals if cluster_merge_checklist_vals is not None else []\n",
    "\n",
    "    values = []\n",
    "\n",
    "    \n",
    "\n",
    "    #################### cosine similarity ############################\n",
    "    if  clicked_element == 'my-daq-slider-ex':\n",
    "        slider_value =  ctx.triggered[0]['value']\n",
    "        lda.set_cosine_sim_treshold(slider_value)\n",
    "        ## need to update the elements of the graph\n",
    "        elements = get_graph_topic_nodes() + get_graph_document_nodes() + get_graph_cos_sim_edges() + get_doc_topic_edges()\n",
    "\n",
    "    #################  number of clusters ##############################    \n",
    "    elif clicked_element == 'update_button':\n",
    "        if cluster_number_value is not None:\n",
    "            ### elements need to be updated\n",
    "            lda.set_number_of_clusters(cluster_number_value)\n",
    "            lda.update_lda()\n",
    "            elements = get_graph_topic_nodes() + get_graph_document_nodes() + get_graph_cos_sim_edges() + get_doc_topic_edges()\n",
    "            ### layout of the graph needs to be updated\n",
    "            layout = {'name': 'cose'}\n",
    "\n",
    "            ### parallel coordinates plot needs to be updated\n",
    "            ### according to the number of clusters\n",
    "            figure=figure = go.Figure(data=\n",
    "                go.Parcoords(\n",
    "                    line = dict(color = lda.get_parall_coord_df()['Dominant_Topic'],\n",
    "                               colorscale = list(lda.get_colors().values())[:lda.get_k()]),\n",
    "                    dimensions = [\n",
    "                        dict(range = [0,1],\n",
    "                            label = f'Cluster {i}',\n",
    "                            values = lda.get_parall_coord_df()[i])\n",
    "                         for i in range(lda.get_k())\n",
    "                    ]))\n",
    "\n",
    "            ### update stylesheet\n",
    "            stylesheet = update_stylesheet()\n",
    "\n",
    "            #update cluster summary view\n",
    "            update_clust_summary = build_cluster_summary_view()\n",
    "            clust_sum_figure =  go.Figure(go.Treemap(labels  = update_clust_summary['labels'],\n",
    "                                                         parents = update_clust_summary['parents'],\n",
    "                                                         marker_colors =  update_clust_summary['marker_colors'],\n",
    "                                                         text = update_clust_summary['text_info']),\n",
    "                                              layout = go.Layout(margin={'t': 0, 'l': 0, 'r': 15, 'b' : 2}))\n",
    "\n",
    "                                                   \n",
    "            clust_opts = build_cluster_merge_list() \n",
    "            clust_vals = []\n",
    "        else: #show warning dialog if the input value is out of the limit\n",
    "            update_cluster_warn_dialog = True\n",
    "    ################### highlight rows #################################    \n",
    "    # the choosen document will be highlighted on the parallel coordinates plot\n",
    "    elif clicked_element == 'cytoscape' and tapNodeData is not None: \n",
    "        ## recolor the choosen line\n",
    "        color_list = list(lda.get_colors().values())[:lda.get_k()]\n",
    "        color_list.append('black')\n",
    "        df = lda.get_parall_coord_df()\n",
    "        df = df.reset_index()\n",
    "        df['index'] = range(1, len(df) + 1)\n",
    "        df.set_index('index')\n",
    "        df.loc[tapNodeData['id'],'Dominant_Topic'] = lda.get_k()\n",
    "        \n",
    "        figure= go.Figure(data= \n",
    "            go.Parcoords(\n",
    "                line = dict(color = df['Dominant_Topic'],\n",
    "                           colorscale = color_list),\n",
    "                dimensions = [                       \n",
    "                    dict(range = [0,1],\n",
    "                        label = f'Cluster {i}', \n",
    "                        values = df[i])\n",
    "                     for i in range(lda.get_k())                      \n",
    "                ]))\n",
    "        \n",
    "    ################## delete documents #################################\n",
    "    elif clicked_element == 'delete_button':\n",
    "        #If no node selected before, the input variable should be None, we have to handle it\n",
    "        if (tapNodeData is not None and 'Cluster' not in tapNodeData['id']):\n",
    "            lda.remove_document(int(tapNodeData['id']))\n",
    "            elements = get_graph_topic_nodes() + get_graph_document_nodes() + get_graph_cos_sim_edges() + get_doc_topic_edges()\n",
    "\n",
    "        else: #Show warning dialog\n",
    "            document_delete_warn_dialog = True\n",
    "            \n",
    "\n",
    "    ######### Filter the paralell coordinates by the given threshold #####\n",
    "    elif clicked_element == 'pc_slider':\n",
    "            #print('pc_slider triggered')\n",
    "            lda.filter_parall_coords_topic_contribution(ctx.triggered[0]['value'])\n",
    "            #parall_coord_input = lda.get_filtered_topics_df()\n",
    "            #filtered_parall_coords = lda.get_parall_coord_df().loc[lda.get_filtered_topics_df()['Title']]\n",
    "            filtered_parall_coords = lda.get_filtered_parall_coords_df()\n",
    "            figure = go.Figure(data= go.Parcoords(\n",
    "                line = dict(color = filtered_parall_coords['Dominant_Topic'],\n",
    "                           colorscale = list(lda.get_colors().values())[:lda.get_k()]),\n",
    "                dimensions = [                       \n",
    "                    dict(range = [0,1],\n",
    "                        label = f'Cluster {i}', \n",
    "                        values = filtered_parall_coords[i])\n",
    "                     for i in range(lda.get_k())                      \n",
    "                ]))\n",
    "    elif clicked_element == 'clust_sum_graph':\n",
    "        #print('clust_sum_graph')\n",
    "        print(clust_sum_data)\n",
    "        #print(clust_sum_data['points'][0]['label'])\n",
    "        lda.set_last_selected_cluster_from_clust_sum_view(clust_sum_data['points'][0]['label'])\n",
    "        #set currently selected cluster from summary view in class aas actual in order to delete\n",
    "        \n",
    "    elif clicked_element == 'delete_cluster_button':\n",
    "        if clust_sum_latest is None  or lda.get_k() == 2:\n",
    "            #show the warning that no cluster selected before in the cluster summary view\n",
    "            cluster_delete_warn_dialog = True\n",
    "        else:            \n",
    "            #print(clust_sum_latest['points'][0]['label'])\n",
    "            lda.delete_cluster()\n",
    "            elements = get_graph_topic_nodes() + get_graph_document_nodes() + get_graph_cos_sim_edges() + get_doc_topic_edges()\n",
    "            ### layout of the graph needs to be updated\n",
    "            layout = {'name': 'cose'}\n",
    "\n",
    "            ### parallel coordinates plot needs to be updated\n",
    "            ### according to the number of clusters\n",
    "            figure=figure = go.Figure(data=\n",
    "                go.Parcoords(\n",
    "                    line = dict(color = lda.get_parall_coord_df()['Dominant_Topic'],\n",
    "                               colorscale = list(lda.get_colors().values())[:lda.get_k()]),\n",
    "                    dimensions = [\n",
    "                        dict(range = [0,1],\n",
    "                            label = f'Cluster {i}',\n",
    "                            values = lda.get_parall_coord_df()[i])\n",
    "                         for i in range(lda.get_k())\n",
    "                    ]))\n",
    "\n",
    "            ### update stylesheet\n",
    "            stylesheet = update_stylesheet()\n",
    "\n",
    "            #update cluster summary view\n",
    "            update_clust_summary = build_cluster_summary_view()\n",
    "            clust_sum_figure =  go.Figure(go.Treemap(labels  = update_clust_summary['labels'],\n",
    "                                                     parents = update_clust_summary['parents'],\n",
    "                                                     marker_colors =  update_clust_summary['marker_colors'],\n",
    "                                                     text = update_clust_summary['text_info']),\n",
    "                                          layout = go.Layout(margin={'t': 0, 'l': 0, 'r': 5, 'b' : 2}))\n",
    "            \n",
    "\n",
    "            clust_opts = build_cluster_merge_list()\n",
    "            clust_vals = []\n",
    "            #print(clust_opts)\n",
    "    elif clicked_element == \"merge_cluster_button\":\n",
    "            if cluster_merge_checklist_vals is None or not(1 < len(cluster_merge_checklist_vals) < lda.get_k()):\n",
    "                close_cluster_merge_warning_dialog = True\n",
    "            else:\n",
    "                lda.merge_cluster(cluster_merge_checklist_vals)\n",
    "                elements = get_graph_topic_nodes() + get_graph_document_nodes() + get_graph_cos_sim_edges() + get_doc_topic_edges()\n",
    "            ### layout of the graph needs to be updated\n",
    "                layout = {'name': 'cose'}\n",
    "\n",
    "                ### parallel coordinates plot needs to be updated\n",
    "                ### according to the number of clusters\n",
    "                figure=figure = go.Figure(data=\n",
    "                    go.Parcoords(\n",
    "                        line = dict(color = lda.get_parall_coord_df()['Dominant_Topic'],\n",
    "                                   colorscale = list(lda.get_colors().values())[:lda.get_k()]),\n",
    "                        dimensions = [\n",
    "                            dict(range = [0,1],\n",
    "                                label = f'Cluster {i}',\n",
    "                                values = lda.get_parall_coord_df()[i])\n",
    "                             for i in range(lda.get_k())\n",
    "                        ]))\n",
    "\n",
    "                ### update stylesheet\n",
    "                stylesheet = update_stylesheet()\n",
    "\n",
    "                #update cluster summary view\n",
    "                update_clust_summary = build_cluster_summary_view()\n",
    "                clust_sum_figure =  go.Figure(go.Treemap(labels  = update_clust_summary['labels'],\n",
    "                                                         parents = update_clust_summary['parents'],\n",
    "                                                         marker_colors =  update_clust_summary['marker_colors'],\n",
    "                                                         text = update_clust_summary['text_info']),\n",
    "                                              layout = go.Layout(margin={'t': 0, 'l': 0, 'r': 5, 'b' : 2}))\n",
    "\n",
    "\n",
    "                clust_opts = build_cluster_merge_list()\n",
    "                clust_vals = []\n",
    "\n",
    "\n",
    "    elif clicked_element in [\"close-warning\",\"close_warning_num_of_cluster\",\"close_delete_document_warning\",\"close_cluster_merge_warning\"]:\n",
    "            if clicked_element == \"close-warning\" : cluster_delete_warn_dialog = False\n",
    "            elif clicked_element == \"close_warning_num_of_cluster\": update_cluster_warn_dialog = False\n",
    "            elif clicked_element == \"close_cluster_merge_warning\": close_cluster_merge_warning_dialog = False\n",
    "            else: document_delete_warn_dialog = False\n",
    "\n",
    "    #elif ctx.triggered[0]['prop_id'].split('.')[0] == 'change-probs':\n",
    "\n",
    "            \n",
    "    return [stylesheet, elements,layout, figure,clust_sum_figure,cluster_delete_warn_dialog,update_cluster_warn_dialog,document_delete_warn_dialog,close_cluster_merge_warning_dialog,clust_vals,clust_opts]\n",
    "\n",
    "@app.callback(\n",
    "    Output('empty-div', 'children'),\n",
    "    Input('cytoscape', 'mouseoverNodeData'),\n",
    "    Input('cytoscape','mouseoverEdgeData'),\n",
    "    Input('cytoscape','tapEdgeData'),\n",
    "    Input('cytoscape','tapNodeData'),\n",
    "    Input('cytoscape','selectedNodeData')\n",
    ")\n",
    "def update_layout(mouse_on_node, mouse_on_edge, tap_edge, tap_node, snd):\n",
    "    print(\"Mouse on Node: {}\".format(mouse_on_node))\n",
    "    print(\"Mouse on Edge: {}\".format(mouse_on_edge))\n",
    "    print(\"Tapped Edge: {}\".format(tap_edge))\n",
    "    print(\"Tapped Node: {}\".format(tap_node))\n",
    "    print(\"------------------------------------------------------------\")\n",
    "    print(\"All selected Nodes: {}\".format(snd))\n",
    "    print(\"------------------------------------------------------------\")\n",
    "\n",
    "    return 'see print statement for nodes and edges selected.'\n",
    "\n",
    "\n",
    "# Highlight document words:\n",
    "# https://www.machinelearningplus.com/nlp/topic-modeling-visualization-how-to-present-results-lda-models/#6.-What-is-the-Dominant-topic-and-its-percentage-contribution-in-each-document\n",
    "\n",
    "############################  Term-weight view   #######################\n",
    "@app.callback(\n",
    "    Output('table', 'data'),\n",
    "    Output('table', 'columns'),\n",
    "    Output('bar_chart', 'children'),\n",
    "    Output('change-prob-btn-div', 'style'),\n",
    "    Output('term-weight-input', 'style'),  \n",
    "    Output('word_cloud_style', \"style\"),\n",
    "    Output('word_cloud', \"children\"),\n",
    "    Input('cytoscape', 'tapNodeData'),\n",
    "    Input('input_barchart', 'value'),\n",
    "    Input('change-probs', \"n_clicks\"),\n",
    "    State('table', 'columns'),  \n",
    "    State('table', 'data'),\n",
    "    prevent_initial_call = True\n",
    ")\n",
    "def update_barplot(tapNodeData,value, btn_change_prob,table_column,table_data):\n",
    "    ctx = dash.callback_context\n",
    "    style = {'display': 'block'}\n",
    "    columns = [{'name':i,'id':i} for i in ['Words','Probabilities']]    \n",
    "    clicked_element = ctx.triggered[0]['prop_id'].split('.')[0]\n",
    "\n",
    "    ### if you klick on the button change probs\n",
    "    if clicked_element == 'change-probs':\n",
    "        json_data = json.dumps(table_data)\n",
    "        changed_data = pd.read_json(json_data, orient = 'records').sort_values(by = \"Probabilities\",\n",
    "                                                                            ascending = False)\n",
    "\n",
    "\n",
    "        #print(lda.get_word_probabilities())\n",
    "        #print(\"********************************\")\n",
    "        for i,d in changed_data.iterrows():\n",
    "            lda.update_term_topic_weight(lda.get_last_selected_cluster(), d['Words'],d[\"Probabilities\"])\n",
    "\n",
    "        lda.term_prob_update_lda()\n",
    "        #print(\"********************************\")\n",
    "        #print(lda.get_word_probabilities())\n",
    "\n",
    "        lda.set_word_probabilities(changed_data)\n",
    "        \n",
    "        data = lda.get_top_n_word_probs_for_topic_i(lda.get_last_selected_cluster(), value).sort_values(by = \"Probabilities\",\n",
    "                                                                            ascending = False)\n",
    "        table_data = data.to_dict('records')\n",
    "\n",
    "        ### the values in the data table need to be changed\n",
    "        \n",
    "        \n",
    "\n",
    "\n",
    "        child = html.Div([\n",
    "                dash_table.DataTable(\n",
    "                                id='table',\n",
    "                                data=table_data,\n",
    "                                columns=columns,\n",
    "                                editable = True,\n",
    "                                style_cell={'width': '50px',\n",
    "                                            'height': '30px',\n",
    "                                            'textAlign': 'left'}\n",
    "                                      )\n",
    "                           ])\n",
    "        \n",
    "\n",
    "        ### the barplot needs to be changed\n",
    "        bar_color = lda.get_colors()[lda.get_last_selected_cluster()]\n",
    "        figure=html.Div([dcc.Graph(id='horizontal_bar_plot', \n",
    "                      style={'width': '150%', 'height': '400px'},\n",
    "                      figure = px.bar(data.sort_values(by = \"Probabilities\",\n",
    "                                                                            ascending = True), \n",
    "                        x = \"Probabilities\",\n",
    "                        y = \"Words\",\n",
    "                        color_discrete_sequence = [bar_color] * len(data),## color by cluster color\n",
    "                        orientation='h'\n",
    "                        ))])\n",
    "\n",
    "\n",
    "\n",
    "        ''' IMPLEMENT WORD CLOUD'''\n",
    "        data = go.Scatter(\n",
    "                             x=[random.random() for i in random.choices(range(30), k=30)],\n",
    "                             y=[random.random() for i in random.choices(range(30), k=30)],\n",
    "                             mode='text',\n",
    "                             text=lda.get_top_n_word_probs_for_topic_i(lda.get_last_selected_cluster(), 20).Words,\n",
    "                             marker={'opacity': 0.3},\n",
    "                             textfont={'size': lda.get_top_n_word_probs_for_topic_i(lda.get_last_selected_cluster(), 20).Probabilities * 2000,\n",
    "                                   'color': lda.get_colors()[lda.get_last_selected_cluster()]})\n",
    "\n",
    "        layout = go.Layout({\"plot_bgcolor\": \"rgba(0, 0, 0,0)\",'xaxis': {'showgrid': False, 'showticklabels': False, 'zeroline': False},\n",
    "                                                'yaxis': {'showgrid': False, 'showticklabels': False, 'zeroline': False}})\n",
    "\n",
    "        word_cloud = html.Div([dcc.Graph(id='word_cloud',\n",
    "                      figure = go.Figure(data=[data], layout=layout)\n",
    "                        )])\n",
    "        \n",
    "        \n",
    "    #### if you click on a cluster node on the graph    \n",
    "    elif 'Cluster' in tapNodeData['id']:\n",
    "        cluster_id = int(tapNodeData['id'].replace('Cluster ',''))\n",
    "        lda.set_last_selected_cluster(cluster_id)\n",
    "        \n",
    "        data = lda.get_top_n_word_probs_for_topic_i(cluster_id, value).sort_values(by = \"Probabilities\",\n",
    "                                                                            ascending = False)\n",
    "        table_data = data.to_dict('records')\n",
    "        ## change table, according to the cluster choosen\n",
    "\n",
    "        ## change the barplot, accoring to the cluster choosen\n",
    "        bar_color = lda.get_colors()[lda.get_last_selected_cluster()]\n",
    "        figure=html.Div([dcc.Graph(id='horizontal_bar_plot', \n",
    "                      style={'width': '150%', 'height': '400px'},\n",
    "                      figure = px.bar(lda.get_top_n_word_probs_for_topic_i(cluster_id, value), \n",
    "                        x = \"Probabilities\",\n",
    "                        y = \"Words\",\n",
    "                        color_discrete_sequence = [bar_color] * len(data),\n",
    "                        orientation='h'\n",
    "                        ))\n",
    "                    ])\n",
    "        data = go.Scatter(\n",
    "                             x=[random.random() for i in random.choices(range(30), k=30)],\n",
    "                             y=[random.random() for i in random.choices(range(30), k=30)],\n",
    "                             mode='text',\n",
    "                             text=lda.get_top_n_word_probs_for_topic_i(lda.get_last_selected_cluster(), 20).Words,\n",
    "                             marker={'opacity': 0.3},\n",
    "                             textfont={'size': lda.get_top_n_word_probs_for_topic_i(lda.get_last_selected_cluster(), 20).Probabilities * 2000,\n",
    "                                   'color': lda.get_colors()[lda.get_last_selected_cluster()]})\n",
    "\n",
    "        layout = go.Layout({\"plot_bgcolor\": \"rgba(0, 0, 0,0)\",'xaxis': {'showgrid': False, 'showticklabels': False, 'zeroline': False},\n",
    "                                            'yaxis': {'showgrid': False, 'showticklabels': False, 'zeroline': False}})\n",
    "\n",
    "        word_cloud = html.Div([dcc.Graph(id='word_cloud_plot',\n",
    "                      figure = go.Figure(data=[data], layout=layout)\n",
    "                        )])\n",
    "\n",
    "        \n",
    "    else:\n",
    "        return dash.no_update\n",
    "\n",
    "\n",
    "\n",
    "    return [table_data,columns,figure, style, style, style, word_cloud]\n",
    "\n",
    "\n",
    "    \n",
    "    \n",
    "######## Show the documents from a choosen cluster in the document view #########\n",
    "\n",
    "@app.callback(\n",
    "    Output('dt', 'children'),\n",
    "    Output('dt_input', 'style'),\n",
    "    Input('cytoscape', 'tapNodeData'),\n",
    "    prevent_initial_call = True    \n",
    ")\n",
    "def update_result(tapNodeData):\n",
    "    if tapNodeData is not None and 'Cluster' not in tapNodeData['id']:\n",
    "        node_title = lda.get_document_title_by_id(int(tapNodeData['id']))\n",
    "        data=lda.get_data()[lda.get_data()['title'] == node_title]\n",
    "        doc_with_higlighted_terms = lda.build_term_higlights(data)\n",
    "        child = html.Div(children = [dash_dangerously_set_inner_html.DangerouslySetInnerHTML(f'''<h2>{node_title}</h2>'''),\n",
    "                        html.Div([dash_dangerously_set_inner_html.DangerouslySetInnerHTML(doc_with_higlighted_terms)])])\n",
    "        style = {'display': 'block'}\n",
    "    else: \n",
    "        return dash.no_update\n",
    "    \n",
    "    return [child,style] \n",
    "    \n",
    "  \n",
    "#figure.layout.update(showlegend=False)\n",
    "app.run_server( port=8051, dev_tools_hot_reload=True)\n"
   ]
  },
  {
   "cell_type": "code",
   "execution_count": 28,
   "metadata": {},
   "outputs": [
    {
     "data": {
      "application/vnd.plotly.v1+json": {
       "config": {
        "plotlyServerURL": "https://plot.ly"
       },
       "data": [
        {
         "marker": {
          "opacity": 0.3
         },
         "mode": "text",
         "text": [
          "paper",
          "algorithm",
          "user",
          "analysis",
          "technique",
          "graph",
          "visual",
          "information",
          "visualization",
          "data"
         ],
         "textfont": {
          "color": "green",
          "size": [
           23.710260167717934,
           24.647511541843414,
           26.167750358581543,
           29.823649674654007,
           31.918998807668686,
           35.21990031003952,
           36.558616906404495,
           45.89497298002243,
           48.45784232020378,
           57.15697631239891
          ]
         },
         "type": "scatter",
         "x": [
          0.15571522370010704,
          0.7965573392126772,
          0.4320819559729775,
          0.7181230862951349,
          0.157226756481471,
          0.6439953586270281,
          0.23618399332353956,
          0.7248647798225071,
          0.3168368977930466,
          0.44541677275334934,
          0.8205771819912764,
          0.8251104359053123,
          0.12092236065532203,
          0.3597745631559468,
          0.8164852282979326,
          0.11710909465187891,
          0.03298313656214669,
          0.3031421989034768,
          0.48061542074886043,
          0.8052498014698067,
          0.13748992369855872,
          0.8344575541537246,
          0.4388267537837487,
          0.48328526624983703,
          0.044855361864558074,
          0.5926174292538847,
          0.9219182591690605,
          0.12548740709372463,
          0.1591582918693525,
          0.0813093683055397
         ],
         "y": [
          0.42353215782112763,
          0.28578772039844635,
          0.1902741209101687,
          0.7923467876405387,
          0.3257896660608447,
          0.8573021636393944,
          0.5805812073682308,
          0.6492771138858268,
          0.33470000749507933,
          0.08734389280856536,
          0.6296891960085235,
          0.17783804871073672,
          0.8585466129456572,
          0.8010675533373806,
          0.17912322263157743,
          0.1688116295350175,
          0.17867641883663854,
          0.18398822412963822,
          0.24573770417695828,
          0.3059476828058241,
          0.06529259405655341,
          0.23534427447668105,
          0.8730812142208049,
          0.7411183093706608,
          0.8567628968580978,
          0.5283084100137759,
          0.056410241430662644,
          0.6039011445612478,
          0.7617921242545114,
          0.1559114009016621
         ]
        }
       ],
       "layout": {
        "template": {
         "data": {
          "bar": [
           {
            "error_x": {
             "color": "#2a3f5f"
            },
            "error_y": {
             "color": "#2a3f5f"
            },
            "marker": {
             "line": {
              "color": "#E5ECF6",
              "width": 0.5
             }
            },
            "type": "bar"
           }
          ],
          "barpolar": [
           {
            "marker": {
             "line": {
              "color": "#E5ECF6",
              "width": 0.5
             }
            },
            "type": "barpolar"
           }
          ],
          "carpet": [
           {
            "aaxis": {
             "endlinecolor": "#2a3f5f",
             "gridcolor": "white",
             "linecolor": "white",
             "minorgridcolor": "white",
             "startlinecolor": "#2a3f5f"
            },
            "baxis": {
             "endlinecolor": "#2a3f5f",
             "gridcolor": "white",
             "linecolor": "white",
             "minorgridcolor": "white",
             "startlinecolor": "#2a3f5f"
            },
            "type": "carpet"
           }
          ],
          "choropleth": [
           {
            "colorbar": {
             "outlinewidth": 0,
             "ticks": ""
            },
            "type": "choropleth"
           }
          ],
          "contour": [
           {
            "colorbar": {
             "outlinewidth": 0,
             "ticks": ""
            },
            "colorscale": [
             [
              0.0,
              "#0d0887"
             ],
             [
              0.1111111111111111,
              "#46039f"
             ],
             [
              0.2222222222222222,
              "#7201a8"
             ],
             [
              0.3333333333333333,
              "#9c179e"
             ],
             [
              0.4444444444444444,
              "#bd3786"
             ],
             [
              0.5555555555555556,
              "#d8576b"
             ],
             [
              0.6666666666666666,
              "#ed7953"
             ],
             [
              0.7777777777777778,
              "#fb9f3a"
             ],
             [
              0.8888888888888888,
              "#fdca26"
             ],
             [
              1.0,
              "#f0f921"
             ]
            ],
            "type": "contour"
           }
          ],
          "contourcarpet": [
           {
            "colorbar": {
             "outlinewidth": 0,
             "ticks": ""
            },
            "type": "contourcarpet"
           }
          ],
          "heatmap": [
           {
            "colorbar": {
             "outlinewidth": 0,
             "ticks": ""
            },
            "colorscale": [
             [
              0.0,
              "#0d0887"
             ],
             [
              0.1111111111111111,
              "#46039f"
             ],
             [
              0.2222222222222222,
              "#7201a8"
             ],
             [
              0.3333333333333333,
              "#9c179e"
             ],
             [
              0.4444444444444444,
              "#bd3786"
             ],
             [
              0.5555555555555556,
              "#d8576b"
             ],
             [
              0.6666666666666666,
              "#ed7953"
             ],
             [
              0.7777777777777778,
              "#fb9f3a"
             ],
             [
              0.8888888888888888,
              "#fdca26"
             ],
             [
              1.0,
              "#f0f921"
             ]
            ],
            "type": "heatmap"
           }
          ],
          "heatmapgl": [
           {
            "colorbar": {
             "outlinewidth": 0,
             "ticks": ""
            },
            "colorscale": [
             [
              0.0,
              "#0d0887"
             ],
             [
              0.1111111111111111,
              "#46039f"
             ],
             [
              0.2222222222222222,
              "#7201a8"
             ],
             [
              0.3333333333333333,
              "#9c179e"
             ],
             [
              0.4444444444444444,
              "#bd3786"
             ],
             [
              0.5555555555555556,
              "#d8576b"
             ],
             [
              0.6666666666666666,
              "#ed7953"
             ],
             [
              0.7777777777777778,
              "#fb9f3a"
             ],
             [
              0.8888888888888888,
              "#fdca26"
             ],
             [
              1.0,
              "#f0f921"
             ]
            ],
            "type": "heatmapgl"
           }
          ],
          "histogram": [
           {
            "marker": {
             "colorbar": {
              "outlinewidth": 0,
              "ticks": ""
             }
            },
            "type": "histogram"
           }
          ],
          "histogram2d": [
           {
            "colorbar": {
             "outlinewidth": 0,
             "ticks": ""
            },
            "colorscale": [
             [
              0.0,
              "#0d0887"
             ],
             [
              0.1111111111111111,
              "#46039f"
             ],
             [
              0.2222222222222222,
              "#7201a8"
             ],
             [
              0.3333333333333333,
              "#9c179e"
             ],
             [
              0.4444444444444444,
              "#bd3786"
             ],
             [
              0.5555555555555556,
              "#d8576b"
             ],
             [
              0.6666666666666666,
              "#ed7953"
             ],
             [
              0.7777777777777778,
              "#fb9f3a"
             ],
             [
              0.8888888888888888,
              "#fdca26"
             ],
             [
              1.0,
              "#f0f921"
             ]
            ],
            "type": "histogram2d"
           }
          ],
          "histogram2dcontour": [
           {
            "colorbar": {
             "outlinewidth": 0,
             "ticks": ""
            },
            "colorscale": [
             [
              0.0,
              "#0d0887"
             ],
             [
              0.1111111111111111,
              "#46039f"
             ],
             [
              0.2222222222222222,
              "#7201a8"
             ],
             [
              0.3333333333333333,
              "#9c179e"
             ],
             [
              0.4444444444444444,
              "#bd3786"
             ],
             [
              0.5555555555555556,
              "#d8576b"
             ],
             [
              0.6666666666666666,
              "#ed7953"
             ],
             [
              0.7777777777777778,
              "#fb9f3a"
             ],
             [
              0.8888888888888888,
              "#fdca26"
             ],
             [
              1.0,
              "#f0f921"
             ]
            ],
            "type": "histogram2dcontour"
           }
          ],
          "mesh3d": [
           {
            "colorbar": {
             "outlinewidth": 0,
             "ticks": ""
            },
            "type": "mesh3d"
           }
          ],
          "parcoords": [
           {
            "line": {
             "colorbar": {
              "outlinewidth": 0,
              "ticks": ""
             }
            },
            "type": "parcoords"
           }
          ],
          "pie": [
           {
            "automargin": true,
            "type": "pie"
           }
          ],
          "scatter": [
           {
            "marker": {
             "colorbar": {
              "outlinewidth": 0,
              "ticks": ""
             }
            },
            "type": "scatter"
           }
          ],
          "scatter3d": [
           {
            "line": {
             "colorbar": {
              "outlinewidth": 0,
              "ticks": ""
             }
            },
            "marker": {
             "colorbar": {
              "outlinewidth": 0,
              "ticks": ""
             }
            },
            "type": "scatter3d"
           }
          ],
          "scattercarpet": [
           {
            "marker": {
             "colorbar": {
              "outlinewidth": 0,
              "ticks": ""
             }
            },
            "type": "scattercarpet"
           }
          ],
          "scattergeo": [
           {
            "marker": {
             "colorbar": {
              "outlinewidth": 0,
              "ticks": ""
             }
            },
            "type": "scattergeo"
           }
          ],
          "scattergl": [
           {
            "marker": {
             "colorbar": {
              "outlinewidth": 0,
              "ticks": ""
             }
            },
            "type": "scattergl"
           }
          ],
          "scattermapbox": [
           {
            "marker": {
             "colorbar": {
              "outlinewidth": 0,
              "ticks": ""
             }
            },
            "type": "scattermapbox"
           }
          ],
          "scatterpolar": [
           {
            "marker": {
             "colorbar": {
              "outlinewidth": 0,
              "ticks": ""
             }
            },
            "type": "scatterpolar"
           }
          ],
          "scatterpolargl": [
           {
            "marker": {
             "colorbar": {
              "outlinewidth": 0,
              "ticks": ""
             }
            },
            "type": "scatterpolargl"
           }
          ],
          "scatterternary": [
           {
            "marker": {
             "colorbar": {
              "outlinewidth": 0,
              "ticks": ""
             }
            },
            "type": "scatterternary"
           }
          ],
          "surface": [
           {
            "colorbar": {
             "outlinewidth": 0,
             "ticks": ""
            },
            "colorscale": [
             [
              0.0,
              "#0d0887"
             ],
             [
              0.1111111111111111,
              "#46039f"
             ],
             [
              0.2222222222222222,
              "#7201a8"
             ],
             [
              0.3333333333333333,
              "#9c179e"
             ],
             [
              0.4444444444444444,
              "#bd3786"
             ],
             [
              0.5555555555555556,
              "#d8576b"
             ],
             [
              0.6666666666666666,
              "#ed7953"
             ],
             [
              0.7777777777777778,
              "#fb9f3a"
             ],
             [
              0.8888888888888888,
              "#fdca26"
             ],
             [
              1.0,
              "#f0f921"
             ]
            ],
            "type": "surface"
           }
          ],
          "table": [
           {
            "cells": {
             "fill": {
              "color": "#EBF0F8"
             },
             "line": {
              "color": "white"
             }
            },
            "header": {
             "fill": {
              "color": "#C8D4E3"
             },
             "line": {
              "color": "white"
             }
            },
            "type": "table"
           }
          ]
         },
         "layout": {
          "annotationdefaults": {
           "arrowcolor": "#2a3f5f",
           "arrowhead": 0,
           "arrowwidth": 1
          },
          "autotypenumbers": "strict",
          "coloraxis": {
           "colorbar": {
            "outlinewidth": 0,
            "ticks": ""
           }
          },
          "colorscale": {
           "diverging": [
            [
             0,
             "#8e0152"
            ],
            [
             0.1,
             "#c51b7d"
            ],
            [
             0.2,
             "#de77ae"
            ],
            [
             0.3,
             "#f1b6da"
            ],
            [
             0.4,
             "#fde0ef"
            ],
            [
             0.5,
             "#f7f7f7"
            ],
            [
             0.6,
             "#e6f5d0"
            ],
            [
             0.7,
             "#b8e186"
            ],
            [
             0.8,
             "#7fbc41"
            ],
            [
             0.9,
             "#4d9221"
            ],
            [
             1,
             "#276419"
            ]
           ],
           "sequential": [
            [
             0.0,
             "#0d0887"
            ],
            [
             0.1111111111111111,
             "#46039f"
            ],
            [
             0.2222222222222222,
             "#7201a8"
            ],
            [
             0.3333333333333333,
             "#9c179e"
            ],
            [
             0.4444444444444444,
             "#bd3786"
            ],
            [
             0.5555555555555556,
             "#d8576b"
            ],
            [
             0.6666666666666666,
             "#ed7953"
            ],
            [
             0.7777777777777778,
             "#fb9f3a"
            ],
            [
             0.8888888888888888,
             "#fdca26"
            ],
            [
             1.0,
             "#f0f921"
            ]
           ],
           "sequentialminus": [
            [
             0.0,
             "#0d0887"
            ],
            [
             0.1111111111111111,
             "#46039f"
            ],
            [
             0.2222222222222222,
             "#7201a8"
            ],
            [
             0.3333333333333333,
             "#9c179e"
            ],
            [
             0.4444444444444444,
             "#bd3786"
            ],
            [
             0.5555555555555556,
             "#d8576b"
            ],
            [
             0.6666666666666666,
             "#ed7953"
            ],
            [
             0.7777777777777778,
             "#fb9f3a"
            ],
            [
             0.8888888888888888,
             "#fdca26"
            ],
            [
             1.0,
             "#f0f921"
            ]
           ]
          },
          "colorway": [
           "#636efa",
           "#EF553B",
           "#00cc96",
           "#ab63fa",
           "#FFA15A",
           "#19d3f3",
           "#FF6692",
           "#B6E880",
           "#FF97FF",
           "#FECB52"
          ],
          "font": {
           "color": "#2a3f5f"
          },
          "geo": {
           "bgcolor": "white",
           "lakecolor": "white",
           "landcolor": "#E5ECF6",
           "showlakes": true,
           "showland": true,
           "subunitcolor": "white"
          },
          "hoverlabel": {
           "align": "left"
          },
          "hovermode": "closest",
          "mapbox": {
           "style": "light"
          },
          "paper_bgcolor": "white",
          "plot_bgcolor": "#E5ECF6",
          "polar": {
           "angularaxis": {
            "gridcolor": "white",
            "linecolor": "white",
            "ticks": ""
           },
           "bgcolor": "#E5ECF6",
           "radialaxis": {
            "gridcolor": "white",
            "linecolor": "white",
            "ticks": ""
           }
          },
          "scene": {
           "xaxis": {
            "backgroundcolor": "#E5ECF6",
            "gridcolor": "white",
            "gridwidth": 2,
            "linecolor": "white",
            "showbackground": true,
            "ticks": "",
            "zerolinecolor": "white"
           },
           "yaxis": {
            "backgroundcolor": "#E5ECF6",
            "gridcolor": "white",
            "gridwidth": 2,
            "linecolor": "white",
            "showbackground": true,
            "ticks": "",
            "zerolinecolor": "white"
           },
           "zaxis": {
            "backgroundcolor": "#E5ECF6",
            "gridcolor": "white",
            "gridwidth": 2,
            "linecolor": "white",
            "showbackground": true,
            "ticks": "",
            "zerolinecolor": "white"
           }
          },
          "shapedefaults": {
           "line": {
            "color": "#2a3f5f"
           }
          },
          "ternary": {
           "aaxis": {
            "gridcolor": "white",
            "linecolor": "white",
            "ticks": ""
           },
           "baxis": {
            "gridcolor": "white",
            "linecolor": "white",
            "ticks": ""
           },
           "bgcolor": "#E5ECF6",
           "caxis": {
            "gridcolor": "white",
            "linecolor": "white",
            "ticks": ""
           }
          },
          "title": {
           "x": 0.05
          },
          "xaxis": {
           "automargin": true,
           "gridcolor": "white",
           "linecolor": "white",
           "ticks": "",
           "title": {
            "standoff": 15
           },
           "zerolinecolor": "white",
           "zerolinewidth": 2
          },
          "yaxis": {
           "automargin": true,
           "gridcolor": "white",
           "linecolor": "white",
           "ticks": "",
           "title": {
            "standoff": 15
           },
           "zerolinecolor": "white",
           "zerolinewidth": 2
          }
         }
        },
        "xaxis": {
         "showgrid": false,
         "showticklabels": false,
         "zeroline": false
        },
        "yaxis": {
         "showgrid": false,
         "showticklabels": false,
         "zeroline": false
        }
       }
      },
      "text/html": "<div>                            <div id=\"19eca073-1ef0-40a9-8b64-3b154bb15a4e\" class=\"plotly-graph-div\" style=\"height:525px; width:100%;\"></div>            <script type=\"text/javascript\">                require([\"plotly\"], function(Plotly) {                    window.PLOTLYENV=window.PLOTLYENV || {};                                    if (document.getElementById(\"19eca073-1ef0-40a9-8b64-3b154bb15a4e\")) {                    Plotly.newPlot(                        \"19eca073-1ef0-40a9-8b64-3b154bb15a4e\",                        [{\"marker\": {\"opacity\": 0.3}, \"mode\": \"text\", \"text\": [\"paper\", \"algorithm\", \"user\", \"analysis\", \"technique\", \"graph\", \"visual\", \"information\", \"visualization\", \"data\"], \"textfont\": {\"color\": \"green\", \"size\": [23.710260167717934, 24.647511541843414, 26.167750358581543, 29.823649674654007, 31.918998807668686, 35.21990031003952, 36.558616906404495, 45.89497298002243, 48.45784232020378, 57.15697631239891]}, \"type\": \"scatter\", \"x\": [0.15571522370010704, 0.7965573392126772, 0.4320819559729775, 0.7181230862951349, 0.157226756481471, 0.6439953586270281, 0.23618399332353956, 0.7248647798225071, 0.3168368977930466, 0.44541677275334934, 0.8205771819912764, 0.8251104359053123, 0.12092236065532203, 0.3597745631559468, 0.8164852282979326, 0.11710909465187891, 0.03298313656214669, 0.3031421989034768, 0.48061542074886043, 0.8052498014698067, 0.13748992369855872, 0.8344575541537246, 0.4388267537837487, 0.48328526624983703, 0.044855361864558074, 0.5926174292538847, 0.9219182591690605, 0.12548740709372463, 0.1591582918693525, 0.0813093683055397], \"y\": [0.42353215782112763, 0.28578772039844635, 0.1902741209101687, 0.7923467876405387, 0.3257896660608447, 0.8573021636393944, 0.5805812073682308, 0.6492771138858268, 0.33470000749507933, 0.08734389280856536, 0.6296891960085235, 0.17783804871073672, 0.8585466129456572, 0.8010675533373806, 0.17912322263157743, 0.1688116295350175, 0.17867641883663854, 0.18398822412963822, 0.24573770417695828, 0.3059476828058241, 0.06529259405655341, 0.23534427447668105, 0.8730812142208049, 0.7411183093706608, 0.8567628968580978, 0.5283084100137759, 0.056410241430662644, 0.6039011445612478, 0.7617921242545114, 0.1559114009016621]}],                        {\"template\": {\"data\": {\"bar\": [{\"error_x\": {\"color\": \"#2a3f5f\"}, \"error_y\": {\"color\": \"#2a3f5f\"}, \"marker\": {\"line\": {\"color\": \"#E5ECF6\", \"width\": 0.5}}, \"type\": \"bar\"}], \"barpolar\": [{\"marker\": {\"line\": {\"color\": \"#E5ECF6\", \"width\": 0.5}}, \"type\": \"barpolar\"}], \"carpet\": [{\"aaxis\": {\"endlinecolor\": \"#2a3f5f\", \"gridcolor\": \"white\", \"linecolor\": \"white\", \"minorgridcolor\": \"white\", \"startlinecolor\": \"#2a3f5f\"}, \"baxis\": {\"endlinecolor\": \"#2a3f5f\", \"gridcolor\": \"white\", \"linecolor\": \"white\", \"minorgridcolor\": \"white\", \"startlinecolor\": \"#2a3f5f\"}, \"type\": \"carpet\"}], \"choropleth\": [{\"colorbar\": {\"outlinewidth\": 0, \"ticks\": \"\"}, \"type\": \"choropleth\"}], \"contour\": [{\"colorbar\": {\"outlinewidth\": 0, \"ticks\": \"\"}, \"colorscale\": [[0.0, \"#0d0887\"], [0.1111111111111111, \"#46039f\"], [0.2222222222222222, \"#7201a8\"], [0.3333333333333333, \"#9c179e\"], [0.4444444444444444, \"#bd3786\"], [0.5555555555555556, \"#d8576b\"], [0.6666666666666666, \"#ed7953\"], [0.7777777777777778, \"#fb9f3a\"], [0.8888888888888888, \"#fdca26\"], [1.0, \"#f0f921\"]], \"type\": \"contour\"}], \"contourcarpet\": [{\"colorbar\": {\"outlinewidth\": 0, \"ticks\": \"\"}, \"type\": \"contourcarpet\"}], \"heatmap\": [{\"colorbar\": {\"outlinewidth\": 0, \"ticks\": \"\"}, \"colorscale\": [[0.0, \"#0d0887\"], [0.1111111111111111, \"#46039f\"], [0.2222222222222222, \"#7201a8\"], [0.3333333333333333, \"#9c179e\"], [0.4444444444444444, \"#bd3786\"], [0.5555555555555556, \"#d8576b\"], [0.6666666666666666, \"#ed7953\"], [0.7777777777777778, \"#fb9f3a\"], [0.8888888888888888, \"#fdca26\"], [1.0, \"#f0f921\"]], \"type\": \"heatmap\"}], \"heatmapgl\": [{\"colorbar\": {\"outlinewidth\": 0, \"ticks\": \"\"}, \"colorscale\": [[0.0, \"#0d0887\"], [0.1111111111111111, \"#46039f\"], [0.2222222222222222, \"#7201a8\"], [0.3333333333333333, \"#9c179e\"], [0.4444444444444444, \"#bd3786\"], [0.5555555555555556, \"#d8576b\"], [0.6666666666666666, \"#ed7953\"], [0.7777777777777778, \"#fb9f3a\"], [0.8888888888888888, \"#fdca26\"], [1.0, \"#f0f921\"]], \"type\": \"heatmapgl\"}], \"histogram\": [{\"marker\": {\"colorbar\": {\"outlinewidth\": 0, \"ticks\": \"\"}}, \"type\": \"histogram\"}], \"histogram2d\": [{\"colorbar\": {\"outlinewidth\": 0, \"ticks\": \"\"}, \"colorscale\": [[0.0, \"#0d0887\"], [0.1111111111111111, \"#46039f\"], [0.2222222222222222, \"#7201a8\"], [0.3333333333333333, \"#9c179e\"], [0.4444444444444444, \"#bd3786\"], [0.5555555555555556, \"#d8576b\"], [0.6666666666666666, \"#ed7953\"], [0.7777777777777778, \"#fb9f3a\"], [0.8888888888888888, \"#fdca26\"], [1.0, \"#f0f921\"]], \"type\": \"histogram2d\"}], \"histogram2dcontour\": [{\"colorbar\": {\"outlinewidth\": 0, \"ticks\": \"\"}, \"colorscale\": [[0.0, \"#0d0887\"], [0.1111111111111111, \"#46039f\"], [0.2222222222222222, \"#7201a8\"], [0.3333333333333333, \"#9c179e\"], [0.4444444444444444, \"#bd3786\"], [0.5555555555555556, \"#d8576b\"], [0.6666666666666666, \"#ed7953\"], [0.7777777777777778, \"#fb9f3a\"], [0.8888888888888888, \"#fdca26\"], [1.0, \"#f0f921\"]], \"type\": \"histogram2dcontour\"}], \"mesh3d\": [{\"colorbar\": {\"outlinewidth\": 0, \"ticks\": \"\"}, \"type\": \"mesh3d\"}], \"parcoords\": [{\"line\": {\"colorbar\": {\"outlinewidth\": 0, \"ticks\": \"\"}}, \"type\": \"parcoords\"}], \"pie\": [{\"automargin\": true, \"type\": \"pie\"}], \"scatter\": [{\"marker\": {\"colorbar\": {\"outlinewidth\": 0, \"ticks\": \"\"}}, \"type\": \"scatter\"}], \"scatter3d\": [{\"line\": {\"colorbar\": {\"outlinewidth\": 0, \"ticks\": \"\"}}, \"marker\": {\"colorbar\": {\"outlinewidth\": 0, \"ticks\": \"\"}}, \"type\": \"scatter3d\"}], \"scattercarpet\": [{\"marker\": {\"colorbar\": {\"outlinewidth\": 0, \"ticks\": \"\"}}, \"type\": \"scattercarpet\"}], \"scattergeo\": [{\"marker\": {\"colorbar\": {\"outlinewidth\": 0, \"ticks\": \"\"}}, \"type\": \"scattergeo\"}], \"scattergl\": [{\"marker\": {\"colorbar\": {\"outlinewidth\": 0, \"ticks\": \"\"}}, \"type\": \"scattergl\"}], \"scattermapbox\": [{\"marker\": {\"colorbar\": {\"outlinewidth\": 0, \"ticks\": \"\"}}, \"type\": \"scattermapbox\"}], \"scatterpolar\": [{\"marker\": {\"colorbar\": {\"outlinewidth\": 0, \"ticks\": \"\"}}, \"type\": \"scatterpolar\"}], \"scatterpolargl\": [{\"marker\": {\"colorbar\": {\"outlinewidth\": 0, \"ticks\": \"\"}}, \"type\": \"scatterpolargl\"}], \"scatterternary\": [{\"marker\": {\"colorbar\": {\"outlinewidth\": 0, \"ticks\": \"\"}}, \"type\": \"scatterternary\"}], \"surface\": [{\"colorbar\": {\"outlinewidth\": 0, \"ticks\": \"\"}, \"colorscale\": [[0.0, \"#0d0887\"], [0.1111111111111111, \"#46039f\"], [0.2222222222222222, \"#7201a8\"], [0.3333333333333333, \"#9c179e\"], [0.4444444444444444, \"#bd3786\"], [0.5555555555555556, \"#d8576b\"], [0.6666666666666666, \"#ed7953\"], [0.7777777777777778, \"#fb9f3a\"], [0.8888888888888888, \"#fdca26\"], [1.0, \"#f0f921\"]], \"type\": \"surface\"}], \"table\": [{\"cells\": {\"fill\": {\"color\": \"#EBF0F8\"}, \"line\": {\"color\": \"white\"}}, \"header\": {\"fill\": {\"color\": \"#C8D4E3\"}, \"line\": {\"color\": \"white\"}}, \"type\": \"table\"}]}, \"layout\": {\"annotationdefaults\": {\"arrowcolor\": \"#2a3f5f\", \"arrowhead\": 0, \"arrowwidth\": 1}, \"autotypenumbers\": \"strict\", \"coloraxis\": {\"colorbar\": {\"outlinewidth\": 0, \"ticks\": \"\"}}, \"colorscale\": {\"diverging\": [[0, \"#8e0152\"], [0.1, \"#c51b7d\"], [0.2, \"#de77ae\"], [0.3, \"#f1b6da\"], [0.4, \"#fde0ef\"], [0.5, \"#f7f7f7\"], [0.6, \"#e6f5d0\"], [0.7, \"#b8e186\"], [0.8, \"#7fbc41\"], [0.9, \"#4d9221\"], [1, \"#276419\"]], \"sequential\": [[0.0, \"#0d0887\"], [0.1111111111111111, \"#46039f\"], [0.2222222222222222, \"#7201a8\"], [0.3333333333333333, \"#9c179e\"], [0.4444444444444444, \"#bd3786\"], [0.5555555555555556, \"#d8576b\"], [0.6666666666666666, \"#ed7953\"], [0.7777777777777778, \"#fb9f3a\"], [0.8888888888888888, \"#fdca26\"], [1.0, \"#f0f921\"]], \"sequentialminus\": [[0.0, \"#0d0887\"], [0.1111111111111111, \"#46039f\"], [0.2222222222222222, \"#7201a8\"], [0.3333333333333333, \"#9c179e\"], [0.4444444444444444, \"#bd3786\"], [0.5555555555555556, \"#d8576b\"], [0.6666666666666666, \"#ed7953\"], [0.7777777777777778, \"#fb9f3a\"], [0.8888888888888888, \"#fdca26\"], [1.0, \"#f0f921\"]]}, \"colorway\": [\"#636efa\", \"#EF553B\", \"#00cc96\", \"#ab63fa\", \"#FFA15A\", \"#19d3f3\", \"#FF6692\", \"#B6E880\", \"#FF97FF\", \"#FECB52\"], \"font\": {\"color\": \"#2a3f5f\"}, \"geo\": {\"bgcolor\": \"white\", \"lakecolor\": \"white\", \"landcolor\": \"#E5ECF6\", \"showlakes\": true, \"showland\": true, \"subunitcolor\": \"white\"}, \"hoverlabel\": {\"align\": \"left\"}, \"hovermode\": \"closest\", \"mapbox\": {\"style\": \"light\"}, \"paper_bgcolor\": \"white\", \"plot_bgcolor\": \"#E5ECF6\", \"polar\": {\"angularaxis\": {\"gridcolor\": \"white\", \"linecolor\": \"white\", \"ticks\": \"\"}, \"bgcolor\": \"#E5ECF6\", \"radialaxis\": {\"gridcolor\": \"white\", \"linecolor\": \"white\", \"ticks\": \"\"}}, \"scene\": {\"xaxis\": {\"backgroundcolor\": \"#E5ECF6\", \"gridcolor\": \"white\", \"gridwidth\": 2, \"linecolor\": \"white\", \"showbackground\": true, \"ticks\": \"\", \"zerolinecolor\": \"white\"}, \"yaxis\": {\"backgroundcolor\": \"#E5ECF6\", \"gridcolor\": \"white\", \"gridwidth\": 2, \"linecolor\": \"white\", \"showbackground\": true, \"ticks\": \"\", \"zerolinecolor\": \"white\"}, \"zaxis\": {\"backgroundcolor\": \"#E5ECF6\", \"gridcolor\": \"white\", \"gridwidth\": 2, \"linecolor\": \"white\", \"showbackground\": true, \"ticks\": \"\", \"zerolinecolor\": \"white\"}}, \"shapedefaults\": {\"line\": {\"color\": \"#2a3f5f\"}}, \"ternary\": {\"aaxis\": {\"gridcolor\": \"white\", \"linecolor\": \"white\", \"ticks\": \"\"}, \"baxis\": {\"gridcolor\": \"white\", \"linecolor\": \"white\", \"ticks\": \"\"}, \"bgcolor\": \"#E5ECF6\", \"caxis\": {\"gridcolor\": \"white\", \"linecolor\": \"white\", \"ticks\": \"\"}}, \"title\": {\"x\": 0.05}, \"xaxis\": {\"automargin\": true, \"gridcolor\": \"white\", \"linecolor\": \"white\", \"ticks\": \"\", \"title\": {\"standoff\": 15}, \"zerolinecolor\": \"white\", \"zerolinewidth\": 2}, \"yaxis\": {\"automargin\": true, \"gridcolor\": \"white\", \"linecolor\": \"white\", \"ticks\": \"\", \"title\": {\"standoff\": 15}, \"zerolinecolor\": \"white\", \"zerolinewidth\": 2}}}, \"xaxis\": {\"showgrid\": false, \"showticklabels\": false, \"zeroline\": false}, \"yaxis\": {\"showgrid\": false, \"showticklabels\": false, \"zeroline\": false}},                        {\"responsive\": true}                    ).then(function(){\n                            \nvar gd = document.getElementById('19eca073-1ef0-40a9-8b64-3b154bb15a4e');\nvar x = new MutationObserver(function (mutations, observer) {{\n        var display = window.getComputedStyle(gd).display;\n        if (!display || display === 'none') {{\n            console.log([gd, 'removed!']);\n            Plotly.purge(gd);\n            observer.disconnect();\n        }}\n}});\n\n// Listen for the removal of the full notebook cells\nvar notebookContainer = gd.closest('#notebook-container');\nif (notebookContainer) {{\n    x.observe(notebookContainer, {childList: true});\n}}\n\n// Listen for the clearing of the current output cell\nvar outputEl = gd.closest('.output');\nif (outputEl) {{\n    x.observe(outputEl, {childList: true});\n}}\n\n                        })                };                });            </script>        </div>"
     },
     "metadata": {},
     "output_type": "display_data"
    }
   ],
   "source": [
    "import plotly\n",
    "import plotly.graph_objs as go\n",
    "from plotly.offline import plot\n",
    "import random\n",
    "data = go.Scatter(x=[random.random() for i in range(30)],\n",
    "                 y=[random.random() for i in range(30)],\n",
    "                 mode='text',\n",
    "                 text=lda.get_top_n_word_probs_for_topic_i(2, 10).Words,\n",
    "                 marker={'opacity': 0.3},\n",
    "                 textfont={'size': lda.get_top_n_word_probs_for_topic_i(2, 10).Probabilities * 4000, \n",
    "                           'color': lda.get_colors()[2]})\n",
    "layout = go.Layout({'xaxis': {'showgrid': False, 'showticklabels': False, 'zeroline': False},\n",
    "                    'yaxis': {'showgrid': False, 'showticklabels': False, 'zeroline': False}})\n",
    "fig = go.Figure(data=[data], layout=layout)\n",
    "\n",
    "fig"
   ]
  },
  {
   "cell_type": "code",
   "execution_count": 29,
   "metadata": {},
   "outputs": [
    {
     "data": {
      "application/vnd.plotly.v1+json": {
       "config": {
        "plotlyServerURL": "https://plot.ly"
       },
       "data": [
        {
         "marker": {
          "opacity": 0.3
         },
         "mode": "text",
         "text": [
          "layout",
          "result",
          "large",
          "approach",
          "display",
          "set",
          "network",
          "representation",
          "system",
          "based",
          "paper",
          "algorithm",
          "user",
          "analysis",
          "technique",
          "graph",
          "visual",
          "information",
          "visualization",
          "data"
         ],
         "textfont": {
          "color": "green",
          "size": [
           15.991095453500748,
           16.264362260699272,
           17.185630276799202,
           17.526239156723022,
           17.691025510430336,
           18.034758046269417,
           20.41742391884327,
           20.512521266937256,
           21.56655676662922,
           22.276299074292183,
           23.710260167717934,
           24.647511541843414,
           26.167750358581543,
           29.823649674654007,
           31.918998807668686,
           35.21990031003952,
           36.558616906404495,
           45.89497298002243,
           48.45784232020378,
           57.15697631239891
          ]
         },
         "type": "scatter",
         "x": [
          0.06949652262321537,
          0.6528568267850413,
          0.932792333185155,
          0.8433543298848944,
          0.18546895198015179,
          0.37925197215049045,
          0.870722305827582,
          0.022175688861931775,
          0.35124157730602623,
          0.8051625798019747,
          0.9606927684514315,
          0.4289297156509023,
          0.027874805940187986,
          0.6575699539896519,
          0.5111750014047307,
          0.9760006439911518,
          0.29435443266861705,
          0.1319315910700587,
          0.4701541161100661,
          0.6168690514067261,
          0.21137399194833173,
          0.2686050188776484,
          0.16288864985173346,
          0.1728315015484052,
          0.6224246909105733,
          0.6151650550464864,
          0.1373864561261674,
          0.1239219440025312,
          0.08907807381859967,
          0.35428212616745336
         ],
         "y": [
          0.6156847019120594,
          0.42736436760151053,
          0.5134326073712501,
          0.645799443552873,
          0.8535434530575594,
          0.7366003374111229,
          0.11408066421727325,
          0.46700508060775403,
          0.3892549105461286,
          0.7901514393067831,
          0.9351901013657704,
          0.7736339572562556,
          0.07877411634751286,
          0.4895996935558622,
          0.3918483631945412,
          0.31477394075152565,
          0.4010602913153686,
          0.3264345534391756,
          0.6387784688989083,
          0.4682689840724862,
          0.2465969189019772,
          0.3769124359358419,
          0.08447869581840384,
          0.5938322358432437,
          0.12725597118808574,
          0.9216972522504532,
          0.7568198701037951,
          0.9462212740972948,
          0.2388939220261066,
          0.9938425737998906
         ]
        }
       ],
       "layout": {
        "template": {
         "data": {
          "bar": [
           {
            "error_x": {
             "color": "#2a3f5f"
            },
            "error_y": {
             "color": "#2a3f5f"
            },
            "marker": {
             "line": {
              "color": "#E5ECF6",
              "width": 0.5
             }
            },
            "type": "bar"
           }
          ],
          "barpolar": [
           {
            "marker": {
             "line": {
              "color": "#E5ECF6",
              "width": 0.5
             }
            },
            "type": "barpolar"
           }
          ],
          "carpet": [
           {
            "aaxis": {
             "endlinecolor": "#2a3f5f",
             "gridcolor": "white",
             "linecolor": "white",
             "minorgridcolor": "white",
             "startlinecolor": "#2a3f5f"
            },
            "baxis": {
             "endlinecolor": "#2a3f5f",
             "gridcolor": "white",
             "linecolor": "white",
             "minorgridcolor": "white",
             "startlinecolor": "#2a3f5f"
            },
            "type": "carpet"
           }
          ],
          "choropleth": [
           {
            "colorbar": {
             "outlinewidth": 0,
             "ticks": ""
            },
            "type": "choropleth"
           }
          ],
          "contour": [
           {
            "colorbar": {
             "outlinewidth": 0,
             "ticks": ""
            },
            "colorscale": [
             [
              0.0,
              "#0d0887"
             ],
             [
              0.1111111111111111,
              "#46039f"
             ],
             [
              0.2222222222222222,
              "#7201a8"
             ],
             [
              0.3333333333333333,
              "#9c179e"
             ],
             [
              0.4444444444444444,
              "#bd3786"
             ],
             [
              0.5555555555555556,
              "#d8576b"
             ],
             [
              0.6666666666666666,
              "#ed7953"
             ],
             [
              0.7777777777777778,
              "#fb9f3a"
             ],
             [
              0.8888888888888888,
              "#fdca26"
             ],
             [
              1.0,
              "#f0f921"
             ]
            ],
            "type": "contour"
           }
          ],
          "contourcarpet": [
           {
            "colorbar": {
             "outlinewidth": 0,
             "ticks": ""
            },
            "type": "contourcarpet"
           }
          ],
          "heatmap": [
           {
            "colorbar": {
             "outlinewidth": 0,
             "ticks": ""
            },
            "colorscale": [
             [
              0.0,
              "#0d0887"
             ],
             [
              0.1111111111111111,
              "#46039f"
             ],
             [
              0.2222222222222222,
              "#7201a8"
             ],
             [
              0.3333333333333333,
              "#9c179e"
             ],
             [
              0.4444444444444444,
              "#bd3786"
             ],
             [
              0.5555555555555556,
              "#d8576b"
             ],
             [
              0.6666666666666666,
              "#ed7953"
             ],
             [
              0.7777777777777778,
              "#fb9f3a"
             ],
             [
              0.8888888888888888,
              "#fdca26"
             ],
             [
              1.0,
              "#f0f921"
             ]
            ],
            "type": "heatmap"
           }
          ],
          "heatmapgl": [
           {
            "colorbar": {
             "outlinewidth": 0,
             "ticks": ""
            },
            "colorscale": [
             [
              0.0,
              "#0d0887"
             ],
             [
              0.1111111111111111,
              "#46039f"
             ],
             [
              0.2222222222222222,
              "#7201a8"
             ],
             [
              0.3333333333333333,
              "#9c179e"
             ],
             [
              0.4444444444444444,
              "#bd3786"
             ],
             [
              0.5555555555555556,
              "#d8576b"
             ],
             [
              0.6666666666666666,
              "#ed7953"
             ],
             [
              0.7777777777777778,
              "#fb9f3a"
             ],
             [
              0.8888888888888888,
              "#fdca26"
             ],
             [
              1.0,
              "#f0f921"
             ]
            ],
            "type": "heatmapgl"
           }
          ],
          "histogram": [
           {
            "marker": {
             "colorbar": {
              "outlinewidth": 0,
              "ticks": ""
             }
            },
            "type": "histogram"
           }
          ],
          "histogram2d": [
           {
            "colorbar": {
             "outlinewidth": 0,
             "ticks": ""
            },
            "colorscale": [
             [
              0.0,
              "#0d0887"
             ],
             [
              0.1111111111111111,
              "#46039f"
             ],
             [
              0.2222222222222222,
              "#7201a8"
             ],
             [
              0.3333333333333333,
              "#9c179e"
             ],
             [
              0.4444444444444444,
              "#bd3786"
             ],
             [
              0.5555555555555556,
              "#d8576b"
             ],
             [
              0.6666666666666666,
              "#ed7953"
             ],
             [
              0.7777777777777778,
              "#fb9f3a"
             ],
             [
              0.8888888888888888,
              "#fdca26"
             ],
             [
              1.0,
              "#f0f921"
             ]
            ],
            "type": "histogram2d"
           }
          ],
          "histogram2dcontour": [
           {
            "colorbar": {
             "outlinewidth": 0,
             "ticks": ""
            },
            "colorscale": [
             [
              0.0,
              "#0d0887"
             ],
             [
              0.1111111111111111,
              "#46039f"
             ],
             [
              0.2222222222222222,
              "#7201a8"
             ],
             [
              0.3333333333333333,
              "#9c179e"
             ],
             [
              0.4444444444444444,
              "#bd3786"
             ],
             [
              0.5555555555555556,
              "#d8576b"
             ],
             [
              0.6666666666666666,
              "#ed7953"
             ],
             [
              0.7777777777777778,
              "#fb9f3a"
             ],
             [
              0.8888888888888888,
              "#fdca26"
             ],
             [
              1.0,
              "#f0f921"
             ]
            ],
            "type": "histogram2dcontour"
           }
          ],
          "mesh3d": [
           {
            "colorbar": {
             "outlinewidth": 0,
             "ticks": ""
            },
            "type": "mesh3d"
           }
          ],
          "parcoords": [
           {
            "line": {
             "colorbar": {
              "outlinewidth": 0,
              "ticks": ""
             }
            },
            "type": "parcoords"
           }
          ],
          "pie": [
           {
            "automargin": true,
            "type": "pie"
           }
          ],
          "scatter": [
           {
            "marker": {
             "colorbar": {
              "outlinewidth": 0,
              "ticks": ""
             }
            },
            "type": "scatter"
           }
          ],
          "scatter3d": [
           {
            "line": {
             "colorbar": {
              "outlinewidth": 0,
              "ticks": ""
             }
            },
            "marker": {
             "colorbar": {
              "outlinewidth": 0,
              "ticks": ""
             }
            },
            "type": "scatter3d"
           }
          ],
          "scattercarpet": [
           {
            "marker": {
             "colorbar": {
              "outlinewidth": 0,
              "ticks": ""
             }
            },
            "type": "scattercarpet"
           }
          ],
          "scattergeo": [
           {
            "marker": {
             "colorbar": {
              "outlinewidth": 0,
              "ticks": ""
             }
            },
            "type": "scattergeo"
           }
          ],
          "scattergl": [
           {
            "marker": {
             "colorbar": {
              "outlinewidth": 0,
              "ticks": ""
             }
            },
            "type": "scattergl"
           }
          ],
          "scattermapbox": [
           {
            "marker": {
             "colorbar": {
              "outlinewidth": 0,
              "ticks": ""
             }
            },
            "type": "scattermapbox"
           }
          ],
          "scatterpolar": [
           {
            "marker": {
             "colorbar": {
              "outlinewidth": 0,
              "ticks": ""
             }
            },
            "type": "scatterpolar"
           }
          ],
          "scatterpolargl": [
           {
            "marker": {
             "colorbar": {
              "outlinewidth": 0,
              "ticks": ""
             }
            },
            "type": "scatterpolargl"
           }
          ],
          "scatterternary": [
           {
            "marker": {
             "colorbar": {
              "outlinewidth": 0,
              "ticks": ""
             }
            },
            "type": "scatterternary"
           }
          ],
          "surface": [
           {
            "colorbar": {
             "outlinewidth": 0,
             "ticks": ""
            },
            "colorscale": [
             [
              0.0,
              "#0d0887"
             ],
             [
              0.1111111111111111,
              "#46039f"
             ],
             [
              0.2222222222222222,
              "#7201a8"
             ],
             [
              0.3333333333333333,
              "#9c179e"
             ],
             [
              0.4444444444444444,
              "#bd3786"
             ],
             [
              0.5555555555555556,
              "#d8576b"
             ],
             [
              0.6666666666666666,
              "#ed7953"
             ],
             [
              0.7777777777777778,
              "#fb9f3a"
             ],
             [
              0.8888888888888888,
              "#fdca26"
             ],
             [
              1.0,
              "#f0f921"
             ]
            ],
            "type": "surface"
           }
          ],
          "table": [
           {
            "cells": {
             "fill": {
              "color": "#EBF0F8"
             },
             "line": {
              "color": "white"
             }
            },
            "header": {
             "fill": {
              "color": "#C8D4E3"
             },
             "line": {
              "color": "white"
             }
            },
            "type": "table"
           }
          ]
         },
         "layout": {
          "annotationdefaults": {
           "arrowcolor": "#2a3f5f",
           "arrowhead": 0,
           "arrowwidth": 1
          },
          "autotypenumbers": "strict",
          "coloraxis": {
           "colorbar": {
            "outlinewidth": 0,
            "ticks": ""
           }
          },
          "colorscale": {
           "diverging": [
            [
             0,
             "#8e0152"
            ],
            [
             0.1,
             "#c51b7d"
            ],
            [
             0.2,
             "#de77ae"
            ],
            [
             0.3,
             "#f1b6da"
            ],
            [
             0.4,
             "#fde0ef"
            ],
            [
             0.5,
             "#f7f7f7"
            ],
            [
             0.6,
             "#e6f5d0"
            ],
            [
             0.7,
             "#b8e186"
            ],
            [
             0.8,
             "#7fbc41"
            ],
            [
             0.9,
             "#4d9221"
            ],
            [
             1,
             "#276419"
            ]
           ],
           "sequential": [
            [
             0.0,
             "#0d0887"
            ],
            [
             0.1111111111111111,
             "#46039f"
            ],
            [
             0.2222222222222222,
             "#7201a8"
            ],
            [
             0.3333333333333333,
             "#9c179e"
            ],
            [
             0.4444444444444444,
             "#bd3786"
            ],
            [
             0.5555555555555556,
             "#d8576b"
            ],
            [
             0.6666666666666666,
             "#ed7953"
            ],
            [
             0.7777777777777778,
             "#fb9f3a"
            ],
            [
             0.8888888888888888,
             "#fdca26"
            ],
            [
             1.0,
             "#f0f921"
            ]
           ],
           "sequentialminus": [
            [
             0.0,
             "#0d0887"
            ],
            [
             0.1111111111111111,
             "#46039f"
            ],
            [
             0.2222222222222222,
             "#7201a8"
            ],
            [
             0.3333333333333333,
             "#9c179e"
            ],
            [
             0.4444444444444444,
             "#bd3786"
            ],
            [
             0.5555555555555556,
             "#d8576b"
            ],
            [
             0.6666666666666666,
             "#ed7953"
            ],
            [
             0.7777777777777778,
             "#fb9f3a"
            ],
            [
             0.8888888888888888,
             "#fdca26"
            ],
            [
             1.0,
             "#f0f921"
            ]
           ]
          },
          "colorway": [
           "#636efa",
           "#EF553B",
           "#00cc96",
           "#ab63fa",
           "#FFA15A",
           "#19d3f3",
           "#FF6692",
           "#B6E880",
           "#FF97FF",
           "#FECB52"
          ],
          "font": {
           "color": "#2a3f5f"
          },
          "geo": {
           "bgcolor": "white",
           "lakecolor": "white",
           "landcolor": "#E5ECF6",
           "showlakes": true,
           "showland": true,
           "subunitcolor": "white"
          },
          "hoverlabel": {
           "align": "left"
          },
          "hovermode": "closest",
          "mapbox": {
           "style": "light"
          },
          "paper_bgcolor": "white",
          "plot_bgcolor": "#E5ECF6",
          "polar": {
           "angularaxis": {
            "gridcolor": "white",
            "linecolor": "white",
            "ticks": ""
           },
           "bgcolor": "#E5ECF6",
           "radialaxis": {
            "gridcolor": "white",
            "linecolor": "white",
            "ticks": ""
           }
          },
          "scene": {
           "xaxis": {
            "backgroundcolor": "#E5ECF6",
            "gridcolor": "white",
            "gridwidth": 2,
            "linecolor": "white",
            "showbackground": true,
            "ticks": "",
            "zerolinecolor": "white"
           },
           "yaxis": {
            "backgroundcolor": "#E5ECF6",
            "gridcolor": "white",
            "gridwidth": 2,
            "linecolor": "white",
            "showbackground": true,
            "ticks": "",
            "zerolinecolor": "white"
           },
           "zaxis": {
            "backgroundcolor": "#E5ECF6",
            "gridcolor": "white",
            "gridwidth": 2,
            "linecolor": "white",
            "showbackground": true,
            "ticks": "",
            "zerolinecolor": "white"
           }
          },
          "shapedefaults": {
           "line": {
            "color": "#2a3f5f"
           }
          },
          "ternary": {
           "aaxis": {
            "gridcolor": "white",
            "linecolor": "white",
            "ticks": ""
           },
           "baxis": {
            "gridcolor": "white",
            "linecolor": "white",
            "ticks": ""
           },
           "bgcolor": "#E5ECF6",
           "caxis": {
            "gridcolor": "white",
            "linecolor": "white",
            "ticks": ""
           }
          },
          "title": {
           "x": 0.05
          },
          "xaxis": {
           "automargin": true,
           "gridcolor": "white",
           "linecolor": "white",
           "ticks": "",
           "title": {
            "standoff": 15
           },
           "zerolinecolor": "white",
           "zerolinewidth": 2
          },
          "yaxis": {
           "automargin": true,
           "gridcolor": "white",
           "linecolor": "white",
           "ticks": "",
           "title": {
            "standoff": 15
           },
           "zerolinecolor": "white",
           "zerolinewidth": 2
          }
         }
        },
        "xaxis": {
         "showgrid": false,
         "showticklabels": false,
         "zeroline": false
        },
        "yaxis": {
         "showgrid": false,
         "showticklabels": false,
         "zeroline": false
        }
       }
      },
      "text/html": "<div>                            <div id=\"9a9b4fd2-cec1-468b-b64c-f079d5ec1307\" class=\"plotly-graph-div\" style=\"height:525px; width:100%;\"></div>            <script type=\"text/javascript\">                require([\"plotly\"], function(Plotly) {                    window.PLOTLYENV=window.PLOTLYENV || {};                                    if (document.getElementById(\"9a9b4fd2-cec1-468b-b64c-f079d5ec1307\")) {                    Plotly.newPlot(                        \"9a9b4fd2-cec1-468b-b64c-f079d5ec1307\",                        [{\"marker\": {\"opacity\": 0.3}, \"mode\": \"text\", \"text\": [\"layout\", \"result\", \"large\", \"approach\", \"display\", \"set\", \"network\", \"representation\", \"system\", \"based\", \"paper\", \"algorithm\", \"user\", \"analysis\", \"technique\", \"graph\", \"visual\", \"information\", \"visualization\", \"data\"], \"textfont\": {\"color\": \"green\", \"size\": [15.991095453500748, 16.264362260699272, 17.185630276799202, 17.526239156723022, 17.691025510430336, 18.034758046269417, 20.41742391884327, 20.512521266937256, 21.56655676662922, 22.276299074292183, 23.710260167717934, 24.647511541843414, 26.167750358581543, 29.823649674654007, 31.918998807668686, 35.21990031003952, 36.558616906404495, 45.89497298002243, 48.45784232020378, 57.15697631239891]}, \"type\": \"scatter\", \"x\": [0.06949652262321537, 0.6528568267850413, 0.932792333185155, 0.8433543298848944, 0.18546895198015179, 0.37925197215049045, 0.870722305827582, 0.022175688861931775, 0.35124157730602623, 0.8051625798019747, 0.9606927684514315, 0.4289297156509023, 0.027874805940187986, 0.6575699539896519, 0.5111750014047307, 0.9760006439911518, 0.29435443266861705, 0.1319315910700587, 0.4701541161100661, 0.6168690514067261, 0.21137399194833173, 0.2686050188776484, 0.16288864985173346, 0.1728315015484052, 0.6224246909105733, 0.6151650550464864, 0.1373864561261674, 0.1239219440025312, 0.08907807381859967, 0.35428212616745336], \"y\": [0.6156847019120594, 0.42736436760151053, 0.5134326073712501, 0.645799443552873, 0.8535434530575594, 0.7366003374111229, 0.11408066421727325, 0.46700508060775403, 0.3892549105461286, 0.7901514393067831, 0.9351901013657704, 0.7736339572562556, 0.07877411634751286, 0.4895996935558622, 0.3918483631945412, 0.31477394075152565, 0.4010602913153686, 0.3264345534391756, 0.6387784688989083, 0.4682689840724862, 0.2465969189019772, 0.3769124359358419, 0.08447869581840384, 0.5938322358432437, 0.12725597118808574, 0.9216972522504532, 0.7568198701037951, 0.9462212740972948, 0.2388939220261066, 0.9938425737998906]}],                        {\"template\": {\"data\": {\"bar\": [{\"error_x\": {\"color\": \"#2a3f5f\"}, \"error_y\": {\"color\": \"#2a3f5f\"}, \"marker\": {\"line\": {\"color\": \"#E5ECF6\", \"width\": 0.5}}, \"type\": \"bar\"}], \"barpolar\": [{\"marker\": {\"line\": {\"color\": \"#E5ECF6\", \"width\": 0.5}}, \"type\": \"barpolar\"}], \"carpet\": [{\"aaxis\": {\"endlinecolor\": \"#2a3f5f\", \"gridcolor\": \"white\", \"linecolor\": \"white\", \"minorgridcolor\": \"white\", \"startlinecolor\": \"#2a3f5f\"}, \"baxis\": {\"endlinecolor\": \"#2a3f5f\", \"gridcolor\": \"white\", \"linecolor\": \"white\", \"minorgridcolor\": \"white\", \"startlinecolor\": \"#2a3f5f\"}, \"type\": \"carpet\"}], \"choropleth\": [{\"colorbar\": {\"outlinewidth\": 0, \"ticks\": \"\"}, \"type\": \"choropleth\"}], \"contour\": [{\"colorbar\": {\"outlinewidth\": 0, \"ticks\": \"\"}, \"colorscale\": [[0.0, \"#0d0887\"], [0.1111111111111111, \"#46039f\"], [0.2222222222222222, \"#7201a8\"], [0.3333333333333333, \"#9c179e\"], [0.4444444444444444, \"#bd3786\"], [0.5555555555555556, \"#d8576b\"], [0.6666666666666666, \"#ed7953\"], [0.7777777777777778, \"#fb9f3a\"], [0.8888888888888888, \"#fdca26\"], [1.0, \"#f0f921\"]], \"type\": \"contour\"}], \"contourcarpet\": [{\"colorbar\": {\"outlinewidth\": 0, \"ticks\": \"\"}, \"type\": \"contourcarpet\"}], \"heatmap\": [{\"colorbar\": {\"outlinewidth\": 0, \"ticks\": \"\"}, \"colorscale\": [[0.0, \"#0d0887\"], [0.1111111111111111, \"#46039f\"], [0.2222222222222222, \"#7201a8\"], [0.3333333333333333, \"#9c179e\"], [0.4444444444444444, \"#bd3786\"], [0.5555555555555556, \"#d8576b\"], [0.6666666666666666, \"#ed7953\"], [0.7777777777777778, \"#fb9f3a\"], [0.8888888888888888, \"#fdca26\"], [1.0, \"#f0f921\"]], \"type\": \"heatmap\"}], \"heatmapgl\": [{\"colorbar\": {\"outlinewidth\": 0, \"ticks\": \"\"}, \"colorscale\": [[0.0, \"#0d0887\"], [0.1111111111111111, \"#46039f\"], [0.2222222222222222, \"#7201a8\"], [0.3333333333333333, \"#9c179e\"], [0.4444444444444444, \"#bd3786\"], [0.5555555555555556, \"#d8576b\"], [0.6666666666666666, \"#ed7953\"], [0.7777777777777778, \"#fb9f3a\"], [0.8888888888888888, \"#fdca26\"], [1.0, \"#f0f921\"]], \"type\": \"heatmapgl\"}], \"histogram\": [{\"marker\": {\"colorbar\": {\"outlinewidth\": 0, \"ticks\": \"\"}}, \"type\": \"histogram\"}], \"histogram2d\": [{\"colorbar\": {\"outlinewidth\": 0, \"ticks\": \"\"}, \"colorscale\": [[0.0, \"#0d0887\"], [0.1111111111111111, \"#46039f\"], [0.2222222222222222, \"#7201a8\"], [0.3333333333333333, \"#9c179e\"], [0.4444444444444444, \"#bd3786\"], [0.5555555555555556, \"#d8576b\"], [0.6666666666666666, \"#ed7953\"], [0.7777777777777778, \"#fb9f3a\"], [0.8888888888888888, \"#fdca26\"], [1.0, \"#f0f921\"]], \"type\": \"histogram2d\"}], \"histogram2dcontour\": [{\"colorbar\": {\"outlinewidth\": 0, \"ticks\": \"\"}, \"colorscale\": [[0.0, \"#0d0887\"], [0.1111111111111111, \"#46039f\"], [0.2222222222222222, \"#7201a8\"], [0.3333333333333333, \"#9c179e\"], [0.4444444444444444, \"#bd3786\"], [0.5555555555555556, \"#d8576b\"], [0.6666666666666666, \"#ed7953\"], [0.7777777777777778, \"#fb9f3a\"], [0.8888888888888888, \"#fdca26\"], [1.0, \"#f0f921\"]], \"type\": \"histogram2dcontour\"}], \"mesh3d\": [{\"colorbar\": {\"outlinewidth\": 0, \"ticks\": \"\"}, \"type\": \"mesh3d\"}], \"parcoords\": [{\"line\": {\"colorbar\": {\"outlinewidth\": 0, \"ticks\": \"\"}}, \"type\": \"parcoords\"}], \"pie\": [{\"automargin\": true, \"type\": \"pie\"}], \"scatter\": [{\"marker\": {\"colorbar\": {\"outlinewidth\": 0, \"ticks\": \"\"}}, \"type\": \"scatter\"}], \"scatter3d\": [{\"line\": {\"colorbar\": {\"outlinewidth\": 0, \"ticks\": \"\"}}, \"marker\": {\"colorbar\": {\"outlinewidth\": 0, \"ticks\": \"\"}}, \"type\": \"scatter3d\"}], \"scattercarpet\": [{\"marker\": {\"colorbar\": {\"outlinewidth\": 0, \"ticks\": \"\"}}, \"type\": \"scattercarpet\"}], \"scattergeo\": [{\"marker\": {\"colorbar\": {\"outlinewidth\": 0, \"ticks\": \"\"}}, \"type\": \"scattergeo\"}], \"scattergl\": [{\"marker\": {\"colorbar\": {\"outlinewidth\": 0, \"ticks\": \"\"}}, \"type\": \"scattergl\"}], \"scattermapbox\": [{\"marker\": {\"colorbar\": {\"outlinewidth\": 0, \"ticks\": \"\"}}, \"type\": \"scattermapbox\"}], \"scatterpolar\": [{\"marker\": {\"colorbar\": {\"outlinewidth\": 0, \"ticks\": \"\"}}, \"type\": \"scatterpolar\"}], \"scatterpolargl\": [{\"marker\": {\"colorbar\": {\"outlinewidth\": 0, \"ticks\": \"\"}}, \"type\": \"scatterpolargl\"}], \"scatterternary\": [{\"marker\": {\"colorbar\": {\"outlinewidth\": 0, \"ticks\": \"\"}}, \"type\": \"scatterternary\"}], \"surface\": [{\"colorbar\": {\"outlinewidth\": 0, \"ticks\": \"\"}, \"colorscale\": [[0.0, \"#0d0887\"], [0.1111111111111111, \"#46039f\"], [0.2222222222222222, \"#7201a8\"], [0.3333333333333333, \"#9c179e\"], [0.4444444444444444, \"#bd3786\"], [0.5555555555555556, \"#d8576b\"], [0.6666666666666666, \"#ed7953\"], [0.7777777777777778, \"#fb9f3a\"], [0.8888888888888888, \"#fdca26\"], [1.0, \"#f0f921\"]], \"type\": \"surface\"}], \"table\": [{\"cells\": {\"fill\": {\"color\": \"#EBF0F8\"}, \"line\": {\"color\": \"white\"}}, \"header\": {\"fill\": {\"color\": \"#C8D4E3\"}, \"line\": {\"color\": \"white\"}}, \"type\": \"table\"}]}, \"layout\": {\"annotationdefaults\": {\"arrowcolor\": \"#2a3f5f\", \"arrowhead\": 0, \"arrowwidth\": 1}, \"autotypenumbers\": \"strict\", \"coloraxis\": {\"colorbar\": {\"outlinewidth\": 0, \"ticks\": \"\"}}, \"colorscale\": {\"diverging\": [[0, \"#8e0152\"], [0.1, \"#c51b7d\"], [0.2, \"#de77ae\"], [0.3, \"#f1b6da\"], [0.4, \"#fde0ef\"], [0.5, \"#f7f7f7\"], [0.6, \"#e6f5d0\"], [0.7, \"#b8e186\"], [0.8, \"#7fbc41\"], [0.9, \"#4d9221\"], [1, \"#276419\"]], \"sequential\": [[0.0, \"#0d0887\"], [0.1111111111111111, \"#46039f\"], [0.2222222222222222, \"#7201a8\"], [0.3333333333333333, \"#9c179e\"], [0.4444444444444444, \"#bd3786\"], [0.5555555555555556, \"#d8576b\"], [0.6666666666666666, \"#ed7953\"], [0.7777777777777778, \"#fb9f3a\"], [0.8888888888888888, \"#fdca26\"], [1.0, \"#f0f921\"]], \"sequentialminus\": [[0.0, \"#0d0887\"], [0.1111111111111111, \"#46039f\"], [0.2222222222222222, \"#7201a8\"], [0.3333333333333333, \"#9c179e\"], [0.4444444444444444, \"#bd3786\"], [0.5555555555555556, \"#d8576b\"], [0.6666666666666666, \"#ed7953\"], [0.7777777777777778, \"#fb9f3a\"], [0.8888888888888888, \"#fdca26\"], [1.0, \"#f0f921\"]]}, \"colorway\": [\"#636efa\", \"#EF553B\", \"#00cc96\", \"#ab63fa\", \"#FFA15A\", \"#19d3f3\", \"#FF6692\", \"#B6E880\", \"#FF97FF\", \"#FECB52\"], \"font\": {\"color\": \"#2a3f5f\"}, \"geo\": {\"bgcolor\": \"white\", \"lakecolor\": \"white\", \"landcolor\": \"#E5ECF6\", \"showlakes\": true, \"showland\": true, \"subunitcolor\": \"white\"}, \"hoverlabel\": {\"align\": \"left\"}, \"hovermode\": \"closest\", \"mapbox\": {\"style\": \"light\"}, \"paper_bgcolor\": \"white\", \"plot_bgcolor\": \"#E5ECF6\", \"polar\": {\"angularaxis\": {\"gridcolor\": \"white\", \"linecolor\": \"white\", \"ticks\": \"\"}, \"bgcolor\": \"#E5ECF6\", \"radialaxis\": {\"gridcolor\": \"white\", \"linecolor\": \"white\", \"ticks\": \"\"}}, \"scene\": {\"xaxis\": {\"backgroundcolor\": \"#E5ECF6\", \"gridcolor\": \"white\", \"gridwidth\": 2, \"linecolor\": \"white\", \"showbackground\": true, \"ticks\": \"\", \"zerolinecolor\": \"white\"}, \"yaxis\": {\"backgroundcolor\": \"#E5ECF6\", \"gridcolor\": \"white\", \"gridwidth\": 2, \"linecolor\": \"white\", \"showbackground\": true, \"ticks\": \"\", \"zerolinecolor\": \"white\"}, \"zaxis\": {\"backgroundcolor\": \"#E5ECF6\", \"gridcolor\": \"white\", \"gridwidth\": 2, \"linecolor\": \"white\", \"showbackground\": true, \"ticks\": \"\", \"zerolinecolor\": \"white\"}}, \"shapedefaults\": {\"line\": {\"color\": \"#2a3f5f\"}}, \"ternary\": {\"aaxis\": {\"gridcolor\": \"white\", \"linecolor\": \"white\", \"ticks\": \"\"}, \"baxis\": {\"gridcolor\": \"white\", \"linecolor\": \"white\", \"ticks\": \"\"}, \"bgcolor\": \"#E5ECF6\", \"caxis\": {\"gridcolor\": \"white\", \"linecolor\": \"white\", \"ticks\": \"\"}}, \"title\": {\"x\": 0.05}, \"xaxis\": {\"automargin\": true, \"gridcolor\": \"white\", \"linecolor\": \"white\", \"ticks\": \"\", \"title\": {\"standoff\": 15}, \"zerolinecolor\": \"white\", \"zerolinewidth\": 2}, \"yaxis\": {\"automargin\": true, \"gridcolor\": \"white\", \"linecolor\": \"white\", \"ticks\": \"\", \"title\": {\"standoff\": 15}, \"zerolinecolor\": \"white\", \"zerolinewidth\": 2}}}, \"xaxis\": {\"showgrid\": false, \"showticklabels\": false, \"zeroline\": false}, \"yaxis\": {\"showgrid\": false, \"showticklabels\": false, \"zeroline\": false}},                        {\"responsive\": true}                    ).then(function(){\n                            \nvar gd = document.getElementById('9a9b4fd2-cec1-468b-b64c-f079d5ec1307');\nvar x = new MutationObserver(function (mutations, observer) {{\n        var display = window.getComputedStyle(gd).display;\n        if (!display || display === 'none') {{\n            console.log([gd, 'removed!']);\n            Plotly.purge(gd);\n            observer.disconnect();\n        }}\n}});\n\n// Listen for the removal of the full notebook cells\nvar notebookContainer = gd.closest('#notebook-container');\nif (notebookContainer) {{\n    x.observe(notebookContainer, {childList: true});\n}}\n\n// Listen for the clearing of the current output cell\nvar outputEl = gd.closest('.output');\nif (outputEl) {{\n    x.observe(outputEl, {childList: true});\n}}\n\n                        })                };                });            </script>        </div>"
     },
     "metadata": {},
     "output_type": "display_data"
    }
   ],
   "source": [
    "cluster_id = 2\n",
    "value = 20\n",
    "data = go.Scatter(\n",
    "                             x=[random.random() for i in range(30)],\n",
    "                             y=[random.random() for i in range(30)],\n",
    "                             mode='text',\n",
    "                             text=lda.get_top_n_word_probs_for_topic_i(cluster_id, value).Words,\n",
    "                             marker={'opacity': 0.3},\n",
    "                             textfont={'size': lda.get_top_n_word_probs_for_topic_i(cluster_id, value).Probabilities * 4000, \n",
    "                                   'color': lda.get_colors()[cluster_id]})\n",
    "layout = go.Layout({'xaxis': {'showgrid': False, 'showticklabels': False, 'zeroline': False},\n",
    "                                            'yaxis': {'showgrid': False, 'showticklabels': False, 'zeroline': False}})\n",
    "figure = go.Figure(data=[data], layout=layout)\n",
    "figure"
   ]
  },
  {
   "cell_type": "code",
   "execution_count": 30,
   "metadata": {},
   "outputs": [
    {
     "data": {
      "text/plain": "9     5.927565\n8     6.161878\n7     6.541938\n6     7.455912\n5     7.979750\n4     8.804975\n3     9.139654\n2    11.473743\n1    12.114461\n0    14.289244\nName: Probabilities, dtype: float64"
     },
     "execution_count": 30,
     "metadata": {},
     "output_type": "execute_result"
    }
   ],
   "source": [
    "lda.get_top_n_word_probs_for_topic_i(2, 10).Probabilities * 1000"
   ]
  },
  {
   "cell_type": "code",
   "execution_count": 31,
   "metadata": {},
   "outputs": [
    {
     "ename": "NameError",
     "evalue": "name 'node_title' is not defined",
     "output_type": "error",
     "traceback": [
      "\u001B[1;31m---------------------------------------------------------------------------\u001B[0m",
      "\u001B[1;31mNameError\u001B[0m                                 Traceback (most recent call last)",
      "\u001B[1;32m<ipython-input-31-6feb096a6451>\u001B[0m in \u001B[0;36m<module>\u001B[1;34m\u001B[0m\n\u001B[0;32m      4\u001B[0m \u001B[0mtop_terms\u001B[0m \u001B[1;33m=\u001B[0m \u001B[0mlda\u001B[0m\u001B[1;33m.\u001B[0m\u001B[0mget_terms_with_best_topic\u001B[0m\u001B[1;33m(\u001B[0m\u001B[1;33m)\u001B[0m\u001B[1;33m.\u001B[0m\u001B[0mto_dict\u001B[0m\u001B[1;33m(\u001B[0m\u001B[1;34m'records'\u001B[0m\u001B[1;33m)\u001B[0m\u001B[1;33m\u001B[0m\u001B[1;33m\u001B[0m\u001B[0m\n\u001B[0;32m      5\u001B[0m \u001B[1;33m\u001B[0m\u001B[0m\n\u001B[1;32m----> 6\u001B[1;33m \u001B[0mdata\u001B[0m\u001B[1;33m=\u001B[0m\u001B[0mlda\u001B[0m\u001B[1;33m.\u001B[0m\u001B[0mget_data\u001B[0m\u001B[1;33m(\u001B[0m\u001B[1;33m)\u001B[0m\u001B[1;33m[\u001B[0m\u001B[0mlda\u001B[0m\u001B[1;33m.\u001B[0m\u001B[0mget_data\u001B[0m\u001B[1;33m(\u001B[0m\u001B[1;33m)\u001B[0m\u001B[1;33m[\u001B[0m\u001B[1;34m'title'\u001B[0m\u001B[1;33m]\u001B[0m \u001B[1;33m==\u001B[0m \u001B[0mnode_title\u001B[0m\u001B[1;33m]\u001B[0m\u001B[1;33m.\u001B[0m\u001B[0msplit\u001B[0m\u001B[1;33m(\u001B[0m\u001B[1;34m' '\u001B[0m\u001B[1;33m)\u001B[0m\u001B[1;33m\u001B[0m\u001B[1;33m\u001B[0m\u001B[0m\n\u001B[0m\u001B[0;32m      7\u001B[0m \u001B[1;32mfor\u001B[0m \u001B[0md\u001B[0m \u001B[1;32min\u001B[0m \u001B[0mdata\u001B[0m\u001B[1;33m:\u001B[0m\u001B[1;33m\u001B[0m\u001B[1;33m\u001B[0m\u001B[0m\n\u001B[0;32m      8\u001B[0m     \u001B[0mlemmat_d\u001B[0m \u001B[1;33m=\u001B[0m \u001B[0mlemmatizer\u001B[0m\u001B[1;33m.\u001B[0m\u001B[0mlemmatize\u001B[0m\u001B[1;33m(\u001B[0m\u001B[0md\u001B[0m\u001B[1;33m)\u001B[0m\u001B[1;33m\u001B[0m\u001B[1;33m\u001B[0m\u001B[0m\n",
      "\u001B[1;31mNameError\u001B[0m: name 'node_title' is not defined"
     ]
    }
   ],
   "source": [
    "from nltk.stem import WordNetLemmatizer\n",
    "lemmatizer = WordNetLemmatizer()\n",
    "import dash_core_components as dcc\n",
    "top_terms = lda.get_terms_with_best_topic().to_dict('records')\n",
    "\n",
    "data=lda.get_data()[lda.get_data()['title'] == node_title].split(' ')\n",
    "for d in data:\n",
    "    lemmat_d = lemmatizer.lemmatize(d)\n",
    "    color = 'black'\n",
    "    if lemmat_d in top_terms.keys():\n",
    "        color = top_terms[lemmat_d]\n",
    "\n",
    "\n",
    "\n",
    "html.Div(dcc.Markdown('''Am I red yet?'''), style={'color':'red'})\n",
    "\n",
    "#print(lda.get_terms_with_best_topic())"
   ]
  },
  {
   "cell_type": "code",
   "execution_count": null,
   "metadata": {
    "pycharm": {
     "name": "#%%\n"
    }
   },
   "outputs": [],
   "source": [
    "lda.lda_get_state().__dict__['sstats'] = 1\n",
    "\n",
    "lda.lda_get_state().__dict__['sstats']\n",
    "#.__dict__['eta']"
   ]
  },
  {
   "cell_type": "code",
   "execution_count": null,
   "metadata": {},
   "outputs": [],
   "source": [
    "lda.lda_get_state().__dict__"
   ]
  },
  {
   "cell_type": "code",
   "execution_count": null,
   "metadata": {
    "pycharm": {
     "name": "#%%\n"
    }
   },
   "outputs": [],
   "source": [
    "\n",
    "#lda.lda_get_state()['sstats']\n",
    "\n",
    "lda.lda_get_state().__dict__"
   ]
  },
  {
   "cell_type": "code",
   "execution_count": null,
   "metadata": {
    "pycharm": {
     "name": "#%%\n"
    }
   },
   "outputs": [],
   "source": [
    "lda.lda_get_lda_model().__dict__"
   ]
  },
  {
   "cell_type": "code",
   "execution_count": null,
   "metadata": {},
   "outputs": [],
   "source": [
    "lda.lda_get_lda_model().__dict__['num_topics'] = 4"
   ]
  },
  {
   "cell_type": "code",
   "execution_count": null,
   "metadata": {},
   "outputs": [],
   "source": [
    "lda.lda_get_lda_model().__dict__['alp']"
   ]
  },
  {
   "cell_type": "code",
   "execution_count": null,
   "metadata": {},
   "outputs": [],
   "source": [
    "lda.lda_get_lda_model().__dict__"
   ]
  },
  {
   "cell_type": "code",
   "execution_count": null,
   "metadata": {},
   "outputs": [],
   "source": [
    "import matplotlib.pyplot as plt\n",
    "plt.get_cmap('gist_rainbow')\n",
    "\n",
    "cm =  colors.Normalize(vmin=0, vmax=NUM_COLORS-1)\n",
    "scalarMap = mplcm.ScalarMappable(norm=cNorm, cmap=cm)\n"
   ]
  },
  {
   "cell_type": "code",
   "execution_count": null,
   "metadata": {
    "pycharm": {
     "name": "#%%\n"
    }
   },
   "outputs": [],
   "source": [
    "import numpy as np\n",
    "np.sum(lda.lda_get_state().__dict__['sstats'],axis= 1).shape\n",
    "\n",
    "lda.lda_get_state().__dict__['sstats'].shape\n",
    "\n",
    "#lda.lda_get_state().__dict__['sstats']\n",
    "\n"
   ]
  },
  {
   "cell_type": "code",
   "execution_count": null,
   "metadata": {
    "pycharm": {
     "name": "#%%\n"
    }
   },
   "outputs": [],
   "source": [
    "#np.sum(lda.lda_get_state().__dict__['sstats'],axis= )\n",
    "\n",
    "#lda.lda_get_state().__dict__['eta'].shape\n",
    "#lda.lda_get_lda_model().__dict__\n",
    "import numpy as np\n",
    "lda.lda_get_lda_model().__dict__\n",
    "np.sum(lda.lda_get_state().__dict__['sstats'],axis= 0)\n",
    "\n",
    "\n"
   ]
  },
  {
   "cell_type": "code",
   "execution_count": 32,
   "metadata": {
    "pycharm": {
     "name": "#%%\n"
    }
   },
   "outputs": [
    {
     "data": {
      "text/plain": "2"
     },
     "execution_count": 32,
     "metadata": {},
     "output_type": "execute_result"
    }
   ],
   "source": [
    "lda.get_k()\n",
    "#set(lda.get_terms_with_best_topic()['Color'])"
   ]
  }
 ],
 "metadata": {
  "kernelspec": {
   "display_name": "Python 3",
   "language": "python",
   "name": "python3"
  },
  "language_info": {
   "codemirror_mode": {
    "name": "ipython",
    "version": 3
   },
   "file_extension": ".py",
   "mimetype": "text/x-python",
   "name": "python",
   "nbconvert_exporter": "python",
   "pygments_lexer": "ipython3",
   "version": "3.8.5"
  }
 },
 "nbformat": 4,
 "nbformat_minor": 4
}